{
  "nbformat": 4,
  "nbformat_minor": 0,
  "metadata": {
    "orig_nbformat": 2,
    "colab": {
      "name": "Question_3.ipynb",
      "provenance": [],
      "include_colab_link": true
    },
    "kernelspec": {
      "name": "python3",
      "display_name": "Python 3"
    }
  },
  "cells": [
    {
      "cell_type": "markdown",
      "metadata": {
        "id": "view-in-github",
        "colab_type": "text"
      },
      "source": [
        "<a href=\"https://colab.research.google.com/github/Myrto-Iglezou/AI2-project4/blob/master/Question_3.ipynb\" target=\"_parent\"><img src=\"https://colab.research.google.com/assets/colab-badge.svg\" alt=\"Open In Colab\"/></a>"
      ]
    },
    {
      "cell_type": "markdown",
      "metadata": {
        "id": "eOoUR08ESUJj"
      },
      "source": [
        "## YΣ19 Artificial Intelligence II\n",
        "# Homework 4\n",
        "\n",
        "### Iglezou Myrto - 111520170038"
      ]
    },
    {
      "cell_type": "markdown",
      "metadata": {
        "id": "4Ef8dyqplmv_"
      },
      "source": [
        "# Project Description\r\n",
        "\r\n"
      ]
    },
    {
      "cell_type": "markdown",
      "metadata": {
        "id": "EjtCURBonpls"
      },
      "source": [
        "Build a BERT-based model which returns “an answer”, given a user question and a\r\n",
        "passage which includes the answer of the question. For this question answering task, we\r\n",
        "will use the SQuAD 2.0 dataset. We will start with the BERT-base pretrained model “bert-base-uncased”\r\n",
        "and fine-tune it to have a question answering task.\r\n"
      ]
    },
    {
      "cell_type": "markdown",
      "metadata": {
        "id": "lX2R8NAZcZpK"
      },
      "source": [
        "# **Question 3** "
      ]
    },
    {
      "cell_type": "markdown",
      "metadata": {
        "id": "qnA7Kn6DTGw3"
      },
      "source": [
        "### Load SCuAD 2.0 dataset from drive"
      ]
    },
    {
      "cell_type": "code",
      "metadata": {
        "id": "G-ruuo--TQVI",
        "colab": {
          "base_uri": "https://localhost:8080/"
        },
        "outputId": "1f58e3ff-c3e9-4c98-d8fa-8e7e1a5d2402"
      },
      "source": [
        "import io\r\n",
        "import os\r\n",
        "from google.colab import drive\r\n",
        "import pandas as pd \r\n",
        "import json\r\n",
        "import sys\r\n",
        "\r\n",
        "drive.mount('/content/drive',force_remount=True)\r\n",
        "\r\n",
        "sys.path.append('/content/drive/My Drive/')\r\n",
        "\r\n",
        "!cp -r \"/content/drive/My Drive/train-v2.0.json\" '/content/'\r\n",
        "!cp -r \"/content/drive/My Drive/dev-v2.0.json\" '/content/'\r\n",
        "!cp -r \"/content/drive/My Drive/utils_squad.py\" '/content/'\r\n",
        "!cp -r \"/content/drive/My Drive/utils_squad_evaluate.py\" '/content/'\r\n",
        "\r\n",
        "squad_file = '/content/train-v2.0.json'\r\n",
        "validation_file = '/content/dev-v2.0.json'"
      ],
      "execution_count": 17,
      "outputs": [
        {
          "output_type": "stream",
          "text": [
            "Mounted at /content/drive\n"
          ],
          "name": "stdout"
        }
      ]
    },
    {
      "cell_type": "code",
      "metadata": {
        "id": "iFcjqifQjMBr"
      },
      "source": [
        "%%capture\r\n",
        "!pip install pytorch-pretrained-bert pytorch-nlp pytorch_transformers"
      ],
      "execution_count": 18,
      "outputs": []
    },
    {
      "cell_type": "code",
      "metadata": {
        "id": "dFi3U07nzGJ-"
      },
      "source": [
        "%%capture\r\n",
        "!pip install transformers"
      ],
      "execution_count": 19,
      "outputs": []
    },
    {
      "cell_type": "code",
      "metadata": {
        "id": "uTmTzd0WzLCu"
      },
      "source": [
        "import torch\r\n",
        "from transformers import BertTokenizer, BertForSequenceClassification\r\n",
        "from transformers import BertForQuestionAnswering\r\n",
        "\r\n",
        "# Load pre-trained model tokenizer (vocabulary)\r\n",
        "tokenizer = BertTokenizer.from_pretrained('bert-base-uncased')\r\n"
      ],
      "execution_count": 20,
      "outputs": []
    },
    {
      "cell_type": "markdown",
      "metadata": {
        "id": "G1-BtrfXWokI"
      },
      "source": [
        "**utils_squad** is a library that helps handle the SQuAD dataset"
      ]
    },
    {
      "cell_type": "code",
      "metadata": {
        "id": "qyZR4BnGQKYY"
      },
      "source": [
        "from utils_squad import (read_squad_examples, convert_examples_to_features,\r\n",
        "                         RawResult, write_predictions,\r\n",
        "                         RawResultExtended, write_predictions_extended)\r\n",
        "from utils_squad_evaluate import EVAL_OPTS, main as evaluate_on_squad, plot_pr_curve"
      ],
      "execution_count": 21,
      "outputs": []
    },
    {
      "cell_type": "code",
      "metadata": {
        "id": "Ev1vzsRcU6Jx"
      },
      "source": [
        "data = read_squad_examples(input_file=squad_file,\r\n",
        "                                is_training=True,\r\n",
        "                                version_2_with_negative=True)\r\n",
        "\r\n",
        "val_data = read_squad_examples(input_file=validation_file,\r\n",
        "                                is_training=False,\r\n",
        "                                version_2_with_negative=True)"
      ],
      "execution_count": 22,
      "outputs": []
    },
    {
      "cell_type": "code",
      "metadata": {
        "id": "ug8SwSkZ_uTB",
        "outputId": "e0e29785-d75a-47fc-be64-f7b0d2191dec",
        "colab": {
          "base_uri": "https://localhost:8080/",
          "height": 202
        }
      },
      "source": [
        "train_data = pd.DataFrame.from_records([vars(line) for line in data])\r\n",
        "train_data.head()"
      ],
      "execution_count": 23,
      "outputs": [
        {
          "output_type": "execute_result",
          "data": {
            "text/html": [
              "<div>\n",
              "<style scoped>\n",
              "    .dataframe tbody tr th:only-of-type {\n",
              "        vertical-align: middle;\n",
              "    }\n",
              "\n",
              "    .dataframe tbody tr th {\n",
              "        vertical-align: top;\n",
              "    }\n",
              "\n",
              "    .dataframe thead th {\n",
              "        text-align: right;\n",
              "    }\n",
              "</style>\n",
              "<table border=\"1\" class=\"dataframe\">\n",
              "  <thead>\n",
              "    <tr style=\"text-align: right;\">\n",
              "      <th></th>\n",
              "      <th>qas_id</th>\n",
              "      <th>question_text</th>\n",
              "      <th>doc_tokens</th>\n",
              "      <th>orig_answer_text</th>\n",
              "      <th>start_position</th>\n",
              "      <th>end_position</th>\n",
              "      <th>is_impossible</th>\n",
              "    </tr>\n",
              "  </thead>\n",
              "  <tbody>\n",
              "    <tr>\n",
              "      <th>0</th>\n",
              "      <td>56be85543aeaaa14008c9063</td>\n",
              "      <td>When did Beyonce start becoming popular?</td>\n",
              "      <td>[Beyoncé, Giselle, Knowles-Carter, (/biːˈjɒnse...</td>\n",
              "      <td>in the late 1990s</td>\n",
              "      <td>39</td>\n",
              "      <td>42</td>\n",
              "      <td>False</td>\n",
              "    </tr>\n",
              "    <tr>\n",
              "      <th>1</th>\n",
              "      <td>56be85543aeaaa14008c9065</td>\n",
              "      <td>What areas did Beyonce compete in when she was...</td>\n",
              "      <td>[Beyoncé, Giselle, Knowles-Carter, (/biːˈjɒnse...</td>\n",
              "      <td>singing and dancing</td>\n",
              "      <td>28</td>\n",
              "      <td>30</td>\n",
              "      <td>False</td>\n",
              "    </tr>\n",
              "    <tr>\n",
              "      <th>2</th>\n",
              "      <td>56be85543aeaaa14008c9066</td>\n",
              "      <td>When did Beyonce leave Destiny's Child and bec...</td>\n",
              "      <td>[Beyoncé, Giselle, Knowles-Carter, (/biːˈjɒnse...</td>\n",
              "      <td>2003</td>\n",
              "      <td>82</td>\n",
              "      <td>82</td>\n",
              "      <td>False</td>\n",
              "    </tr>\n",
              "    <tr>\n",
              "      <th>3</th>\n",
              "      <td>56bf6b0f3aeaaa14008c9601</td>\n",
              "      <td>In what city and state did Beyonce  grow up?</td>\n",
              "      <td>[Beyoncé, Giselle, Knowles-Carter, (/biːˈjɒnse...</td>\n",
              "      <td>Houston, Texas</td>\n",
              "      <td>22</td>\n",
              "      <td>23</td>\n",
              "      <td>False</td>\n",
              "    </tr>\n",
              "    <tr>\n",
              "      <th>4</th>\n",
              "      <td>56bf6b0f3aeaaa14008c9602</td>\n",
              "      <td>In which decade did Beyonce become famous?</td>\n",
              "      <td>[Beyoncé, Giselle, Knowles-Carter, (/biːˈjɒnse...</td>\n",
              "      <td>late 1990s</td>\n",
              "      <td>41</td>\n",
              "      <td>42</td>\n",
              "      <td>False</td>\n",
              "    </tr>\n",
              "  </tbody>\n",
              "</table>\n",
              "</div>"
            ],
            "text/plain": [
              "                     qas_id  ... is_impossible\n",
              "0  56be85543aeaaa14008c9063  ...         False\n",
              "1  56be85543aeaaa14008c9065  ...         False\n",
              "2  56be85543aeaaa14008c9066  ...         False\n",
              "3  56bf6b0f3aeaaa14008c9601  ...         False\n",
              "4  56bf6b0f3aeaaa14008c9602  ...         False\n",
              "\n",
              "[5 rows x 7 columns]"
            ]
          },
          "metadata": {
            "tags": []
          },
          "execution_count": 23
        }
      ]
    },
    {
      "cell_type": "code",
      "metadata": {
        "id": "fThhkIjQk31B"
      },
      "source": [
        "doc_stride = 64\r\n",
        "max_seq_length = 128\r\n",
        "max_query_length = 32\r\n",
        "batch_size = 16"
      ],
      "execution_count": 24,
      "outputs": []
    },
    {
      "cell_type": "code",
      "metadata": {
        "id": "eRdOa4hCZg9G"
      },
      "source": [
        "features = convert_examples_to_features(examples=data,\r\n",
        "                                        tokenizer=tokenizer,\r\n",
        "                                        max_seq_length=max_seq_length,\r\n",
        "                                        doc_stride=doc_stride,\r\n",
        "                                        max_query_length=max_query_length,\r\n",
        "                                        is_training=True)\r\n",
        "\r\n",
        "val_features = convert_examples_to_features(examples=val_data,\r\n",
        "                                        tokenizer=tokenizer,\r\n",
        "                                        max_seq_length=max_seq_length,\r\n",
        "                                        doc_stride=doc_stride,\r\n",
        "                                        max_query_length=max_query_length,\r\n",
        "                                        is_training=False)"
      ],
      "execution_count": null,
      "outputs": []
    },
    {
      "cell_type": "code",
      "metadata": {
        "id": "Q8wpGNktunPQ"
      },
      "source": [
        "import torch\n",
        "from torch.utils.data import TensorDataset, DataLoader, RandomSampler, SequentialSampler\n",
        "\n",
        "# Convert to Tensors and build dataset\n",
        "all_input_ids = torch.tensor([f.input_ids for f in features], dtype=torch.long)\n",
        "all_input_mask = torch.tensor([f.input_mask for f in features], dtype=torch.long)\n",
        "all_segment_ids = torch.tensor([f.segment_ids for f in features], dtype=torch.long)\n",
        "all_cls_index = torch.tensor([f.cls_index for f in features], dtype=torch.long)\n",
        "all_p_mask = torch.tensor([f.p_mask for f in features], dtype=torch.float)\n",
        "\n",
        "all_start_positions = torch.tensor([f.start_position for f in features], dtype=torch.long)\n",
        "all_end_positions = torch.tensor([f.end_position for f in features], dtype=torch.long)\n",
        "dataset = TensorDataset(all_input_ids, all_input_mask, all_segment_ids,\n",
        "                        all_start_positions, all_end_positions,\n",
        "                        all_cls_index, all_p_mask)"
      ],
      "execution_count": null,
      "outputs": []
    },
    {
      "cell_type": "code",
      "metadata": {
        "id": "s0bo33FHvcL3"
      },
      "source": [
        "# Convert to Tensors and build dataset\r\n",
        "all_input_ids = torch.tensor([f.input_ids for f in val_features], dtype=torch.long)\r\n",
        "all_input_mask = torch.tensor([f.input_mask for f in val_features], dtype=torch.long)\r\n",
        "all_segment_ids = torch.tensor([f.segment_ids for f in val_features], dtype=torch.long)\r\n",
        "all_cls_index = torch.tensor([f.cls_index for f in val_features], dtype=torch.long)\r\n",
        "all_p_mask = torch.tensor([f.p_mask for f in val_features], dtype=torch.float)\r\n",
        "\r\n",
        "all_example_index = torch.arange(all_input_ids.size(0), dtype=torch.long)\r\n",
        "val_dataset = TensorDataset(all_input_ids, all_input_mask, all_segment_ids,\r\n",
        "                        all_example_index, all_cls_index, all_p_mask)"
      ],
      "execution_count": null,
      "outputs": []
    },
    {
      "cell_type": "code",
      "metadata": {
        "id": "siznTVwRuvkC"
      },
      "source": [
        "train_sampler = RandomSampler(dataset)\n",
        "train_dataloader = DataLoader(dataset, sampler=train_sampler, batch_size=batch_size, drop_last=True)\n",
        "\n",
        "validation_sampler = SequentialSampler(dataset)\n",
        "validation_dataloader = DataLoader(val_dataset, sampler=validation_sampler, batch_size=batch_size, drop_last=True)"
      ],
      "execution_count": null,
      "outputs": []
    },
    {
      "cell_type": "code",
      "metadata": {
        "id": "zIt22mNknCAN"
      },
      "source": [
        "import torch\r\n",
        "# First checking if GPU is available\r\n",
        "train_on_gpu=torch.cuda.is_available()\r\n",
        "\r\n",
        "if(train_on_gpu):\r\n",
        "    print('Training on GPU.')\r\n",
        "    device = 'cuda'\r\n",
        "else:\r\n",
        "    print('No GPU available, training on CPU.')\r\n",
        "    device = 'cpu'"
      ],
      "execution_count": null,
      "outputs": []
    },
    {
      "cell_type": "code",
      "metadata": {
        "id": "rlsIqAKRsrLE"
      },
      "source": [
        "model = BertForQuestionAnswering.from_pretrained('bert-base-uncased').to(device=device)\r\n",
        "param_optimizer = list(model.named_parameters())"
      ],
      "execution_count": null,
      "outputs": []
    },
    {
      "cell_type": "code",
      "metadata": {
        "id": "kbfGuV8NtVkF"
      },
      "source": [
        "no_decay = ['bias', 'gamma', 'beta']\r\n",
        "optimizer_grouped_parameters = [\r\n",
        "    {'params': [p for n, p in param_optimizer if not any(nd in n for nd in no_decay)],\r\n",
        "     'weight_decay_rate': 0.01},\r\n",
        "    {'params': [p for n, p in param_optimizer if any(nd in n for nd in no_decay)],\r\n",
        "     'weight_decay_rate': 0.0}\r\n",
        "]\r\n",
        "\r\n",
        "optimizer = torch.optim.Adam(lr=1e-5, betas=(0.9, 0.98), eps=1e-9, params=optimizer_grouped_parameters)"
      ],
      "execution_count": null,
      "outputs": []
    },
    {
      "cell_type": "code",
      "metadata": {
        "id": "qjScNs3OuF0L"
      },
      "source": [
        "epochs = 4\r\n",
        "\r\n",
        "for epoch in range(1, epochs + 1):\r\n",
        "    # ============================================ TRAINING ============================================================\r\n",
        "    print(\"Training epoch \", str(epoch))\r\n",
        "   \r\n",
        "    model.train()\r\n",
        "    tr_loss = 0\r\n",
        "    nb_tr_steps = 0\r\n",
        "    for step, batch in enumerate(train_dataloader):\r\n",
        "        batch = tuple(t.to(device) for t in batch)\r\n",
        "\r\n",
        "        inputs = {'input_ids':       batch[0],\r\n",
        "                  'attention_mask':  batch[1], \r\n",
        "                  'token_type_ids':  batch[2],  \r\n",
        "                  'start_positions': batch[3], \r\n",
        "                  'end_positions':   batch[4]}\r\n",
        "\r\n",
        "        optimizer.zero_grad()\r\n",
        "\r\n",
        "        outputs = model(**inputs)\r\n",
        "        loss = outputs[0]\r\n",
        "\r\n",
        "        loss.backward()\r\n",
        "        optimizer.step()\r\n",
        "        tr_loss += loss.item()\r\n",
        "        nb_tr_steps += 1\r\n",
        "\r\n",
        "    print(f\"\\nTraining loss={tr_loss / nb_tr_steps:.4f}\")\r\n",
        "\r\n",
        "    # ============================================ VALIDATION ==========================================================\r\n",
        "    model.eval()\r\n",
        "    currentQuestion = 0\r\n",
        "    correct_answers = 0\r\n",
        "    for batch in validation_dataloader:\r\n",
        "        batch = tuple(t.to(device) for t in batch)\r\n",
        "        \r\n",
        "        with torch.no_grad():\r\n",
        "          inputs = {'input_ids':      batch[0],\r\n",
        "                    'attention_mask': batch[1],\r\n",
        "                    'token_type_ids': batch[2]\r\n",
        "                    }\r\n",
        "          example_indices = batch[3]\r\n",
        "          outputs = model(**inputs)\r\n",
        "            # pred_start, pred_end = outputs[0].detach().cpu().numpy(), outputs[1].detach().cpu().numpy()\r\n",
        "\r\n",
        "        for i, example_index in enumerate(example_indices):\r\n",
        "          eval_feature = features[example_index.item()]\r\n",
        "          unique_id = int(eval_feature.unique_id)\r\n",
        "\r\n",
        "          result = RawResult(unique_id    = unique_id,\r\n",
        "                            start_logits = to_list(outputs[0][i]),\r\n",
        "                            end_logits   = to_list(outputs[1][i]))\r\n",
        "          all_results.append(result)\r\n",
        "\r\n",
        "\r\n",
        "      output_prediction_file = \"/drive/My Drive/predictions.json\"\r\n",
        "      output_nbest_file = \"/drive/My Drive/nbest_predictions.json\"\r\n",
        "      output_null_log_odds_file = \"/drive/My Drive/null_odds.json\"\r\n",
        "      output_dir = \"/drive/My Drive/predict_results\"\r\n",
        "\r\n",
        "      write_predictions(val_examples, features, all_results, 10,\r\n",
        "                      30, True, output_prediction_file,\r\n",
        "                      output_nbest_file, output_null_log_odds_file, False,\r\n",
        "                      True, 0.0)\r\n",
        "\r\n",
        "      evaluate_options = EVAL_OPTS(data_file=predict_file,\r\n",
        "                                  pred_file=output_prediction_file,\r\n",
        "                                  na_prob_file=output_null_log_odds_file,\r\n",
        "                                  out_image_dir=None)\r\n",
        "      results = evaluate_on_squad(evaluate_options)\r\n",
        "\r\n",
        "\r\n",
        "\r\n",
        "    #     for question, (start, end) in enumerate(zip(pred_start, pred_end)):\r\n",
        "    #         eval_feature = val_features[example_index.item()]\r\n",
        "    #         currentQuestion += 1\r\n",
        "    #         offsets = squad_eg.context_token_to_char\r\n",
        "    #         start = np.argmax(start)\r\n",
        "    #         end = np.argmax(end)\r\n",
        "    #         if start >= len(offsets):\r\n",
        "    #             continue\r\n",
        "    #         pred_char_start = offsets[start][0]\r\n",
        "    #         if end < len(offsets):\r\n",
        "    #             pred_char_end = offsets[end][1]\r\n",
        "    #             pred_ans = squad_eg.context[pred_char_start:pred_char_end]\r\n",
        "    #         else:\r\n",
        "    #             pred_ans = squad_eg.context[pred_char_start:]\r\n",
        "    #         normalized_pred_ans = normalize_text(pred_ans)\r\n",
        "    #         normalized_true_ans = [normalize_text(_) for _ in squad_eg.all_answers]\r\n",
        "    #         if normalized_pred_ans in normalized_true_ans:\r\n",
        "    #             correct_answers += 1\r\n",
        "    # acc = correct_answers / len(val_data)\r\n",
        "    # print(f\"\\nAccuracy score={acc:.2f}\")"
      ],
      "execution_count": null,
      "outputs": []
    },
    {
      "cell_type": "code",
      "metadata": {
        "id": "MGO8ovYyfWMs"
      },
      "source": [
        "OPTS = evaluate_options\r\n",
        "with open(OPTS.data_file) as f:\r\n",
        "  dataset_json = json.load(f)\r\n",
        "  dataset = dataset_json['data']\r\n",
        "with open(OPTS.pred_file) as f:\r\n",
        "  preds = json.load(f)\r\n",
        "if OPTS.na_prob_file:\r\n",
        "  with open(OPTS.na_prob_file) as f:\r\n",
        "    na_probs = json.load(f)"
      ],
      "execution_count": null,
      "outputs": []
    },
    {
      "cell_type": "code",
      "metadata": {
        "id": "RUQqK552fwvw"
      },
      "source": [
        "exact_raw, f1_raw = get_raw_scores(dataset, preds)"
      ],
      "execution_count": null,
      "outputs": []
    },
    {
      "cell_type": "markdown",
      "metadata": {
        "id": "fu9jcIFM-eMi"
      },
      "source": [
        "## References\r\n",
        "\r\n",
        "\r\n",
        "\r\n",
        "*   https://github.com/nlpyang/pytorch-transformers/tree/master/examples\r\n",
        "\r\n"
      ]
    }
  ]
}