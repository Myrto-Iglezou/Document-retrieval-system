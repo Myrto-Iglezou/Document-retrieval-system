{
  "nbformat": 4,
  "nbformat_minor": 0,
  "metadata": {
    "orig_nbformat": 2,
    "colab": {
      "name": "Question_3.ipynb",
      "provenance": [],
      "include_colab_link": true
    },
    "kernelspec": {
      "name": "python3",
      "display_name": "Python 3"
    },
    "widgets": {
      "application/vnd.jupyter.widget-state+json": {
        "8f129c9f7dc04d6ca64931910b356b84": {
          "model_module": "@jupyter-widgets/controls",
          "model_name": "HBoxModel",
          "state": {
            "_view_name": "HBoxView",
            "_dom_classes": [],
            "_model_name": "HBoxModel",
            "_view_module": "@jupyter-widgets/controls",
            "_model_module_version": "1.5.0",
            "_view_count": null,
            "_view_module_version": "1.5.0",
            "box_style": "",
            "layout": "IPY_MODEL_6712467c9f9b4606a9f95ad7ea9fc0f0",
            "_model_module": "@jupyter-widgets/controls",
            "children": [
              "IPY_MODEL_9967de45d95d4565a03822ed5729d8b7",
              "IPY_MODEL_edc207967dcc48e49c740374f534d122"
            ]
          }
        },
        "6712467c9f9b4606a9f95ad7ea9fc0f0": {
          "model_module": "@jupyter-widgets/base",
          "model_name": "LayoutModel",
          "state": {
            "_view_name": "LayoutView",
            "grid_template_rows": null,
            "right": null,
            "justify_content": null,
            "_view_module": "@jupyter-widgets/base",
            "overflow": null,
            "_model_module_version": "1.2.0",
            "_view_count": null,
            "flex_flow": null,
            "width": null,
            "min_width": null,
            "border": null,
            "align_items": null,
            "bottom": null,
            "_model_module": "@jupyter-widgets/base",
            "top": null,
            "grid_column": null,
            "overflow_y": null,
            "overflow_x": null,
            "grid_auto_flow": null,
            "grid_area": null,
            "grid_template_columns": null,
            "flex": null,
            "_model_name": "LayoutModel",
            "justify_items": null,
            "grid_row": null,
            "max_height": null,
            "align_content": null,
            "visibility": null,
            "align_self": null,
            "height": null,
            "min_height": null,
            "padding": null,
            "grid_auto_rows": null,
            "grid_gap": null,
            "max_width": null,
            "order": null,
            "_view_module_version": "1.2.0",
            "grid_template_areas": null,
            "object_position": null,
            "object_fit": null,
            "grid_auto_columns": null,
            "margin": null,
            "display": null,
            "left": null
          }
        },
        "9967de45d95d4565a03822ed5729d8b7": {
          "model_module": "@jupyter-widgets/controls",
          "model_name": "FloatProgressModel",
          "state": {
            "_view_name": "ProgressView",
            "style": "IPY_MODEL_bcb96a88a5854d66a4b1b36623a05a17",
            "_dom_classes": [],
            "description": "Downloading: 100%",
            "_model_name": "FloatProgressModel",
            "bar_style": "success",
            "max": 231508,
            "_view_module": "@jupyter-widgets/controls",
            "_model_module_version": "1.5.0",
            "value": 231508,
            "_view_count": null,
            "_view_module_version": "1.5.0",
            "orientation": "horizontal",
            "min": 0,
            "description_tooltip": null,
            "_model_module": "@jupyter-widgets/controls",
            "layout": "IPY_MODEL_5c498a38c936470eb1634aaf43e4cf3c"
          }
        },
        "edc207967dcc48e49c740374f534d122": {
          "model_module": "@jupyter-widgets/controls",
          "model_name": "HTMLModel",
          "state": {
            "_view_name": "HTMLView",
            "style": "IPY_MODEL_0165f1145c1a4116bdf2dea5aa3fe638",
            "_dom_classes": [],
            "description": "",
            "_model_name": "HTMLModel",
            "placeholder": "​",
            "_view_module": "@jupyter-widgets/controls",
            "_model_module_version": "1.5.0",
            "value": " 232k/232k [00:00&lt;00:00, 1.25MB/s]",
            "_view_count": null,
            "_view_module_version": "1.5.0",
            "description_tooltip": null,
            "_model_module": "@jupyter-widgets/controls",
            "layout": "IPY_MODEL_858214581788428689cd0046dfbc8d1a"
          }
        },
        "bcb96a88a5854d66a4b1b36623a05a17": {
          "model_module": "@jupyter-widgets/controls",
          "model_name": "ProgressStyleModel",
          "state": {
            "_view_name": "StyleView",
            "_model_name": "ProgressStyleModel",
            "description_width": "initial",
            "_view_module": "@jupyter-widgets/base",
            "_model_module_version": "1.5.0",
            "_view_count": null,
            "_view_module_version": "1.2.0",
            "bar_color": null,
            "_model_module": "@jupyter-widgets/controls"
          }
        },
        "5c498a38c936470eb1634aaf43e4cf3c": {
          "model_module": "@jupyter-widgets/base",
          "model_name": "LayoutModel",
          "state": {
            "_view_name": "LayoutView",
            "grid_template_rows": null,
            "right": null,
            "justify_content": null,
            "_view_module": "@jupyter-widgets/base",
            "overflow": null,
            "_model_module_version": "1.2.0",
            "_view_count": null,
            "flex_flow": null,
            "width": null,
            "min_width": null,
            "border": null,
            "align_items": null,
            "bottom": null,
            "_model_module": "@jupyter-widgets/base",
            "top": null,
            "grid_column": null,
            "overflow_y": null,
            "overflow_x": null,
            "grid_auto_flow": null,
            "grid_area": null,
            "grid_template_columns": null,
            "flex": null,
            "_model_name": "LayoutModel",
            "justify_items": null,
            "grid_row": null,
            "max_height": null,
            "align_content": null,
            "visibility": null,
            "align_self": null,
            "height": null,
            "min_height": null,
            "padding": null,
            "grid_auto_rows": null,
            "grid_gap": null,
            "max_width": null,
            "order": null,
            "_view_module_version": "1.2.0",
            "grid_template_areas": null,
            "object_position": null,
            "object_fit": null,
            "grid_auto_columns": null,
            "margin": null,
            "display": null,
            "left": null
          }
        },
        "0165f1145c1a4116bdf2dea5aa3fe638": {
          "model_module": "@jupyter-widgets/controls",
          "model_name": "DescriptionStyleModel",
          "state": {
            "_view_name": "StyleView",
            "_model_name": "DescriptionStyleModel",
            "description_width": "",
            "_view_module": "@jupyter-widgets/base",
            "_model_module_version": "1.5.0",
            "_view_count": null,
            "_view_module_version": "1.2.0",
            "_model_module": "@jupyter-widgets/controls"
          }
        },
        "858214581788428689cd0046dfbc8d1a": {
          "model_module": "@jupyter-widgets/base",
          "model_name": "LayoutModel",
          "state": {
            "_view_name": "LayoutView",
            "grid_template_rows": null,
            "right": null,
            "justify_content": null,
            "_view_module": "@jupyter-widgets/base",
            "overflow": null,
            "_model_module_version": "1.2.0",
            "_view_count": null,
            "flex_flow": null,
            "width": null,
            "min_width": null,
            "border": null,
            "align_items": null,
            "bottom": null,
            "_model_module": "@jupyter-widgets/base",
            "top": null,
            "grid_column": null,
            "overflow_y": null,
            "overflow_x": null,
            "grid_auto_flow": null,
            "grid_area": null,
            "grid_template_columns": null,
            "flex": null,
            "_model_name": "LayoutModel",
            "justify_items": null,
            "grid_row": null,
            "max_height": null,
            "align_content": null,
            "visibility": null,
            "align_self": null,
            "height": null,
            "min_height": null,
            "padding": null,
            "grid_auto_rows": null,
            "grid_gap": null,
            "max_width": null,
            "order": null,
            "_view_module_version": "1.2.0",
            "grid_template_areas": null,
            "object_position": null,
            "object_fit": null,
            "grid_auto_columns": null,
            "margin": null,
            "display": null,
            "left": null
          }
        },
        "21ba186e93984d0887d7eb92866ef984": {
          "model_module": "@jupyter-widgets/controls",
          "model_name": "HBoxModel",
          "state": {
            "_view_name": "HBoxView",
            "_dom_classes": [],
            "_model_name": "HBoxModel",
            "_view_module": "@jupyter-widgets/controls",
            "_model_module_version": "1.5.0",
            "_view_count": null,
            "_view_module_version": "1.5.0",
            "box_style": "",
            "layout": "IPY_MODEL_35a97513e4a34e058eda05a901fc600e",
            "_model_module": "@jupyter-widgets/controls",
            "children": [
              "IPY_MODEL_fad63ffa84c44beb90dc392348be8779",
              "IPY_MODEL_2276b98c7bb641658a434577d7255c92"
            ]
          }
        },
        "35a97513e4a34e058eda05a901fc600e": {
          "model_module": "@jupyter-widgets/base",
          "model_name": "LayoutModel",
          "state": {
            "_view_name": "LayoutView",
            "grid_template_rows": null,
            "right": null,
            "justify_content": null,
            "_view_module": "@jupyter-widgets/base",
            "overflow": null,
            "_model_module_version": "1.2.0",
            "_view_count": null,
            "flex_flow": null,
            "width": null,
            "min_width": null,
            "border": null,
            "align_items": null,
            "bottom": null,
            "_model_module": "@jupyter-widgets/base",
            "top": null,
            "grid_column": null,
            "overflow_y": null,
            "overflow_x": null,
            "grid_auto_flow": null,
            "grid_area": null,
            "grid_template_columns": null,
            "flex": null,
            "_model_name": "LayoutModel",
            "justify_items": null,
            "grid_row": null,
            "max_height": null,
            "align_content": null,
            "visibility": null,
            "align_self": null,
            "height": null,
            "min_height": null,
            "padding": null,
            "grid_auto_rows": null,
            "grid_gap": null,
            "max_width": null,
            "order": null,
            "_view_module_version": "1.2.0",
            "grid_template_areas": null,
            "object_position": null,
            "object_fit": null,
            "grid_auto_columns": null,
            "margin": null,
            "display": null,
            "left": null
          }
        },
        "fad63ffa84c44beb90dc392348be8779": {
          "model_module": "@jupyter-widgets/controls",
          "model_name": "FloatProgressModel",
          "state": {
            "_view_name": "ProgressView",
            "style": "IPY_MODEL_8d67bd1a820c44c4be32988502d4ad19",
            "_dom_classes": [],
            "description": "Downloading: 100%",
            "_model_name": "FloatProgressModel",
            "bar_style": "success",
            "max": 433,
            "_view_module": "@jupyter-widgets/controls",
            "_model_module_version": "1.5.0",
            "value": 433,
            "_view_count": null,
            "_view_module_version": "1.5.0",
            "orientation": "horizontal",
            "min": 0,
            "description_tooltip": null,
            "_model_module": "@jupyter-widgets/controls",
            "layout": "IPY_MODEL_8060f68a144f4fdc9d6521b5a141f671"
          }
        },
        "2276b98c7bb641658a434577d7255c92": {
          "model_module": "@jupyter-widgets/controls",
          "model_name": "HTMLModel",
          "state": {
            "_view_name": "HTMLView",
            "style": "IPY_MODEL_e35271b722814a8b93b82d1753353ccb",
            "_dom_classes": [],
            "description": "",
            "_model_name": "HTMLModel",
            "placeholder": "​",
            "_view_module": "@jupyter-widgets/controls",
            "_model_module_version": "1.5.0",
            "value": " 433/433 [00:09&lt;00:00, 48.0B/s]",
            "_view_count": null,
            "_view_module_version": "1.5.0",
            "description_tooltip": null,
            "_model_module": "@jupyter-widgets/controls",
            "layout": "IPY_MODEL_aa5090bebb5240f3b00bcd35574adcd9"
          }
        },
        "8d67bd1a820c44c4be32988502d4ad19": {
          "model_module": "@jupyter-widgets/controls",
          "model_name": "ProgressStyleModel",
          "state": {
            "_view_name": "StyleView",
            "_model_name": "ProgressStyleModel",
            "description_width": "initial",
            "_view_module": "@jupyter-widgets/base",
            "_model_module_version": "1.5.0",
            "_view_count": null,
            "_view_module_version": "1.2.0",
            "bar_color": null,
            "_model_module": "@jupyter-widgets/controls"
          }
        },
        "8060f68a144f4fdc9d6521b5a141f671": {
          "model_module": "@jupyter-widgets/base",
          "model_name": "LayoutModel",
          "state": {
            "_view_name": "LayoutView",
            "grid_template_rows": null,
            "right": null,
            "justify_content": null,
            "_view_module": "@jupyter-widgets/base",
            "overflow": null,
            "_model_module_version": "1.2.0",
            "_view_count": null,
            "flex_flow": null,
            "width": null,
            "min_width": null,
            "border": null,
            "align_items": null,
            "bottom": null,
            "_model_module": "@jupyter-widgets/base",
            "top": null,
            "grid_column": null,
            "overflow_y": null,
            "overflow_x": null,
            "grid_auto_flow": null,
            "grid_area": null,
            "grid_template_columns": null,
            "flex": null,
            "_model_name": "LayoutModel",
            "justify_items": null,
            "grid_row": null,
            "max_height": null,
            "align_content": null,
            "visibility": null,
            "align_self": null,
            "height": null,
            "min_height": null,
            "padding": null,
            "grid_auto_rows": null,
            "grid_gap": null,
            "max_width": null,
            "order": null,
            "_view_module_version": "1.2.0",
            "grid_template_areas": null,
            "object_position": null,
            "object_fit": null,
            "grid_auto_columns": null,
            "margin": null,
            "display": null,
            "left": null
          }
        },
        "e35271b722814a8b93b82d1753353ccb": {
          "model_module": "@jupyter-widgets/controls",
          "model_name": "DescriptionStyleModel",
          "state": {
            "_view_name": "StyleView",
            "_model_name": "DescriptionStyleModel",
            "description_width": "",
            "_view_module": "@jupyter-widgets/base",
            "_model_module_version": "1.5.0",
            "_view_count": null,
            "_view_module_version": "1.2.0",
            "_model_module": "@jupyter-widgets/controls"
          }
        },
        "aa5090bebb5240f3b00bcd35574adcd9": {
          "model_module": "@jupyter-widgets/base",
          "model_name": "LayoutModel",
          "state": {
            "_view_name": "LayoutView",
            "grid_template_rows": null,
            "right": null,
            "justify_content": null,
            "_view_module": "@jupyter-widgets/base",
            "overflow": null,
            "_model_module_version": "1.2.0",
            "_view_count": null,
            "flex_flow": null,
            "width": null,
            "min_width": null,
            "border": null,
            "align_items": null,
            "bottom": null,
            "_model_module": "@jupyter-widgets/base",
            "top": null,
            "grid_column": null,
            "overflow_y": null,
            "overflow_x": null,
            "grid_auto_flow": null,
            "grid_area": null,
            "grid_template_columns": null,
            "flex": null,
            "_model_name": "LayoutModel",
            "justify_items": null,
            "grid_row": null,
            "max_height": null,
            "align_content": null,
            "visibility": null,
            "align_self": null,
            "height": null,
            "min_height": null,
            "padding": null,
            "grid_auto_rows": null,
            "grid_gap": null,
            "max_width": null,
            "order": null,
            "_view_module_version": "1.2.0",
            "grid_template_areas": null,
            "object_position": null,
            "object_fit": null,
            "grid_auto_columns": null,
            "margin": null,
            "display": null,
            "left": null
          }
        },
        "357374b43a4f4bf6bcd22d258205bc3f": {
          "model_module": "@jupyter-widgets/controls",
          "model_name": "HBoxModel",
          "state": {
            "_view_name": "HBoxView",
            "_dom_classes": [],
            "_model_name": "HBoxModel",
            "_view_module": "@jupyter-widgets/controls",
            "_model_module_version": "1.5.0",
            "_view_count": null,
            "_view_module_version": "1.5.0",
            "box_style": "",
            "layout": "IPY_MODEL_868ee56de8dd4ad1852a7e38f9eaaf4f",
            "_model_module": "@jupyter-widgets/controls",
            "children": [
              "IPY_MODEL_c023da629cab4f3c95f80822406f98ce",
              "IPY_MODEL_382ba031273c44689d06ac24547d62fa"
            ]
          }
        },
        "868ee56de8dd4ad1852a7e38f9eaaf4f": {
          "model_module": "@jupyter-widgets/base",
          "model_name": "LayoutModel",
          "state": {
            "_view_name": "LayoutView",
            "grid_template_rows": null,
            "right": null,
            "justify_content": null,
            "_view_module": "@jupyter-widgets/base",
            "overflow": null,
            "_model_module_version": "1.2.0",
            "_view_count": null,
            "flex_flow": null,
            "width": null,
            "min_width": null,
            "border": null,
            "align_items": null,
            "bottom": null,
            "_model_module": "@jupyter-widgets/base",
            "top": null,
            "grid_column": null,
            "overflow_y": null,
            "overflow_x": null,
            "grid_auto_flow": null,
            "grid_area": null,
            "grid_template_columns": null,
            "flex": null,
            "_model_name": "LayoutModel",
            "justify_items": null,
            "grid_row": null,
            "max_height": null,
            "align_content": null,
            "visibility": null,
            "align_self": null,
            "height": null,
            "min_height": null,
            "padding": null,
            "grid_auto_rows": null,
            "grid_gap": null,
            "max_width": null,
            "order": null,
            "_view_module_version": "1.2.0",
            "grid_template_areas": null,
            "object_position": null,
            "object_fit": null,
            "grid_auto_columns": null,
            "margin": null,
            "display": null,
            "left": null
          }
        },
        "c023da629cab4f3c95f80822406f98ce": {
          "model_module": "@jupyter-widgets/controls",
          "model_name": "FloatProgressModel",
          "state": {
            "_view_name": "ProgressView",
            "style": "IPY_MODEL_9bc9c507b1ba45c8824f13030cbc9388",
            "_dom_classes": [],
            "description": "Downloading: 100%",
            "_model_name": "FloatProgressModel",
            "bar_style": "success",
            "max": 440473133,
            "_view_module": "@jupyter-widgets/controls",
            "_model_module_version": "1.5.0",
            "value": 440473133,
            "_view_count": null,
            "_view_module_version": "1.5.0",
            "orientation": "horizontal",
            "min": 0,
            "description_tooltip": null,
            "_model_module": "@jupyter-widgets/controls",
            "layout": "IPY_MODEL_3c853ec9275449a19482fecb1c0547ee"
          }
        },
        "382ba031273c44689d06ac24547d62fa": {
          "model_module": "@jupyter-widgets/controls",
          "model_name": "HTMLModel",
          "state": {
            "_view_name": "HTMLView",
            "style": "IPY_MODEL_805f8c7000c0436797a26a5a9519a396",
            "_dom_classes": [],
            "description": "",
            "_model_name": "HTMLModel",
            "placeholder": "​",
            "_view_module": "@jupyter-widgets/controls",
            "_model_module_version": "1.5.0",
            "value": " 440M/440M [00:08&lt;00:00, 50.9MB/s]",
            "_view_count": null,
            "_view_module_version": "1.5.0",
            "description_tooltip": null,
            "_model_module": "@jupyter-widgets/controls",
            "layout": "IPY_MODEL_724cf28951074690ba53c954ba7822cf"
          }
        },
        "9bc9c507b1ba45c8824f13030cbc9388": {
          "model_module": "@jupyter-widgets/controls",
          "model_name": "ProgressStyleModel",
          "state": {
            "_view_name": "StyleView",
            "_model_name": "ProgressStyleModel",
            "description_width": "initial",
            "_view_module": "@jupyter-widgets/base",
            "_model_module_version": "1.5.0",
            "_view_count": null,
            "_view_module_version": "1.2.0",
            "bar_color": null,
            "_model_module": "@jupyter-widgets/controls"
          }
        },
        "3c853ec9275449a19482fecb1c0547ee": {
          "model_module": "@jupyter-widgets/base",
          "model_name": "LayoutModel",
          "state": {
            "_view_name": "LayoutView",
            "grid_template_rows": null,
            "right": null,
            "justify_content": null,
            "_view_module": "@jupyter-widgets/base",
            "overflow": null,
            "_model_module_version": "1.2.0",
            "_view_count": null,
            "flex_flow": null,
            "width": null,
            "min_width": null,
            "border": null,
            "align_items": null,
            "bottom": null,
            "_model_module": "@jupyter-widgets/base",
            "top": null,
            "grid_column": null,
            "overflow_y": null,
            "overflow_x": null,
            "grid_auto_flow": null,
            "grid_area": null,
            "grid_template_columns": null,
            "flex": null,
            "_model_name": "LayoutModel",
            "justify_items": null,
            "grid_row": null,
            "max_height": null,
            "align_content": null,
            "visibility": null,
            "align_self": null,
            "height": null,
            "min_height": null,
            "padding": null,
            "grid_auto_rows": null,
            "grid_gap": null,
            "max_width": null,
            "order": null,
            "_view_module_version": "1.2.0",
            "grid_template_areas": null,
            "object_position": null,
            "object_fit": null,
            "grid_auto_columns": null,
            "margin": null,
            "display": null,
            "left": null
          }
        },
        "805f8c7000c0436797a26a5a9519a396": {
          "model_module": "@jupyter-widgets/controls",
          "model_name": "DescriptionStyleModel",
          "state": {
            "_view_name": "StyleView",
            "_model_name": "DescriptionStyleModel",
            "description_width": "",
            "_view_module": "@jupyter-widgets/base",
            "_model_module_version": "1.5.0",
            "_view_count": null,
            "_view_module_version": "1.2.0",
            "_model_module": "@jupyter-widgets/controls"
          }
        },
        "724cf28951074690ba53c954ba7822cf": {
          "model_module": "@jupyter-widgets/base",
          "model_name": "LayoutModel",
          "state": {
            "_view_name": "LayoutView",
            "grid_template_rows": null,
            "right": null,
            "justify_content": null,
            "_view_module": "@jupyter-widgets/base",
            "overflow": null,
            "_model_module_version": "1.2.0",
            "_view_count": null,
            "flex_flow": null,
            "width": null,
            "min_width": null,
            "border": null,
            "align_items": null,
            "bottom": null,
            "_model_module": "@jupyter-widgets/base",
            "top": null,
            "grid_column": null,
            "overflow_y": null,
            "overflow_x": null,
            "grid_auto_flow": null,
            "grid_area": null,
            "grid_template_columns": null,
            "flex": null,
            "_model_name": "LayoutModel",
            "justify_items": null,
            "grid_row": null,
            "max_height": null,
            "align_content": null,
            "visibility": null,
            "align_self": null,
            "height": null,
            "min_height": null,
            "padding": null,
            "grid_auto_rows": null,
            "grid_gap": null,
            "max_width": null,
            "order": null,
            "_view_module_version": "1.2.0",
            "grid_template_areas": null,
            "object_position": null,
            "object_fit": null,
            "grid_auto_columns": null,
            "margin": null,
            "display": null,
            "left": null
          }
        }
      }
    },
    "accelerator": "GPU"
  },
  "cells": [
    {
      "cell_type": "markdown",
      "metadata": {
        "id": "view-in-github",
        "colab_type": "text"
      },
      "source": [
        "<a href=\"https://colab.research.google.com/github/Myrto-Iglezou/AI2-project4/blob/master/Question_3.ipynb\" target=\"_parent\"><img src=\"https://colab.research.google.com/assets/colab-badge.svg\" alt=\"Open In Colab\"/></a>"
      ]
    },
    {
      "cell_type": "markdown",
      "metadata": {
        "id": "eOoUR08ESUJj"
      },
      "source": [
        "## YΣ19 Artificial Intelligence II\n",
        "# Homework 4\n",
        "\n",
        "### Iglezou Myrto - 111520170038"
      ]
    },
    {
      "cell_type": "markdown",
      "metadata": {
        "id": "4Ef8dyqplmv_"
      },
      "source": [
        "# Project Description\r\n",
        "\r\n"
      ]
    },
    {
      "cell_type": "markdown",
      "metadata": {
        "id": "EjtCURBonpls"
      },
      "source": [
        "Build a BERT-based model which returns “an answer”, given a user question and a\r\n",
        "passage which includes the answer of the question. For this question answering task, we\r\n",
        "will use the SQuAD 2.0 dataset. We will start with the BERT-base pretrained model “bert-base-uncased”\r\n",
        "and fine-tune it to have a question answering task.\r\n"
      ]
    },
    {
      "cell_type": "markdown",
      "metadata": {
        "id": "lX2R8NAZcZpK"
      },
      "source": [
        "# **Question 3** "
      ]
    },
    {
      "cell_type": "markdown",
      "metadata": {
        "id": "qnA7Kn6DTGw3"
      },
      "source": [
        "### Load SCuAD 2.0 dataset from drive"
      ]
    },
    {
      "cell_type": "code",
      "metadata": {
        "id": "G-ruuo--TQVI",
        "colab": {
          "base_uri": "https://localhost:8080/"
        },
        "outputId": "98eb64b8-1378-4cfe-a811-e139b1b07175"
      },
      "source": [
        "import io\r\n",
        "import os\r\n",
        "from google.colab import drive\r\n",
        "import pandas as pd \r\n",
        "import numpy as np\r\n",
        "import json\r\n",
        "import sys\r\n",
        "\r\n",
        "drive.mount('/content/drive',force_remount=True)\r\n",
        "\r\n",
        "sys.path.append('/content/drive/My Drive/')\r\n",
        "\r\n",
        "!cp -r \"/content/drive/My Drive/train-v2.0.json\" '/content/'\r\n",
        "!cp -r \"/content/drive/My Drive/dev-v2.0.json\" '/content/'\r\n",
        "!cp -r \"/content/drive/My Drive/utils_squad.py\" '/content/'\r\n",
        "!cp -r \"/content/drive/My Drive/utils_squad_evaluate.py\" '/content/'\r\n",
        "\r\n",
        "train_file = '/content/train-v2.0.json'\r\n",
        "validation_file = '/content/dev-v2.0.json'\r\n",
        "\r\n",
        "with open(train_file) as f:\r\n",
        "    raw_train_data = json.load(f)\r\n",
        "with open(validation_file) as f:\r\n",
        "    raw_val_data = json.load(f)"
      ],
      "execution_count": 1,
      "outputs": [
        {
          "output_type": "stream",
          "text": [
            "Mounted at /content/drive\n"
          ],
          "name": "stdout"
        }
      ]
    },
    {
      "cell_type": "markdown",
      "metadata": {
        "id": "D6A6hZwbKdTw"
      },
      "source": [
        "Install transformers"
      ]
    },
    {
      "cell_type": "code",
      "metadata": {
        "id": "dFi3U07nzGJ-"
      },
      "source": [
        "%%capture\r\n",
        "!pip install transformers"
      ],
      "execution_count": 2,
      "outputs": []
    },
    {
      "cell_type": "markdown",
      "metadata": {
        "id": "hBgnJihHN50K"
      },
      "source": [
        "Create the tokenizer"
      ]
    },
    {
      "cell_type": "code",
      "metadata": {
        "id": "uTmTzd0WzLCu",
        "outputId": "2a12a881-8b2a-41e8-aba0-44d44c31b38d",
        "colab": {
          "base_uri": "https://localhost:8080/",
          "height": 67,
          "referenced_widgets": [
            "8f129c9f7dc04d6ca64931910b356b84",
            "6712467c9f9b4606a9f95ad7ea9fc0f0",
            "9967de45d95d4565a03822ed5729d8b7",
            "edc207967dcc48e49c740374f534d122",
            "bcb96a88a5854d66a4b1b36623a05a17",
            "5c498a38c936470eb1634aaf43e4cf3c",
            "0165f1145c1a4116bdf2dea5aa3fe638",
            "858214581788428689cd0046dfbc8d1a"
          ]
        }
      },
      "source": [
        "import torch\r\n",
        "from transformers import BertTokenizer, BertForSequenceClassification\r\n",
        "from transformers import BertForQuestionAnswering\r\n",
        "from tokenizers import BertWordPieceTokenizer\r\n",
        "\r\n",
        "# Load pre-trained model tokenizer (vocabulary)\r\n",
        "slow_tokenizer = BertTokenizer.from_pretrained(\"bert-base-uncased\")\r\n",
        "save_path = \"bert_base_uncased/\"\r\n",
        "if not os.path.exists(save_path):\r\n",
        "    os.makedirs(save_path)\r\n",
        "slow_tokenizer.save_pretrained(save_path)\r\n",
        "\r\n",
        "# Load the fast tokenizer from saved file\r\n",
        "tokenizer = BertWordPieceTokenizer(\"bert_base_uncased/vocab.txt\", lowercase=True)\r\n",
        "max_len = 384\r\n"
      ],
      "execution_count": 3,
      "outputs": [
        {
          "output_type": "display_data",
          "data": {
            "application/vnd.jupyter.widget-view+json": {
              "model_id": "8f129c9f7dc04d6ca64931910b356b84",
              "version_minor": 0,
              "version_major": 2
            },
            "text/plain": [
              "HBox(children=(FloatProgress(value=0.0, description='Downloading', max=231508.0, style=ProgressStyle(descripti…"
            ]
          },
          "metadata": {
            "tags": []
          }
        },
        {
          "output_type": "stream",
          "text": [
            "\n"
          ],
          "name": "stdout"
        }
      ]
    },
    {
      "cell_type": "markdown",
      "metadata": {
        "id": "CACrKo9MN9-T"
      },
      "source": [
        "Create a class to save the data form sQuAD"
      ]
    },
    {
      "cell_type": "code",
      "metadata": {
        "id": "qyZR4BnGQKYY"
      },
      "source": [
        "class SquadSample:\r\n",
        "  \r\n",
        "    def __init__(self, context, question, basic_answer, more_answers, start_idx):\r\n",
        "        self.context = context\r\n",
        "        self.question = question\r\n",
        "        self.basic_answer = basic_answer\r\n",
        "        self.more_answers = more_answers\r\n",
        "        self.start_idx = start_idx\r\n",
        "        self.end_idx = None\r\n",
        "        self.start_idx_token = start_idx\r\n",
        "        self.end_idx_token = None\r\n",
        "        self.offsets = None\r\n",
        "        self.input_ids = None \r\n",
        "        self.attention_mask = None\r\n",
        "        self.token_type_ids = None\r\n",
        "        self.validExample = True\r\n",
        "\r\n",
        "    def preprocess(self): # function to preprocess data\r\n",
        "       # Clean context, answer and question\r\n",
        "        self.context = \" \".join(str(self.context).split())\r\n",
        "        self.question = \" \".join(str(self.question).split())\r\n",
        "        self.basic_answer = \" \".join(str(self.basic_answer).split())\r\n",
        "\r\n",
        "        #Calculate end_idx\r\n",
        "        self.end_idx = self.start_idx + len(self.basic_answer)\r\n",
        "        if (self.end_idx >=len(self.context)):\r\n",
        "            self.validExample= False\r\n",
        "            return\r\n",
        "\r\n",
        "        #find characters of context that are part of answer\r\n",
        "        is_part_of_answer = [0]*len(self.context)\r\n",
        "        for i in range (self.start_idx, self.end_idx):\r\n",
        "            is_part_of_answer[i] = 1\r\n",
        "\r\n",
        "        contextTokenizer =  tokenizer.encode(self.context)  \r\n",
        "        #find index of token that corresponds to start and the end of the answer\r\n",
        "        answer_id_token=[]\r\n",
        "        for idx, (start,end) in enumerate(contextTokenizer.offsets):\r\n",
        "            if (sum(is_part_of_answer[start:end]) >0 ):\r\n",
        "                answer_id_token.append(idx)\r\n",
        "        #data to predict\r\n",
        "        if len(answer_id_token) == 0 :\r\n",
        "            self.validExample=False\r\n",
        "            return         \r\n",
        "        self.start_idx_token = answer_id_token[0]\r\n",
        "        self.end_idx_token = answer_id_token[-1]\r\n",
        "        self.offsets = contextTokenizer.offsets\r\n",
        "        \r\n",
        "        # work on question\r\n",
        "        questionTokinizer  = tokenizer.encode(self.question)\r\n",
        "\r\n",
        "        #Create model's inputs \r\n",
        "        self.input_ids = contextTokenizer.ids + questionTokinizer.ids[1:]\r\n",
        "        self.attention_mask = [1] * len (self.input_ids)\r\n",
        "        self.token_type_ids = [0] * len(contextTokenizer.ids) + [1]*len(questionTokinizer.ids[1:])  \r\n",
        "\r\n",
        "        # fix padding\r\n",
        "        padding_length = max_len - len(self.input_ids)\r\n",
        "        if padding_length > 0:\r\n",
        "            self.input_ids = self.input_ids + ([0] * padding_length)\r\n",
        "            self.attention_mask = self.attention_mask + ([0] * padding_length)\r\n",
        "            self.token_type_ids = self.token_type_ids + ([0] * padding_length)\r\n",
        "        elif padding_length < 0:\r\n",
        "            self.validExample= False \r\n",
        "            return "
      ],
      "execution_count": 4,
      "outputs": []
    },
    {
      "cell_type": "markdown",
      "metadata": {
        "id": "Aq0fUTFkOg39"
      },
      "source": [
        "Function that helps save data from json files"
      ]
    },
    {
      "cell_type": "code",
      "metadata": {
        "id": "-kLAD7_muzhV"
      },
      "source": [
        "def create_squad_examples(raw_data):\r\n",
        "    squad_examples = []\r\n",
        "    for item in raw_data[\"data\"]:\r\n",
        "        for para in item[\"paragraphs\"]:\r\n",
        "            context = para[\"context\"]\r\n",
        "            for qa in para[\"qas\"]:\r\n",
        "                question = qa[\"question\"]\r\n",
        "                if qa[\"answers\"]:\r\n",
        "                  answer_text = qa[\"answers\"][0][\"text\"]\r\n",
        "                  all_answers = [_[\"text\"] for _ in qa[\"answers\"]]\r\n",
        "                  start_char_idx = qa[\"answers\"][0][\"answer_start\"]\r\n",
        "                  #context, question, basic_answer, more_answers, start_idx\r\n",
        "                  squad_eg =  squad_eg = SquadSample(context,question, answer_text, all_answers, start_char_idx)\r\n",
        "\r\n",
        "                squad_eg.preprocess()\r\n",
        "                squad_examples.append(squad_eg)\r\n",
        "    return squad_examples"
      ],
      "execution_count": 5,
      "outputs": []
    },
    {
      "cell_type": "markdown",
      "metadata": {
        "id": "7nsI6692O6Jl"
      },
      "source": [
        "Function that create ttwo dictionaries, one for the input and one for the target "
      ]
    },
    {
      "cell_type": "code",
      "metadata": {
        "id": "MdfWynK3uz9F"
      },
      "source": [
        "def create_inputs_targets(squad_examples):\r\n",
        "    dataset_dict = {\r\n",
        "        \"input_ids\" : [],\r\n",
        "        \"attention_mask\" : [],\r\n",
        "        \"token_type_ids\" : [],\r\n",
        "        \"start_idx_token\" : [],\r\n",
        "        \"end_idx_token\" : []\r\n",
        "    }\r\n",
        "    for item in squad_examples:\r\n",
        "        if item.validExample is True:\r\n",
        "            for key in dataset_dict:\r\n",
        "                dataset_dict[key].append(getattr(item, key))\r\n",
        "    for key in dataset_dict:\r\n",
        "        dataset_dict[key] = np.array(dataset_dict[key],dtype=np.float16)\r\n",
        "    x = [dataset_dict[\"input_ids\"], dataset_dict[\"attention_mask\"], dataset_dict[\"token_type_ids\"]]\r\n",
        "    y = [dataset_dict[\"start_idx_token\"], dataset_dict[\"end_idx_token\"]]\r\n",
        "    return x, y   "
      ],
      "execution_count": 6,
      "outputs": []
    },
    {
      "cell_type": "code",
      "metadata": {
        "id": "Ev1vzsRcU6Jx"
      },
      "source": [
        "data = create_squad_examples(raw_train_data)  # save the data for the training set\r\n",
        "\r\n",
        "val_data = create_squad_examples(raw_val_data)  # save the data for the validation set"
      ],
      "execution_count": 7,
      "outputs": []
    },
    {
      "cell_type": "markdown",
      "metadata": {
        "id": "BJud54kGPbZE"
      },
      "source": [
        "Check what is saved"
      ]
    },
    {
      "cell_type": "code",
      "metadata": {
        "id": "ug8SwSkZ_uTB",
        "colab": {
          "base_uri": "https://localhost:8080/",
          "height": 202
        },
        "outputId": "c157e5d7-ae35-4f97-94d7-66c2a05e23f8"
      },
      "source": [
        "train_data = pd.DataFrame.from_records([vars(line) for line in data])\r\n",
        "train_data[[\"context\",\"question\",\"basic_answer\"]].head()"
      ],
      "execution_count": 8,
      "outputs": [
        {
          "output_type": "execute_result",
          "data": {
            "text/html": [
              "<div>\n",
              "<style scoped>\n",
              "    .dataframe tbody tr th:only-of-type {\n",
              "        vertical-align: middle;\n",
              "    }\n",
              "\n",
              "    .dataframe tbody tr th {\n",
              "        vertical-align: top;\n",
              "    }\n",
              "\n",
              "    .dataframe thead th {\n",
              "        text-align: right;\n",
              "    }\n",
              "</style>\n",
              "<table border=\"1\" class=\"dataframe\">\n",
              "  <thead>\n",
              "    <tr style=\"text-align: right;\">\n",
              "      <th></th>\n",
              "      <th>context</th>\n",
              "      <th>question</th>\n",
              "      <th>basic_answer</th>\n",
              "    </tr>\n",
              "  </thead>\n",
              "  <tbody>\n",
              "    <tr>\n",
              "      <th>0</th>\n",
              "      <td>Beyoncé Giselle Knowles-Carter (/biːˈjɒnseɪ/ b...</td>\n",
              "      <td>When did Beyonce start becoming popular?</td>\n",
              "      <td>in the late 1990s</td>\n",
              "    </tr>\n",
              "    <tr>\n",
              "      <th>1</th>\n",
              "      <td>Beyoncé Giselle Knowles-Carter (/biːˈjɒnseɪ/ b...</td>\n",
              "      <td>What areas did Beyonce compete in when she was...</td>\n",
              "      <td>singing and dancing</td>\n",
              "    </tr>\n",
              "    <tr>\n",
              "      <th>2</th>\n",
              "      <td>Beyoncé Giselle Knowles-Carter (/biːˈjɒnseɪ/ b...</td>\n",
              "      <td>When did Beyonce leave Destiny's Child and bec...</td>\n",
              "      <td>2003</td>\n",
              "    </tr>\n",
              "    <tr>\n",
              "      <th>3</th>\n",
              "      <td>Beyoncé Giselle Knowles-Carter (/biːˈjɒnseɪ/ b...</td>\n",
              "      <td>In what city and state did Beyonce grow up?</td>\n",
              "      <td>Houston, Texas</td>\n",
              "    </tr>\n",
              "    <tr>\n",
              "      <th>4</th>\n",
              "      <td>Beyoncé Giselle Knowles-Carter (/biːˈjɒnseɪ/ b...</td>\n",
              "      <td>In which decade did Beyonce become famous?</td>\n",
              "      <td>late 1990s</td>\n",
              "    </tr>\n",
              "  </tbody>\n",
              "</table>\n",
              "</div>"
            ],
            "text/plain": [
              "                                             context  ...         basic_answer\n",
              "0  Beyoncé Giselle Knowles-Carter (/biːˈjɒnseɪ/ b...  ...    in the late 1990s\n",
              "1  Beyoncé Giselle Knowles-Carter (/biːˈjɒnseɪ/ b...  ...  singing and dancing\n",
              "2  Beyoncé Giselle Knowles-Carter (/biːˈjɒnseɪ/ b...  ...                 2003\n",
              "3  Beyoncé Giselle Knowles-Carter (/biːˈjɒnseɪ/ b...  ...       Houston, Texas\n",
              "4  Beyoncé Giselle Knowles-Carter (/biːˈjɒnseɪ/ b...  ...           late 1990s\n",
              "\n",
              "[5 rows x 3 columns]"
            ]
          },
          "metadata": {
            "tags": []
          },
          "execution_count": 8
        }
      ]
    },
    {
      "cell_type": "code",
      "metadata": {
        "id": "grzWupQh4BIk"
      },
      "source": [
        "x_train, y_train = create_inputs_targets(data)  # split the training data to input and target\r\n",
        "\r\n",
        "x_eval, y_eval = create_inputs_targets(val_data)  # split the validation data to input and target"
      ],
      "execution_count": 9,
      "outputs": []
    },
    {
      "cell_type": "code",
      "metadata": {
        "id": "fThhkIjQk31B"
      },
      "source": [
        "doc_stride = 64\r\n",
        "max_seq_length = 128\r\n",
        "max_query_length = 32\r\n",
        "batch_size = 16"
      ],
      "execution_count": 10,
      "outputs": []
    },
    {
      "cell_type": "markdown",
      "metadata": {
        "id": "FFkXwvpOP0dX"
      },
      "source": [
        "### Create Datasets"
      ]
    },
    {
      "cell_type": "code",
      "metadata": {
        "id": "Q8wpGNktunPQ"
      },
      "source": [
        "import torch\n",
        "from torch.utils.data import TensorDataset, DataLoader, RandomSampler, SequentialSampler\n",
        "\n",
        "# Convert to Tensors and build dataset\n",
        "train_data = TensorDataset(torch.tensor(x_train[0], dtype=torch.int64),\n",
        "                           torch.tensor(x_train[1], dtype=torch.float),\n",
        "                           torch.tensor(x_train[2], dtype=torch.int64),\n",
        "                           torch.tensor(y_train[0], dtype=torch.int64),\n",
        "                           torch.tensor(y_train[1], dtype=torch.int64))\n",
        "\n",
        "train_sampler = RandomSampler(train_data)\n",
        "train_dataloader = DataLoader(train_data, sampler=train_sampler, batch_size=batch_size)"
      ],
      "execution_count": 11,
      "outputs": []
    },
    {
      "cell_type": "code",
      "metadata": {
        "id": "s0bo33FHvcL3"
      },
      "source": [
        "# Convert to Tensors and build dataset\r\n",
        "train_sampler = RandomSampler(train_data)\r\n",
        "train_data_loader = DataLoader(train_data, sampler=train_sampler, batch_size=batch_size)\r\n",
        "eval_data = TensorDataset(torch.tensor(x_eval[0], dtype=torch.int64),\r\n",
        "                          torch.tensor(x_eval[1], dtype=torch.float),\r\n",
        "                          torch.tensor(x_eval[2], dtype=torch.int64),\r\n",
        "                          torch.tensor(y_eval[0], dtype=torch.int64),\r\n",
        "                          torch.tensor(y_eval[1], dtype=torch.int64))\r\n",
        "\r\n",
        "eval_sampler = SequentialSampler(eval_data)\r\n",
        "validation_dataloader = DataLoader(eval_data, sampler=eval_sampler, batch_size=batch_size)"
      ],
      "execution_count": 12,
      "outputs": []
    },
    {
      "cell_type": "markdown",
      "metadata": {
        "id": "752yxQ8PP8BL"
      },
      "source": [
        "### Check for GPU availability"
      ]
    },
    {
      "cell_type": "code",
      "metadata": {
        "id": "zIt22mNknCAN",
        "colab": {
          "base_uri": "https://localhost:8080/"
        },
        "outputId": "2e709b30-1f1b-45ab-dcbe-acf4d31e371b"
      },
      "source": [
        "import torch\r\n",
        "# First checking if GPU is available\r\n",
        "train_on_gpu=torch.cuda.is_available()\r\n",
        "\r\n",
        "if(train_on_gpu):\r\n",
        "    print('Training on GPU.')\r\n",
        "    device = 'cuda'\r\n",
        "else:\r\n",
        "    print('No GPU available, training on CPU.')\r\n",
        "    device = 'cpu'"
      ],
      "execution_count": 13,
      "outputs": [
        {
          "output_type": "stream",
          "text": [
            "No GPU available, training on CPU.\n"
          ],
          "name": "stdout"
        }
      ]
    },
    {
      "cell_type": "markdown",
      "metadata": {
        "id": "1hCGNA6qQCjV"
      },
      "source": [
        "### Initialize model"
      ]
    },
    {
      "cell_type": "code",
      "metadata": {
        "id": "rlsIqAKRsrLE",
        "colab": {
          "base_uri": "https://localhost:8080/",
          "height": 223,
          "referenced_widgets": [
            "21ba186e93984d0887d7eb92866ef984",
            "35a97513e4a34e058eda05a901fc600e",
            "fad63ffa84c44beb90dc392348be8779",
            "2276b98c7bb641658a434577d7255c92",
            "8d67bd1a820c44c4be32988502d4ad19",
            "8060f68a144f4fdc9d6521b5a141f671",
            "e35271b722814a8b93b82d1753353ccb",
            "aa5090bebb5240f3b00bcd35574adcd9",
            "357374b43a4f4bf6bcd22d258205bc3f",
            "868ee56de8dd4ad1852a7e38f9eaaf4f",
            "c023da629cab4f3c95f80822406f98ce",
            "382ba031273c44689d06ac24547d62fa",
            "9bc9c507b1ba45c8824f13030cbc9388",
            "3c853ec9275449a19482fecb1c0547ee",
            "805f8c7000c0436797a26a5a9519a396",
            "724cf28951074690ba53c954ba7822cf"
          ]
        },
        "outputId": "4f2401a2-10a7-41fa-81cd-2373bcbb4115"
      },
      "source": [
        "model = BertForQuestionAnswering.from_pretrained('bert-base-uncased').to(device=device)\r\n",
        "param_optimizer = list(model.named_parameters())"
      ],
      "execution_count": 14,
      "outputs": [
        {
          "output_type": "display_data",
          "data": {
            "application/vnd.jupyter.widget-view+json": {
              "model_id": "21ba186e93984d0887d7eb92866ef984",
              "version_minor": 0,
              "version_major": 2
            },
            "text/plain": [
              "HBox(children=(FloatProgress(value=0.0, description='Downloading', max=433.0, style=ProgressStyle(description_…"
            ]
          },
          "metadata": {
            "tags": []
          }
        },
        {
          "output_type": "stream",
          "text": [
            "\n"
          ],
          "name": "stdout"
        },
        {
          "output_type": "display_data",
          "data": {
            "application/vnd.jupyter.widget-view+json": {
              "model_id": "357374b43a4f4bf6bcd22d258205bc3f",
              "version_minor": 0,
              "version_major": 2
            },
            "text/plain": [
              "HBox(children=(FloatProgress(value=0.0, description='Downloading', max=440473133.0, style=ProgressStyle(descri…"
            ]
          },
          "metadata": {
            "tags": []
          }
        },
        {
          "output_type": "stream",
          "text": [
            "\n"
          ],
          "name": "stdout"
        },
        {
          "output_type": "stream",
          "text": [
            "Some weights of the model checkpoint at bert-base-uncased were not used when initializing BertForQuestionAnswering: ['cls.predictions.bias', 'cls.predictions.transform.dense.weight', 'cls.predictions.transform.dense.bias', 'cls.predictions.decoder.weight', 'cls.seq_relationship.weight', 'cls.seq_relationship.bias', 'cls.predictions.transform.LayerNorm.weight', 'cls.predictions.transform.LayerNorm.bias']\n",
            "- This IS expected if you are initializing BertForQuestionAnswering from the checkpoint of a model trained on another task or with another architecture (e.g. initializing a BertForSequenceClassification model from a BertForPreTraining model).\n",
            "- This IS NOT expected if you are initializing BertForQuestionAnswering from the checkpoint of a model that you expect to be exactly identical (initializing a BertForSequenceClassification model from a BertForSequenceClassification model).\n",
            "Some weights of BertForQuestionAnswering were not initialized from the model checkpoint at bert-base-uncased and are newly initialized: ['qa_outputs.weight', 'qa_outputs.bias']\n",
            "You should probably TRAIN this model on a down-stream task to be able to use it for predictions and inference.\n"
          ],
          "name": "stderr"
        }
      ]
    },
    {
      "cell_type": "code",
      "metadata": {
        "id": "kbfGuV8NtVkF"
      },
      "source": [
        "no_decay = ['bias', 'gamma', 'beta']\r\n",
        "optimizer_grouped_parameters = [\r\n",
        "    {'params': [p for n, p in param_optimizer if not any(nd in n for nd in no_decay)],\r\n",
        "     'weight_decay_rate': 0.01},\r\n",
        "    {'params': [p for n, p in param_optimizer if any(nd in n for nd in no_decay)],\r\n",
        "     'weight_decay_rate': 0.0}\r\n",
        "]\r\n",
        "\r\n",
        "optimizer = torch.optim.Adam(lr=1e-5, betas=(0.9, 0.98), eps=1e-9, params=optimizer_grouped_parameters)"
      ],
      "execution_count": 15,
      "outputs": []
    },
    {
      "cell_type": "markdown",
      "metadata": {
        "id": "mQCQ__PIQPaL"
      },
      "source": [
        "### Training model"
      ]
    },
    {
      "cell_type": "markdown",
      "metadata": {
        "id": "fLT084mGQJEM"
      },
      "source": [
        "Function for text normalization"
      ]
    },
    {
      "cell_type": "code",
      "metadata": {
        "id": "g7n6yBDTCTZV"
      },
      "source": [
        "import string\r\n",
        "import re\r\n",
        "\r\n",
        "def normalize_text(text):\r\n",
        "    text = text.lower()\r\n",
        "    text = \"\".join(ch for ch in text if ch not in set(string.punctuation))\r\n",
        "    regex = re.compile(r\"\\b(a|an|the)\\b\", re.UNICODE)\r\n",
        "    text = re.sub(regex, \" \", text)\r\n",
        "    text = \" \".join(text.split())\r\n",
        "    return text"
      ],
      "execution_count": 16,
      "outputs": []
    },
    {
      "cell_type": "code",
      "metadata": {
        "id": "qjScNs3OuF0L",
        "colab": {
          "base_uri": "https://localhost:8080/"
        },
        "outputId": "41a5d84e-c577-4cb4-ff13-7bf341c3184f"
      },
      "source": [
        "epochs = 1\r\n",
        "\r\n",
        "for epoch in range(1, epochs + 1):\r\n",
        "    # ============================================ TRAINING ============================================================\r\n",
        "    print(\"Training epoch \", str(epoch))\r\n",
        "   \r\n",
        "    model.train()\r\n",
        "    tr_loss = 0\r\n",
        "    nb_tr_steps = 0\r\n",
        "    for step, batch in enumerate(train_dataloader):\r\n",
        "        batch = tuple(t.to(device) for t in batch)\r\n",
        "\r\n",
        "        inputs = {'input_ids':       batch[0],\r\n",
        "                  'attention_mask':  batch[1], \r\n",
        "                  'token_type_ids':  batch[2],  \r\n",
        "                  'start_positions': batch[3], \r\n",
        "                  'end_positions':   batch[4]}\r\n",
        "\r\n",
        "        optimizer.zero_grad()\r\n",
        "\r\n",
        "        outputs = model(**inputs)\r\n",
        "        loss = outputs[0]\r\n",
        "\r\n",
        "        loss.backward()\r\n",
        "        optimizer.step()\r\n",
        "        tr_loss += loss.item()\r\n",
        "        nb_tr_steps += 1\r\n",
        "\r\n",
        "    print(f\"\\nTraining loss={tr_loss / nb_tr_steps:.4f}\")\r\n",
        "\r\n",
        "    # ============================================ VALIDATION ==========================================================\r\n",
        "    model.eval()\r\n",
        "    currect_query = 0\r\n",
        "    correct_ans = 0\r\n",
        "    valid_examples = [x for x in val_data if x.validExample is True]\r\n",
        "    for batch in validation_dataloader:\r\n",
        "        batch = tuple(t.to(device) for t in batch)\r\n",
        "        \r\n",
        "        input_ids, attention_mask, token_type_ids, start_positions, end_positions = batch\r\n",
        "\r\n",
        "        with torch.no_grad():\r\n",
        "          start_logits, end_logits =  model(input_ids=input_ids,\r\n",
        "                                              attention_mask=attention_mask,\r\n",
        "                                              token_type_ids=token_type_ids, return_dict=False)\r\n",
        "          \r\n",
        "          pred_start, pred_end = start_logits.detach().cpu().numpy(), end_logits.detach().cpu().numpy()\r\n",
        "\r\n",
        "        for idx, (start, end) in enumerate(zip(pred_start, pred_end)):\r\n",
        "            squad_eg = valid_examples[currect_query]\r\n",
        "            currect_query += 1\r\n",
        "            offsets = squad_eg.offsets\r\n",
        "            start = np.argmax(start)\r\n",
        "            end = np.argmax(end)\r\n",
        "            if start >= len(offsets):\r\n",
        "                continue\r\n",
        "            pred_char_start = offsets[start][0]\r\n",
        "            if end < len(offsets):\r\n",
        "                pred_char_end = offsets[end][1]\r\n",
        "                pred_ans = squad_eg.context[pred_char_start:pred_char_end]\r\n",
        "            else:\r\n",
        "                pred_ans = squad_eg.context[pred_char_start:]\r\n",
        "            normalized_pred_ans = normalize_text(pred_ans)\r\n",
        "            normalized_true_ans = [normalize_text(x) for x in squad_eg.more_answers]\r\n",
        "            if normalized_pred_ans in normalized_true_ans:\r\n",
        "                correct_ans += 1\r\n",
        "    acc = correct_ans / len(y_eval[0])\r\n",
        "\r\n",
        "    print(f\"\\nAccuracy score={acc:.2f}\\n\")\r\n",
        "    print(\"-----------------------------------------\")"
      ],
      "execution_count": null,
      "outputs": [
        {
          "output_type": "stream",
          "text": [
            "Training epoch  1\n"
          ],
          "name": "stdout"
        }
      ]
    },
    {
      "cell_type": "markdown",
      "metadata": {
        "id": "XqrNzdjFqg0I"
      },
      "source": [
        "### Testing model"
      ]
    },
    {
      "cell_type": "code",
      "metadata": {
        "id": "l4gYupzjXreU"
      },
      "source": [
        "# ============================================ TESTING ==========================================================\r\n",
        "data = {\"data\":\r\n",
        "    [\r\n",
        "        {\"title\": \"Tesla's Biography\",\r\n",
        "         \"paragraphs\": [\r\n",
        "             {\r\n",
        "                 \"context\": \"Nikola Tesla was a Serbian-American inventor, electrical engineer, mechanical engineer, \"\r\n",
        "                            \"and futurist best known for his contributions to the design of the modern alternating \"\r\n",
        "                            \"current (AC) electricity supply system. Born and raised in the Austrian Empire,Tesla \"\r\n",
        "                            \"studied engineering and physics in the 1870s without receiving a degree. In 1884, he \"\r\n",
        "                            \"moved to United States. In 1887, Tesla developed an induction motor that ran on alternating \"\r\n",
        "                            \"current (AC), a power system format that was rapidly expanding in Europe and the United \"\r\n",
        "                            \"States because of its advantages in long-distance, high-voltage transmission. Tesla became \"\r\n",
        "                            \"a vegetarian in his later years, living on only milk, bread, honey, and vegetable juices. \"\r\n",
        "                            \"On 7 January 1943, at the age of 86, Tesla died alone in Room 3327 of the Hotel New Yorker. \"\r\n",
        "                            \"Tesla wrote a number of books and articles for magazines and journals. Among his books are \"\r\n",
        "                            \"My Inventions: The Autobiography of Nikola Tesla, compiled and edited by Ben Johnston \"\r\n",
        "                            \"in 1983 from a series of 1919 magazine articles by Tesla which were republished in 1977. \"\r\n",
        "                            \"Tesla's legacy has endured in books, films, radio, TV, music, live theater, comics, and \"\r\n",
        "                            \"video games. The impact of the technologies invented or envisioned by Tesla is a recurring \"\r\n",
        "                            \"theme in several types of science fiction. \",\r\n",
        "                 \"qas\": [\r\n",
        "                     {\"question\": \"When did Tesla becοme a vegetarian?\",\r\n",
        "                      \"id\": \"Q1\"\r\n",
        "                      },\r\n",
        "                     {\"question\": \"When did Tesla move to United States ?\",\r\n",
        "                      \"id\": \"Q2\"\r\n",
        "                      },\r\n",
        "                     {\"question\": \"What year did Tesla die?\",\r\n",
        "                      \"id\": \"Q3\"\r\n",
        "                      },\r\n",
        "                     {\"question\": \"Who edited the book My Inventions: The Autobiography of Nikola Tesla?\",\r\n",
        "                      \"id\": \"Q4\"\r\n",
        "                      },\r\n",
        "                     {\"question\": \"In what age did Tesla died?\",\r\n",
        "                      \"id\": \"Q5\"\r\n",
        "                      },\r\n",
        "                     {\"question\": \"Who developed an induction motor?\",\r\n",
        "                      \"id\": \"Q6\"\r\n",
        "                      },\r\n",
        "                     {\"question\": \"Where Tesla was born?\",\r\n",
        "                      \"id\": \"Q7\"\r\n",
        "                      },\r\n",
        "                     {\"question\": \"What did Tesla study?\",\r\n",
        "                      \"id\": \"Q8\"\r\n",
        "                      }\r\n",
        "                 ]}]}]}\r\n",
        "\r\n",
        "model.eval()\r\n",
        "test_samples = create_squad_examples(data)\r\n",
        "x_test, _ = create_inputs_targets(test_samples)\r\n",
        "pred_start, pred_end = model(torch.tensor(x_test[0], dtype=torch.int64, device=gpu),\r\n",
        "                             torch.tensor(x_test[1], dtype=torch.float, device=gpu),\r\n",
        "                             torch.tensor(x_test[2], dtype=torch.int64, device=gpu), return_dict=False)\r\n",
        "pred_start, pred_end = pred_start.detach().cpu().numpy(), pred_end.detach().cpu().numpy()\r\n",
        "for idx, (start, end) in enumerate(zip(pred_start, pred_end)):\r\n",
        "    test_sample = test_samples[idx]\r\n",
        "    offsets = test_sample.offsets\r\n",
        "    start = np.argmax(start)\r\n",
        "    end = np.argmax(end)\r\n",
        "    pred_ans = None\r\n",
        "    if start >= len(offsets):\r\n",
        "        continue\r\n",
        "    pred_char_start = offsets[start][0]\r\n",
        "    if end < len(offsets):\r\n",
        "        pred_ans = test_sample.context[pred_char_start:offsets[end][1]]\r\n",
        "    else:\r\n",
        "        pred_ans = test_sample.context[pred_char_start:]\r\n",
        "    print(\"Q: \" + test_sample.question)\r\n",
        "    print(\"A: \" + pred_ans)"
      ],
      "execution_count": null,
      "outputs": []
    },
    {
      "cell_type": "markdown",
      "metadata": {
        "id": "fu9jcIFM-eMi"
      },
      "source": [
        "## References\r\n",
        "\r\n",
        "\r\n",
        "\r\n",
        "*   https://github.com/nlpyang/pytorch-transformers/tree/master/examples\r\n",
        "*  https://github.com/flogothetis/SQuAD-QueryAnswering-BERT-Keras/blob/main/SQuAD_QuestionAnswering_Bert.ipynb\r\n",
        "*  https://github.com/dredwardhyde/bert-examples/blob/main/bert_squad_pytorch.py?fbclid=IwAR1VGhZx6MsVlOha3lDX_uC8PASSDu9ECKceD2XCHGSetKhldgay0F8SirY\r\n",
        "* https://colab.research.google.com/drive/1Zp2_Uka8oGDYsSe5ELk-xz6wIX8OIkB7?fbclid=IwAR1zl-nOBSOdYA4H-WY-ba6AJ--hRHM2OZhgK3DrQ1SLfavln5M-k-r4jJ4#scrollTo=j3_CAQUf2asD\r\n",
        "\r\n"
      ]
    }
  ]
}