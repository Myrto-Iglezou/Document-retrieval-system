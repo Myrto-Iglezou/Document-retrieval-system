{
  "nbformat": 4,
  "nbformat_minor": 0,
  "metadata": {
    "orig_nbformat": 2,
    "colab": {
      "name": "Question_1.ipynb",
      "provenance": [],
      "include_colab_link": true
    },
    "kernelspec": {
      "name": "python3",
      "display_name": "Python 3"
    },
    "accelerator": "GPU"
  },
  "cells": [
    {
      "cell_type": "markdown",
      "metadata": {
        "id": "view-in-github",
        "colab_type": "text"
      },
      "source": [
        "<a href=\"https://colab.research.google.com/github/Myrto-Iglezou/AI2-project4/blob/master/Question_1.ipynb\" target=\"_parent\"><img src=\"https://colab.research.google.com/assets/colab-badge.svg\" alt=\"Open In Colab\"/></a>"
      ]
    },
    {
      "cell_type": "markdown",
      "metadata": {
        "id": "eOoUR08ESUJj"
      },
      "source": [
        "## YΣ19 Artificial Intelligence II\n",
        "# Homework 4\n",
        "\n",
        "### Iglezou Myrto - 111520170038"
      ]
    },
    {
      "cell_type": "markdown",
      "metadata": {
        "id": "klCjhjZvlqFr"
      },
      "source": [
        "\r\n",
        "<img src=\"https://venturebeat.com/wp-content/uploads/2020/03/CORD-19.png?w=1200&strip=all\" alt=\"Cord-19\" width=\"600\"/>"
      ]
    },
    {
      "cell_type": "markdown",
      "metadata": {
        "id": "4Ef8dyqplmv_"
      },
      "source": [
        "# Project Description\r\n",
        "\r\n"
      ]
    },
    {
      "cell_type": "markdown",
      "metadata": {
        "id": "EjtCURBonpls"
      },
      "source": [
        "The objective of this project is about developing a document retrieval system to return titles of scientific papers containing the answer to a given user question. The dataset used in this exercise is from [COVID-19 Open Research Dataset (CORD-19)](https://ai2-semanticscholar-cord-19.s3-us-west-2.amazonaws.com/historical_releases.html), the first version. We are gonna implement 2 different sentence embedding approaches, in order for the model to retrieve the titles of the papers related to a given question.\r\n"
      ]
    },
    {
      "cell_type": "markdown",
      "metadata": {
        "id": "lX2R8NAZcZpK"
      },
      "source": [
        "# **Question 1** "
      ]
    },
    {
      "cell_type": "markdown",
      "metadata": {
        "id": "wxvA_efKqaRi"
      },
      "source": [
        "## Step 1 - Preprocess the provided dataset"
      ]
    },
    {
      "cell_type": "markdown",
      "metadata": {
        "id": "fqRYqh5T6UuN"
      },
      "source": [
        "### Read all json files from folder and keep for dataset the title and the body. Then save the dataframe to a csv file for faster reading of the dataframe."
      ]
    },
    {
      "cell_type": "code",
      "metadata": {
        "id": "xH485gzVbw88",
        "colab": {
          "base_uri": "https://localhost:8080/"
        },
        "outputId": "28711858-a7ce-4f15-94e8-359a460429a7"
      },
      "source": [
        "import io\r\n",
        "import os\r\n",
        "from google.colab import drive\r\n",
        "import pandas as pd \r\n",
        "import json\r\n",
        "\r\n",
        "drive.mount('/content/drive',force_remount=True)\r\n",
        "path = r\"/content/drive/My Drive/cord-19_2020-03-13/cord-19_2020-03-13/2020-03-13/comm_use_subset\"\r\n",
        "\r\n",
        "dataset_df = pd.DataFrame(columns=['id', 'title', 'body'])\r\n",
        "\r\n",
        "for filename in os.listdir(path):\r\n",
        "   with open(os.path.join(path, filename), 'r') as f:  \r\n",
        "      json_text = json.load(f)\r\n",
        "\r\n",
        "      id = json_text['paper_id']\r\n",
        "      # print(id)\r\n",
        "      title = json_text['metadata']['title']\r\n",
        "      # print(title)\r\n",
        "      body = json_text['body_text']\r\n",
        "      # print(body)\r\n",
        "\r\n",
        "      dataset_df.loc[len(dataset_df)] = [id,title,body]\r\n",
        "   "
      ],
      "execution_count": null,
      "outputs": [
        {
          "output_type": "stream",
          "text": [
            "Mounted at /content/drive\n"
          ],
          "name": "stdout"
        }
      ]
    },
    {
      "cell_type": "code",
      "metadata": {
        "id": "kB-PP7_mspCr"
      },
      "source": [
        "dataset_df.to_csv('dataset.csv',index=False)\r\n",
        "!cp dataset.csv \"drive/My Drive/\""
      ],
      "execution_count": null,
      "outputs": []
    },
    {
      "cell_type": "markdown",
      "metadata": {
        "id": "qVGFfhAE6rAc"
      },
      "source": [
        "### Read the dataset from the csv file and save the information in a dataframe"
      ]
    },
    {
      "cell_type": "code",
      "metadata": {
        "id": "Gtqng21fu4lh",
        "colab": {
          "base_uri": "https://localhost:8080/"
        },
        "outputId": "cb6b9b2f-2246-4a0a-bd97-20c1102d8ecf"
      },
      "source": [
        "import io\r\n",
        "from google.colab import drive\r\n",
        "import pandas as pd \r\n",
        "import sys \r\n",
        "\r\n",
        "drive.mount('/content/drive',force_remount=True)\r\n",
        "filePath = r\"/content/drive/My Drive/dataset.csv\"\r\n",
        "dataset_df = pd.read_csv(filePath)\r\n",
        "dataset_df.fillna('empty',inplace=True)\r\n",
        "dataset_df.title = dataset_df.title.astype(str)  # make everything str, for lower() function"
      ],
      "execution_count": 2,
      "outputs": [
        {
          "output_type": "stream",
          "text": [
            "Mounted at /content/drive\n"
          ],
          "name": "stdout"
        }
      ]
    },
    {
      "cell_type": "markdown",
      "metadata": {
        "id": "iGlwAO3Y69yS"
      },
      "source": [
        "**Dataframe before the preprocess**"
      ]
    },
    {
      "cell_type": "code",
      "metadata": {
        "id": "KtM8rxv7WbJu",
        "colab": {
          "base_uri": "https://localhost:8080/",
          "height": 202
        },
        "outputId": "db74c5df-39ae-4dda-c911-25acfd039c5b"
      },
      "source": [
        "dataset_df.head(5)"
      ],
      "execution_count": 3,
      "outputs": [
        {
          "output_type": "execute_result",
          "data": {
            "text/html": [
              "<div>\n",
              "<style scoped>\n",
              "    .dataframe tbody tr th:only-of-type {\n",
              "        vertical-align: middle;\n",
              "    }\n",
              "\n",
              "    .dataframe tbody tr th {\n",
              "        vertical-align: top;\n",
              "    }\n",
              "\n",
              "    .dataframe thead th {\n",
              "        text-align: right;\n",
              "    }\n",
              "</style>\n",
              "<table border=\"1\" class=\"dataframe\">\n",
              "  <thead>\n",
              "    <tr style=\"text-align: right;\">\n",
              "      <th></th>\n",
              "      <th>id</th>\n",
              "      <th>title</th>\n",
              "      <th>body</th>\n",
              "    </tr>\n",
              "  </thead>\n",
              "  <tbody>\n",
              "    <tr>\n",
              "      <th>0</th>\n",
              "      <td>236bd666a76213bc131969e1d5b66e410fc1cd45</td>\n",
              "      <td>MINI REVIEW Acute Phase Proteins in Marine Mam...</td>\n",
              "      <td>[{'text': 'The mammalian immune system include...</td>\n",
              "    </tr>\n",
              "    <tr>\n",
              "      <th>1</th>\n",
              "      <td>14374db205f6934d9cba148624462000bc6ec7be</td>\n",
              "      <td>Antibody Treatment against Angiopoietin-Like 4...</td>\n",
              "      <td>[{'text': 'IMPORTANCE Despite extensive global...</td>\n",
              "    </tr>\n",
              "    <tr>\n",
              "      <th>2</th>\n",
              "      <td>af678e8cd31d74cdb2d690addc19d59dca331f2b</td>\n",
              "      <td>Quantifying the seasonal drivers of transmissi...</td>\n",
              "      <td>[{'text': \"Growing human population, urbanizat...</td>\n",
              "    </tr>\n",
              "    <tr>\n",
              "      <th>3</th>\n",
              "      <td>42b049c2b5b32c094dc8b10f967e43ac2169b890</td>\n",
              "      <td>Evaluation of the influenza-like illness surve...</td>\n",
              "      <td>[{'text': 'the first evaluation of the Tunisia...</td>\n",
              "    </tr>\n",
              "    <tr>\n",
              "      <th>4</th>\n",
              "      <td>1664a9df618ca74e099245a2bd65f3172aeac284</td>\n",
              "      <td>empty</td>\n",
              "      <td>[{'text': 'Worldwide, lung cancer remains the ...</td>\n",
              "    </tr>\n",
              "  </tbody>\n",
              "</table>\n",
              "</div>"
            ],
            "text/plain": [
              "                                         id  ...                                               body\n",
              "0  236bd666a76213bc131969e1d5b66e410fc1cd45  ...  [{'text': 'The mammalian immune system include...\n",
              "1  14374db205f6934d9cba148624462000bc6ec7be  ...  [{'text': 'IMPORTANCE Despite extensive global...\n",
              "2  af678e8cd31d74cdb2d690addc19d59dca331f2b  ...  [{'text': \"Growing human population, urbanizat...\n",
              "3  42b049c2b5b32c094dc8b10f967e43ac2169b890  ...  [{'text': 'the first evaluation of the Tunisia...\n",
              "4  1664a9df618ca74e099245a2bd65f3172aeac284  ...  [{'text': 'Worldwide, lung cancer remains the ...\n",
              "\n",
              "[5 rows x 3 columns]"
            ]
          },
          "metadata": {
            "tags": []
          },
          "execution_count": 3
        }
      ]
    },
    {
      "cell_type": "markdown",
      "metadata": {
        "id": "ace6Uewe7HYX"
      },
      "source": [
        "Remove some of the special characters, such as [, { , ' , : and some words form json like 'text'."
      ]
    },
    {
      "cell_type": "code",
      "metadata": {
        "id": "9YQZXAwZ36Q7"
      },
      "source": [
        "def removeCharacters(x):\r\n",
        "  x = x.str.replace(r'\\'text\\'', '')\r\n",
        "  x = x.str.replace(r'\\'start\\'', '')\r\n",
        "  x = x.str.replace(r'\\'end\\'', '')\r\n",
        "  x = x.str.replace(r'[{}]', '')\r\n",
        "  x = x.str.replace(r'[<>]', '')\r\n",
        "  x = x.str.replace(r'[\\[\\]]', '')\r\n",
        "  x = x.str.replace(r'[\"]', '')\r\n",
        "  x = x.str.replace(r'[\\']', '')\r\n",
        "  x = x.str.replace(r'[:]', '')\r\n",
        "  x = x.str.replace(r'[()]', '')\r\n",
        "  x = x.str.replace(r'[?]', '')\r\n",
        "  return x"
      ],
      "execution_count": 4,
      "outputs": []
    },
    {
      "cell_type": "code",
      "metadata": {
        "id": "TSEosfCi3Eyk"
      },
      "source": [
        "dataset_df['body'] = removeCharacters(dataset_df['body'])"
      ],
      "execution_count": 5,
      "outputs": []
    },
    {
      "cell_type": "markdown",
      "metadata": {
        "id": "iFXBu3TJ7oVv"
      },
      "source": [
        "Remove all the uppercase letters from title and body"
      ]
    },
    {
      "cell_type": "code",
      "metadata": {
        "id": "lLj8oa3G0WOO"
      },
      "source": [
        "dataset_df['body'] = dataset_df['body'].apply(lambda x: x.lower())"
      ],
      "execution_count": 6,
      "outputs": []
    },
    {
      "cell_type": "markdown",
      "metadata": {
        "id": "SVNhJaYx72ie"
      },
      "source": [
        "**Dataframe after the preprocess**"
      ]
    },
    {
      "cell_type": "code",
      "metadata": {
        "id": "gPqJJQft1xP_",
        "colab": {
          "base_uri": "https://localhost:8080/",
          "height": 202
        },
        "outputId": "f3800ff2-baba-4de0-b0be-71d9cc68db96"
      },
      "source": [
        "dataset_df.head(5)"
      ],
      "execution_count": 7,
      "outputs": [
        {
          "output_type": "execute_result",
          "data": {
            "text/html": [
              "<div>\n",
              "<style scoped>\n",
              "    .dataframe tbody tr th:only-of-type {\n",
              "        vertical-align: middle;\n",
              "    }\n",
              "\n",
              "    .dataframe tbody tr th {\n",
              "        vertical-align: top;\n",
              "    }\n",
              "\n",
              "    .dataframe thead th {\n",
              "        text-align: right;\n",
              "    }\n",
              "</style>\n",
              "<table border=\"1\" class=\"dataframe\">\n",
              "  <thead>\n",
              "    <tr style=\"text-align: right;\">\n",
              "      <th></th>\n",
              "      <th>id</th>\n",
              "      <th>title</th>\n",
              "      <th>body</th>\n",
              "    </tr>\n",
              "  </thead>\n",
              "  <tbody>\n",
              "    <tr>\n",
              "      <th>0</th>\n",
              "      <td>236bd666a76213bc131969e1d5b66e410fc1cd45</td>\n",
              "      <td>MINI REVIEW Acute Phase Proteins in Marine Mam...</td>\n",
              "      <td>the mammalian immune system includes innate o...</td>\n",
              "    </tr>\n",
              "    <tr>\n",
              "      <th>1</th>\n",
              "      <td>14374db205f6934d9cba148624462000bc6ec7be</td>\n",
              "      <td>Antibody Treatment against Angiopoietin-Like 4...</td>\n",
              "      <td>importance despite extensive global efforts, ...</td>\n",
              "    </tr>\n",
              "    <tr>\n",
              "      <th>2</th>\n",
              "      <td>af678e8cd31d74cdb2d690addc19d59dca331f2b</td>\n",
              "      <td>Quantifying the seasonal drivers of transmissi...</td>\n",
              "      <td>growing human population, urbanization and gl...</td>\n",
              "    </tr>\n",
              "    <tr>\n",
              "      <th>3</th>\n",
              "      <td>42b049c2b5b32c094dc8b10f967e43ac2169b890</td>\n",
              "      <td>Evaluation of the influenza-like illness surve...</td>\n",
              "      <td>the first evaluation of the tunisian influenz...</td>\n",
              "    </tr>\n",
              "    <tr>\n",
              "      <th>4</th>\n",
              "      <td>1664a9df618ca74e099245a2bd65f3172aeac284</td>\n",
              "      <td>empty</td>\n",
              "      <td>worldwide, lung cancer remains the most frequ...</td>\n",
              "    </tr>\n",
              "  </tbody>\n",
              "</table>\n",
              "</div>"
            ],
            "text/plain": [
              "                                         id  ...                                               body\n",
              "0  236bd666a76213bc131969e1d5b66e410fc1cd45  ...   the mammalian immune system includes innate o...\n",
              "1  14374db205f6934d9cba148624462000bc6ec7be  ...   importance despite extensive global efforts, ...\n",
              "2  af678e8cd31d74cdb2d690addc19d59dca331f2b  ...   growing human population, urbanization and gl...\n",
              "3  42b049c2b5b32c094dc8b10f967e43ac2169b890  ...   the first evaluation of the tunisian influenz...\n",
              "4  1664a9df618ca74e099245a2bd65f3172aeac284  ...   worldwide, lung cancer remains the most frequ...\n",
              "\n",
              "[5 rows x 3 columns]"
            ]
          },
          "metadata": {
            "tags": []
          },
          "execution_count": 7
        }
      ]
    },
    {
      "cell_type": "code",
      "metadata": {
        "id": "ez34v_Bockvu"
      },
      "source": [
        "%%capture\r\n",
        "!pip install transformers"
      ],
      "execution_count": null,
      "outputs": []
    },
    {
      "cell_type": "code",
      "metadata": {
        "id": "Ii7T7CTmZG_z"
      },
      "source": [
        "%%capture\r\n",
        "!pip install sentence-transformers"
      ],
      "execution_count": 7,
      "outputs": []
    },
    {
      "cell_type": "code",
      "metadata": {
        "colab": {
          "base_uri": "https://localhost:8080/"
        },
        "id": "zIt22mNknCAN",
        "outputId": "3a756510-3742-4589-9cda-32ea41a12713"
      },
      "source": [
        "import torch\r\n",
        "# First checking if GPU is available\r\n",
        "train_on_gpu=torch.cuda.is_available()\r\n",
        "\r\n",
        "if(train_on_gpu):\r\n",
        "    print('Training on GPU.')\r\n",
        "    device = 'cuda'\r\n",
        "else:\r\n",
        "    print('No GPU available, training on CPU.')\r\n",
        "    device = 'cpu'"
      ],
      "execution_count": 8,
      "outputs": [
        {
          "output_type": "stream",
          "text": [
            "Training on GPU.\n"
          ],
          "name": "stdout"
        }
      ]
    },
    {
      "cell_type": "markdown",
      "metadata": {
        "id": "5SkWJaK676jq"
      },
      "source": [
        "## Questions"
      ]
    },
    {
      "cell_type": "code",
      "metadata": {
        "id": "8QSm-Z7E7535"
      },
      "source": [
        "questions =  [\r\n",
        "                  \"What are the coronoviruses?\",\r\n",
        "                  \"What was discovered in Wuhuan in December 2019?\",\r\n",
        "                  \"What is Coronovirus Disease 2019?\",\r\n",
        "                  \"What is COVID-19?\",\r\n",
        "                  \"What is caused by SARS-COV2?\",\r\n",
        "                  \"How is COVID-19 spread?\",\r\n",
        "                  \"Where was COVID-19 discovered?\",\r\n",
        "                  \"How does coronavirus spread?\",\r\n",
        "              ]\r\n",
        "\r\n",
        "myquestions = [\r\n",
        "                  \"What are the symptoms of COVID-19?\",\r\n",
        "                  \"How fast is COVID-19 spread?\",\r\n",
        "                  \"What are the precautionary measures for COVID-19?\",\r\n",
        "                  \"What are the symptoms of coronavirus?\",\r\n",
        "              ]"
      ],
      "execution_count": 9,
      "outputs": []
    },
    {
      "cell_type": "markdown",
      "metadata": {
        "id": "kCnCjG_4FH6w"
      },
      "source": [
        "## Create the list of sentences\r\n",
        "\r\n"
      ]
    },
    {
      "cell_type": "code",
      "metadata": {
        "colab": {
          "base_uri": "https://localhost:8080/"
        },
        "id": "eCCiwa-vFWbI",
        "outputId": "24b17972-0524-439f-f883-1d255869207f"
      },
      "source": [
        "import nltk\r\n",
        "from nltk import tokenize\r\n",
        "nltk.download('punkt')\r\n",
        "\r\n",
        "ListOfBodies = dataset_df['body'].apply(lambda x: tokenize.sent_tokenize(x))"
      ],
      "execution_count": 10,
      "outputs": [
        {
          "output_type": "stream",
          "text": [
            "[nltk_data] Downloading package punkt to /root/nltk_data...\n",
            "[nltk_data]   Package punkt is already up-to-date!\n"
          ],
          "name": "stdout"
        }
      ]
    },
    {
      "cell_type": "markdown",
      "metadata": {
        "id": "RUmlz-0HFlrQ"
      },
      "source": [
        "## Usefull functions for the models"
      ]
    },
    {
      "cell_type": "code",
      "metadata": {
        "id": "L6IYr56uFl7e"
      },
      "source": [
        "import numpy as np\r\n",
        "from sklearn.metrics.pairwise import cosine_similarity\r\n",
        "\r\n",
        "def most_similar(sentences, embeddings, query_embedding, k = 1):\r\n",
        "    X = np.stack(embeddings)\r\n",
        "    score_map = zip(sentences, cosine_similarity(X, query_embedding.reshape(1, -1)))\r\n",
        "    return sorted(score_map, key=lambda v: v[1], reverse=True)[:k]"
      ],
      "execution_count": 11,
      "outputs": []
    },
    {
      "cell_type": "code",
      "metadata": {
        "id": "KY6BmUj--Aav"
      },
      "source": [
        "def ask_question(model,question,ListOfSentences,sentence_embeddings,dataset_df):\r\n",
        "  query_vec = model.encode([question])[0]\r\n",
        "  similar = most_similar(ListOfSentences,sentence_embeddings,query_vec)\r\n",
        "  row = dataset_df[dataset_df['body'].str.contains(similar[0][0])]\r\n",
        "  title = row['title'].tolist()[0]\r\n",
        "  text = similar[0][0]\r\n",
        "\r\n",
        "  return title,text"
      ],
      "execution_count": 12,
      "outputs": []
    },
    {
      "cell_type": "code",
      "metadata": {
        "id": "tNy5I8Hp-CLD"
      },
      "source": [
        "from termcolor import colored\r\n",
        "\r\n",
        "def print_answer(question,title,text):\r\n",
        "\r\n",
        "  print(colored(\"Question : \",attrs=['bold']),question)\r\n",
        "  print(\"\\n\")\r\n",
        "  print(colored(\"Title : \",attrs=['bold']),title)\r\n",
        "  print(\"\\n\")\r\n",
        "  print(colored(\"Text : \",attrs=['bold']),text)\r\n",
        "  print(\"\\n\")"
      ],
      "execution_count": 11,
      "outputs": []
    },
    {
      "cell_type": "markdown",
      "metadata": {
        "id": "3GylXNd8qpxt"
      },
      "source": [
        "## Step 2.a - First sentence embedding approach"
      ]
    },
    {
      "cell_type": "markdown",
      "metadata": {
        "id": "X67jFz8cIgOK"
      },
      "source": [
        "### SBERT Model"
      ]
    },
    {
      "cell_type": "markdown",
      "metadata": {
        "id": "zvT01qEtIs9k"
      },
      "source": [
        "Uses Sentence-BERT (SBERT), a modification of the BERT network using siamese and triplet networks that is able to derive semantically meaningful sentence embeddings. This allows more efficient semantic search, which is utilized in the following application.\r\n",
        "\r\n",
        "The siamese network architecture enables that fixed-sized vectors for input sentences can be derived. Using a similarity measure like cosine similarity or Manhatten / Euclidean distance, semantically similar sentences can be found. Cosine similarity is used in this work.\r\n",
        "\r\n",
        "SBERT fine tuned on NLI data which creates SOTA sentence embeddings, as reported in the [SBERT paper](https://arxiv.org/pdf/1908.10084.pdf).\r\n",
        "\r\n",
        "SBERT Framework example\r\n",
        "\r\n",
        "<img src=\"https://combine.se/wp-content/uploads/2019/09/3.png\" alt=\"Cord-19\" width=\"300\"/>"
      ]
    },
    {
      "cell_type": "code",
      "metadata": {
        "id": "CSqzKlSxFITl"
      },
      "source": [
        "ListOfSentences = []\r\n",
        "numOfArticles = 0\r\n",
        "for text in ListOfBodies:\r\n",
        "  ListOfSentences += text\r\n",
        "  numOfArticles+=1\r\n",
        "  if(numOfArticles == 4000):\r\n",
        "    break"
      ],
      "execution_count": 14,
      "outputs": []
    },
    {
      "cell_type": "code",
      "metadata": {
        "id": "xb_H5FDgT5oW",
        "colab": {
          "base_uri": "https://localhost:8080/"
        },
        "outputId": "c183779a-8d84-4ee3-ea25-34b9e8b12b84"
      },
      "source": [
        "import torch\r\n",
        "from sentence_transformers import SentenceTransformer\r\n",
        "\r\n",
        "sbert_model = SentenceTransformer('bert-base-nli-mean-tokens',device=device)"
      ],
      "execution_count": 15,
      "outputs": [
        {
          "output_type": "stream",
          "text": [
            "100%|██████████| 405M/405M [00:15<00:00, 26.5MB/s]\n"
          ],
          "name": "stderr"
        }
      ]
    },
    {
      "cell_type": "code",
      "metadata": {
        "id": "0nTaYmUq9HrT",
        "colab": {
          "base_uri": "https://localhost:8080/"
        },
        "outputId": "9aba194e-b691-4841-c5fe-dee5a0bff333"
      },
      "source": [
        "import time\r\n",
        "\r\n",
        "start_time = time.time()\r\n",
        "\r\n",
        "sentence_embeddings = sbert_model.encode(ListOfSentences,device=device)\r\n",
        "\r\n",
        "print(\"-------------------------------------------------------------------------\\n\")\r\n",
        "print(\"Time: %s seconds\" % (time.time() - start_time))\r\n",
        "print(\"-------------------------------------------------------------------------\\n\")"
      ],
      "execution_count": 16,
      "outputs": [
        {
          "output_type": "stream",
          "text": [
            "-------------------------------------------------------------------------\n",
            "\n",
            "Time: 2843.639807701111 seconds\n",
            "-------------------------------------------------------------------------\n",
            "\n"
          ],
          "name": "stdout"
        }
      ]
    },
    {
      "cell_type": "code",
      "metadata": {
        "id": "6Kx7ME_G7Jcn",
        "outputId": "1822ebad-e782-4ece-9095-7ab997c0bd00",
        "colab": {
          "base_uri": "https://localhost:8080/"
        }
      },
      "source": [
        "for question in questions: \r\n",
        "  title,text = ask_question(sbert_model,question,ListOfSentences,sentence_embeddings,dataset_df)\r\n",
        "  print(\"-------------------------------------------------------------------------\\n\")\r\n",
        "  print_answer(question, title, text)"
      ],
      "execution_count": 17,
      "outputs": [
        {
          "output_type": "stream",
          "text": [
            "-------------------------------------------------------------------------\n",
            "\n",
            "\u001b[1mQuestion : \u001b[0m What are the coronoviruses?\n",
            "\n",
            "\n",
            "\u001b[1mTitle : \u001b[0m A viral metagenomic survey identifies known and novel mammalian viruses in bats from Saudi Arabia\n",
            "\n",
            "\n",
            "\u001b[1mText : \u001b[0m c parechoviruses.\n",
            "\n",
            "\n",
            "-------------------------------------------------------------------------\n",
            "\n",
            "\u001b[1mQuestion : \u001b[0m What was discovered in Wuhuan in December 2019?\n",
            "\n",
            "\n",
            "\u001b[1mTitle : \u001b[0m Old World camels in a modern world -a balancing act between conservation and genetic improvement\n",
            "\n",
            "\n",
            "\u001b[1mText : \u001b[0m the photoperiod nagy & juhasz 2019 .\n",
            "\n",
            "\n",
            "-------------------------------------------------------------------------\n",
            "\n",
            "\u001b[1mQuestion : \u001b[0m What is Coronovirus Disease 2019?\n",
            "\n",
            "\n",
            "\u001b[1mTitle : \u001b[0m Estimated effectiveness of symptom and risk screening to prevent the spread of COVID-19\n",
            "\n",
            "\n",
            "\u001b[1mText : \u001b[0m hcov-19 has been proposed as an alternate name for the virus; jiang et al., 2020 .\n",
            "\n",
            "\n",
            "-------------------------------------------------------------------------\n",
            "\n",
            "\u001b[1mQuestion : \u001b[0m What is COVID-19?\n",
            "\n",
            "\n",
            "\u001b[1mTitle : \u001b[0m Alignment-free method for DNA sequence clustering using Fuzzy integral similarity ROC_supplementary material Explanation\n",
            "\n",
            "\n",
            "\u001b[1mText : \u001b[0m figure 19  our method.\n",
            "\n",
            "\n",
            "-------------------------------------------------------------------------\n",
            "\n",
            "\u001b[1mQuestion : \u001b[0m What is caused by SARS-COV2?\n",
            "\n",
            "\n",
            "\u001b[1mTitle : \u001b[0m Nosocomial Transmission of Emerging Viruses via Aerosol-Generating Medical Procedures\n",
            "\n",
            "\n",
            "\u001b[1mText : \u001b[0m the former was used to assess the risk of agmps and sars-cov transmission 11 .\n",
            "\n",
            "\n",
            "-------------------------------------------------------------------------\n",
            "\n",
            "\u001b[1mQuestion : \u001b[0m How is COVID-19 spread?\n",
            "\n",
            "\n",
            "\u001b[1mTitle : \u001b[0m Alignment-free method for DNA sequence clustering using Fuzzy integral similarity ROC_supplementary material Explanation\n",
            "\n",
            "\n",
            "\u001b[1mText : \u001b[0m figure 19  our method.\n",
            "\n",
            "\n",
            "-------------------------------------------------------------------------\n",
            "\n",
            "\u001b[1mQuestion : \u001b[0m Where was COVID-19 discovered?\n",
            "\n",
            "\n",
            "\u001b[1mTitle : \u001b[0m Nucleocapsid protein-dependent assembly of the RNA packaging signal of Middle East respiratory syndrome coronavirus\n",
            "\n",
            "\n",
            "\u001b[1mText : \u001b[0m plasmid pegfp-n1-ps580 has been previously described 19 .\n",
            "\n",
            "\n",
            "-------------------------------------------------------------------------\n",
            "\n",
            "\u001b[1mQuestion : \u001b[0m How does coronavirus spread?\n",
            "\n",
            "\n",
            "\u001b[1mTitle : \u001b[0m Estimation of basic reproduction number of the Middle East respiratory syndrome coronavirus (MERS-CoV) during the outbreak in South Korea, 2015\n",
            "\n",
            "\n",
            "\u001b[1mText : \u001b[0m  the middle east respiratory syndrome mers is caused by a coronavirus cov, the mers-cov.\n",
            "\n",
            "\n"
          ],
          "name": "stdout"
        }
      ]
    },
    {
      "cell_type": "code",
      "metadata": {
        "id": "bSJoLmbr7Kpb",
        "outputId": "563605f4-029a-4eca-9cd4-d183ea2b3c21",
        "colab": {
          "base_uri": "https://localhost:8080/"
        }
      },
      "source": [
        "for question in myquestions: \r\n",
        "  title,text = ask_question(sbert_model,question,ListOfSentences,sentence_embeddings,dataset_df)\r\n",
        "  print(\"-------------------------------------------------------------------------\\n\")\r\n",
        "  print_answer(question, title, text)"
      ],
      "execution_count": 18,
      "outputs": [
        {
          "output_type": "stream",
          "text": [
            "-------------------------------------------------------------------------\n",
            "\n",
            "\u001b[1mQuestion : \u001b[0m What are the symptoms of COVID-19?\n",
            "\n",
            "\n",
            "\u001b[1mTitle : \u001b[0m B38-CAP is a bacteria-derived ACE2-like enzyme that suppresses hypertension and cardiac dysfunction\n",
            "\n",
            "\n",
            "\u001b[1mText : \u001b[0m to examine the effects of a779 on b38-cap hypotensive action  fig.\n",
            "\n",
            "\n",
            "-------------------------------------------------------------------------\n",
            "\n",
            "\u001b[1mQuestion : \u001b[0m How fast is COVID-19 spread?\n",
            "\n",
            "\n",
            "\u001b[1mTitle : \u001b[0m Mechanical unfolding kinetics of the SRV-1 gag-pro mRNA pseudoknot: possible implications for −1 ribosomal frameshifting stimulation OPEN\n",
            "\n",
            "\n",
            "\u001b[1mText : \u001b[0m the first step corresponds to fast and reversible transition between single-stranded and intermediate states with about 6-7 nm extension change  fig.\n",
            "\n",
            "\n",
            "-------------------------------------------------------------------------\n",
            "\n",
            "\u001b[1mQuestion : \u001b[0m What are the precautionary measures for COVID-19?\n",
            "\n",
            "\n",
            "\u001b[1mTitle : \u001b[0m Molecular Diagnosis of Pneumonia Using Multiplex Real-Time PCR Assay RespiFinder ® SMART 22 FAST in a Group of Moroccan Infants\n",
            "\n",
            "\n",
            "\u001b[1mText : \u001b[0m erefore, their precise diagnosis is necessary 19 .\n",
            "\n",
            "\n",
            "-------------------------------------------------------------------------\n",
            "\n",
            "\u001b[1mQuestion : \u001b[0m What are the symptoms of coronavirus?\n",
            "\n",
            "\n",
            "\u001b[1mTitle : \u001b[0m Estimation of basic reproduction number of the Middle East respiratory syndrome coronavirus (MERS-CoV) during the outbreak in South Korea, 2015\n",
            "\n",
            "\n",
            "\u001b[1mText : \u001b[0m  the middle east respiratory syndrome mers is caused by a coronavirus cov, the mers-cov.\n",
            "\n",
            "\n"
          ],
          "name": "stdout"
        }
      ]
    },
    {
      "cell_type": "markdown",
      "metadata": {
        "id": "BBM49ohgnxZ8"
      },
      "source": [
        ""
      ]
    },
    {
      "cell_type": "code",
      "metadata": {
        "id": "j4Y4PWC2njBM"
      },
      "source": [
        "ListOfSentences = []\r\n",
        "numOfArticles = 0\r\n",
        "for text in ListOfBodies:\r\n",
        "  ListOfSentences += text\r\n",
        "  numOfArticles+=1\r\n",
        "  if(numOfArticles == 4000):\r\n",
        "    break"
      ],
      "execution_count": null,
      "outputs": []
    },
    {
      "cell_type": "code",
      "metadata": {
        "colab": {
          "base_uri": "https://localhost:8080/"
        },
        "id": "4UtOSErMnjBZ",
        "outputId": "61933707-9641-4418-f002-3fc6490b6f7f"
      },
      "source": [
        "import torch\r\n",
        "from transformers import BertModel\r\n",
        "\r\n",
        "bert_model = BertModel.from_pretrained('bert-large-uncased-whole-word-masking-finetuned-squad',device=device)"
      ],
      "execution_count": null,
      "outputs": [
        {
          "output_type": "stream",
          "text": [
            "100%|██████████| 405M/405M [00:14<00:00, 27.7MB/s]\n"
          ],
          "name": "stderr"
        }
      ]
    },
    {
      "cell_type": "code",
      "metadata": {
        "colab": {
          "base_uri": "https://localhost:8080/"
        },
        "id": "kByRxb-UnjBa",
        "outputId": "268f2cb6-77ec-4506-ee1d-1c1101ef2015"
      },
      "source": [
        "import time\r\n",
        "\r\n",
        "start_time = time.time()\r\n",
        "\r\n",
        "sentence_embeddings = bert_model.encode(ListOfSentences,device=device)\r\n",
        "\r\n",
        "for question in questions: \r\n",
        "  title,text = ask_question(bert_model,question,ListOfSentences,sentence_embeddings,dataset_df)\r\n",
        "  print(\"-------------------------------------------------------------------------\\n\")\r\n",
        "  print_answer(question, title, text)\r\n",
        "\r\n",
        "print(\"-------------------------------------------------------------------------\\n\")\r\n",
        "print(\"Time: %s seconds\" % (time.time() - start_time))"
      ],
      "execution_count": null,
      "outputs": [
        {
          "output_type": "stream",
          "text": [
            "-------------------------------------------------------------------------\n",
            "\n",
            "\u001b[1mQuestion : \u001b[0m What are the coronoviruses?\n",
            "\n",
            "\n",
            "\u001b[1mTitle : \u001b[0m A viral metagenomic survey identifies known and novel mammalian viruses in bats from Saudi Arabia\n",
            "\n",
            "\n",
            "\u001b[1mText : \u001b[0m c parechoviruses.\n",
            "\n",
            "\n",
            "-------------------------------------------------------------------------\n",
            "\n",
            "\u001b[1mQuestion : \u001b[0m What was discovered in Wuhuan in December 2019?\n",
            "\n",
            "\n",
            "\u001b[1mTitle : \u001b[0m Old World camels in a modern world -a balancing act between conservation and genetic improvement\n",
            "\n",
            "\n",
            "\u001b[1mText : \u001b[0m the photoperiod nagy & juhasz 2019 .\n",
            "\n",
            "\n",
            "-------------------------------------------------------------------------\n",
            "\n",
            "\u001b[1mQuestion : \u001b[0m What is Coronovirus Disease 2019?\n",
            "\n",
            "\n",
            "\u001b[1mTitle : \u001b[0m Estimated effectiveness of symptom and risk screening to prevent the spread of COVID-19\n",
            "\n",
            "\n",
            "\u001b[1mText : \u001b[0m hcov-19 has been proposed as an alternate name for the virus; jiang et al., 2020 .\n",
            "\n",
            "\n",
            "-------------------------------------------------------------------------\n",
            "\n",
            "\u001b[1mQuestion : \u001b[0m What is COVID-19?\n",
            "\n",
            "\n",
            "\u001b[1mTitle : \u001b[0m Alignment-free method for DNA sequence clustering using Fuzzy integral similarity ROC_supplementary material Explanation\n",
            "\n",
            "\n",
            "\u001b[1mText : \u001b[0m figure 19  our method.\n",
            "\n",
            "\n",
            "-------------------------------------------------------------------------\n",
            "\n",
            "\u001b[1mQuestion : \u001b[0m What is caused by SARS-COV2?\n",
            "\n",
            "\n",
            "\u001b[1mTitle : \u001b[0m Nosocomial Transmission of Emerging Viruses via Aerosol-Generating Medical Procedures\n",
            "\n",
            "\n",
            "\u001b[1mText : \u001b[0m the former was used to assess the risk of agmps and sars-cov transmission 11 .\n",
            "\n",
            "\n",
            "-------------------------------------------------------------------------\n",
            "\n",
            "\u001b[1mQuestion : \u001b[0m How is COVID-19 spread?\n",
            "\n",
            "\n",
            "\u001b[1mTitle : \u001b[0m Alignment-free method for DNA sequence clustering using Fuzzy integral similarity ROC_supplementary material Explanation\n",
            "\n",
            "\n",
            "\u001b[1mText : \u001b[0m figure 19  our method.\n",
            "\n",
            "\n",
            "-------------------------------------------------------------------------\n",
            "\n",
            "\u001b[1mQuestion : \u001b[0m Where was COVID-19 discovered?\n",
            "\n",
            "\n",
            "\u001b[1mTitle : \u001b[0m Nucleocapsid protein-dependent assembly of the RNA packaging signal of Middle East respiratory syndrome coronavirus\n",
            "\n",
            "\n",
            "\u001b[1mText : \u001b[0m plasmid pegfp-n1-ps580 has been previously described 19 .\n",
            "\n",
            "\n",
            "-------------------------------------------------------------------------\n",
            "\n",
            "\u001b[1mQuestion : \u001b[0m How does coronavirus spread?\n",
            "\n",
            "\n",
            "\u001b[1mTitle : \u001b[0m Estimation of basic reproduction number of the Middle East respiratory syndrome coronavirus (MERS-CoV) during the outbreak in South Korea, 2015\n",
            "\n",
            "\n",
            "\u001b[1mText : \u001b[0m  the middle east respiratory syndrome mers is caused by a coronavirus cov, the mers-cov.\n",
            "\n",
            "\n",
            "-------------------------------------------------------------------------\n",
            "\n",
            "Time: 2970.1945104599 seconds\n"
          ],
          "name": "stdout"
        }
      ]
    },
    {
      "cell_type": "markdown",
      "metadata": {
        "id": "dVrg1Ba2q5p0"
      },
      "source": [
        "## Step 2.b - Second sentence embedding approach"
      ]
    },
    {
      "cell_type": "markdown",
      "metadata": {
        "id": "edptFiB3USfe"
      },
      "source": [
        "### InferSent Model "
      ]
    },
    {
      "cell_type": "markdown",
      "metadata": {
        "id": "1ID0sNizUtI8"
      },
      "source": [
        "InferSent is a sentence embeddings method that provides semantic representations for English sentences. It is trained on natural language inference data and generalizes well to many different tasks. Just like SentenceBERT, we take a pair of sentences and encode them to generate the actual sentence embeddings. Then, extract the relations between these embeddings using:\r\n",
        "\r\n",
        "* concatenation\r\n",
        "* element-wise product\r\n",
        "* absolute element-wise difference.\r\n",
        "\r\n",
        "<img src=\"https://miro.medium.com/max/972/1*efWq1UrOcGy2E-34OxsBHQ.png\" alt=\"InferSent\" width=\"300\"/>"
      ]
    },
    {
      "cell_type": "code",
      "metadata": {
        "colab": {
          "base_uri": "https://localhost:8080/"
        },
        "id": "7VyWhhZAEW0j",
        "outputId": "b8f5cca4-6ca2-4eda-ff8d-3227473db725"
      },
      "source": [
        "! mkdir encoder\r\n",
        "! curl -Lo encoder/infersent2.pkl https://dl.fbaipublicfiles.com/infersent/infersent2.pkl\r\n",
        "  \r\n",
        "! mkdir GloVe\r\n",
        "! curl -Lo GloVe/glove.840B.300d.zip http://nlp.stanford.edu/data/glove.840B.300d.zip\r\n",
        "! unzip GloVe/glove.840B.300d.zip -d GloVe/"
      ],
      "execution_count": 13,
      "outputs": [
        {
          "output_type": "stream",
          "text": [
            "  % Total    % Received % Xferd  Average Speed   Time    Time     Time  Current\n",
            "                                 Dload  Upload   Total   Spent    Left  Speed\n",
            "100  146M  100  146M    0     0  71.5M      0  0:00:02  0:00:02 --:--:-- 71.5M\n",
            "  % Total    % Received % Xferd  Average Speed   Time    Time     Time  Current\n",
            "                                 Dload  Upload   Total   Spent    Left  Speed\n",
            "  0   315    0     0    0     0      0      0 --:--:-- --:--:-- --:--:--     0\n",
            "  0   352    0     0    0     0      0      0 --:--:-- --:--:-- --:--:--     0\n",
            "100 2075M  100 2075M    0     0  2044k      0  0:17:19  0:17:19 --:--:-- 2582k\n",
            "Archive:  GloVe/glove.840B.300d.zip\n",
            "  inflating: GloVe/glove.840B.300d.txt  \n"
          ],
          "name": "stdout"
        }
      ]
    },
    {
      "cell_type": "code",
      "metadata": {
        "id": "sLyEMksVr7V_",
        "outputId": "4ed69665-ebc4-42dc-e1d3-6b73f90c1fd3",
        "colab": {
          "base_uri": "https://localhost:8080/"
        }
      },
      "source": [
        "drive.mount('/content/drive',force_remount=True)\r\n",
        "sys.path.append('/content/drive/My Drive/')\r\n",
        "!cp -r \"/content/drive/My Drive/models.py\" '/content/'"
      ],
      "execution_count": 14,
      "outputs": [
        {
          "output_type": "stream",
          "text": [
            "Mounted at /content/drive\n"
          ],
          "name": "stdout"
        }
      ]
    },
    {
      "cell_type": "code",
      "metadata": {
        "id": "AdD1_dKhDnpU"
      },
      "source": [
        "ListOfSentences = []\r\n",
        "numOfArticles = 0\r\n",
        "for text in ListOfBodies:\r\n",
        "  ListOfSentences += text\r\n",
        "  numOfArticles+=1\r\n",
        "  if(numOfArticles == 50):\r\n",
        "    break"
      ],
      "execution_count": 15,
      "outputs": []
    },
    {
      "cell_type": "code",
      "metadata": {
        "id": "WENjmLyhEa7s"
      },
      "source": [
        "import models\r\n",
        "from models import InferSent\r\n",
        "import torch \r\n",
        "\r\n",
        "V = 2\r\n",
        "MODEL_PATH = 'encoder/infersent%s.pkl' % V\r\n",
        "params_model = {'bsize': 64, 'word_emb_dim': 300, 'enc_lstm_dim': 2048,\r\n",
        "                'pool_type': 'max', 'dpout_model': 0.0, 'version': V}\r\n",
        "model = InferSent(params_model)\r\n",
        "model.load_state_dict(torch.load(MODEL_PATH))\r\n",
        "\r\n",
        "W2V_PATH = '/content/GloVe/glove.840B.300d.txt'\r\n",
        "model.set_w2v_path(W2V_PATH)"
      ],
      "execution_count": 16,
      "outputs": []
    },
    {
      "cell_type": "code",
      "metadata": {
        "id": "5puzY_qm5tGI"
      },
      "source": [
        "if(train_on_gpu):\r\n",
        "  model = model.cuda()"
      ],
      "execution_count": 17,
      "outputs": []
    },
    {
      "cell_type": "code",
      "metadata": {
        "id": "DMQvkMZUtxcl",
        "outputId": "20ea24b1-98db-4f87-bbf4-0ce9352218c7",
        "colab": {
          "base_uri": "https://localhost:8080/"
        }
      },
      "source": [
        "import time\r\n",
        "\r\n",
        "start_time = time.time()\r\n",
        "model.build_vocab(ListOfSentences, tokenize=True)\r\n",
        "\r\n",
        "InferSent_embeddings = []\r\n",
        "\r\n",
        "for sentence in ListOfSentences:\r\n",
        " InferSent_embeddings.append(model.encode(sentence)[0])\r\n",
        "\r\n",
        "for question in questions: \r\n",
        "  title,text = ask_question(model,question,ListOfSentences,InferSent_embeddings,dataset_df)\r\n",
        "  print(\"-------------------------------------------------------------------------\\n\")\r\n",
        "  print_answer(question, title, text)\r\n",
        "  \r\n",
        "print(\"-------------------------------------------------------------------------\\n\")\r\n",
        "print(\"Time: %s seconds \" % (time.time() - start_time))"
      ],
      "execution_count": null,
      "outputs": [
        {
          "output_type": "stream",
          "text": [
            "Found 22903(/33602) words with w2v vectors\n",
            "Vocab size : 22903\n"
          ],
          "name": "stdout"
        },
        {
          "output_type": "stream",
          "text": [
            "/content/models.py:207: VisibleDeprecationWarning: Creating an ndarray from ragged nested sequences (which is a list-or-tuple of lists-or-tuples-or ndarrays with different lengths or shapes) is deprecated. If you meant to do this, you must specify 'dtype=object' when creating the ndarray\n",
            "  sentences = np.array(sentences)[idx_sort]\n"
          ],
          "name": "stderr"
        }
      ]
    },
    {
      "cell_type": "markdown",
      "metadata": {
        "id": "hOoUb4l5nAoz"
      },
      "source": [
        "## Step 2.b - Third sentence embedding approach"
      ]
    },
    {
      "cell_type": "markdown",
      "metadata": {
        "id": "Q54n_kwJm0ji"
      },
      "source": [
        "### Doc2Vec"
      ]
    },
    {
      "cell_type": "markdown",
      "metadata": {
        "id": "RiIRdCLInc-W"
      },
      "source": [
        "Doc2vec is an unsupervised algorithm to generate vectors for sentence/paragraphs/documents. The algorithm is an adaptation of word2vec which can generate vectors for words. The vectors generated can be used for tasks like finding similarity between sentences/paragraphs/documents.\r\n",
        "\r\n",
        "<img src=\"https://miro.medium.com/max/972/0*x-gtU4UlO8FAsRvL.\" alt=\"InferSent\" width=\"400\"/>\r\n",
        "\r\n",
        "Εvery paragraph is mapped to a unique vector, represented by a column in matrix D and every word is also mapped to a unique vector, represented by a column in matrix W. The paragraph vector and word vectors are averaged or concatenated to predict the next word in a context. (This is for the above figure)"
      ]
    },
    {
      "cell_type": "code",
      "metadata": {
        "id": "IPVVpF_QS7h5"
      },
      "source": [
        "from nltk.tokenize import word_tokenize\r\n",
        "\r\n",
        "def Doc2Vec_ask_question(model, question, ListOfSentences,dataset_df):\r\n",
        "  test_doc = word_tokenize(question.lower())\r\n",
        "  test_doc_vector = model.infer_vector(test_doc)\r\n",
        "  similar = model.docvecs.most_similar(positive = [test_doc_vector])\r\n",
        "  text = ListOfSentences[similar[0][0]]\r\n",
        "  row = dataset_df[dataset_df['body'].str.contains(text)]\r\n",
        "  title = row['title'].tolist()[0]\r\n",
        "    \r\n",
        "  if not title or title == 'empty':\r\n",
        "    title = row['id'].tolist()[0]   \r\n",
        "  else: \r\n",
        "    title = row['title'].tolist()[0]\r\n",
        "\r\n",
        "  return title,text"
      ],
      "execution_count": 18,
      "outputs": []
    },
    {
      "cell_type": "code",
      "metadata": {
        "id": "-XwfadW9muSK"
      },
      "source": [
        "ListOfSentences = []\r\n",
        "numOfArticles = 0\r\n",
        "for text in ListOfBodies:\r\n",
        "  ListOfSentences += text\r\n",
        "  numOfArticles+=1\r\n",
        "  if(numOfArticles == 9000):\r\n",
        "    break"
      ],
      "execution_count": 20,
      "outputs": []
    },
    {
      "cell_type": "code",
      "metadata": {
        "id": "in-_Rg82ncb9",
        "colab": {
          "base_uri": "https://localhost:8080/"
        },
        "outputId": "56d3dab7-6d58-4fd4-e467-d3244adc5a5e"
      },
      "source": [
        "import time\r\n",
        "from gensim.models.doc2vec import Doc2Vec, TaggedDocument\r\n",
        "\r\n",
        "start_time = time.time()\r\n",
        "\r\n",
        "tagged_data = [TaggedDocument(d, [i]) for i, d in enumerate(ListOfSentences)]\r\n",
        "\r\n",
        "model = Doc2Vec(tagged_data, vector_size = 20, window = 2, min_count = 1)\r\n",
        "\r\n",
        "print(\"-------------------------------------------------------------------------\\n\")\r\n",
        "print(\"Time: %s seconds \" % (time.time() - start_time))\r\n",
        "print(\"-------------------------------------------------------------------------\\n\")"
      ],
      "execution_count": 21,
      "outputs": [
        {
          "output_type": "stream",
          "text": [
            "-------------------------------------------------------------------------\n",
            "\n",
            "Time: 1137.0766062736511 seconds \n",
            "-------------------------------------------------------------------------\n",
            "\n"
          ],
          "name": "stdout"
        }
      ]
    },
    {
      "cell_type": "code",
      "metadata": {
        "id": "LEF7duWU6w1N",
        "outputId": "5e551c16-f178-4b7c-d79a-6f02f9fb46f4",
        "colab": {
          "base_uri": "https://localhost:8080/"
        }
      },
      "source": [
        "for question in questions: \r\n",
        "  title,text = Doc2Vec_ask_question(model,question,ListOfSentences,dataset_df)\r\n",
        "  print(\"-------------------------------------------------------------------------\\n\")\r\n",
        "  print_answer(question,title,text)"
      ],
      "execution_count": 22,
      "outputs": [
        {
          "output_type": "stream",
          "text": [
            "-------------------------------------------------------------------------\n",
            "\n",
            "\u001b[1mQuestion : \u001b[0m What are the coronoviruses?\n",
            "\n",
            "\n",
            "\u001b[1mTitle : \u001b[0m Efficacy and synergy of live-attenuated and inactivated influenza vaccines in young chickens\n",
            "\n",
            "\n",
            "\u001b[1mText : \u001b[0m synergy between live-attenuated and inactivated influenza vaccines in chickens, cite_spans  1182,  1186,  32, ref_id bibref31, ref_spans  59,  76,  figs 1, 2 and 3, ref_id figref0,  292,  307,  fig 3a and 3c, ref_id figref2,  946,  953,  fig 4, ref_id figref3,  1632,  1639,  fig 4, ref_id figref3, section study 1 efficacy of live and inactivated vaccines in 1-day-old chickens,  in study 1, although the types and levels of adaptive immune responses induced in young birds appeared to depend on the type of vaccine used, neither of the two vaccines could provide full protection at 5 dpc.\n",
            "\n",
            "\n",
            "-------------------------------------------------------------------------\n",
            "\n",
            "\u001b[1mQuestion : \u001b[0m What was discovered in Wuhuan in December 2019?\n",
            "\n",
            "\n",
            "\u001b[1mTitle : \u001b[0m Gene Variations in Cis-Acting Elements between the Taiwan and Prototype Strains of Porcine Epidemic Diarrhea Virus Alter Viral Gene Expression\n",
            "\n",
            "\n",
            "\u001b[1mText : \u001b[0m the region downstream of the gene encoding the n protein shows variations among alphacoronaviruses, which may explain why the conserved counterpart of the betacoronavirus bsl structure 9, 10 could not be identified as a common structure in alphacoronaviruses 4 .\n",
            "\n",
            "\n",
            "-------------------------------------------------------------------------\n",
            "\n",
            "\u001b[1mQuestion : \u001b[0m What is Coronovirus Disease 2019?\n",
            "\n",
            "\n",
            "\u001b[1mTitle : \u001b[0m Ebola Virus Disease: Experience and Decision Making for the First Patients outside of Africa\n",
            "\n",
            "\n",
            "\u001b[1mText : \u001b[0m this included maxair powered air-purifying respirators paprs, fluid-resistant body suits along with cover aprons, double gloves and shoe covers, and wiping down all box 1. the scdu, cite_spans , ref_spans , section biosafety,  • the scdu was designed fig 1 to provide an extraordinarily high level of clinical isolation with more enhanced capacities than are normally provided to isolate patients in many hospital settings.\n",
            "\n",
            "\n",
            "-------------------------------------------------------------------------\n",
            "\n",
            "\u001b[1mQuestion : \u001b[0m What is COVID-19?\n",
            "\n",
            "\n",
            "\u001b[1mTitle : \u001b[0m Type I interferon regulates the expression of long non-coding RNAs\n",
            "\n",
            "\n",
            "\u001b[1mText : \u001b[0m in turn, tnfα also induces many lncrnas in fibroblasts, including lethe, a pseudogene that responds to nfκb and inhibits nfκb dna-binding activity leading to reduced inflammation 37 .\n",
            "\n",
            "\n",
            "-------------------------------------------------------------------------\n",
            "\n",
            "\u001b[1mQuestion : \u001b[0m What is caused by SARS-COV2?\n",
            "\n",
            "\n",
            "\u001b[1mTitle : \u001b[0m A flexibly shaped space-time scan statistic for disease outbreak detection and monitoring\n",
            "\n",
            "\n",
            "\u001b[1mText : \u001b[0m however, it should be noted that standard statistical power reflect the power to reject the null hypothesis for whatever reasons, while the probability of both rejecting the null hypothesis and accurately identifying the true cluster is a different matter altogether., cite_spans , ref_spans , section space-time power distribution,  in order to compare the performance of purely spatial cluster detection tests, tango and takahashi 16 proposed a spatial bivariate power distribution p 0 l, s | s* based on monte carlo simulation where l is the length of the significant mlc, while s is the number of regions identified out of the true cluster with s* regions.\n",
            "\n",
            "\n",
            "-------------------------------------------------------------------------\n",
            "\n",
            "\u001b[1mQuestion : \u001b[0m How is COVID-19 spread?\n",
            "\n",
            "\n",
            "\u001b[1mTitle : \u001b[0m Supplementary Information Mechanisms for lyssavirus persistence in non-synanthropic bats in Europe: insights from a modeling study\n",
            "\n",
            "\n",
            "\u001b[1mText : \u001b[0m in castanya and the compartment !\n",
            "\n",
            "\n",
            "-------------------------------------------------------------------------\n",
            "\n",
            "\u001b[1mQuestion : \u001b[0m Where was COVID-19 discovered?\n",
            "\n",
            "\n",
            "\u001b[1mTitle : \u001b[0m Erythromycin Estolate Inhibits Zika Virus Infection by Blocking Viral Entry as a Viral Inactivator\n",
            "\n",
            "\n",
            "\u001b[1mText : \u001b[0m the primers used to detect the rna sequences coding viral e protein were as follows f1 5 -tggaggctgagatggatgg-3 /r1 5 -gaacgctgcggtacacaagga-3 ., cite_spans  137,  141,  27,, ref_id bibref26,  142,  145,  35, ref_id bibref34, ref_spans , section rnase digestion assay and rt-qpcr,  zikv 1 × 10 6 pfu with 100 µm ery-est, ery, 1% triton x-100, and 1% dmso treatments respectively or without treatment were incubated at 37 • c for 2 h. then, the treated or untreated zikv was gently loaded onto the top of the sucrose step gradient 20, 30, 40, 50 , 60, and 70%, followed by centrifugation in a swinging bucket rotor sw41ti, beckman coulter, brea, ca, usa using an optima l-100 xp ultracentrifuge beckman coulter at 107,170 g for 3 h at 4 • c. fractions were collected from the top to bottom and detected for e protein by western blot and viral genomic rna by rt-qpcr.\n",
            "\n",
            "\n",
            "-------------------------------------------------------------------------\n",
            "\n",
            "\u001b[1mQuestion : \u001b[0m How does coronavirus spread?\n",
            "\n",
            "\n",
            "\u001b[1mTitle : \u001b[0m Production and characterization of human anti-V3 monoclonal antibodies from the cells of HIV-1 infected Indian donors\n",
            "\n",
            "\n",
            "\u001b[1mText : \u001b[0m the binding of 447-52d to sf162 intact virus revealed a very high binding affinity more than five folds of mab 447-52d as compared to binding of three anti-v3 mabs to du156.12 and jrfl at equivalent viral concentration i,e 25 ng/ml figure 2a -b. this differential binding of mabs to intact virions could also be attributed to the number of potential n- table 3 binding of mabs to subtype-a, b and c derived hiv-1 proteins and peptides 2 anti-v3 mabs 1 protein/peptide subtype i 277 i 903 i 904 a 447-52d 1418, cite_spans  1101,  1105,  43, ref_id bibref42,  1106,  1110,  44, ref_id bibref43,  1111,  1115,  45, ref_id bibref44,  1574,  1575,  1, ref_id bibref0, ref_spans  519,  528,  figure 2c, ref_id figref0,  888,  897,  figure 2a, ref_id figref0,  1354,  1364,  figure 2a, ref_id figref0,  1477,  1484,  table 3, ref_id none, section binding of anti-v3 mabs to hiv-1 native, intact virions,  list of recombinant proteins and peptides derived from subtype-a, b and c hiv-1 viruses, na not applicable.\n",
            "\n",
            "\n"
          ],
          "name": "stdout"
        }
      ]
    },
    {
      "cell_type": "code",
      "metadata": {
        "id": "XY7l675K6ywf",
        "outputId": "d4ed273e-327b-415f-eb79-d907aa9f53ec",
        "colab": {
          "base_uri": "https://localhost:8080/"
        }
      },
      "source": [
        "for question in myquestions: \r\n",
        "  title,text = Doc2Vec_ask_question(model,question,ListOfSentences,dataset_df)\r\n",
        "  print(\"-------------------------------------------------------------------------\\n\")\r\n",
        "  print_answer(question,title,text)"
      ],
      "execution_count": 23,
      "outputs": [
        {
          "output_type": "stream",
          "text": [
            "-------------------------------------------------------------------------\n",
            "\n",
            "\u001b[1mQuestion : \u001b[0m What are the symptoms of COVID-19?\n",
            "\n",
            "\n",
            "\u001b[1mTitle : \u001b[0m Revitalization of integrated disease surveillance and response in Sierra Leone post Ebola virus disease outbreak\n",
            "\n",
            "\n",
            "\u001b[1mText : \u001b[0m improvement in idsr reporting completeness and timeliness rates was partly attributed to the support supervision., cite_spans , ref_spans , section monitoring implementation of idsr,  two data quality assessments were conducted between august 2016 and july 2017. overall, data collected through the surveillance system was of good quality and there was a modest improvement in accuracy from 95.3% in the first assessment to 97% in the second assessment.\n",
            "\n",
            "\n",
            "-------------------------------------------------------------------------\n",
            "\n",
            "\u001b[1mQuestion : \u001b[0m How fast is COVID-19 spread?\n",
            "\n",
            "\n",
            "\u001b[1mTitle : \u001b[0m Involvement of PRRSV NSP3 and NSP5 in the autophagy process\n",
            "\n",
            "\n",
            "\u001b[1mText : \u001b[0m 2a and b, the gfp-lc3 puncta accumulated in nsp3-mcherry-, nsp5-mcherry-and nsp9-mcherry-transfected cells.\n",
            "\n",
            "\n",
            "-------------------------------------------------------------------------\n",
            "\n",
            "\u001b[1mQuestion : \u001b[0m What are the precautionary measures for COVID-19?\n",
            "\n",
            "\n",
            "\u001b[1mTitle : \u001b[0m BMC Infectious Diseases Roles of TNF-α gene polymorphisms in the occurrence and progress of SARS-Cov infection: A case-control study\n",
            "\n",
            "\n",
            "\u001b[1mText : \u001b[0m however, our data failed to show that alleles at -1031t→c, -863c→a, -857c→t, -572a→c, -308g→a and -238g→a were related to interstitial lung fibrosis when compared with non-interstitial lung fibrosis in sars patients.\n",
            "\n",
            "\n",
            "-------------------------------------------------------------------------\n",
            "\n",
            "\u001b[1mQuestion : \u001b[0m What are the symptoms of coronavirus?\n",
            "\n",
            "\n",
            "\u001b[1mTitle : \u001b[0m A Novel Gene Underlies Bleomycin-Response Variation in Caenorhabditis elegans\n",
            "\n",
            "\n",
            "\u001b[1mText : \u001b[0m embryos hatched and arrested in the l1 larval stage in conical tubes overnight at 20°with shaking.\n",
            "\n",
            "\n"
          ],
          "name": "stdout"
        }
      ]
    },
    {
      "cell_type": "markdown",
      "metadata": {
        "id": "iWSAT3IxrBZ4"
      },
      "source": [
        "## Step 3 - Comparison of three models"
      ]
    },
    {
      "cell_type": "markdown",
      "metadata": {
        "id": "Qw7aXn3Um7ir"
      },
      "source": [
        "\r\n",
        "\r\n",
        "*   The sbert model is executed on gpu for 4000 articles, becuase for more articles the system runned out of memory and without gpu it needed more than 12 hours to run, so the colab disconnected. For the 4000 articles, trained on gpu it needed 2843 seconds.\r\n",
        "*   The Doc2Vec model was executed on cpu for 9000 articles and runned for 1137 seconds.\r\n",
        "*  Beside the fact that Doc2Vec was faster and more articles were \"read\" the results don't seem relevant to the expected ones.\r\n"
      ]
    },
    {
      "cell_type": "markdown",
      "metadata": {
        "id": "fu9jcIFM-eMi"
      },
      "source": [
        "## References\r\n",
        "\r\n",
        "\r\n",
        "\r\n",
        "*   https://www.analyticsvidhya.com/blog/2020/08/top-4-sentence-embedding-techniques-using-python/\r\n",
        "*   https://github.com/facebookresearch/InferSent\r\n",
        "*  https://medium.com/@mishra.thedeepak/doc2vec-simple-implementation-example-df2afbbfbad5\r\n",
        "* https://kanoki.org/2019/03/07/sentence-similarity-in-python-using-doc2vec/\r\n",
        "\r\n"
      ]
    }
  ]
}