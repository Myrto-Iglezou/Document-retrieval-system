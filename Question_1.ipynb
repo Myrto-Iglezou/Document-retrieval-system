{
  "nbformat": 4,
  "nbformat_minor": 0,
  "metadata": {
    "orig_nbformat": 2,
    "colab": {
      "name": "Question_1.ipynb",
      "provenance": [],
      "include_colab_link": true
    },
    "kernelspec": {
      "name": "python3",
      "display_name": "Python 3"
    },
    "accelerator": "GPU"
  },
  "cells": [
    {
      "cell_type": "markdown",
      "metadata": {
        "id": "view-in-github",
        "colab_type": "text"
      },
      "source": [
        "<a href=\"https://colab.research.google.com/github/Myrto-Iglezou/AI2-project4/blob/master/Question_1.ipynb\" target=\"_parent\"><img src=\"https://colab.research.google.com/assets/colab-badge.svg\" alt=\"Open In Colab\"/></a>"
      ]
    },
    {
      "cell_type": "markdown",
      "metadata": {
        "id": "eOoUR08ESUJj"
      },
      "source": [
        "## YΣ19 Artificial Intelligence II\n",
        "# Homework 4\n",
        "\n",
        "### Iglezou Myrto - 111520170038"
      ]
    },
    {
      "cell_type": "markdown",
      "metadata": {
        "id": "klCjhjZvlqFr"
      },
      "source": [
        "\r\n",
        "<img src=\"https://venturebeat.com/wp-content/uploads/2020/03/CORD-19.png?w=1200&strip=all\" alt=\"Cord-19\" width=\"600\"/>"
      ]
    },
    {
      "cell_type": "markdown",
      "metadata": {
        "id": "4Ef8dyqplmv_"
      },
      "source": [
        "# Project Description\r\n",
        "\r\n"
      ]
    },
    {
      "cell_type": "markdown",
      "metadata": {
        "id": "EjtCURBonpls"
      },
      "source": [
        "The objective of this project is about developing a document retrieval system to return titles of scientific papers containing the answer to a given user question. The dataset used in this exercise is from [COVID-19 Open Research Dataset (CORD-19)](https://ai2-semanticscholar-cord-19.s3-us-west-2.amazonaws.com/historical_releases.html), the first version. We are gonna implement 2 different sentence embedding approaches, in order for the model to retrieve the titles of the papers related to a given question.\r\n"
      ]
    },
    {
      "cell_type": "markdown",
      "metadata": {
        "id": "lX2R8NAZcZpK"
      },
      "source": [
        "# **Question 1** "
      ]
    },
    {
      "cell_type": "markdown",
      "metadata": {
        "id": "wxvA_efKqaRi"
      },
      "source": [
        "## Step 1 - Preprocess the provided dataset"
      ]
    },
    {
      "cell_type": "markdown",
      "metadata": {
        "id": "fqRYqh5T6UuN"
      },
      "source": [
        "### Read all json files from folder and keep for dataset the title and the body. Then save the dataframe to a csv file for faster reading of the dataframe."
      ]
    },
    {
      "cell_type": "code",
      "metadata": {
        "id": "xH485gzVbw88",
        "colab": {
          "base_uri": "https://localhost:8080/"
        },
        "outputId": "28711858-a7ce-4f15-94e8-359a460429a7"
      },
      "source": [
        "import io\r\n",
        "import os\r\n",
        "from google.colab import drive\r\n",
        "import pandas as pd \r\n",
        "import json\r\n",
        "\r\n",
        "drive.mount('/content/drive',force_remount=True)\r\n",
        "path = r\"/content/drive/My Drive/cord-19_2020-03-13/cord-19_2020-03-13/2020-03-13/comm_use_subset\"\r\n",
        "\r\n",
        "dataset_df = pd.DataFrame(columns=['id', 'title', 'body'])\r\n",
        "\r\n",
        "for filename in os.listdir(path):\r\n",
        "   with open(os.path.join(path, filename), 'r') as f:  \r\n",
        "      json_text = json.load(f)\r\n",
        "\r\n",
        "      id = json_text['paper_id']\r\n",
        "      # print(id)\r\n",
        "      title = json_text['metadata']['title']\r\n",
        "      # print(title)\r\n",
        "      body = json_text['body_text']\r\n",
        "      # print(body)\r\n",
        "\r\n",
        "      dataset_df.loc[len(dataset_df)] = [id,title,body]\r\n",
        "   "
      ],
      "execution_count": null,
      "outputs": [
        {
          "output_type": "stream",
          "text": [
            "Mounted at /content/drive\n"
          ],
          "name": "stdout"
        }
      ]
    },
    {
      "cell_type": "code",
      "metadata": {
        "id": "kB-PP7_mspCr"
      },
      "source": [
        "dataset_df.to_csv('dataset.csv',index=False)\r\n",
        "!cp dataset.csv \"drive/My Drive/\""
      ],
      "execution_count": null,
      "outputs": []
    },
    {
      "cell_type": "markdown",
      "metadata": {
        "id": "qVGFfhAE6rAc"
      },
      "source": [
        "### Read the dataset from the csv file and save the information in a dataframe"
      ]
    },
    {
      "cell_type": "code",
      "metadata": {
        "id": "Gtqng21fu4lh",
        "colab": {
          "base_uri": "https://localhost:8080/"
        },
        "outputId": "516b4401-286d-4257-d1d4-4ae3d65735be"
      },
      "source": [
        "import io\r\n",
        "from google.colab import drive\r\n",
        "import pandas as pd \r\n",
        "import sys \r\n",
        "\r\n",
        "drive.mount('/content/drive',force_remount=True)\r\n",
        "filePath = r\"/content/drive/My Drive/dataset.csv\"\r\n",
        "dataset_df = pd.read_csv(filePath)\r\n",
        "dataset_df.title = dataset_df.title.astype(str)  # make everything str, for lower() function"
      ],
      "execution_count": 2,
      "outputs": [
        {
          "output_type": "stream",
          "text": [
            "Mounted at /content/drive\n"
          ],
          "name": "stdout"
        }
      ]
    },
    {
      "cell_type": "markdown",
      "metadata": {
        "id": "iGlwAO3Y69yS"
      },
      "source": [
        "**Dataframe before the preprocess**"
      ]
    },
    {
      "cell_type": "code",
      "metadata": {
        "id": "KtM8rxv7WbJu",
        "colab": {
          "base_uri": "https://localhost:8080/",
          "height": 202
        },
        "outputId": "f15e233f-d8cc-46b8-8e76-882a149f8a34"
      },
      "source": [
        "dataset_df.head(5)"
      ],
      "execution_count": 3,
      "outputs": [
        {
          "output_type": "execute_result",
          "data": {
            "text/html": [
              "<div>\n",
              "<style scoped>\n",
              "    .dataframe tbody tr th:only-of-type {\n",
              "        vertical-align: middle;\n",
              "    }\n",
              "\n",
              "    .dataframe tbody tr th {\n",
              "        vertical-align: top;\n",
              "    }\n",
              "\n",
              "    .dataframe thead th {\n",
              "        text-align: right;\n",
              "    }\n",
              "</style>\n",
              "<table border=\"1\" class=\"dataframe\">\n",
              "  <thead>\n",
              "    <tr style=\"text-align: right;\">\n",
              "      <th></th>\n",
              "      <th>id</th>\n",
              "      <th>title</th>\n",
              "      <th>body</th>\n",
              "    </tr>\n",
              "  </thead>\n",
              "  <tbody>\n",
              "    <tr>\n",
              "      <th>0</th>\n",
              "      <td>236bd666a76213bc131969e1d5b66e410fc1cd45</td>\n",
              "      <td>MINI REVIEW Acute Phase Proteins in Marine Mam...</td>\n",
              "      <td>[{'text': 'The mammalian immune system include...</td>\n",
              "    </tr>\n",
              "    <tr>\n",
              "      <th>1</th>\n",
              "      <td>14374db205f6934d9cba148624462000bc6ec7be</td>\n",
              "      <td>Antibody Treatment against Angiopoietin-Like 4...</td>\n",
              "      <td>[{'text': 'IMPORTANCE Despite extensive global...</td>\n",
              "    </tr>\n",
              "    <tr>\n",
              "      <th>2</th>\n",
              "      <td>af678e8cd31d74cdb2d690addc19d59dca331f2b</td>\n",
              "      <td>Quantifying the seasonal drivers of transmissi...</td>\n",
              "      <td>[{'text': \"Growing human population, urbanizat...</td>\n",
              "    </tr>\n",
              "    <tr>\n",
              "      <th>3</th>\n",
              "      <td>42b049c2b5b32c094dc8b10f967e43ac2169b890</td>\n",
              "      <td>Evaluation of the influenza-like illness surve...</td>\n",
              "      <td>[{'text': 'the first evaluation of the Tunisia...</td>\n",
              "    </tr>\n",
              "    <tr>\n",
              "      <th>4</th>\n",
              "      <td>1664a9df618ca74e099245a2bd65f3172aeac284</td>\n",
              "      <td>nan</td>\n",
              "      <td>[{'text': 'Worldwide, lung cancer remains the ...</td>\n",
              "    </tr>\n",
              "  </tbody>\n",
              "</table>\n",
              "</div>"
            ],
            "text/plain": [
              "                                         id  ...                                               body\n",
              "0  236bd666a76213bc131969e1d5b66e410fc1cd45  ...  [{'text': 'The mammalian immune system include...\n",
              "1  14374db205f6934d9cba148624462000bc6ec7be  ...  [{'text': 'IMPORTANCE Despite extensive global...\n",
              "2  af678e8cd31d74cdb2d690addc19d59dca331f2b  ...  [{'text': \"Growing human population, urbanizat...\n",
              "3  42b049c2b5b32c094dc8b10f967e43ac2169b890  ...  [{'text': 'the first evaluation of the Tunisia...\n",
              "4  1664a9df618ca74e099245a2bd65f3172aeac284  ...  [{'text': 'Worldwide, lung cancer remains the ...\n",
              "\n",
              "[5 rows x 3 columns]"
            ]
          },
          "metadata": {
            "tags": []
          },
          "execution_count": 3
        }
      ]
    },
    {
      "cell_type": "markdown",
      "metadata": {
        "id": "ace6Uewe7HYX"
      },
      "source": [
        "Remove some of the special characters, such as [, { , ' , : and some words form json like 'text'."
      ]
    },
    {
      "cell_type": "code",
      "metadata": {
        "id": "9YQZXAwZ36Q7"
      },
      "source": [
        "def removeCharacters(x):\r\n",
        "  x = x.str.replace(r'\\'text\\'', '')\r\n",
        "  x = x.str.replace(r'\\'start\\'', '')\r\n",
        "  x = x.str.replace(r'\\'end\\'', '')\r\n",
        "  x = x.str.replace(r'[{}]', '')\r\n",
        "  x = x.str.replace(r'[<>]', '')\r\n",
        "  x = x.str.replace(r'[\\[\\]]', '')\r\n",
        "  x = x.str.replace(r'[\"]', '')\r\n",
        "  x = x.str.replace(r'[\\']', '')\r\n",
        "  x = x.str.replace(r'[:]', '')\r\n",
        "  x = x.str.replace(r'[()]', '')\r\n",
        "  return x"
      ],
      "execution_count": 40,
      "outputs": []
    },
    {
      "cell_type": "code",
      "metadata": {
        "id": "TSEosfCi3Eyk"
      },
      "source": [
        "dataset_df['body'] = removeCharacters(dataset_df['body'])"
      ],
      "execution_count": 41,
      "outputs": []
    },
    {
      "cell_type": "markdown",
      "metadata": {
        "id": "iFXBu3TJ7oVv"
      },
      "source": [
        "Remove all the uppercase letters from title and body"
      ]
    },
    {
      "cell_type": "code",
      "metadata": {
        "id": "lLj8oa3G0WOO"
      },
      "source": [
        "dataset_df['body'] = dataset_df['body'].apply(lambda x: x.lower())\r\n",
        "# dataset_df['title'] = dataset_df['title'].apply(lambda x: x.lower())"
      ],
      "execution_count": 5,
      "outputs": []
    },
    {
      "cell_type": "markdown",
      "metadata": {
        "id": "SVNhJaYx72ie"
      },
      "source": [
        "**Dataframe after the preprocess**"
      ]
    },
    {
      "cell_type": "code",
      "metadata": {
        "id": "gPqJJQft1xP_",
        "colab": {
          "base_uri": "https://localhost:8080/",
          "height": 202
        },
        "outputId": "e1449bf1-a1a7-4656-8096-e45c6e6c94bd"
      },
      "source": [
        "dataset_df.head(5)"
      ],
      "execution_count": 6,
      "outputs": [
        {
          "output_type": "execute_result",
          "data": {
            "text/html": [
              "<div>\n",
              "<style scoped>\n",
              "    .dataframe tbody tr th:only-of-type {\n",
              "        vertical-align: middle;\n",
              "    }\n",
              "\n",
              "    .dataframe tbody tr th {\n",
              "        vertical-align: top;\n",
              "    }\n",
              "\n",
              "    .dataframe thead th {\n",
              "        text-align: right;\n",
              "    }\n",
              "</style>\n",
              "<table border=\"1\" class=\"dataframe\">\n",
              "  <thead>\n",
              "    <tr style=\"text-align: right;\">\n",
              "      <th></th>\n",
              "      <th>id</th>\n",
              "      <th>title</th>\n",
              "      <th>body</th>\n",
              "    </tr>\n",
              "  </thead>\n",
              "  <tbody>\n",
              "    <tr>\n",
              "      <th>0</th>\n",
              "      <td>236bd666a76213bc131969e1d5b66e410fc1cd45</td>\n",
              "      <td>MINI REVIEW Acute Phase Proteins in Marine Mam...</td>\n",
              "      <td>[{'text': 'the mammalian immune system include...</td>\n",
              "    </tr>\n",
              "    <tr>\n",
              "      <th>1</th>\n",
              "      <td>14374db205f6934d9cba148624462000bc6ec7be</td>\n",
              "      <td>Antibody Treatment against Angiopoietin-Like 4...</td>\n",
              "      <td>[{'text': 'importance despite extensive global...</td>\n",
              "    </tr>\n",
              "    <tr>\n",
              "      <th>2</th>\n",
              "      <td>af678e8cd31d74cdb2d690addc19d59dca331f2b</td>\n",
              "      <td>Quantifying the seasonal drivers of transmissi...</td>\n",
              "      <td>[{'text': \"growing human population, urbanizat...</td>\n",
              "    </tr>\n",
              "    <tr>\n",
              "      <th>3</th>\n",
              "      <td>42b049c2b5b32c094dc8b10f967e43ac2169b890</td>\n",
              "      <td>Evaluation of the influenza-like illness surve...</td>\n",
              "      <td>[{'text': 'the first evaluation of the tunisia...</td>\n",
              "    </tr>\n",
              "    <tr>\n",
              "      <th>4</th>\n",
              "      <td>1664a9df618ca74e099245a2bd65f3172aeac284</td>\n",
              "      <td>nan</td>\n",
              "      <td>[{'text': 'worldwide, lung cancer remains the ...</td>\n",
              "    </tr>\n",
              "  </tbody>\n",
              "</table>\n",
              "</div>"
            ],
            "text/plain": [
              "                                         id  ...                                               body\n",
              "0  236bd666a76213bc131969e1d5b66e410fc1cd45  ...  [{'text': 'the mammalian immune system include...\n",
              "1  14374db205f6934d9cba148624462000bc6ec7be  ...  [{'text': 'importance despite extensive global...\n",
              "2  af678e8cd31d74cdb2d690addc19d59dca331f2b  ...  [{'text': \"growing human population, urbanizat...\n",
              "3  42b049c2b5b32c094dc8b10f967e43ac2169b890  ...  [{'text': 'the first evaluation of the tunisia...\n",
              "4  1664a9df618ca74e099245a2bd65f3172aeac284  ...  [{'text': 'worldwide, lung cancer remains the ...\n",
              "\n",
              "[5 rows x 3 columns]"
            ]
          },
          "metadata": {
            "tags": []
          },
          "execution_count": 6
        }
      ]
    },
    {
      "cell_type": "code",
      "metadata": {
        "id": "ez34v_Bockvu"
      },
      "source": [
        "%%capture\r\n",
        "!pip install transformers"
      ],
      "execution_count": 7,
      "outputs": []
    },
    {
      "cell_type": "code",
      "metadata": {
        "id": "Ii7T7CTmZG_z"
      },
      "source": [
        "%%capture\r\n",
        "!pip install sentence-transformers"
      ],
      "execution_count": 8,
      "outputs": []
    },
    {
      "cell_type": "code",
      "metadata": {
        "colab": {
          "base_uri": "https://localhost:8080/"
        },
        "id": "zIt22mNknCAN",
        "outputId": "84bcb981-3403-412b-cd9a-5b9a765fe36f"
      },
      "source": [
        "import torch\r\n",
        "# First checking if GPU is available\r\n",
        "train_on_gpu=torch.cuda.is_available()\r\n",
        "\r\n",
        "if(train_on_gpu):\r\n",
        "    print('Training on GPU.')\r\n",
        "    device = 'cuda'\r\n",
        "else:\r\n",
        "    print('No GPU available, training on CPU.')\r\n",
        "    device = 'cpu'"
      ],
      "execution_count": 9,
      "outputs": [
        {
          "output_type": "stream",
          "text": [
            "No GPU available, training on CPU.\n"
          ],
          "name": "stdout"
        }
      ]
    },
    {
      "cell_type": "markdown",
      "metadata": {
        "id": "5SkWJaK676jq"
      },
      "source": [
        "## Questions"
      ]
    },
    {
      "cell_type": "code",
      "metadata": {
        "id": "8QSm-Z7E7535"
      },
      "source": [
        "questions =  [\r\n",
        "                  \"What are the coronoviruses?\",\r\n",
        "                  \"What was discovered in Wuhuan in December 2019?\",\r\n",
        "                  \"What is Coronovirus Disease 2019?\",\r\n",
        "                  \"What is COVID-19?\",\r\n",
        "                  \"What is caused by SARS-COV2?\",\r\n",
        "                  \"How is COVID-19 spread?\",\r\n",
        "                  \"Where was COVID-19 discovered?\",\r\n",
        "                  \"How does coronavirus spread?\",\r\n",
        "              ]"
      ],
      "execution_count": 20,
      "outputs": []
    },
    {
      "cell_type": "markdown",
      "metadata": {
        "id": "kCnCjG_4FH6w"
      },
      "source": [
        "## Create the list of sentences\r\n",
        "\r\n"
      ]
    },
    {
      "cell_type": "code",
      "metadata": {
        "colab": {
          "base_uri": "https://localhost:8080/"
        },
        "id": "eCCiwa-vFWbI",
        "outputId": "86cdcf38-820e-4ee4-8c21-3f8d9f2d2952"
      },
      "source": [
        "import nltk\r\n",
        "from nltk import tokenize\r\n",
        "nltk.download('punkt')\r\n",
        "\r\n",
        "ListOfBodies = dataset_df['body'].apply(lambda x: tokenize.sent_tokenize(x))"
      ],
      "execution_count": 11,
      "outputs": [
        {
          "output_type": "stream",
          "text": [
            "[nltk_data] Downloading package punkt to /root/nltk_data...\n",
            "[nltk_data]   Package punkt is already up-to-date!\n"
          ],
          "name": "stdout"
        }
      ]
    },
    {
      "cell_type": "code",
      "metadata": {
        "id": "CSqzKlSxFITl"
      },
      "source": [
        "ListOfSentences = []\r\n",
        "numOfArticles = 0\r\n",
        "for text in ListOfBodies:\r\n",
        "  ListOfSentences += text\r\n",
        "  numOfArticles+=1\r\n",
        "  if(numOfArticles == 4000):\r\n",
        "    break"
      ],
      "execution_count": 17,
      "outputs": []
    },
    {
      "cell_type": "markdown",
      "metadata": {
        "id": "RUmlz-0HFlrQ"
      },
      "source": [
        "## Usefull functions for the models"
      ]
    },
    {
      "cell_type": "code",
      "metadata": {
        "id": "L6IYr56uFl7e"
      },
      "source": [
        "import numpy as np\r\n",
        "from sklearn.metrics.pairwise import cosine_similarity\r\n",
        "\r\n",
        "def most_similar(sentences, embeddings, query_embedding, k = 1):\r\n",
        "    X = np.stack(embeddings)\r\n",
        "    score_map = zip(sentences, cosine_similarity(X, query_embedding.reshape(1, -1)))\r\n",
        "    return sorted(score_map, key=lambda v: v[1], reverse=True)[:k]"
      ],
      "execution_count": 18,
      "outputs": []
    },
    {
      "cell_type": "code",
      "metadata": {
        "id": "KY6BmUj--Aav"
      },
      "source": [
        "def ask_question(model,question,ListOfSentences,sentence_embeddings,dataset_df):\r\n",
        "  query_vec = model.encode([question])[0]\r\n",
        "  similar = most_similar(ListOfSentences,sentence_embeddings,query_vec)\r\n",
        "  row = dataset_df[dataset_df['body'].str.contains(similar[0][0])]\r\n",
        "  title = row['title'].tolist()[0]\r\n",
        "  text = similar[0][0]\r\n",
        "\r\n",
        "  return title,text"
      ],
      "execution_count": 19,
      "outputs": []
    },
    {
      "cell_type": "code",
      "metadata": {
        "id": "tNy5I8Hp-CLD"
      },
      "source": [
        "from termcolor import colored\r\n",
        "\r\n",
        "def print_answer(question,title,text):\r\n",
        "\r\n",
        "  print(colored(\"Question : \",attrs=['bold']),question)\r\n",
        "  print(\"\\n\")\r\n",
        "  print(colored(\"Title : \",attrs=['bold']),title)\r\n",
        "  print(\"\\n\")\r\n",
        "  print(colored(\"Text : \",attrs=['bold']),text)\r\n",
        "  print(\"\\n\")\r\n",
        "  # text = row['body'].apply(lambda x: tokenize.sent_tokenize(x))\r\n",
        "  # num = 0\r\n",
        "  # for t in text:\r\n",
        "  #   for sentence in t:\r\n",
        "  #     if sentence == l1:\r\n",
        "  #         print(t[num-1], end=\" \")\r\n",
        "  #         print(\"\\n\")\r\n",
        "  #         print(colored(sentence,'grey','on_yellow'), end=\" \")\r\n",
        "  #         print(\"\\n\")\r\n",
        "  #         print(t[num+1], end=\" \")\r\n",
        "  #         num+=1\r\n",
        "  # print(\"\\n\")"
      ],
      "execution_count": 20,
      "outputs": []
    },
    {
      "cell_type": "markdown",
      "metadata": {
        "id": "3GylXNd8qpxt"
      },
      "source": [
        "## Step 2.a - First sentence embedding approach"
      ]
    },
    {
      "cell_type": "markdown",
      "metadata": {
        "id": "X67jFz8cIgOK"
      },
      "source": [
        "### SBERT Model"
      ]
    },
    {
      "cell_type": "markdown",
      "metadata": {
        "id": "zvT01qEtIs9k"
      },
      "source": [
        "Uses Sentence-BERT (SBERT), a modification of the BERT network using siamese and triplet networks that is able to derive semantically meaningful sentence embeddings. This allows more efficient semantic search, which is utilized in the following application.\r\n",
        "\r\n",
        "The siamese network architecture enables that fixed-sized vectors for input sentences can be derived. Using a similarity measure like cosine similarity or Manhatten / Euclidean distance, semantically similar sentences can be found. Cosine similarity is used in this work.\r\n",
        "\r\n",
        "SBERT fine tuned on NLI data which creates SOTA sentence embeddings, as reported in the [SBERT paper](https://arxiv.org/pdf/1908.10084.pdf).\r\n",
        "\r\n",
        "SBERT Framework example\r\n",
        "\r\n",
        "<img src=\"https://combine.se/wp-content/uploads/2019/09/3.png\" alt=\"Cord-19\" width=\"300\"/>"
      ]
    },
    {
      "cell_type": "code",
      "metadata": {
        "id": "xb_H5FDgT5oW"
      },
      "source": [
        "import torch\r\n",
        "from sentence_transformers import SentenceTransformer\r\n",
        "\r\n",
        "sbert_model = SentenceTransformer('bert-base-nli-mean-tokens',device=device)"
      ],
      "execution_count": null,
      "outputs": []
    },
    {
      "cell_type": "code",
      "metadata": {
        "colab": {
          "base_uri": "https://localhost:8080/"
        },
        "id": "0nTaYmUq9HrT",
        "outputId": "0eaeb0bf-961c-4fb3-f0e5-013cb111a889"
      },
      "source": [
        "import time\r\n",
        "\r\n",
        "start_time = time.time()\r\n",
        "\r\n",
        "sentence_embeddings = sbert_model.encode(ListOfSentences,device=device)\r\n",
        "\r\n",
        "for question in questions: \r\n",
        "  title,text = ask_question(sbert_model,question,ListOfSentences,sentence_embeddings,dataset_df)\r\n",
        "  print(\"-------------------------------------------------------------------------\\n\")\r\n",
        "  print_answer(question, title, text)\r\n",
        "\r\n",
        "print(\"-------------------------------------------------------------------------\\n\")\r\n",
        "print(\"Time: %s seconds\" % (time.time() - start_time))"
      ],
      "execution_count": null,
      "outputs": [
        {
          "output_type": "stream",
          "text": [
            "100%|██████████| 405M/405M [00:14<00:00, 28.8MB/s]\n"
          ],
          "name": "stderr"
        },
        {
          "output_type": "stream",
          "text": [
            "-------------------------------------------------------------------------\n",
            "\n",
            "\u001b[1mQuestion : \u001b[0m What are the coronoviruses?\n",
            "\n",
            "\n",
            "\u001b[1mTitle : \u001b[0m A viral metagenomic survey identifies known and novel mammalian viruses in bats from Saudi Arabia\n",
            "\n",
            "\n",
            "\u001b[1mText : \u001b[0m c parechoviruses.\n",
            "\n",
            "\n",
            "-------------------------------------------------------------------------\n",
            "\n",
            "\u001b[1mQuestion : \u001b[0m What was discovered in Wuhuan in December 2019?\n",
            "\n",
            "\n",
            "\u001b[1mTitle : \u001b[0m Old World camels in a modern world -a balancing act between conservation and genetic improvement\n",
            "\n",
            "\n",
            "\u001b[1mText : \u001b[0m the photoperiod nagy & juhasz 2019 .\n",
            "\n",
            "\n",
            "-------------------------------------------------------------------------\n",
            "\n",
            "\u001b[1mQuestion : \u001b[0m What is Coronovirus Disease 2019?\n",
            "\n",
            "\n",
            "\u001b[1mTitle : \u001b[0m Estimated effectiveness of symptom and risk screening to prevent the spread of COVID-19\n",
            "\n",
            "\n",
            "\u001b[1mText : \u001b[0m hcov-19 has been proposed as an alternate name for the virus; jiang et al., 2020 .\n",
            "\n",
            "\n",
            "-------------------------------------------------------------------------\n",
            "\n",
            "\u001b[1mQuestion : \u001b[0m What is COVID-19?\n",
            "\n",
            "\n",
            "\u001b[1mTitle : \u001b[0m Alignment-free method for DNA sequence clustering using Fuzzy integral similarity ROC_supplementary material Explanation\n",
            "\n",
            "\n",
            "\u001b[1mText : \u001b[0m figure 19  our method.\n",
            "\n",
            "\n",
            "-------------------------------------------------------------------------\n",
            "\n",
            "\u001b[1mQuestion : \u001b[0m What is caused by SARS-COV2?\n",
            "\n",
            "\n",
            "\u001b[1mTitle : \u001b[0m nan\n",
            "\n",
            "\n",
            "\u001b[1mText : \u001b[0m secondly, is grk2 activated after iav infection or is it constitutively activated?\n",
            "\n",
            "\n",
            "-------------------------------------------------------------------------\n",
            "\n",
            "\u001b[1mQuestion : \u001b[0m How is COVID-19 spread?\n",
            "\n",
            "\n",
            "\u001b[1mTitle : \u001b[0m Alignment-free method for DNA sequence clustering using Fuzzy integral similarity ROC_supplementary material Explanation\n",
            "\n",
            "\n",
            "\u001b[1mText : \u001b[0m figure 19  our method.\n",
            "\n",
            "\n",
            "-------------------------------------------------------------------------\n",
            "\n",
            "\u001b[1mQuestion : \u001b[0m Where was COVID-19 discovered?\n",
            "\n",
            "\n",
            "\u001b[1mTitle : \u001b[0m Cohort Profile: The Flu Watch Study\n",
            "\n",
            "\n",
            "\u001b[1mText : \u001b[0m 18 19 20 what has been found?\n",
            "\n",
            "\n",
            "-------------------------------------------------------------------------\n",
            "\n",
            "\u001b[1mQuestion : \u001b[0m How does coronavirus spread?\n",
            "\n",
            "\n",
            "\u001b[1mTitle : \u001b[0m Estimation of basic reproduction number of the Middle East respiratory syndrome coronavirus (MERS-CoV) during the outbreak in South Korea, 2015\n",
            "\n",
            "\n",
            "\u001b[1mText : \u001b[0m  the middle east respiratory syndrome mers is caused by a coronavirus cov, the mers-cov.\n",
            "\n",
            "\n",
            "-------------------------------------------------------------------------\n",
            "\n",
            "Time: 3016.579603433609 seconds\n"
          ],
          "name": "stdout"
        }
      ]
    },
    {
      "cell_type": "markdown",
      "metadata": {
        "id": "dVrg1Ba2q5p0"
      },
      "source": [
        "## Step 2.b - Second sentence embedding approach"
      ]
    },
    {
      "cell_type": "markdown",
      "metadata": {
        "id": "edptFiB3USfe"
      },
      "source": [
        "### InferSent Model "
      ]
    },
    {
      "cell_type": "markdown",
      "metadata": {
        "id": "1ID0sNizUtI8"
      },
      "source": [
        "InferSent is a sentence embeddings method that provides semantic representations for English sentences. It is trained on natural language inference data and generalizes well to many different tasks. Just like SentenceBERT, we take a pair of sentences and encode them to generate the actual sentence embeddings. Then, extract the relations between these embeddings using:\r\n",
        "\r\n",
        "* concatenation\r\n",
        "* element-wise product\r\n",
        "* absolute element-wise difference.\r\n",
        "\r\n",
        "<img src=\"https://miro.medium.com/max/972/1*efWq1UrOcGy2E-34OxsBHQ.png\" alt=\"InferSent\" width=\"300\"/>"
      ]
    },
    {
      "cell_type": "code",
      "metadata": {
        "colab": {
          "base_uri": "https://localhost:8080/"
        },
        "id": "7VyWhhZAEW0j",
        "outputId": "1e678475-fbe2-49e5-ba00-5843fe705c31"
      },
      "source": [
        "! mkdir encoder\r\n",
        "! curl -Lo encoder/infersent2.pkl https://dl.fbaipublicfiles.com/infersent/infersent2.pkl\r\n",
        "  \r\n",
        "! mkdir GloVe\r\n",
        "! curl -Lo GloVe/glove.840B.300d.zip http://nlp.stanford.edu/data/glove.840B.300d.zip\r\n",
        "! unzip GloVe/glove.840B.300d.zip -d GloVe/"
      ],
      "execution_count": 13,
      "outputs": [
        {
          "output_type": "stream",
          "text": [
            "mkdir: cannot create directory ‘encoder’: File exists\n",
            "  % Total    % Received % Xferd  Average Speed   Time    Time     Time  Current\n",
            "                                 Dload  Upload   Total   Spent    Left  Speed\n",
            "100  146M  100  146M    0     0  59.2M      0  0:00:02  0:00:02 --:--:-- 59.1M\n",
            "mkdir: cannot create directory ‘GloVe’: File exists\n",
            "  % Total    % Received % Xferd  Average Speed   Time    Time     Time  Current\n",
            "                                 Dload  Upload   Total   Spent    Left  Speed\n",
            "  0   315    0     0    0     0      0      0 --:--:-- --:--:-- --:--:--     0\n",
            "  0   352    0     0    0     0      0      0 --:--:-- --:--:-- --:--:--     0\n",
            "100 2075M  100 2075M    0     0  2087k      0  0:16:58  0:16:58 --:--:-- 2598k\n",
            "Archive:  GloVe/glove.840B.300d.zip\n",
            "replace GloVe/glove.840B.300d.txt? [y]es, [n]o, [A]ll, [N]one, [r]ename: n\n"
          ],
          "name": "stdout"
        }
      ]
    },
    {
      "cell_type": "code",
      "metadata": {
        "id": "sLyEMksVr7V_",
        "colab": {
          "base_uri": "https://localhost:8080/"
        },
        "outputId": "f28de3df-6524-4ea4-dbb9-96a346a4a1bd"
      },
      "source": [
        "drive.mount('/content/drive',force_remount=True)\r\n",
        "sys.path.append('/content/drive/My Drive/')\r\n",
        "!cp -r \"/content/drive/My Drive/models.py\" '/content/'"
      ],
      "execution_count": 14,
      "outputs": [
        {
          "output_type": "stream",
          "text": [
            "Mounted at /content/drive\n"
          ],
          "name": "stdout"
        }
      ]
    },
    {
      "cell_type": "code",
      "metadata": {
        "id": "AdD1_dKhDnpU"
      },
      "source": [
        "ListOfSentences = []\r\n",
        "numOfArticles = 0\r\n",
        "for text in ListOfBodies:\r\n",
        "  ListOfSentences += text\r\n",
        "  numOfArticles+=1\r\n",
        "  if(numOfArticles == 500):\r\n",
        "    break"
      ],
      "execution_count": 21,
      "outputs": []
    },
    {
      "cell_type": "code",
      "metadata": {
        "id": "WENjmLyhEa7s"
      },
      "source": [
        "import models\r\n",
        "from models import InferSent\r\n",
        "import torch \r\n",
        "\r\n",
        "V = 2\r\n",
        "MODEL_PATH = 'encoder/infersent%s.pkl' % V\r\n",
        "params_model = {'bsize': 64, 'word_emb_dim': 300, 'enc_lstm_dim': 2048,\r\n",
        "                'pool_type': 'max', 'dpout_model': 0.0, 'version': V}\r\n",
        "model = InferSent(params_model)\r\n",
        "model.load_state_dict(torch.load(MODEL_PATH))\r\n",
        "\r\n",
        "W2V_PATH = '/content/GloVe/glove.840B.300d.txt'\r\n",
        "model.set_w2v_path(W2V_PATH)"
      ],
      "execution_count": 22,
      "outputs": []
    },
    {
      "cell_type": "code",
      "metadata": {
        "id": "5puzY_qm5tGI"
      },
      "source": [
        "if(train_on_gpu):\r\n",
        "  model = model.cuda()"
      ],
      "execution_count": 23,
      "outputs": []
    },
    {
      "cell_type": "code",
      "metadata": {
        "id": "DMQvkMZUtxcl",
        "colab": {
          "base_uri": "https://localhost:8080/"
        },
        "outputId": "f893a7cd-65ba-4831-c131-2df3a2d4661d"
      },
      "source": [
        "import time\r\n",
        "\r\n",
        "start_time = time.time()\r\n",
        "model.build_vocab(ListOfSentences, tokenize=True)\r\n",
        "\r\n",
        "InferSent_embeddings = []\r\n",
        "\r\n",
        "for sentence in ListOfSentences:\r\n",
        " InferSent_embeddings.append(model.encode(sentence)[0])\r\n",
        "\r\n",
        "for question in questions: \r\n",
        "  title,text = ask_question(model,question,ListOfSentences,InferSent_embeddings,dataset_df)\r\n",
        "  print(\"-------------------------------------------------------------------------\\n\")\r\n",
        "  print_answer(question, title, text)\r\n",
        "  \r\n",
        "print(\"-------------------------------------------------------------------------\\n\")\r\n",
        "print(\"Time: %s seconds \" % (time.time() - start_time))"
      ],
      "execution_count": null,
      "outputs": [
        {
          "output_type": "stream",
          "text": [
            "Found 45625(/87965) words with w2v vectors\n",
            "Vocab size : 45625\n"
          ],
          "name": "stdout"
        },
        {
          "output_type": "stream",
          "text": [
            "/content/models.py:207: VisibleDeprecationWarning: Creating an ndarray from ragged nested sequences (which is a list-or-tuple of lists-or-tuples-or ndarrays with different lengths or shapes) is deprecated. If you meant to do this, you must specify 'dtype=object' when creating the ndarray\n",
            "  sentences = np.array(sentences)[idx_sort]\n"
          ],
          "name": "stderr"
        }
      ]
    },
    {
      "cell_type": "markdown",
      "metadata": {
        "id": "hOoUb4l5nAoz"
      },
      "source": [
        "## Step 2.b - Third sentence embedding approach"
      ]
    },
    {
      "cell_type": "markdown",
      "metadata": {
        "id": "Q54n_kwJm0ji"
      },
      "source": [
        "### Doc2Vec"
      ]
    },
    {
      "cell_type": "code",
      "metadata": {
        "id": "-XwfadW9muSK"
      },
      "source": [
        "ListOfSentences = []\r\n",
        "numOfArticles = 0\r\n",
        "for text in ListOfBodies:\r\n",
        "  ListOfSentences += text\r\n",
        "  numOfArticles+=1\r\n",
        "  if(numOfArticles == 500):\r\n",
        "    break"
      ],
      "execution_count": 12,
      "outputs": []
    },
    {
      "cell_type": "code",
      "metadata": {
        "colab": {
          "base_uri": "https://localhost:8080/"
        },
        "id": "MDSORnZkmg89",
        "outputId": "c6046313-7a21-4aff-aa50-422ac0ffaaeb"
      },
      "source": [
        "from gensim.models.doc2vec import Doc2Vec, TaggedDocument\r\n",
        "tagged_data = [TaggedDocument(d, [i]) for i, d in enumerate(ListOfSentences)]"
      ],
      "execution_count": 13,
      "outputs": [
        {
          "output_type": "execute_result",
          "data": {
            "text/plain": [
              "[TaggedDocument(words=\"[{'text': 'the mammalian immune system includes innate or nonspecific immunity as well as adaptive or specific immunity.\", tags=[0]),\n",
              " TaggedDocument(words='the responses of these two different pathways are distinct, but highly interconnected.', tags=[1]),\n",
              " TaggedDocument(words='the first reaction of an organism to different pathological conditions is an innate, non-specific response (1), a more conserved response during evolution which aim is the immediate reaction against pathological stimuli (2) .', tags=[2]),\n",
              " TaggedDocument(words='after the initial recognition of pathogens or tissue damages by the tissue-resident macrophages, which express the pattern recognition receptors (prrs), a variety of different inflammatory mediators are produced by leukocytes, endothelial cells, tissue cells or are derived from plasma proteins.', tags=[3]),\n",
              " TaggedDocument(words='these mediators include different chemokine, cytokine, vasoactive amines and products of the arachidonic acid: their primary effect is to elicit inflammatory response locally and to recruit leukocytes and plasma proteins in the site of injury (3) .', tags=[4]),\n",
              " TaggedDocument(words='glycoprotein (agp) (9) , in ruminants is haptoglobin (hp) (14) ; in horse is serum amyloid a (saa) (15) and in pigs are hp, saa, and major acute phase protein (map) (10) .', tags=[5]),\n",
              " TaggedDocument(words=\"', 'cite_spans': [{'start': 417, 'end': 420, 'text': '(2)', 'ref_id': 'bibref1'}, {'start': 962, 'end': 965, 'text': '(3)', 'ref_id': 'bibref2'}, {'start': 987, 'end': 990, 'text': '(9)', 'ref_id': 'bibref8'}, {'start': 1026, 'end': 1030, 'text': '(14)', 'ref_id': 'bibref13'}, {'start': 1067, 'end': 1071, 'text': '(15)', 'ref_id': 'bibref14'}, {'start': 1133, 'end': 1137, 'text': '(10)', 'ref_id': 'bibref9'}], 'ref_spans': [], 'section': 'introduction'}, {'text': 'recently, in veterinary medicine, studies on the role of apps as markers of infectious, inflammatory and neoplastic diseases have proliferated (16) and at least 40 different plasma proteins have been identified as apps (8) .\", tags=[6]),\n",
              " TaggedDocument(words='their use as marker of homeostasis perturbation provides some advantages compared with traditional parameters like the white blood cell (wbc) counts.', tags=[7]),\n",
              " TaggedDocument(words='compared to wbc count, the diagnostic sensitivity of apps is higher and the change in concentration is faster (17) .', tags=[8]),\n",
              " TaggedDocument(words='moreover, their stability in serum/plasma is high, so it is possible to measure apps in frozen samples (18) .', tags=[9]),\n",
              " TaggedDocument(words='one limitation of the apps is the poor diagnostic specificity, for this reason they cannot be used as primary diagnostic test for a specific disease, but they were successfully used to detect subclinical diseases and to monitor clinical evolution and to assess the response to treatment (5) .', tags=[10]),\n",
              " TaggedDocument(words='additionally, the combined measurement of several apps provides more information than the evaluation of a single protein: in the \"app value index, \" proposed by gruys et al.', tags=[11]),\n",
              " TaggedDocument(words='(1) , sensitivity and specificity are improved by combining response of both positive and negative major and minor apps.', tags=[12]),\n",
              " TaggedDocument(words='\\', \\'cite_spans\\': [{\\'start\\': 143, \\'end\\': 147, \\'text\\': \\'(16)\\', \\'ref_id\\': \\'bibref15\\'}, {\\'start\\': 219, \\'end\\': 222, \\'text\\': \\'(8)\\', \\'ref_id\\': \\'bibref7\\'}, {\\'start\\': 485, \\'end\\': 489, \\'text\\': \\'(17)\\', \\'ref_id\\': \\'bibref16\\'}, {\\'start\\': 595, \\'end\\': 599, \\'text\\': \\'(18)\\', \\'ref_id\\': \\'bibref17\\'}, {\\'start\\': 889, \\'end\\': 892, \\'text\\': \\'(5)\\', \\'ref_id\\': \\'bibref4\\'}, {\\'start\\': 1069, \\'end\\': 1072, \\'text\\': \\'(1)\\', \\'ref_id\\': \\'bibref0\\'}], \\'ref_spans\\': [], \\'section\\': \\'introduction\\'}, {\\'text\\': \"marine mammals are a group of around 130 mammalian species which depend on water environment for most of their needs.', tags=[13]),\n",
              " TaggedDocument(words='they include 3 orders: carnivora (pinnipeds, otters, and polar bear), cetacea (dolphins, whale, and porpoise) and sirenia (manatee and dugogons).', tags=[14]),\n",
              " TaggedDocument(words='marine mammals are differently adapted to life in water, with some species, which are fully aquatic (cetaceans and sirenia), and others that spend part of their life on land (pinniped and polar bears) (19) .', tags=[15]),\n",
              " TaggedDocument(words='from an immunological point of view, aquatic adaptation caused few differences in distribution and function of immune system between marine and terrestrial mammals (20) .', tags=[16]),\n",
              " TaggedDocument(words=\"however, nowadays the marine mammal' immune system is deeply exposed to environmental pollution because they are a long-lived animals placed at the top of food chain, thus they are exposed to a progressive bioaccumulation of fat-soluble pollutants, such as pcbs, which affect both innate and adaptive immune function (21) .\", tags=[17]),\n",
              " TaggedDocument(words='for these reasons, increasing knowledge in cellular and humoral immune response is continuously required to understand their immune system and in particular its relationship with infectious pathologies and the environmental pollution (22) .', tags=[18]),\n",
              " TaggedDocument(words='furthermore, marine mammals live also in controlled environment like aquaria, rehabilitation facilities and research center where health assessment is fundamental to evaluate the correct management of animals and to monitor the response to therapy during rehabilitation.', tags=[19]),\n",
              " TaggedDocument(words='from this perspective, the availability of new markers to asses immune functions is fundamental both for medical care and research purpose (20) .', tags=[20]),\n",
              " TaggedDocument(words='\", \\'cite_spans\\': [{\\'start\\': 465, \\'end\\': 469, \\'text\\': \\'(19)\\', \\'ref_id\\': \\'bibref18\\'}, {\\'start\\': 636, \\'end\\': 640, \\'text\\': \\'(20)\\', \\'ref_id\\': \\'bibref19\\'}, {\\'start\\': 960, \\'end\\': 964, \\'text\\': \\'(21)\\', \\'ref_id\\': \\'bibref20\\'}, {\\'start\\': 1201, \\'end\\': 1205, \\'text\\': \\'(22)\\', \\'ref_id\\': \\'bibref21\\'}, {\\'start\\': 1618, \\'end\\': 1622, \\'text\\': \\'(20)\\', \\'ref_id\\': \\'bibref19\\'}], \\'ref_spans\\': [], \\'section\\': \\'introduction\\'}, {\\'text\\': \"innate immune response represent the first line of response against pathological stimuli, it\\'s very fast and it\\'s based primarily on effector cells (e.g., mast cells, macrophages, neutrophils) and antimicrobial substances (e.g., complement, reactive oxygen, and nitrogen species).', tags=[21]),\n",
              " TaggedDocument(words=\"on the other hand, adaptive immune system is antigen-specific, it takes more days to be effective and it's based on different t-cells response and on b-lymphocytes which are responsible of humoral response mediated by the different subclass of immunoglobulin (igg, igm, iga) (20) .\", tags=[22]),\n",
              " TaggedDocument(words='several assays were proposed to evaluate both immune response in marine mammals, generally based on isolated leucocytes with the aim to evaluate the leukocytes response against in vitro stimuli (23) .', tags=[23]),\n",
              " TaggedDocument(words='\", \\'cite_spans\\': [{\\'start\\': 556, \\'end\\': 560, \\'text\\': \\'(20)\\', \\'ref_id\\': \\'bibref19\\'}, {\\'start\\': 757, \\'end\\': 761, \\'text\\': \\'(23)\\', \\'ref_id\\': \\'bibref22\\'}], \\'ref_spans\\': [], \\'section\\': \\'acute phase reaction and acute phase protein in marine mammals\\'}, {\\'text\\': \"to assess the response pattern of cetaceans\\' cellular innate immune system, the phagocytosis and the generation of reactive oxygen species of polymorphonuclear leukocytes were investigated.', tags=[24]),\n",
              " TaggedDocument(words='in particular, in vitro ingestion of latex beads and hydrogen peroxide production have been evaluated in beluga whales (delphinapterus leucas) and in bottlenose dolphins (tursiops truncatus) (24, 25) whereas phagocytosis and respiratory burst assay, using whole blood from bottlenose dolphins, were used to assess the antimicrobial activity (26) .', tags=[25]),\n",
              " TaggedDocument(words='in addition, the investigation of apr by analyzing the cytokine expression gives important information on the functionality of lymphoid cells.', tags=[26]),\n",
              " TaggedDocument(words='the production of specie-specific antibodies allows the development of immunological assays for the quantification of cytokine expression useful to investigate the inflammatory response in whales and dolphins.', tags=[27]),\n",
              " TaggedDocument(words='the coding regions of il-2, il-1β, il-6, and tnf-α gene of the beluga whale have been sequenced, and a cytokine-specific rabbit antisera have been produced (27) (28) (29) .', tags=[28]),\n",
              " TaggedDocument(words='in harbor porpoise (phocoena phocoena), the quantification of mrna of il-1β, il-2, il-4, il-6, il-10, and tnf-α have been performed by rt-pcr (30) , and the increase of il-10 was seen in harbor porpoises suffering from long lasting infectious (31) .', tags=[29]),\n",
              " TaggedDocument(words='also in bottlenose dolphins, pacific white-sided dolphins (lagenorhynchus obliquidens), and beluga whales, il-2, il-4, il-10, il-12, il-13, il-18, tnf-α, tgf-β, and interferon (ifn)-γ quantification was performed using rt-pcr (32) .', tags=[30]),\n",
              " TaggedDocument(words='an il-2 receptor expression assay and an il-6 elisa were developed in bottlenose dolphins and killer whale (orcinus orca), respectively (33, 34) .', tags=[31]),\n",
              " TaggedDocument(words='\", \\'cite_spans\\': [{\\'start\\': 381, \\'end\\': 385, \\'text\\': \\'(24,\\', \\'ref_id\\': \\'bibref23\\'}, {\\'start\\': 386, \\'end\\': 389, \\'text\\': \\'25)\\', \\'ref_id\\': \\'bibref24\\'}, {\\'start\\': 531, \\'end\\': 535, \\'text\\': \\'(26)\\', \\'ref_id\\': \\'bibref25\\'}, {\\'start\\': 1047, \\'end\\': 1051, \\'text\\': \\'(27)\\', \\'ref_id\\': \\'bibref26\\'}, {\\'start\\': 1052, \\'end\\': 1056, \\'text\\': \\'(28)\\', \\'ref_id\\': \\'bibref27\\'}, {\\'start\\': 1057, \\'end\\': 1061, \\'text\\': \\'(29)\\', \\'ref_id\\': \\'bibref28\\'}, {\\'start\\': 1206, \\'end\\': 1210, \\'text\\': \\'(30)\\', \\'ref_id\\': \\'bibref29\\'}, {\\'start\\': 1307, \\'end\\': 1311, \\'text\\': \\'(31)\\', \\'ref_id\\': \\'bibref30\\'}, {\\'start\\': 1540, \\'end\\': 1544, \\'text\\': \\'(32)\\', \\'ref_id\\': \\'bibref31\\'}, {\\'start\\': 1683, \\'end\\': 1687, \\'text\\': \\'(33,\\', \\'ref_id\\': \\'bibref32\\'}, {\\'start\\': 1688, \\'end\\': 1691, \\'text\\': \\'34)\\', \\'ref_id\\': \\'bibref33\\'}], \\'ref_spans\\': [], \\'section\\': \\'acute phase reaction and acute phase protein in marine mammals\\'}, {\\'text\\': \\'similarly, both innate and the cell-mediated response were studied in pinnipeds.', tags=[32]),\n",
              " TaggedDocument(words='to better understand the innate response, phagocytic activity of isolated peripheral blood leukocytes was evaluated in harbor seal (phoca vitulina), gray seal (halichoerus grypus), and harp seal (phoca groenlandica) pups, in harbor seal female during lactation and in harbor seal pups admitted to rescue center (35, 36) .', tags=[33]),\n",
              " TaggedDocument(words='the authors found an age-related variation in both pups and adults: phagocytosis increased with age in gray and harbor seal pups, while in female harbor seals decreased from sub-adult to adulthood.', tags=[34]),\n",
              " TaggedDocument(words='at the same time, pups after rehabilitation showed a decreased phagocytic activity, probably due to the decreased stimulation of innate response after therapy.', tags=[35]),\n",
              " TaggedDocument(words='also cytokine response was evaluate in harbor seal.', tags=[36]),\n",
              " TaggedDocument(words='pro-inflammatory cytokine mrna (il-1β, il-6, il-8, and il-12) in pups in a rehabilitation center were higher at admission whilst il-4 was higher before the release (37), demonstrating the recovery from inflammation.', tags=[37]),\n",
              " TaggedDocument(words='recently, a multiplex canine cytokine assay was validate in harbor, gray and harp seal to measure proteins levels in cell culture supernatant of peripheral blood mononuclear cells (pbmc) (38) .', tags=[38]),\n",
              " TaggedDocument(words='\\', \\'cite_spans\\': [{\\'start\\': 392, \\'end\\': 396, \\'text\\': \\'(35,\\', \\'ref_id\\': \\'bibref34\\'}, {\\'start\\': 397, \\'end\\': 400, \\'text\\': \\'36)\\', \\'ref_id\\': \\'bibref35\\'}, {\\'start\\': 1216, \\'end\\': 1220, \\'text\\': \\'(38)\\', \\'ref_id\\': \\'bibref37\\'}], \\'ref_spans\\': [], \\'section\\': \\'acute phase reaction and acute phase protein in marine mammals\\'}, {\\'text\\': \"however, all these techniques are not generally applicable in a clinical setting in which the primary goal is a sensitive diagnostic tool with a rapid turnaround, even if give us important information on factors affecting cetaceans\\' immune system.', tags=[39]),\n",
              " TaggedDocument(words='for this reason, in the past years, several efforts were made to identify laboratory markers of disease in these animals.', tags=[40]),\n",
              " TaggedDocument(words='first parameters tested were wbc and erythrocyte sedimentation rate (39) .', tags=[41]),\n",
              " TaggedDocument(words='however, even if they are inexpensive and rapid, they lack specificity and sensitivity.', tags=[42]),\n",
              " TaggedDocument(words='moreover, changes in wbc occur after several hours after inflammatory stimuli.', tags=[43]),\n",
              " TaggedDocument(words='thus, efforts were directed to identify inflammation at earlier stage (40) .', tags=[44]),\n",
              " TaggedDocument(words='to examine the humoral response, species-specific antibodies against igg were produced and used to evaluate serum igg levels in killer whale by radial immunodiffusion assay (41) and by competitive elisa in bottlenose dolphins (42, 43) .', tags=[45]),\n",
              " TaggedDocument(words='the determination of igg baseline values in free-ranging and in managed dolphins revealed higher levels of immunoglobulin in the first group with several values over the accurate range of the assay, probably due to the higher parasitic load in free-ranging dolphins (43) .', tags=[46]),\n",
              " TaggedDocument(words='\", \\'cite_spans\\': [{\\'start\\': 438, \\'end\\': 442, \\'text\\': \\'(39)\\', \\'ref_id\\': \\'bibref38\\'}, {\\'start\\': 682, \\'end\\': 686, \\'text\\': \\'(40)\\', \\'ref_id\\': \\'bibref39\\'}, {\\'start\\': 862, \\'end\\': 866, \\'text\\': \\'(41)\\', \\'ref_id\\': \\'bibref40\\'}, {\\'start\\': 915, \\'end\\': 919, \\'text\\': \\'(42,\\', \\'ref_id\\': \\'bibref41\\'}, {\\'start\\': 920, \\'end\\': 923, \\'text\\': \\'43)\\', \\'ref_id\\': \\'bibref42\\'}, {\\'start\\': 1192, \\'end\\': 1196, \\'text\\': \\'(43)\\', \\'ref_id\\': \\'bibref42\\'}], \\'ref_spans\\': [], \\'section\\': \\'acute phase reaction and acute phase protein in marine mammals\\'}, {\\'text\\': \\'serum total protein, albumin, globulin and albumin:globulin ratio (a:g) are undoubtedly among the most measured markers in basic health assessment in domestic animals as well as in marine mammals.', tags=[47]),\n",
              " TaggedDocument(words='serum protein electrophoresis is also broadly applied in veterinary medicine and it has the advantage to produce an accurate measurement of albumin and the visualization of globulin fractions (44) .', tags=[48]),\n",
              " TaggedDocument(words='the interpretation of total proteins values and electrophoretic pattern of serum proteins is receiving increased attention also in marine mammals in which a typical pathologic pattern could be identified in inflammatory diseases (40) .', tags=[49]),\n",
              " TaggedDocument(words='reference intervals for these markers are available for free-ranging bottlenose dolphins (45) and, compared to these, recently data on managed dolphins showed slightly lower values of tp, α-globulins, and γ-globulins and higher albumin and albumin/globulins ratio (46) .', tags=[50]),\n",
              " TaggedDocument(words='\\', \\'cite_spans\\': [{\\'start\\': 389, \\'end\\': 393, \\'text\\': \\'(44)\\', \\'ref_id\\': \\'bibref43\\'}, {\\'start\\': 625, \\'end\\': 629, \\'text\\': \\'(40)\\', \\'ref_id\\': \\'bibref39\\'}, {\\'start\\': 721, \\'end\\': 725, \\'text\\': \\'(45)\\', \\'ref_id\\': \\'bibref44\\'}, {\\'start\\': 896, \\'end\\': 900, \\'text\\': \\'(46)\\', \\'ref_id\\': \\'bibref45\\'}], \\'ref_spans\\': [], \\'section\\': \\'acute phase reaction and acute phase protein in marine mammals\\'}, {\\'text\\': \"it\\'s interesting to note that hp, α1-antitrypsin, α1antichymotripsin, and α2-macroglobulin migrate in the α-globulins fraction, while the igg and crp migrate in the γ-globulins fraction.', tags=[51]),\n",
              " TaggedDocument(words='albumin acts as a negative acute phase protein since the synthesis of this protein is decreased during an inflammation (47) .', tags=[52]),\n",
              " TaggedDocument(words='thus, the lower concentration of positive apps associated to a higher concentration of albumin and the consequent higher albumin/globulins ratio could reflect lower antigenic stimuli in managed population compared to the free-ranging populations (36) .', tags=[53]),\n",
              " TaggedDocument(words='serum total protein analysis were used to assess health status in several cetaceans species such as pantropical spotted dolphins (stenella attenuata) (48), beluga (49) , minke whales (balaenoptera acutorostrata) (50) and killer whales (51) as well as in other marine mammals, like harbor seals (phoca vitulina) (52) and walruses (odobenus rosmarus) (53) .', tags=[54]),\n",
              " TaggedDocument(words='in all these species, serum total protein analysis was demonstrated to be one of the most used and commonly accepted marker of inflammation.', tags=[55]),\n",
              " TaggedDocument(words='\", \\'cite_spans\\': [{\\'start\\': 306, \\'end\\': 310, \\'text\\': \\'(47)\\', \\'ref_id\\': \\'bibref46\\'}, {\\'start\\': 559, \\'end\\': 563, \\'text\\': \\'(36)\\', \\'ref_id\\': \\'bibref35\\'}, {\\'start\\': 729, \\'end\\': 733, \\'text\\': \\'(49)\\', \\'ref_id\\': \\'bibref48\\'}, {\\'start\\': 915, \\'end\\': 919, \\'text\\': \\'(53)\\', \\'ref_id\\': \\'bibref52\\'}], \\'ref_spans\\': [], \\'section\\': \\'acute phase reaction and acute phase protein in marine mammals\\'}, {\\'text\\': \\'however, specific apps have demonstrated their superior role as early markers of inflammation, so based on the results obtained in humans and companion animals, several positive apps were tested in marine mammals ( table 1) .', tags=[56]),\n",
              " TaggedDocument(words='published works had the primary aims to evaluate the feasibility of the assays to measure the apps, to validate the antibody-based assay and to determine the ris.', tags=[57]),\n",
              " TaggedDocument(words='in bottlenose dolphins three apps (crp, saa, and hp) were tested, even if not always complete validation studies were performed (54, 61) .', tags=[58]),\n",
              " TaggedDocument(words='for these apps, the authors established the ris in free-ranging and managed dolphins using automated assays (54) and they found significantly lower saa and higher hp levels in free ranging animals.', tags=[59]),\n",
              " TaggedDocument(words='the only clinical significance of these alteration was a higher ability to detect chronic inflammation for hp.', tags=[60]),\n",
              " TaggedDocument(words='regarding hp, segawa and colleagues validated commercially available hp-elisa and hp-hemoglobin binding assay in bottlenose dolphins with \\\\\\'\\\\\\'acceptable\" intra-and inter-assay imprecision (cv: 3.3% healthy dolphins and 3.5% inflamed dolphins; cv: 10.4% healthy dolphins and 21.7% inflamed dolphins) and demonstrated that hp levels in the serum increase under inflammatory conditions (62) .', tags=[61]),\n",
              " TaggedDocument(words=\"', 'cite_spans': [{'start': 517, 'end': 521, 'text': '(54,', 'ref_id': 'bibref53'}, {'start': 522, 'end': 525, 'text': '61)', 'ref_id': 'bibref60'}, {'start': 1218, 'end': 1222, 'text': '(62)', 'ref_id': 'bibref62'}], 'ref_spans': [{'start': 215, 'end': 223, 'text': 'table 1)', 'ref_id': 'tabref0'}], 'section': 'acute phase reaction and acute phase protein in marine mammals'}, {'text': 'positive apps were tested also in florida manatees (trichechus manatus latirostris) to define the more accurate marker of inflammation.\", tags=[62]),\n",
              " TaggedDocument(words='five different apps were tested: agp, crp, hp, fibrinogen, and saa.', tags=[63]),\n",
              " TaggedDocument(words='saa showed the highest diagnostic sensitivity and specificity (90% for both sensitivity and specificity) in the detection of inflammatory diseases, the diagnostic specificity of hp and fibrinogen were 93 and 95%, respectively, while their diagnostic sensitivity were 60 and 40%, respectively, (56) .', tags=[64]),\n",
              " TaggedDocument(words='when used in stranded manatee suffering from cold stress and trauma, saa showed 93% of sensitivity and 98% of specificity in detecting diseased animals (57) .', tags=[65]),\n",
              " TaggedDocument(words='by contrast, the abs used for the determination of agp and crp did not cross-react in this species (56) .', tags=[66]),\n",
              " TaggedDocument(words=\"', 'cite_spans': [{'start': 497, 'end': 501, 'text': '(56)', 'ref_id': 'bibref55'}, {'start': 656, 'end': 660, 'text': '(57)', 'ref_id': 'bibref56'}, {'start': 762, 'end': 766, 'text': '(56)', 'ref_id': 'bibref55'}], 'ref_spans': [], 'section': 'acute phase reaction and acute phase protein in marine mammals'}, {'text': 'in harbor seal, an ab anti-crp and a competitive immunoassay was produced (63), but hp is probably the app most used in pinnipeds.\", tags=[67]),\n",
              " TaggedDocument(words='a multispecies assay based on hemoglobin binding capacity was used to demonstrate as hp is a sensitive marker of the health vs. disease status in harbor seal (64) .', tags=[68]),\n",
              " TaggedDocument(words='in seal pups admitted in a rescue center.', tags=[69]),\n",
              " TaggedDocument(words='hp, total protein, igg and globulin values correlated positively, but hp levels increased during the hospitalization, probably reflecting age-related changes (35) .', tags=[70]),\n",
              " TaggedDocument(words='hp is considered a health marker also in steller sea lions (eumetopias jubatus): significantly higher levels of hp were found in declining population compared to more stable ones (58) .', tags=[71]),\n",
              " TaggedDocument(words='however, also genetic differences between distant and isolated population of wild animals could be the causes of this difference, not only a pathological condition.', tags=[72]),\n",
              " TaggedDocument(words=\"', 'cite_spans': [{'start': 289, 'end': 293, 'text': '(64)', 'ref_id': 'bibref64'}, {'start': 496, 'end': 500, 'text': '(35)', 'ref_id': 'bibref34'}, {'start': 682, 'end': 686, 'text': '(58)', 'ref_id': 'bibref57'}], 'ref_spans': [], 'section': 'acute phase reaction and acute phase protein in marine mammals'}, {'text': 'if some data on marine mammals positive apps are available in literature, quite surprising are the lack of data available on negative apps.\", tags=[73]),\n",
              " TaggedDocument(words='for these reasons, the possibility to evaluate the usefulness of an \"app value index\" is still far from being applied.', tags=[74]),\n",
              " TaggedDocument(words=\"', 'cite_spans': [], 'ref_spans': [], 'section': 'acute phase reaction and acute phase protein in marine mammals'}, {'text': 'the availability of sensitive markers of inflammation both for free-ranging and managed marine mammals is nowadays considered fundamental to evaluate the health status and, in rehabilitation setting, to monitor the response to therapy and to define the prognosis.\", tags=[75]),\n",
              " TaggedDocument(words='as serum markers, the apps have several advantages: they have longer stability compared to other blood component such as wbc; they can be performed on frozen serum, thus the samples can be shipped to references laboratories; some assays can be automated to obtain results in an excellent turnaround time.', tags=[76]),\n",
              " TaggedDocument(words=\"', 'cite_spans': [], 'ref_spans': [], 'section': 'acute phase protein in marine mammals: challenges and future developments'}, {'text': 'however, is important to consider that the knowledge about apps in one species cannot be readily generalized to another species, in which healthy levels, response to inflammation or infection, and prognostic significance may be different (65) .\", tags=[77]),\n",
              " TaggedDocument(words='moreover, the evolution of marine mammals and their adaptation throughout the millennia to an aquatic environment had led to a different physiology and metabolism compared to terrestrial mammals.', tags=[78]),\n",
              " TaggedDocument(words='thus, the understanding of the genetic, phenotypical and biochemical properties of marine mammals apps are essential prior to using them as a new biomarker.', tags=[79]),\n",
              " TaggedDocument(words=\"', 'cite_spans': [{'start': 238, 'end': 242, 'text': '(65)', 'ref_id': 'bibref65'}], 'ref_spans': [], 'section': 'acute phase protein in marine mammals: challenges and future developments'}, {'text': 'an example of how the biochemical properties influence the analytic method is paroxonase-1 (pon1), a hdl-bound esterase which protects against organophosphate compounds, acts as negative app and as oxidative stress marker.\", tags=[80]),\n",
              " TaggedDocument(words='pon1 is usually assessed by enzymatic method and, based on the different pon1 functions, several substrates have been identified to evaluate serum pon1 activities.', tags=[81]),\n",
              " TaggedDocument(words='nevertheless, both in humans as in some terrestrial mammals, pon1 gene polymorphisms highly influence the enzymatic activity toward different substrate: the single-nucleotide polymorphisms (snps) leu55met and gln192arg increase the paraoxonase activity (66) in humans and different pon1 genotypes influence activities toward paraoxon and phenyl-acetate in rabbit (67) .', tags=[82]),\n",
              " TaggedDocument(words='also in cows, some snps in the promotor region of pon1 gene are associated with serum pon1 activity (68) .', tags=[83]),\n",
              " TaggedDocument(words='recently, a phylogenetic study on convergent functional losses across marine mammals, has identified a pon1 functional loss in marine mammals, probably related to their different lipid metabolism and fatty acid oxidation due to adaptation to the marine environment and a high concentration of ω-3 fatty acids on their diet.', tags=[84]),\n",
              " TaggedDocument(words='as a consequence, in several marine mammals species paroxonase activity is very low, while enzymatic activity against other pon1 substrates is still present, such as arylesterase activity (69) .', tags=[85]),\n",
              " TaggedDocument(words='for these reasons, the use of classical enzymatic assays is hampered in these animals and further studies are needed to elucidate the role of pon1 as possible negative app, oxidative stress marker and the consequences of its inability to detoxify organophosphates compounds.', tags=[86]),\n",
              " TaggedDocument(words='\\', \\'cite_spans\\': [{\\'start\\': 750, \\'end\\': 754, \\'text\\': \\'(67)\\', \\'ref_id\\': \\'bibref67\\'}, {\\'start\\': 857, \\'end\\': 861, \\'text\\': \\'(68)\\', \\'ref_id\\': \\'bibref68\\'}, {\\'start\\': 1376, \\'end\\': 1380, \\'text\\': \\'(69)\\', \\'ref_id\\': \\'bibref69\\'}], \\'ref_spans\\': [], \\'section\\': \\'acute phase protein in marine mammals: challenges and future developments\\'}, {\\'text\\': \"from an analytical point of view, another challenge in the evaluation of apps in marine mammals is the need of speciesspecific assays, especially for the immunological assay, such as elisa or immunoturbidimetry.', tags=[87]),\n",
              " TaggedDocument(words='this means the development of a de-novo method, often a time-consuming and expensive approach, or the validation of a commercial available assay used in other species (65) .', tags=[88]),\n",
              " TaggedDocument(words='the latter approach is surely the most used in veterinary medicine, in which some human assays were validated for dogs, cats and horses (62) .', tags=[89]),\n",
              " TaggedDocument(words='however, even if some apps appeared highly conserved among species, an accurate validation of antibody cross reactivity is needed as well as species specific standards and control material (54) .', tags=[90]),\n",
              " TaggedDocument(words=\"among positive apps, saa is the most used across different species: it appeared as the most conserved app in mammals even if some difference in circulating isoforms were reported (61) and it's considered a major app in all the mammals in which it was investigated (65) .\", tags=[91]),\n",
              " TaggedDocument(words='some commercial saa assays showed good results also in marine mammals, such as bottlenose dolphin, manatee and striped dolphin (stenella ceoreloualba) (54, 56, 70) and its use as diagnostic and prognostic marker appears nowadays the most promising.', tags=[92]),\n",
              " TaggedDocument(words='\", \\'cite_spans\\': [{\\'start\\': 379, \\'end\\': 383, \\'text\\': \\'(65)\\', \\'ref_id\\': \\'bibref65\\'}, {\\'start\\': 522, \\'end\\': 526, \\'text\\': \\'(62)\\', \\'ref_id\\': \\'bibref62\\'}, {\\'start\\': 718, \\'end\\': 722, \\'text\\': \\'(54)\\', \\'ref_id\\': \\'bibref53\\'}, {\\'start\\': 989, \\'end\\': 993, \\'text\\': \\'(65)\\', \\'ref_id\\': \\'bibref65\\'}, {\\'start\\': 1147, \\'end\\': 1151, \\'text\\': \\'(54,\\', \\'ref_id\\': \\'bibref53\\'}, {\\'start\\': 1152, \\'end\\': 1155, \\'text\\': \\'56,\\', \\'ref_id\\': \\'bibref55\\'}, {\\'start\\': 1156, \\'end\\': 1159, \\'text\\': \\'70)\\', \\'ref_id\\': \\'bibref70\\'}], \\'ref_spans\\': [], \\'section\\': \\'acute phase protein in marine mammals: challenges and future developments\\'}, {\\'text\\': \\'to obtain accurate data, all the pre-analytical factors that could influence the results should be taken into consideration.', tags=[93]),\n",
              " TaggedDocument(words='the effect of storage, temperature and different anticoagulant had to be evaluated in a correct validation process as well as the interference of hemolysis and lipemia, as done in other species (5) .', tags=[94]),\n",
              " TaggedDocument(words=\"', 'cite_spans': [{'start': 319, 'end': 322, 'text': '(5)', 'ref_id': 'bibref4'}], 'ref_spans': [], 'section': 'acute phase protein in marine mammals: challenges and future developments'}, {'text': 'the application of a novel biomarker required a full evaluation of all the analytical performances and the clinical value.\", tags=[95]),\n",
              " TaggedDocument(words='this process is usually divided in 4 steps: the assessment of analytical features (precision, accuracy, detection limits), the overlap performance (the ability to detect difference between healthy and diseased animals), the assessment of diagnostic capacity (sensitivity, specificity, accuracy, positive, and negative predictive values) and, at the end, the evaluation of the outcome of the new methods (which is the advantage of the test and its influence in the patient management) (65) .', tags=[96]),\n",
              " TaggedDocument(words='in veterinary medicine, the validation studies do not always follow all these steps, mainly due to the lack of resources or technical limitation (44, 65) .', tags=[97]),\n",
              " TaggedDocument(words='also in marine mammals, the majority of studies had performed only some steps (44, 54, 56, 61, 62) .', tags=[98]),\n",
              " TaggedDocument(words='this is mainly due to the limitation in species-specific reagents, the number of samples from animal with known health status and, last but not least, the capability to generate appropriate reference intervals, hampered the possibility to perform complete validation studies.', tags=[99]),\n",
              " TaggedDocument(words=\"', 'cite_spans': [{'start': 607, 'end': 611, 'text': '(65)', 'ref_id': 'bibref65'}, {'start': 759, 'end': 763, 'text': '(44,', 'ref_id': 'bibref43'}, {'start': 764, 'end': 767, 'text': '65)', 'ref_id': 'bibref65'}, {'start': 848, 'end': 852, 'text': '(44,', 'ref_id': 'bibref43'}, {'start': 853, 'end': 856, 'text': '54,', 'ref_id': 'bibref53'}, {'start': 857, 'end': 860, 'text': '56,', 'ref_id': 'bibref55'}, {'start': 861, 'end': 864, 'text': '61,', 'ref_id': 'bibref60'}, {'start': 865, 'end': 868, 'text': '62)', 'ref_id': 'bibref62'}], 'ref_spans': [], 'section': 'acute phase protein in marine mammals: challenges and future developments'}, {'text': 'population-based reference intervals derived from an appropriate group of reference individuals are usually required for diagnostic purpose (71) .\", tags=[100]),\n",
              " TaggedDocument(words='however, a number of biological factors have to be taken in consideration to select the appropriate reference population.', tags=[101]),\n",
              " TaggedDocument(words='surely, age, sex and pregnancy could be used for partitioning (45, 72) , but in marine mammals greater attention should be given to the difference between wild and managed animals.', tags=[102]),\n",
              " TaggedDocument(words='serum protein electrophoresis values obtained in managed bottlenose dolphins showed lower total proteins and higher albumin levels compared to reference intervals derived from free-ranging (46) while 9 wild-caught manatees, apparently clinically healthy, had saa level above reference limit (56) .', tags=[103]),\n",
              " TaggedDocument(words='these data could indicate a trend to an inflammatory status or the presence of subclinical inflammation in free-ranging animals which are more exposed to immunological stimuli.', tags=[104]),\n",
              " TaggedDocument(words='in any case, this highlights the need to define appropriate reference intervals for animals living in different environment to have an accurate toll for the evaluation of clinical condition.', tags=[105]),\n",
              " TaggedDocument(words=\"', 'cite_spans': [{'start': 140, 'end': 144, 'text': '(71)', 'ref_id': 'bibref72'}, {'start': 331, 'end': 335, 'text': '(45,', 'ref_id': 'bibref44'}, {'start': 336, 'end': 339, 'text': '72)', 'ref_id': none}, {'start': 741, 'end': 745, 'text': '(56)', 'ref_id': 'bibref55'}], 'ref_spans': [], 'section': 'acute phase protein in marine mammals: challenges and future developments'}, {'text': 'compared to human and companion animals, the use of apps in marine mammals is just getting started.\", tags=[106]),\n",
              " TaggedDocument(words='the increasing need of knowledge on immune system and its response against infectious diseases or chemical pollutants and the request of more sensitive inflammation markers have increased the effort of researchers to study the apr and apps.', tags=[107]),\n",
              " TaggedDocument(words='even if apps are considered a sensitive, but non-specific marker of inflammation, some studies revealed that, in some infectious diseases, apps showed a specific behavior and biochemical features.', tags=[108]),\n",
              " TaggedDocument(words='one example is the modification of the glycan moiety of agp in feline infectious peritonitis, fiv and felv, influencing the host-pathogens interaction and the immune response (73) (74) (75) .', tags=[109]),\n",
              " TaggedDocument(words='currently, some of the greatest threats for wild marine mammals is pathogens, like morbillivirus, herpesvirus, brucella ceti, and toxoplasma gondii (76): the evaluation of apr and apps patterns during these infectious diseases could lead to the identification of a distinctive response of the immune system and increase the understanding of hostpathogen interaction.', tags=[110]),\n",
              " TaggedDocument(words=\"', 'cite_spans': [{'start': 713, 'end': 717, 'text': '(73)', 'ref_id': 'bibref73'}, {'start': 718, 'end': 722, 'text': '(74)', 'ref_id': 'bibref74'}, {'start': 723, 'end': 727, 'text': '(75)', 'ref_id': 'bibref75'}], 'ref_spans': [], 'section': 'acute phase protein in marine mammals: challenges and future developments'}, {'text': 'secondly, for managed or rescued animals, the forthcoming needs are the increase of automated assays, the standardization of procedures across laboratories and the discovery of new markers, for example negative apps, to generate an app index also in marine mammals.\", tags=[111]),\n",
              " TaggedDocument(words='these new tools will certainly increase the diagnostic and prognostic skills for health assessment and, especially for stranded animals, the development of new \"health status\" markers will provide valuable resources in evaluating the response to treatment and rehabilitation prior to the release into the wild.', tags=[112]),\n",
              " TaggedDocument(words=\"', 'cite_spans': [], 'ref_spans': [], 'section': 'acute phase protein in marine mammals: challenges and future developments'}, {'text': 'mg and fb analyzed the literature review, designed, and wrote the review.\", tags=[113]),\n",
              " TaggedDocument(words=\"', 'cite_spans': [], 'ref_spans': [], 'section': 'author contributions'}]\", tags=[114]),\n",
              " TaggedDocument(words=\"[{'text': 'importance despite extensive global efforts, secondary bacterial pneumonia still represents a major cause of death in developing countries and is an important cause of long-term functional disability arising from lung tissue damage.\", tags=[115]),\n",
              " TaggedDocument(words='newer approaches to improving treatment outcomes are needed to reduce the significant morbidity and mortality caused by infectious diseases.', tags=[116]),\n",
              " TaggedDocument(words='our study, using an experimental mouse model of secondary s. pneumoniae infection, shows that a multimodal treatment that concurrently targets host and pathogen factors improved lung tissue integrity and extended the median survival time of infected mice.', tags=[117]),\n",
              " TaggedDocument(words='the immunoneutralization of host protein cangptl4 reduced the severity of pulmonary edema and damage.', tags=[118]),\n",
              " TaggedDocument(words='we show that host-directed therapeutic strategies as well as neutralizing antibodies against pathogen virulence factors are viable adjuncts to standard antimicrobial treatments such as antibiotics.', tags=[119]),\n",
              " TaggedDocument(words='in view of their different modes of action compared to antibiotics, concurrent immunotherapies using antibodies are potentially efficacious against secondary pneumococcal pneumonia caused by antibiotic-resistant pathogens.', tags=[120]),\n",
              " TaggedDocument(words='keywords angptl4, secondary bacterial pneumonia, antibiotic resistance, hostdirected immunotherapeutics, vascular permeability b acterial pneumonia may present as a primary disease or as the terminal event in individuals who are already debilitated.', tags=[121]),\n",
              " TaggedDocument(words='secondary bacterial infections resulting from an influenza infection caused over half of the deaths during the 1918 flu pandemic and remain one of the leading causes of mortality due to flu infection (1) .', tags=[122]),\n",
              " TaggedDocument(words='streptococcus pneumoniae (s. pneumoniae) is the most common pathogen responsible for secondary bacterial infections during influenza pandemics (2, 3) .', tags=[123]),\n",
              " TaggedDocument(words='during the 2009 h1n1 pandemic, although antibiotics were widely used for treatment, secondary bacterial infection was detected in 55% of the fatal cases, with 26% of mortality being attributed to secondary s. pneumoniae infection (4) .', tags=[124]),\n",
              " TaggedDocument(words='that value increased to 34% for patients in intensive care units (5) .', tags=[125]),\n",
              " TaggedDocument(words='current vaccines against s. pneumoniae, such as the 13-valent pneumococcal conjugate vaccine, have reduced pneumococcal infection rates (6, 7) .', tags=[126]),\n",
              " TaggedDocument(words='however, the benefits of vaccination are also significantly diminished by epidemiological shifts (8) .', tags=[127]),\n",
              " TaggedDocument(words='among the six clinical trials that evaluated vaccine effectiveness against all-cause pneumonia in older adults, only one trial demonstrated a risk reduction in the vaccinated group (9) .', tags=[128]),\n",
              " TaggedDocument(words='these findings underscore the importance of managing patients with influenza who may also have bacterial pneumonia.', tags=[129]),\n",
              " TaggedDocument(words=\"', 'cite_spans': [{'start': 1603, 'end': 1606, 'text': '(1)', 'ref_id': 'bibref0'}, {'start': 1752, 'end': 1755, 'text': '(2,', 'ref_id': 'bibref1'}, {'start': 1756, 'end': 1758, 'text': '3)', 'ref_id': 'bibref2'}, {'start': 1991, 'end': 1994, 'text': '(4)', 'ref_id': 'bibref3'}, {'start': 2062, 'end': 2065, 'text': '(5)', 'ref_id': 'bibref4'}, {'start': 2204, 'end': 2207, 'text': '(6,', 'ref_id': 'bibref5'}, {'start': 2208, 'end': 2210, 'text': '7)', 'ref_id': 'bibref6'}, {'start': 2310, 'end': 2313, 'text': '(8)', 'ref_id': 'bibref7'}, {'start': 2497, 'end': 2500, 'text': '(9)', 'ref_id': 'bibref8'}], 'ref_spans': [], 'section': ''}, {'text': 'although antibiotics remain the mainstay of treatment for bacterial pneumonia, their broad usage has limitations and may cause certain complications.\", tags=[130]),\n",
              " TaggedDocument(words='while bacteriolytic antibiotic treatment may eradicate s. pneumoniae, it causes the release of cytoplasmic virulence factors such as pneumolysin (10, 11) , which is a pore-forming toxin produced by all clinical isolates of s. pneumoniae (12) .', tags=[131]),\n",
              " TaggedDocument(words='this results in clinical complications even after the eradication of the pathogen (13) .', tags=[132]),\n",
              " TaggedDocument(words='during a lung infection, free pneumolysin causes a disruption of the alveolus-capillary barrier, leading to pulmonary leakage and exacerbating disease severity (14) .', tags=[133]),\n",
              " TaggedDocument(words='in addition, antibiotic resistance is recognized as a growing global threat.', tags=[134]),\n",
              " TaggedDocument(words='resistance to new antibiotics is emerging at an ever-increasing pace, and at the same time, the rate of development of new antibiotics has slowed substantially.', tags=[135]),\n",
              " TaggedDocument(words='the increasing incidence of drug-resistant s. pneumoniae (drsp) has complicated the treatment and management of various pneumococcal disease manifestations (15) .', tags=[136]),\n",
              " TaggedDocument(words='over the years, s. pneumoniae has continued to develop antibiotic resistance and poses a serious challenge to public health, particularly in asian countries, which have among the highest rates of antibiotic resistance in the world (16, 17) .', tags=[137]),\n",
              " TaggedDocument(words='in asia, among the isolates belonging to the most prominent non-pcv7 serotype, 19a, 86.0% and 79.8% showed erythromycin resistance and multidrug resistance, respectively (16) .', tags=[138]),\n",
              " TaggedDocument(words='clearly, novel alternative countermeasures against pneumonia are urgently needed (18) (19) (20) .', tags=[139]),\n",
              " TaggedDocument(words=\"', 'cite_spans': [{'start': 295, 'end': 299, 'text': '(10,', 'ref_id': 'bibref9'}, {'start': 300, 'end': 303, 'text': '11)', 'ref_id': 'bibref10'}, {'start': 387, 'end': 391, 'text': '(12)', 'ref_id': 'bibref11'}, {'start': 476, 'end': 480, 'text': '(13)', 'ref_id': 'bibref12'}, {'start': 643, 'end': 647, 'text': '(14)', 'ref_id': 'bibref13'}, {'start': 1044, 'end': 1048, 'text': '(15)', 'ref_id': 'bibref14'}, {'start': 1282, 'end': 1286, 'text': '(16,', 'ref_id': 'bibref15'}, {'start': 1287, 'end': 1290, 'text': '17)', 'ref_id': 'bibref16'}, {'start': 1463, 'end': 1467, 'text': '(16)', 'ref_id': 'bibref15'}, {'start': 1551, 'end': 1555, 'text': '(18)', 'ref_id': 'bibref17'}, {'start': 1556, 'end': 1560, 'text': '(19)', 'ref_id': 'bibref18'}, {'start': 1561, 'end': 1565, 'text': '(20)', 'ref_id': 'bibref19'}], 'ref_spans': [], 'section': ''}, {'text': 'many strategies that exploit components of the immune system are being actively pursued, although most are still in their infancy (21, 22) .\", tags=[140]),\n",
              " TaggedDocument(words='immunotherapy with antibod-ies has taken a leading role in this field.', tags=[141]),\n",
              " TaggedDocument(words='in view of their different modes of action compared to antibiotics, antibodies are effective against infections with antibioticresistant pathogens.', tags=[142]),\n",
              " TaggedDocument(words='the synergistic use of antibodies with antibiotics can be an effective approach to managing difficult-to-treat pneumonia.', tags=[143]),\n",
              " TaggedDocument(words='high-throughput rna sequencing of lung tissue samples from patients during the 1918 and 2009 influenza pandemics revealed that the angiopoietin-like 4 protein (angptl4) was one of the most significantly upregulated mrnas (23) .', tags=[144]),\n",
              " TaggedDocument(words='we previously showed that upregulation of the c-terminal angptl4 fragment (cangptl4) was associated with increased severity of pulmonary leakage and damage in primary influenza pneumonia (24) .', tags=[145]),\n",
              " TaggedDocument(words='angptl4 knockout (ϫ/ϫ) mice exhibit reduced pulmonary edema and improved lung tissue integrity in primary influenza pneumonia (24) .', tags=[146]),\n",
              " TaggedDocument(words='these observations underscore the importance and conserved role of cangptl4 in the host response to infection-induced lung injury.', tags=[147]),\n",
              " TaggedDocument(words='in this study, we examined the host response to concurrent treatment of secondary bacterial pneumonia with a neutralizing anti-cangptl4 antibody together with antibiotics and/or a bacterial pneumolysin-targeted antibody.', tags=[148]),\n",
              " TaggedDocument(words=\"', 'cite_spans': [{'start': 130, 'end': 134, 'text': '(21,', 'ref_id': 'bibref20'}, {'start': 135, 'end': 138, 'text': '22)', 'ref_id': 'bibref21'}, {'start': 703, 'end': 707, 'text': '(23)', 'ref_id': 'bibref22'}, {'start': 897, 'end': 901, 'text': '(24)', 'ref_id': 'bibref23'}, {'start': 1030, 'end': 1034, 'text': '(24)', 'ref_id': 'bibref23'}], 'ref_spans': [], 'section': ''}, {'text': 'secondary bacterial infections following primary influenza compromise pulmonary integrity and augment lung edema.\", tags=[149]),\n",
              " TaggedDocument(words='among the clinical cases of influenza infection, the associated secondary bacterial pneumonia is a leading cause of death (1), with s. pneumoniae being the most common causative bacterium (2, 3) .', tags=[150]),\n",
              " TaggedDocument(words='the most prevalent serotype encountered in the asian population is 19f, whereas serotype 3 is more virulent (16, 25) .', tags=[151]),\n",
              " TaggedDocument(words='to address the possible role of cangptl4 in secondary pneumococcal pneumonia, we developed a sequential dual-infection mouse model, mimicking the clinical scenario wherein patients with a primary influenza infection are susceptible to secondary pneumococcal pneumonia.', tags=[152]),\n",
              " TaggedDocument(words='mice were intratracheally infected with the influenza virus on day 0 and subsequently infected intratracheally with either s. pneumoniae serotype 3 (s3) or 19f at 7 days post-influenza infection (dpi) (fig.', tags=[153]),\n",
              " TaggedDocument(words='1a) .', tags=[154]),\n",
              " TaggedDocument(words=\"', 'cite_spans': [{'start': 302, 'end': 305, 'text': '(2,', 'ref_id': 'bibref1'}, {'start': 306, 'end': 308, 'text': '3)', 'ref_id': 'bibref2'}, {'start': 419, 'end': 423, 'text': '(16,', 'ref_id': 'bibref15'}, {'start': 424, 'end': 427, 'text': '25)', 'ref_id': 'bibref24'}], 'ref_spans': [{'start': 900, 'end': 909, 'text': '(fig.\", tags=[155]),\n",
              " TaggedDocument(words=\"1a)', 'ref_id': 'figref0'}], 'section': 'results'}, {'text': 'next, we examined the host expression profile and the pathological phenotype of the lung tissues in this sequential dual-infection mouse model.\", tags=[156]),\n",
              " TaggedDocument(words='the bronchiolar epithelium and alveolar tissues were infiltrated with immune cells and damaged by the influenza virus infection at 7 dpi prior to bacterial challenge (fig.', tags=[157]),\n",
              " TaggedDocument(words='1a) .', tags=[158]),\n",
              " TaggedDocument(words='from 8 to 11 dpi, lungs were harvested daily from mice infected by the influenza virus (flu), bacteria (s3 or 19f), or influenza with bacterial superinfection (fluϩs3 or fluϩ19f).', tags=[159]),\n",
              " TaggedDocument(words='to assess the antibody therapy improves bacterial pneumonia survival ® extent of edema in the infected lungs, the volumes of the harvested lung lobes were measured.', tags=[160]),\n",
              " TaggedDocument(words='lung lobes with more edema display larger volumes due to fluid infiltration from the circulation (fig.', tags=[161]),\n",
              " TaggedDocument(words='1b) .', tags=[162]),\n",
              " TaggedDocument(words='the lungs of the primary influenza-infected mice showed a small, but significant, 1.5-fold increase in lung volume, while primary bacterial 19fand s3-infected lungs exhibited no significant change in lung volume compared with the sham-infected lungs (fig.', tags=[163]),\n",
              " TaggedDocument(words='1c) .', tags=[164]),\n",
              " TaggedDocument(words='secondary bacterial infection resulted in significantly greater edema than primary influenza infection.', tags=[165]),\n",
              " TaggedDocument(words='they also showed clear pneumococcal serotype-specific patterns ( fig.', tags=[166]),\n",
              " TaggedDocument(words='1b and c) .', tags=[167]),\n",
              " TaggedDocument(words='mice infected with influenza and serotype 3 of s. pneumoniae (fluϩs3) reached the criteria for euthanasia (i.e., at least 30% loss of their body weight) before 11 dpi (fig.', tags=[168]),\n",
              " TaggedDocument(words='1b) .', tags=[169]),\n",
              " TaggedDocument(words='the lungs of mice infected with fluϩs3 displayed a significant ն2.0-fold increase in lung lobe volume compared with shaminfected lungs (fig.', tags=[170]),\n",
              " TaggedDocument(words='1c ).', tags=[171]),\n",
              " TaggedDocument(words='s. pneumoniae cells were detected in the pulmonary epithelium and alveolar spaces, as determined by fluorescence in situ hybridization (fish).', tags=[172]),\n",
              " TaggedDocument(words='the fluid-filled alveolar spaces may encourage bacterial growth, and s. pneumoniae cells were detected in abundance in those spaces (see fig.', tags=[173]),\n",
              " TaggedDocument(words='s1a in the supplemental material).', tags=[174]),\n",
              " TaggedDocument(words=\"', 'cite_spans': [], 'ref_spans': [{'start': 310, 'end': 319, 'text': '(fig.\", tags=[175]),\n",
              " TaggedDocument(words=\"1a)', 'ref_id': 'figref0'}, {'start': 764, 'end': 773, 'text': '(fig.\", tags=[176]),\n",
              " TaggedDocument(words=\"1b)', 'ref_id': 'figref0'}, {'start': 1026, 'end': 1035, 'text': '(fig.\", tags=[177]),\n",
              " TaggedDocument(words=\"1c)', 'ref_id': 'figref0'}, {'start': 1207, 'end': 1221, 'text': 'fig.\", tags=[178]),\n",
              " TaggedDocument(words=\"1b and c)', 'ref_id': 'figref0'}, {'start': 1391, 'end': 1400, 'text': '(fig.\", tags=[179]),\n",
              " TaggedDocument(words=\"1b)', 'ref_id': 'figref0'}, {'start': 1538, 'end': 1546, 'text': '(fig.\", tags=[180]),\n",
              " TaggedDocument(words=\"1c', 'ref_id': 'figref0'}, {'start': 1830, 'end': 1838, 'text': 'fig.\", tags=[181]),\n",
              " TaggedDocument(words=\"s1a', 'ref_id': 'figref0'}], 'section': 'results'}, {'text': 'histological analysis of the lungs revealed significantly greater lung tissue damage in secondary pneumococcal infections compared with primary influenza infection alone (fig.\", tags=[182]),\n",
              " TaggedDocument(words='s1b ).', tags=[183]),\n",
              " TaggedDocument(words='regions of lung tissue from fluϩs3-superinfected mice lost the basic structure of the alveolar walls and were replaced with excessive fluid arising from severe lung edema.', tags=[184]),\n",
              " TaggedDocument(words='compared to the fluϩs3 mice, the fluϩ19f-superinfected mice displayed better preserved alveolar structures, although there was still significantly more fluid infiltration in the alveolar spaces compared to mice with influenza infection alone.', tags=[185]),\n",
              " TaggedDocument(words='more intra-alveolar erythrocytes and immune cells infiltrated the lung parenchyma in influenza-infected mice than in primary bacterial pneumonia-infected mice.', tags=[186]),\n",
              " TaggedDocument(words='the lungs of primary bacterial pneumonia-infected mice exhibited pulmonary tissue morphology similar to that of healthy control lungs, suggesting that primary bacterial infection did not cause noticeable tissue damage.', tags=[187]),\n",
              " TaggedDocument(words='the trends in lung tissue damage among the different experimental groups were indicated by the morphology of the alveolar structures and the percentage of the intact alveoli compared to healthy lung lobes.', tags=[188]),\n",
              " TaggedDocument(words='sham-infected, s3-infected, and 19f-infected mice showed uncompromised alveolar space integrity, whereas secondary pneumococcal pneumonia-infected mice suffered more substantial lung tissue injury than influenza-infected mice.', tags=[189]),\n",
              " TaggedDocument(words='secondary pneumococcal pneumonia-infected mice revealed distinct serotype specificity, with fluϩs3 mice suffering more severe edema and loss of alveolar structures than fluϩ19f mice (fig.', tags=[190]),\n",
              " TaggedDocument(words='s1c ).', tags=[191]),\n",
              " TaggedDocument(words='taken together, secondary pneumococcal infection following primary influenza infection significantly increased the severity of lung edema and pulmonary tissue damage in a serotype-specific manner.', tags=[192]),\n",
              " TaggedDocument(words=\"', 'cite_spans': [], 'ref_spans': [{'start': 170, 'end': 179, 'text': '(fig.\", tags=[193]),\n",
              " TaggedDocument(words=\"s1b', 'ref_id': 'figref0'}, {'start': 1592, 'end': 1601, 'text': '(fig.\", tags=[194]),\n",
              " TaggedDocument(words=\"s1c', 'ref_id': 'figref0'}], 'section': 'results'}, {'text': 'cangptl4 expression is upregulated in the lung tissues of mice with secondary pneumococcal pneumonia.\", tags=[195]),\n",
              " TaggedDocument(words='in correlation with the severity of lung damage, quantitative pcr (qpcr) analysis showed that angptl4 mrna levels peaked at 9 dpi in lungs infected with flu (9-fold), 19f (4-fold), s3 (2-fold), fluϩ19f (7.5-fold), and fluϩs3 (10-fold) compared to sham-infected lungs ( fig.', tags=[196]),\n",
              " TaggedDocument(words='2a) .', tags=[197]),\n",
              " TaggedDocument(words='immunoblot analysis revealed elevated levels of cangptl4 protein from 8 to 10 dpi across all of the diseased lungs compared to the healthy lungs (fig.', tags=[198]),\n",
              " TaggedDocument(words='2b ).', tags=[199]),\n",
              " TaggedDocument(words='immunofluorescence staining of the lung tissue revealed a widespread distribution of cangptl4 in mice with primary influenza and secondary bacterial pneumonia (fluϩs3 and fluϩ19f) at all examined time points (fig.', tags=[200]),\n",
              " TaggedDocument(words='2c ).', tags=[201]),\n",
              " TaggedDocument(words='in contrast, primary bacterial pneumonia-infected lungs showed cangptl4 immunostaining patterns that were similar to those in healthy control lung sections, in which cangptl4 was restricted to the bronchiolar structures (fig.', tags=[202]),\n",
              " TaggedDocument(words='2c) .', tags=[203]),\n",
              " TaggedDocument(words='thus, elevated cangptl4 expression levels correlate well with pulmonary damage in secondary bacterial pneumonia.', tags=[204]),\n",
              " TaggedDocument(words=\"', 'cite_spans': [], 'ref_spans': [{'start': 371, 'end': 379, 'text': 'fig.\", tags=[205]),\n",
              " TaggedDocument(words=\"2a)', 'ref_id': 'figref2'}, {'start': 527, 'end': 535, 'text': '(fig.\", tags=[206]),\n",
              " TaggedDocument(words=\"2b', 'ref_id': 'figref2'}, {'start': 747, 'end': 755, 'text': '(fig.\", tags=[207]),\n",
              " TaggedDocument(words=\"2c', 'ref_id': 'figref2'}, {'start': 979, 'end': 988, 'text': '(fig.\", tags=[208]),\n",
              " TaggedDocument(words=\"2c)', 'ref_id': 'figref2'}], 'section': 'results'}, {'text': 'deficiency in host cangptl4 reduces pulmonary edema and protects lung tissue integrity in mice with secondary pneumococcal pneumonia.\", tags=[209]),\n",
              " TaggedDocument(words='the abundance of the cangptl4 protein in secondary bacterial pneumonia-infected mouse lung tissue suggests an important role for cangptl4 in infection-induced pulmonary damage.', tags=[210]),\n",
              " TaggedDocument(words='to this end, we examined its impact on lung edema and tissue integrity during secondary bacterial pneumonia using angptl4 knockout mice (angptl4 ϫ/ϫ ) ( fig.', tags=[211]),\n",
              " TaggedDocument(words='3a and b) and immunoneutralization of cangptl4 ( fig.', tags=[212]),\n",
              " TaggedDocument(words='3c and d).', tags=[213]),\n",
              " TaggedDocument(words='angptl4 ϫ/ϫ mice with secondary fluϩs3 and fluϩ19f infections exhibited less pulmonary edema than their ang-ptl4 ϩ/ϩ counterparts ( fig.', tags=[214]),\n",
              " TaggedDocument(words='3a and b).', tags=[215]),\n",
              " TaggedDocument(words='as indicated by the arrows in fig.', tags=[216]),\n",
              " TaggedDocument(words='3b , fluϩ19finfected angptl4 ϩ/ϩ mouse lung tissue was characterized by extensive edema, bleeding, and immune cell infiltration in the alveolar spaces, whereas angptl4 ϫ/ϫ mice with fluϩ19f infection showed better-preserved integrity of the alveolar spaces.', tags=[217]),\n",
              " TaggedDocument(words='among the fluϩs3-infected mice, angptl4 ϩ/ϩ mouse lung tissue featured severe edema that destroyed the alveolar structures, leaving diminished alveolar walls, in contrast to angptl4 ϫ/ϫ mice, which had preserved alveolar structures and less edema (fig.', tags=[218]),\n",
              " TaggedDocument(words='3b ).', tags=[219]),\n",
              " TaggedDocument(words='in angptl4 ϩ/ϫ mice, the improvement in lung tissue integrity was less obvious ( antibody therapy improves bacterial pneumonia survival ® and b).', tags=[220]),\n",
              " TaggedDocument(words='we observed an improvement in lung tissue integrity in angptl4 ϫ/ϫ mice compared with their wild-type counterparts for both fluϩs3 and fluϩ19f superinfections, as indicated by the higher percentage of intact alveolar spaces (see fig.', tags=[221]),\n",
              " TaggedDocument(words='s2a in the supplemental material).', tags=[222]),\n",
              " TaggedDocument(words=\"', 'cite_spans': [], 'ref_spans': [{'start': 464, 'end': 471, 'text': 'fig.\", tags=[223]),\n",
              " TaggedDocument(words=\"3a', 'ref_id': 'figref3'}, {'start': 518, 'end': 525, 'text': 'fig.\", tags=[224]),\n",
              " TaggedDocument(words=\"3c', 'ref_id': 'figref3'}, {'start': 666, 'end': 673, 'text': 'fig.\", tags=[225]),\n",
              " TaggedDocument(words=\"3a', 'ref_id': 'figref3'}, {'start': 712, 'end': 719, 'text': 'fig.\", tags=[226]),\n",
              " TaggedDocument(words=\"3b', 'ref_id': 'figref3'}, {'start': 1222, 'end': 1230, 'text': '(fig.\", tags=[227]),\n",
              " TaggedDocument(words=\"3b', 'ref_id': 'figref3'}, {'start': 1609, 'end': 1617, 'text': 'fig.\", tags=[228]),\n",
              " TaggedDocument(words=\"s2a', 'ref_id': 'figref2'}], 'section': 'results'}, {'text': 'to confirm the results observed in angptl4 knockout mice and to explore the therapeutic potential of anti-cangptl4 treatment, we next studied the effects of an cangptl4 deficiency caused by the injection of an anti-cangptl4 monoclonal antibody (mab) into secondary pneumococcal pneumonia-infected mice.\", tags=[229]),\n",
              " TaggedDocument(words='infected ang-ptl4 ϩ/ϩ mice treated with anti-cangptl4 mab were protected against infectionassociated lung damage, with better lung tissue integrity and reduced edema compared to infected but untreated angptl4 ϩ/ϩ mice, thus confirming the findings of the angptl4 knockout experiments (fig.', tags=[230]),\n",
              " TaggedDocument(words='3c) .', tags=[231]),\n",
              " TaggedDocument(words='as indicated by the higher percentage of intact alveolar spaces, we observed an improvement in lung tissue integrity in anti-cangptl4 mab-treated mice compared with control igg-treated mice for both fluϩs3 and fluϩ19f superinfections (fig.', tags=[232]),\n",
              " TaggedDocument(words='s2a) .', tags=[233]),\n",
              " TaggedDocument(words='electron micrographs further confirmed that representative image of lung harvested at 11 dpi from angptl4 knockout (ϫ/ϫ), heterozygous (ϩ/ϫ), and wild-type (ϩ/ϩ) mice infected with influenza virus and different pneumococcal serotypes (s3 and 19f).', tags=[234]),\n",
              " TaggedDocument(words='scale bar ϭ 5 mm.', tags=[235]),\n",
              " TaggedDocument(words='n ϭ 3 independent experiments with 5 mice per time point for each experimental group.', tags=[236]),\n",
              " TaggedDocument(words='(b) representative h&e images of the indicated primary and secondary pneumococcal infections of lungs from angptl4 knockout (ϫ/ϫ), heterozygous (ϩ/ϫ), and wild-type (ϩ/ϩ) mice.', tags=[237]),\n",
              " TaggedDocument(words='in fluϩ19f-infected mice, the angptl4 knockout group showed significant reduction of immune cell infiltration and edema compared with their wild-type counterparts (black versus white arrows); in fluϩs3-infected mice, the wild-type group showed vanished alveolar structures with severe edema, while the angptl4 knockout group preserved the alveolar structures with reduced edema (black versus white arrows).', tags=[238]),\n",
              " TaggedDocument(words='scale bar ϭ 50 m. (c) infected wild-type mice treated with the anti-cangptl4 antibody compared with untreated mice.', tags=[239]),\n",
              " TaggedDocument(words='in the fluϩ19f-infected mice, anti-cangptl4 treatment induced improved bronchiolar epithelial integrity and reduced infiltration (black versus white arrows).', tags=[240]),\n",
              " TaggedDocument(words='in the fluϩs3-infected mice, anti-cangptl4 treatment better preserved the structure of the alveolus (white arrow), compared to the diminished alveolar structures due to severe edema in the lungs of the fluϩs3 group of mice (black arrow).', tags=[241]),\n",
              " TaggedDocument(words='scale bar ϭ 50 m. (d) representative transmission electron microscopy images of lungs from mice with a secondary infection of serotype 3 that were administered the anti-cangptl4 antibody (i and ii) or control igg (iii and iv).', tags=[242]),\n",
              " TaggedDocument(words='white arrows and arrowheads indicate cell-cell junctions and collagen fibrils, respectively.', tags=[243]),\n",
              " TaggedDocument(words='viral budding (v) is visible at the damaged cell boundary, and bacteria are visible in control vehicle-treated mice with a secondary infection of serotype 3 (vi).', tags=[244]),\n",
              " TaggedDocument(words='red arrowheads indicate viral budding and bacteria.', tags=[245]),\n",
              " TaggedDocument(words='scale bar ϭ 500 nm.', tags=[246]),\n",
              " TaggedDocument(words=\"', 'cite_spans': [], 'ref_spans': [{'start': 587, 'end': 596, 'text': '(fig.\", tags=[247]),\n",
              " TaggedDocument(words=\"3c)', 'ref_id': 'figref3'}, {'start': 833, 'end': 843, 'text': '(fig.\", tags=[248]),\n",
              " TaggedDocument(words=\"s2a)', 'ref_id': 'figref2'}], 'section': 'results'}, {'text': 'anti-cangptl4 mab treatment improved the integrity of intercellular tight junctions between lung epithelial cells compared to the igg control treatment (fig.\", tags=[249]),\n",
              " TaggedDocument(words='3d , panels i to iii).', tags=[250]),\n",
              " TaggedDocument(words='in contrast, the lungs of control igg-treated mice showed increased fibrosis and bacterial spread (fig.', tags=[251]),\n",
              " TaggedDocument(words='3d , panels iv to vi).', tags=[252]),\n",
              " TaggedDocument(words='rna sequencing analysis revealed that anti-cangptl4 mab treatment improved immune function against secondary bacterial infection (fluϩs3), as well as coagulation to reduce bleeding and edema in the lungs (fig.', tags=[253]),\n",
              " TaggedDocument(words='s2b) .', tags=[254]),\n",
              " TaggedDocument(words='hence, an cangptl4 deficiency reduces pulmonary edema and protects lung tissue integrity, suggesting that the use of anti-cangptl4 therapy during secondary bacterial pneumonia may be beneficial.', tags=[255]),\n",
              " TaggedDocument(words='antibody therapy improves bacterial pneumonia survival ® efficacy in ameliorating lung edema, diminishing tissue damage, and prolonging survival time (fig.', tags=[256]),\n",
              " TaggedDocument(words='4b; fig.', tags=[257]),\n",
              " TaggedDocument(words='s3b and c).', tags=[258]),\n",
              " TaggedDocument(words='as indicated in fig.', tags=[259]),\n",
              " TaggedDocument(words='4b and quantified in fig.', tags=[260]),\n",
              " TaggedDocument(words='s3c , fluϩs3 superinfection destroyed the alveolar structures and caused severe edema in the lungs of infected wild-type mice.', tags=[261]),\n",
              " TaggedDocument(words='antibiotic treatment alone protected the alveolar structures but could not clear the edema and infiltration of immune cells.', tags=[262]),\n",
              " TaggedDocument(words='although the anti-cangptl4 or antipneumolysin antibody treatments alone improved lung tissue integrity and reduced edema, these improvements were not as significant as those observed when using a combined treatment with antibiotics and anti-cangptl4 mab or with anti-cangptl4 and antipneumolysin antibodies ( fig.', tags=[263]),\n",
              " TaggedDocument(words='4b; fig.', tags=[264]),\n",
              " TaggedDocument(words='s3c ).', tags=[265]),\n",
              " TaggedDocument(words='the efficacy of a combined approach was further confirmed by marked improvements in the mouse survival rate and lung tissue integrity in treatment groups of wild-type mice receiving antibiotics, anti-cangptl4, and antipneumolysin mab.', tags=[266]),\n",
              " TaggedDocument(words='similar trends were observed in angptl4 ϫ/ϫ mice receiving antibiotic and antipneumolysin treatment (fig.', tags=[267]),\n",
              " TaggedDocument(words='s3) .', tags=[268]),\n",
              " TaggedDocument(words=\"', 'cite_spans': [], 'ref_spans': [{'start': 152, 'end': 160, 'text': '(fig.\", tags=[269]),\n",
              " TaggedDocument(words=\"3d', 'ref_id': 'figref3'}, {'start': 279, 'end': 287, 'text': '(fig.\", tags=[270]),\n",
              " TaggedDocument(words=\"3d', 'ref_id': 'figref3'}, {'start': 512, 'end': 522, 'text': '(fig.\", tags=[271]),\n",
              " TaggedDocument(words=\"s2b)', 'ref_id': 'figref2'}, {'start': 870, 'end': 888, 'text': '(fig.\", tags=[272]),\n",
              " TaggedDocument(words='4b; fig.', tags=[273]),\n",
              " TaggedDocument(words=\"s3b', 'ref_id': 'figref3'}, {'start': 913, 'end': 920, 'text': 'fig.\", tags=[274]),\n",
              " TaggedDocument(words=\"4b', 'ref_id': 'figref5'}, {'start': 939, 'end': 947, 'text': 'fig.\", tags=[275]),\n",
              " TaggedDocument(words=\"s3c', 'ref_id': 'figref3'}, {'start': 1505, 'end': 1522, 'text': 'fig.\", tags=[276]),\n",
              " TaggedDocument(words='4b; fig.', tags=[277]),\n",
              " TaggedDocument(words=\"s3c', 'ref_id': 'figref3'}, {'start': 1861, 'end': 1870, 'text': '(fig.\", tags=[278]),\n",
              " TaggedDocument(words=\"s3)', 'ref_id': 'figref3'}], 'section': 'results'}, {'text': 'next, we performed transcriptomic analysis of the lung tissues to elucidate the detailed host response factors to secondary pneumococcal pneumonia during the various treatment modalities (fig.\", tags=[279]),\n",
              " TaggedDocument(words='4c) .', tags=[280]),\n",
              " TaggedDocument(words='compared with antibiotic treatment alone, our analysis indicated that the anti-cangptl4 mab treatment combined with an antibiotic notably improved the immune responses against bacterial infection as well as coagulation function, thus attenuating intra-alveolar hemorrhage and edema in the lungs of secondary bacterial pneumonia-infected mice.', tags=[281]),\n",
              " TaggedDocument(words='for example, this combination treatment yielded a 3-fold increase in activation of the coagulation system pathway compared to mab treatment alone (fig.', tags=[282]),\n",
              " TaggedDocument(words='4c) .', tags=[283]),\n",
              " TaggedDocument(words=\"', 'cite_spans': [], 'ref_spans': [{'start': 187, 'end': 196, 'text': '(fig.\", tags=[284]),\n",
              " TaggedDocument(words=\"4c)', 'ref_id': 'figref5'}, {'start': 688, 'end': 697, 'text': '(fig.\", tags=[285]),\n",
              " TaggedDocument(words=\"4c)', 'ref_id': 'figref5'}], 'section': 'results'}, {'text': 'immunoneutralization of pneumococcal pneumolysin abrogates its poreforming action on alveolar epithelium.\", tags=[286]),\n",
              " TaggedDocument(words='antibiotic resistance among clinical strains of s. pneumoniae underscores the urgency for alternative treatment strategies.', tags=[287]),\n",
              " TaggedDocument(words='multimodal host-and pathogen-directed immunotherapy is a feasible option.', tags=[288]),\n",
              " TaggedDocument(words='thus, we employed the experimental dual-infection mouse model to explore concurrent immunotherapy for secondary bacterial pneumonia.', tags=[289]),\n",
              " TaggedDocument(words='the host response protein cangptl4 and bacterial virulence factor pneumolysin were targeted using cognate neutralizing antibodies.', tags=[290]),\n",
              " TaggedDocument(words='the antipneumolysin antibody mitigated the pore-forming action of pneumolysin in human alveolar epithelial cells and reduced tissue damage.', tags=[291]),\n",
              " TaggedDocument(words='this effect persisted for 48 h (fig.', tags=[292]),\n",
              " TaggedDocument(words='4d) .', tags=[293]),\n",
              " TaggedDocument(words='the concurrent antibiotic and antibody treatment significantly improved lung tissue integrity and, importantly, extended the median survival time of mice with secondary bacterial pneumonia compared to treatment with either the antibiotic or a single antibody ( fig.', tags=[294]),\n",
              " TaggedDocument(words='4a and b) .', tags=[295]),\n",
              " TaggedDocument(words='taken together, these observations highlight that host-directed therapeutic anti-cangptl4 mab can complement pathogen-directed treatment, such as conventional antibiotics or a novel antipneumolysin antibody, to enhance lung tissue integrity and augment host survival during secondary pneumococcal pneumonia.', tags=[296]),\n",
              " TaggedDocument(words='the improved tissue integrity and considerably longer median survival time suggest that a multimodal treatment approach targeting both host and pathogen factors can be highly efficacious against drsp infection.', tags=[297]),\n",
              " TaggedDocument(words=\"', 'cite_spans': [], 'ref_spans': [{'start': 739, 'end': 748, 'text': '(fig.\", tags=[298]),\n",
              " TaggedDocument(words=\"4d)', 'ref_id': 'figref5'}, {'start': 1012, 'end': 1026, 'text': 'fig.\", tags=[299]),\n",
              " TaggedDocument(words=\"4a and b)', 'ref_id': 'figref5'}], 'section': 'results'}, {'text': 'immunotherapy against cangptl4 enhances host immune responses against secondary pneumococcal pneumonia.\", tags=[300]),\n",
              " TaggedDocument(words='to gain further insights into the host responses to secondary pneumococcal infection and the various treatments, we analyzed the immune cells and gene expression of the infected mouse lungs.', tags=[301]),\n",
              " TaggedDocument(words='qpcr on fluorescence-activated cell sorter (facs)-sorted major immune cell groups revealed that macrophages, neutrophils, natural killer (nk) cells, cytotoxic t cells, and b cells expressed angptl4 at various levels during secondary pneumococcal pneumonia (fig.', tags=[302]),\n",
              " TaggedDocument(words='5a) .', tags=[303]),\n",
              " TaggedDocument(words='in fluϩs3-infected mouse lungs, semidigested bacteria appeared within the lymphocyte cytoplasm, while the antibody-mediated neutralization of cangptl4 augmented the ability of macrophages to phagocytose and fully digest the bacteria (fig.', tags=[304]),\n",
              " TaggedDocument(words='5b) .', tags=[305]),\n",
              " TaggedDocument(words='the improved phagocytosis and bacterial digestion suggest that anti-cangptl4 treatment enhances host immune function.', tags=[306]),\n",
              " TaggedDocument(words=\"', 'cite_spans': [], 'ref_spans': [{'start': 551, 'end': 560, 'text': '(fig.\", tags=[307]),\n",
              " TaggedDocument(words=\"5a)', 'ref_id': 'figref6'}, {'start': 796, 'end': 805, 'text': '(fig.\", tags=[308]),\n",
              " TaggedDocument(words='5b)\\', \\'ref_id\\': \\'figref6\\'}], \\'section\\': \\'results\\'}, {\\'text\\': \"next, we further interrogated the transcriptome of lung tissues to understand the detailed host response factors to secondary pneumococcal infection and the various treatments.', tags=[309]),\n",
              " TaggedDocument(words='our analysis showed that the anti-cangptl4 antibody treatment, either alone or in combination with antibiotic treatment, increased the expression of host immune defense-related genes (such as those coding for interleukin-1␤ [il-1␤], toll-like receptor 4 [tlr4], nf-b, tumor necrosis factor [tnf], and gamma interferon [ifn-␥]), while decreasing the expression of anti-inflammatory genes (such as il10ra) (fig.', tags=[310]),\n",
              " TaggedDocument(words='5c) .', tags=[311]),\n",
              " TaggedDocument(words='interestingly, the combined treatment using anti-cangptl4 and an antibiotic generated a greater enhancement of gene expression than the anti-cangptl4 treatment alone, whereas antibiotic treatment alone produced the opposite effect in terms of the regulation of these genes (fig.', tags=[312]),\n",
              " TaggedDocument(words='5c) .', tags=[313]),\n",
              " TaggedDocument(words=\"given that an insufficient host immune response is a major contributory factor to the lethal outcome of secondary bacterial pneumonia, the apparently positive effects of anti-cangptl4 therapy on the immune response could be considered beneficial to the host's defense against bacterial infection (1) and are consistent with the improved phagocytosis and bacterial digestion (fig.\", tags=[314]),\n",
              " TaggedDocument(words='5b) .', tags=[315]),\n",
              " TaggedDocument(words='\", \\'cite_spans\\': [{\\'start\\': 1174, \\'end\\': 1177, \\'text\\': \\'(1)\\', \\'ref_id\\': \\'bibref0\\'}], \\'ref_spans\\': [{\\'start\\': 581, \\'end\\': 590, \\'text\\': \\'(fig.', tags=[316]),\n",
              " TaggedDocument(words=\"5c)', 'ref_id': 'figref6'}, {'start': 866, 'end': 875, 'text': '(fig.\", tags=[317]),\n",
              " TaggedDocument(words=\"5c)', 'ref_id': 'figref6'}, {'start': 1252, 'end': 1261, 'text': '(fig.\", tags=[318]),\n",
              " TaggedDocument(words=\"5b)', 'ref_id': 'figref6'}], 'section': 'results'}, {'text': 'elevated cangptl4 protein levels in the bronchoalveolar lavage fluid of patients with pneumonia.\", tags=[319]),\n",
              " TaggedDocument(words='all clinical isolates of s. pneumoniae secrete toxic poreforming pneumolysin.', tags=[320]),\n",
              " TaggedDocument(words='this supports a potential broad application of an antipneumolysin antibody in new treatments against drsp infection (12) .', tags=[321]),\n",
              " TaggedDocument(words='similarly, to underscore the potential use of anti-cangptl4 therapy in pulmonary diseases, we examined the protein level of cangptl4 in bronchoalveolar lavage fluid (balf) from patients with acute respiratory distress syndrome (ards; n ϭ 7).', tags=[322]),\n",
              " TaggedDocument(words='compared with healthy volunteers (control; n ϭ 16), the ards balf samples showed significantly higher cangptl4 protein levels (ϳ15-fold), as detected by immunoblotting (fig.', tags=[323]),\n",
              " TaggedDocument(words='6a) .', tags=[324]),\n",
              " TaggedDocument(words='however, this marked increase in cangptl4 was not observed in serum samples from pneumonia patients (n ϭ 17) compared with non-pneumonia patients (control; n ϭ 8) (fig.', tags=[325]),\n",
              " TaggedDocument(words='6b ).', tags=[326]),\n",
              " TaggedDocument(words='this finding antibody therapy improves bacterial pneumonia survival ® indicates that the cangptl4 protein was elevated in the pulmonary fluid of patients with severe pneumonia, whereas its levels in the blood circulation may be influenced by other factors.', tags=[327]),\n",
              " TaggedDocument(words='it also supports the potential utility of cangptl4 as a biomarker and therapeutic target for the diagnosis and treatment of infection-associated lung injury.', tags=[328]),\n",
              " TaggedDocument(words=\"', 'cite_spans': [{'start': 291, 'end': 295, 'text': '(12)', 'ref_id': 'bibref11'}], 'ref_spans': [{'start': 708, 'end': 717, 'text': '(fig.\", tags=[329]),\n",
              " TaggedDocument(words=\"6a)', 'ref_id': 'figref7'}, {'start': 883, 'end': 891, 'text': '(fig.\", tags=[330]),\n",
              " TaggedDocument(words=\"6b', 'ref_id': 'figref7'}], 'section': 'results'}, {'text': 's.\", tags=[331]),\n",
              " TaggedDocument(words='pneumoniae is a major cause of acute pneumonia and is the most commonly identified pathogen in secondary bacterial lung infection (4) .', tags=[332]),\n",
              " TaggedDocument(words='the increasing prevalence of multidrug-resistant s. pneumoniae also poses a serious public health concern worldwide, particularly in asian countries (4, 16, 26) .', tags=[333]),\n",
              " TaggedDocument(words='secondary bacterial pneumonia presents a unique set of host responses and challenges.', tags=[334]),\n",
              " TaggedDocument(words='as this is a rapidly progressing infection, often with a poor prognosis, newer approaches for improving treatment outcomes are needed to reduce its high morbidity and mortality.', tags=[335]),\n",
              " TaggedDocument(words='few studies have examined the effect of antibody-based immunotherapy on secondary pneumococcal pneumonia.', tags=[336]),\n",
              " TaggedDocument(words='in this study, a multimodal treatment that concurrently targets the host and pathogen factors in an experimental mouse model of secondary s. pneumoniae infection was shown to significantly improve lung tissue integrity and extend the median survival time of infected mice.', tags=[337]),\n",
              " TaggedDocument(words='immunoneutralization of the host protein cangptl4 significantly diminished the severity of pulmonary edema and damage when combined with pathogen-directed therapies, such as antibiotics or antipneumolysin mab, which attenuated bacterial replication or toxicity, ultimately considerably prolonged the survival of infected mice.', tags=[338]),\n",
              " TaggedDocument(words='effects of anti-cangptl4 antibody treatment in secondary bacterial infections were also confirmed using angptl4 ϫ/ϫ mice.', tags=[339]),\n",
              " TaggedDocument(words='\\', \\'cite_spans\\': [{\\'start\\': 133, \\'end\\': 136, \\'text\\': \\'(4)\\', \\'ref_id\\': \\'bibref3\\'}, {\\'start\\': 288, \\'end\\': 291, \\'text\\': \\'(4,\\', \\'ref_id\\': \\'bibref3\\'}, {\\'start\\': 292, \\'end\\': 295, \\'text\\': \\'16,\\', \\'ref_id\\': \\'bibref15\\'}, {\\'start\\': 296, \\'end\\': 299, \\'text\\': \\'26)\\', \\'ref_id\\': \\'bibref25\\'}], \\'ref_spans\\': [], \\'section\\': \\'discussion\\'}, {\\'text\\': \\'complications or death arising from influenza and secondary pneumonia are often associated with hyperinduction of proinflammatory cytokines and chemokines, a phenomenon also known as a \"cytokine storm\" or hypercytokinemia (27) (28) (29) (30) .', tags=[340]),\n",
              " TaggedDocument(words='more patients die from ards, a common consequence of hypercytokinemia, than from the infection per se (31) .', tags=[341]),\n",
              " TaggedDocument(words='pathogen-induced lung injury can manifest as mild to severe ards, as seen with the severe acute respiratory syndrome (sars) coronavirus, influenza virus, and secondary bacterial pneumococcal infections (1, 31, 32) .', tags=[342]),\n",
              " TaggedDocument(words='although inflammatory processes constitute important treatment targets (32-34), anti-inflammatory treatments can inhibit the immune functions that mediate pathogen clearance.', tags=[343]),\n",
              " TaggedDocument(words='a compromised host immune response during influenza infection renders the host more vulnerable to secondary bacterial infection.', tags=[344]),\n",
              " TaggedDocument(words='this is particularly crucial since secondary bacterial infection is usually facilitated by the influenza virus, which impairs host immune responses and alters cytokine production, thus favoring bacterial superinfection and greatly increasing host morbidity and mortality (1, 32, (35) (36) (37) (38) .', tags=[345]),\n",
              " TaggedDocument(words='for example, treatments targeting proinflammatory cytokines, reactive oxygen species (ros), and reactive nitrogen species (rns) come with a risk of enhancing pathogen replication (39, 40) .', tags=[346]),\n",
              " TaggedDocument(words=\"ideally, potential treatment regimens should minimize the tissue damage caused by inflammation and facilitate recovery without interfering with the host\\\\'s antiviral or antibacterial responses.\", tags=[347]),\n",
              " TaggedDocument(words=\"', 'cite_spans': [{'start': 222, 'end': 226, 'text': '(27)', 'ref_id': 'bibref26'}, {'start': 227, 'end': 231, 'text': '(28)', 'ref_id': 'bibref27'}, {'start': 232, 'end': 236, 'text': '(29)', 'ref_id': 'bibref28'}, {'start': 237, 'end': 241, 'text': '(30)', 'ref_id': 'bibref29'}, {'start': 346, 'end': 350, 'text': '(31)', 'ref_id': 'bibref30'}, {'start': 555, 'end': 558, 'text': '(1,', 'ref_id': 'bibref0'}, {'start': 559, 'end': 562, 'text': '31,', 'ref_id': 'bibref30'}, {'start': 563, 'end': 566, 'text': '32)', 'ref_id': 'bibref31'}, {'start': 1144, 'end': 1147, 'text': '(1,', 'ref_id': 'bibref0'}, {'start': 1148, 'end': 1151, 'text': '32,', 'ref_id': 'bibref31'}, {'start': 1152, 'end': 1156, 'text': '(35)', 'ref_id': 'bibref34'}, {'start': 1157, 'end': 1161, 'text': '(36)', 'ref_id': 'bibref35'}, {'start': 1162, 'end': 1166, 'text': '(37)', 'ref_id': 'bibref36'}, {'start': 1167, 'end': 1171, 'text': '(38)', 'ref_id': 'bibref37'}, {'start': 1353, 'end': 1357, 'text': '(39,', 'ref_id': 'bibref38'}, {'start': 1358, 'end': 1361, 'text': '40)', 'ref_id': 'bibref39'}], 'ref_spans': [], 'section': 'discussion'}, {'text': 'both host and bacterial factors contribute to severe tissue damage in pneumonia, thus offering critical targets for therapy development (41, 42) .\", tags=[348]),\n",
              " TaggedDocument(words='the therapeutic use of passive antibodies has been well established for several primary viral infections (43) (44) (45) .', tags=[349]),\n",
              " TaggedDocument(words='similarly, the passive immunization afforded by antibodies to the pathogenic virulence factor pneumolysin can enhance the survival rate of mice with primary bacterial pneumonia (13) .', tags=[350]),\n",
              " TaggedDocument(words='the pneumolysin gene has very limited variability and is therefore a prime pathogen target (46) .', tags=[351]),\n",
              " TaggedDocument(words='our antipneumolysin mab targets the oligomerization domain, which is conserved across strains-i.e., it is not strain-specific, unlike previously reported antipneumolysin antibodies (13) .', tags=[352]),\n",
              " TaggedDocument(words='recent insights into pathogen-host interactions and host innate immune responses have also led to the identification and development of a wide range of host-directed therapies with different mechanisms of action.', tags=[353]),\n",
              " TaggedDocument(words='one such approach is the targeting of vascular leakage to combat respiratory diseases (24, (47) (48) (49) .', tags=[354]),\n",
              " TaggedDocument(words='recent studies have identified cangptl4 as a key player in tissue leakiness (24, 50, 51) .', tags=[355]),\n",
              " TaggedDocument(words='primary influenza pneumonia and lipopolysaccharide-induced acute lung injury are associated with an increased expression of cangptl4 (23, 24, 48) .', tags=[356]),\n",
              " TaggedDocument(words='influenza-infected cangptl4-deficient mice exhibit reduced lung tissue leakiness and damage compared to mice with functioning cangptl4 (24) .', tags=[357]),\n",
              " TaggedDocument(words='similarly, angptl4 suppression by small interfering rna (sirna) also protects mice against lipopolysaccharideinduced acute lung injury (48) .', tags=[358]),\n",
              " TaggedDocument(words='indeed, compared to individual therapies, our concurrent treatment with anti-cangptl4 mab and moxifloxacin considerably extended the survival of mice with secondary bacterial pneumonia.', tags=[359]),\n",
              " TaggedDocument(words='due to the different modes of action compared to antibiotics, immunotherapies with antibodies are highly effective against secondary drsp infections caused by antibiotic-resistant pathogens.', tags=[360]),\n",
              " TaggedDocument(words='the coimmunoneutralization of cangptl4 and pneumolysin was effective against secondary bacterial pneumonia, culminating in improved pulmonary function and longer survival times.', tags=[361]),\n",
              " TaggedDocument(words='taken together, our study highlights that host-directed therapeutic strategies are valuable adjuncts to complement and enhance standard antimicrobial treatments.', tags=[362]),\n",
              " TaggedDocument(words=\"', 'cite_spans': [{'start': 136, 'end': 140, 'text': '(41,', 'ref_id': 'bibref40'}, {'start': 141, 'end': 144, 'text': '42)', 'ref_id': 'bibref41'}, {'start': 252, 'end': 256, 'text': '(43)', 'ref_id': 'bibref42'}, {'start': 257, 'end': 261, 'text': '(44)', 'ref_id': 'bibref43'}, {'start': 262, 'end': 266, 'text': '(45)', 'ref_id': 'bibref44'}, {'start': 446, 'end': 450, 'text': '(13)', 'ref_id': 'bibref12'}, {'start': 544, 'end': 548, 'text': '(46)', 'ref_id': 'bibref45'}, {'start': 732, 'end': 736, 'text': '(13)', 'ref_id': 'bibref12'}, {'start': 1038, 'end': 1042, 'text': '(24,', 'ref_id': 'bibref23'}, {'start': 1043, 'end': 1047, 'text': '(47)', 'ref_id': 'bibref46'}, {'start': 1048, 'end': 1052, 'text': '(48)', 'ref_id': 'bibref47'}, {'start': 1053, 'end': 1057, 'text': '(49)', 'ref_id': 'bibref48'}, {'start': 1136, 'end': 1140, 'text': '(24,', 'ref_id': 'bibref23'}, {'start': 1141, 'end': 1144, 'text': '50,', 'ref_id': 'bibref49'}, {'start': 1145, 'end': 1148, 'text': '51)', 'ref_id': 'bibref50'}, {'start': 1284, 'end': 1288, 'text': '(23,', 'ref_id': 'bibref22'}, {'start': 1289, 'end': 1292, 'text': '24,', 'ref_id': 'bibref23'}, {'start': 1293, 'end': 1296, 'text': '48)', 'ref_id': 'bibref47'}, {'start': 1434, 'end': 1438, 'text': '(24)', 'ref_id': 'bibref23'}, {'start': 1576, 'end': 1580, 'text': '(48)', 'ref_id': 'bibref47'}], 'ref_spans': [], 'section': 'discussion'}, {'text': 'virus and bacteria.\", tags=[363]),\n",
              " TaggedDocument(words='influenza virus a/puerto rico/8/34 h1n1 strain (pr8) was obtained from the american type culture collection and propagated in embryonated eggs.', tags=[364]),\n",
              " TaggedDocument(words='viral titers were determined by plaque assay.', tags=[365]),\n",
              " TaggedDocument(words='serotypes 3 and 19f of s. pneumoniae were derived from clinical isolates in singapore and cultured in brain heart infusion broth (sigma 53286) supplemented with 5% heat-inactivated fetal bovine serum (fbs) under anaerobic conditions until the mid-logarithmic phase.', tags=[366]),\n",
              " TaggedDocument(words=\"', 'cite_spans': [], 'ref_spans': [], 'section': 'materials and methods'}, {'text': 'animals and infection.\", tags=[367]),\n",
              " TaggedDocument(words='female balb/c mice (8 to 12 weeks old) were purchased from invivos, singapore, and kept at the biosafety level 2 (bsl-2) animal facility of nanyang technological university, singapore.', tags=[368]),\n",
              " TaggedDocument(words='all animal experiments were approved by the institutional animal care and use committee (iacuc) at nanyang technological university, singapore (a0321 and a0200az), and national university of singapore (050/11).', tags=[369]),\n",
              " TaggedDocument(words='mice were anesthetized using 80 mg/kg body weight ketamine and 10 mg/kg body weight xylazine and infected via intratracheal delivery with the pr8 virus at a sublethal dose of 10 pfu in phosphate-buffered saline (pbs).', tags=[370]),\n",
              " TaggedDocument(words='at day 7 post-influenza infection, 100 cfu of serotype 3 or 5,000 cfu of serotype 19f of s. pneumoniae in pbs was delivered intratracheally to the mice.', tags=[371]),\n",
              " TaggedDocument(words='sham infections were performed using sterile pbs.', tags=[372]),\n",
              " TaggedDocument(words='immediately after bacterial infection, mice were injected intraperitoneally with moxifloxacin (100 mg/kg body weight), anti-angptl4 antibody (10 mg/kg body weight), antipneumolysin antibody (10 mg/kg body weight), or control igg (10 mg/kg body weight) daily starting from day 7 post-influenza infection until harvest.', tags=[373]),\n",
              " TaggedDocument(words='the mice were euthanized at specified time points, and lung tissues were harvested.', tags=[374]),\n",
              " TaggedDocument(words='lung lobes were either fixed in 4% paraformaldehyde for histologic analysis or snap-frozen in liquid nitrogen and kept at ϫ80°c for subsequent assays.', tags=[375]),\n",
              " TaggedDocument(words='\\', \\'cite_spans\\': [], \\'ref_spans\\': [], \\'section\\': \\'materials and methods\\'}, {\\'text\\': \"antibodies.', tags=[376]),\n",
              " TaggedDocument(words='the anti-mouse cangptl4 antibody and anti-human cangptl4 antibody were produced in-house as described previously (52, 53) .', tags=[377]),\n",
              " TaggedDocument(words=\"the antipneumolysin antibody was prepared by culturing an mg12 hybridoma culture in dulbecco's modified eagle's medium (dmem) with 10% fbs and purified from the culture medium using the igg purification kit (merck millipore, no.\", tags=[378]),\n",
              " TaggedDocument(words='lsk2abg20).', tags=[379]),\n",
              " TaggedDocument(words='the anti-cd68 antibody was purchased from abcam (no.', tags=[380]),\n",
              " TaggedDocument(words='31630).', tags=[381]),\n",
              " TaggedDocument(words='\", \\'cite_spans\\': [{\\'start\\': 125, \\'end\\': 129, \\'text\\': \\'(52,\\', \\'ref_id\\': \\'bibref51\\'}, {\\'start\\': 130, \\'end\\': 133, \\'text\\': \\'53)\\', \\'ref_id\\': \\'bibref52\\'}], \\'ref_spans\\': [], \\'section\\': \\'materials and methods\\'}, {\\'text\\': \\'immunofluorescent staining of lung sections.', tags=[382]),\n",
              " TaggedDocument(words='fixed mouse lungs were dehydrated and embedded in paraffin.', tags=[383]),\n",
              " TaggedDocument(words='five-micrometer sections were mounted on slides coated with superfrost plus (thermal scientific).', tags=[384]),\n",
              " TaggedDocument(words='sections were dewaxed with xylene and rehydrated in water.', tags=[385]),\n",
              " TaggedDocument(words='immunofluorescent staining was performed as previously described (24) .', tags=[386]),\n",
              " TaggedDocument(words='sections were mounted with an antifade reagent containing dapi (4=,6-diamidino-2-phenylindole [invitrogen]), and images were captured by observer z1 fluorescence microscope (carl zeiss).', tags=[387]),\n",
              " TaggedDocument(words='hematoxylin and eosin (h&e) staining was performed for histopathologic analysis of the lung tissues.', tags=[388]),\n",
              " TaggedDocument(words='s. pneumoniae in the lung sections was detected by employing fluorescent in situ hybridization (fish) as described, with minor modifications (54) .', tags=[389]),\n",
              " TaggedDocument(words='briefly, following the dehydration of fixed lung sections in an ethanol series (3 min each in 50, 80, and 98% ethanol), overnight hybridization to 16s rrna of s. pneumoniae was performed with an spn probe tagged with cy5 in a hybridization buffer containing 30% formamide (55) .', tags=[390]),\n",
              " TaggedDocument(words='after the washing steps, the sections were mounted with an antifade reagent and imaged using the lsm780 inverted confocal laser-scanning microscope (carl zeiss) fitted with a plan apochromat 100ϫ/1.4 oil lens objective, with excitation at 561 nm (autofluorescence) and 633 nm (cy5).', tags=[391]),\n",
              " TaggedDocument(words='microscopic images were processed using the imaris software (version 8.2.0).', tags=[392]),\n",
              " TaggedDocument(words='s. pneumoniae was pseudocolored green.', tags=[393]),\n",
              " TaggedDocument(words='\\', \\'cite_spans\\': [{\\'start\\': 327, \\'end\\': 331, \\'text\\': \\'(24)\\', \\'ref_id\\': \\'bibref23\\'}, {\\'start\\': 763, \\'end\\': 767, \\'text\\': \\'(54)\\', \\'ref_id\\': \\'bibref53\\'}, {\\'start\\': 1042, \\'end\\': 1046, \\'text\\': \\'(55)\\', \\'ref_id\\': \\'bibref54\\'}], \\'ref_spans\\': [], \\'section\\': \\'materials and methods\\'}, {\\'text\\': \"sorting of immune cells.', tags=[394]),\n",
              " TaggedDocument(words='immune cells were harvested from influenza virus-and s. pneumoniae serotype 3-coinfected mice at day 9 post-influenza virus infection by bronchoalveolar lavage.', tags=[395]),\n",
              " TaggedDocument(words='one milliliter of sterile pbs was injected into the mouse lung through the trachea and retrieved into the syringe.', tags=[396]),\n",
              " TaggedDocument(words='the balf contained immune cells and damaged lung tissues.', tags=[397]),\n",
              " TaggedDocument(words='cells were pelleted by centrifugation at 500 ϫ g for 10 min, stained for flow cytometry, and sorted using a bd facsaria.', tags=[398]),\n",
              " TaggedDocument(words='quantitative real-time rt-pcr and immunoblotting.', tags=[399]),\n",
              " TaggedDocument(words='total rna was extracted and reverse transcribed as previously described (56, 57) .', tags=[400]),\n",
              " TaggedDocument(words=\"pcr was performed with the bio-rad cfx-96 real-time system using kapa sybr fast qpcr master mix according to the manufacturer's instructions (kapa biosystems).\", tags=[401]),\n",
              " TaggedDocument(words='the primers used were mouse angptl4 (forward, 5=-ccccacgcacctagacaatg-3=; reverse, 5=-cctcc atctgaagtcatctca-3=) and housekeeping primer rpl27 (forward, 5=-cgcaaagctgtcatcgtg-3=; reverse, 5=-cgcaaagctgtcatcgtg-3=).', tags=[402]),\n",
              " TaggedDocument(words='lung tissues were lysed with m-per mammalian extraction buffer (pierce), and the protein concentration was determined using the bio-rad protein assay kit.', tags=[403]),\n",
              " TaggedDocument(words='protein samples were heated in 2ϫ laemmli sample buffer, resolved by sds-page, and transferred to lowfluorescence polyvinylidene difluoride (pvdf) membranes (millipore).', tags=[404]),\n",
              " TaggedDocument(words='immunoblotting was performed as previously described (58) .', tags=[405]),\n",
              " TaggedDocument(words='\", \\'cite_spans\\': [{\\'start\\': 602, \\'end\\': 606, \\'text\\': \\'(56,\\', \\'ref_id\\': \\'bibref55\\'}, {\\'start\\': 607, \\'end\\': 610, \\'text\\': \\'57)\\', \\'ref_id\\': \\'bibref56\\'}, {\\'start\\': 1366, \\'end\\': 1370, \\'text\\': \\'(58)\\', \\'ref_id\\': \\'bibref57\\'}], \\'ref_spans\\': [], \\'section\\': \\'materials and methods\\'}, {\\'text\\': \\'rna sequencing.', tags=[406]),\n",
              " TaggedDocument(words='total rna was extracted from frozen mouse lung tissues using trizol (thermo fisher).', tags=[407]),\n",
              " TaggedDocument(words='the integrity of the total rna and the level of dna contamination were assessed with an agilent 2100 bioanalyzer (agilent technologies) and qubit 2.0 fluorometer (invitrogen).', tags=[408]),\n",
              " TaggedDocument(words='library preparation was performed according to the mrna-seq sample preparation kit (illumina) and sequenced using the illumina miseq platform with single-end 75-bp sequencing.', tags=[409]),\n",
              " TaggedDocument(words='sequencing reads were mapped onto the viral, s. pneumoniae, and mouse genomes using clc genomics workbench 9.0. differential gene expression was determined using the r statistic package deseq2 (59) .', tags=[410]),\n",
              " TaggedDocument(words='the following criteria were adopted to filter the unique sequence reads: maximum number of hits for a read of 1, minimum length fraction of 0.9, minimum similarity fraction of 0.8, and maximum number of two mismatches.', tags=[411]),\n",
              " TaggedDocument(words='a constant of 1 was added to the raw transcript count value to avoid any problems caused by 0. the deseq2 package from r/bioconductor was used for the statistical analysis of the transcript count table.', tags=[412]),\n",
              " TaggedDocument(words='the transcript counts were normalized to the effective library size.', tags=[413]),\n",
              " TaggedDocument(words='the differentially expressed genes were identified by performing a negative binomial test.', tags=[414]),\n",
              " TaggedDocument(words='transcripts were determined as differentially expressed when they showed a ͼ2-fold change with an adjusted p value of ͻ0.05.', tags=[415]),\n",
              " TaggedDocument(words='pathway analysis and data presentation were performed using ingenuity pathway analysis software (qiagen bioinformatics).', tags=[416]),\n",
              " TaggedDocument(words=\"', 'cite_spans': [{'start': 646, 'end': 650, 'text': '(59)', 'ref_id': 'bibref58'}], 'ref_spans': [], 'section': 'materials and methods'}, {'text': 'measurement of cangptl4 in balf and serum from lung disease patients.\", tags=[417]),\n",
              " TaggedDocument(words='balf samples were obtained from pneumonia patients who fulfilled the ards diagnostic criteria of the american european consensus conference (60) .', tags=[418]),\n",
              " TaggedDocument(words='controls for balf samples were obtained from healthy volunteers.', tags=[419]),\n",
              " TaggedDocument(words='balf was collected with three instillations of sterile physiological saline (50 ml) through a flexible bronchoscope as previously described (61) .', tags=[420]),\n",
              " TaggedDocument(words='the collected lavage fluid was passed through two sheets of gauze and centrifuged at 400 ϫ g for 10 min at 4°c, and the supernatant was stored at -20°c until use.', tags=[421]),\n",
              " TaggedDocument(words='this study protocol was approved by the institutional review board of nagasaki university hospital, japan.', tags=[422]),\n",
              " TaggedDocument(words='serum samples were obtained from patients with diagnosed pneumonia before successful treatment with antibiotics from the biological resource center ferdinand cabanne (bb-0033-00044; dijon) and the centre hospitalier universitaire de dijon, france.', tags=[423]),\n",
              " TaggedDocument(words='informed consent was obtained from all subjects, and all experiments conformed to the principles outlined in the wma declaration of helsinki and the department of health and human services belmont report.', tags=[424]),\n",
              " TaggedDocument(words=\"', 'cite_spans': [{'start': 210, 'end': 214, 'text': '(60)', 'ref_id': 'bibref59'}, {'start': 422, 'end': 426, 'text': '(61)', 'ref_id': 'bibref60'}], 'ref_spans': [], 'section': 'materials and methods'}, {'text': 'statistical analysis.\", tags=[425]),\n",
              " TaggedDocument(words='statistical analysis was performed with the unpaired t test using graphpad prism version 5.03 (graphpad software).', tags=[426]),\n",
              " TaggedDocument(words='values are depicted as mean ϯ standard error of mean (sem).', tags=[427]),\n",
              " TaggedDocument(words='a p value of ͻ0.05 was considered statistically significant.', tags=[428]),\n",
              " TaggedDocument(words=\"', 'cite_spans': [], 'ref_spans': [], 'section': 'materials and methods'}, {'text': 'accession number(s).\", tags=[429]),\n",
              " TaggedDocument(words='rna sequencing data have been submitted to the ncbi bioproject database under bioproject no.', tags=[430]),\n",
              " TaggedDocument(words='prjna394932 and sra accession no.', tags=[431]),\n",
              " TaggedDocument(words='srp113049.', tags=[432]),\n",
              " TaggedDocument(words=\"', 'cite_spans': [], 'ref_spans': [], 'section': 'materials and methods'}, {'text': 'supplemental material for this article may be found at https://doi.org/10.1128/mbio .02469-18.\", tags=[433]),\n",
              " TaggedDocument(words=\"', 'cite_spans': [], 'ref_spans': [], 'section': 'supplemental material'}]\", tags=[434]),\n",
              " TaggedDocument(words='[{\\'text\\': \"growing human population, urbanization and global warming increase the chance of human interaction with wildlife, resulting in elevated risk of zoonotic diseases.', tags=[435]),\n",
              " TaggedDocument(words='despite numerous publications assessing the risk factors for viral spillovers, published studies have tended to miss out quantitative estimation of their frequency and characteristics and causal links among different host species.', tags=[436]),\n",
              " TaggedDocument(words='in this study, we provide quantitative analysis of external forcing of infection, as applied to lassa haemorrhagic fever (lf), a widespread disease in west africa.', tags=[437]),\n",
              " TaggedDocument(words=\"the proposed modelling framework can be further extended to other diseases with common characteristics and viewed as key in light of anticipated emergence of a novel infectious disease in the future-the 'disease x' as it was recently coined by the world health organization.\", tags=[438]),\n",
              " TaggedDocument(words='\", \\'cite_spans\\': [], \\'ref_spans\\': [], \\'section\\': \\'introduction\\'}, {\\'text\\': \\'lf is an acute haemorrhagic viral infection, caused by an enveloped, singlestranded rna virus of the arenaviridae family with a clear zoonotic origin [1] [2] [3] .', tags=[439]),\n",
              " TaggedDocument(words='the number of reported cases reaches about a thousand per year including a few hundreds of deaths, and one-third of cases experience severe post-infection complications (e.g.', tags=[440]),\n",
              " TaggedDocument(words='lifetime deafness).', tags=[441]),\n",
              " TaggedDocument(words='for these reasons, lf infection is recognized as a serious public health concern that necessitates future research on its pathogenicity and possible prevention.', tags=[442]),\n",
              " TaggedDocument(words=\"', 'cite_spans': [{'start': 150, 'end': 153, 'text': '[1]', 'ref_id': 'bibref0'}, {'start': 154, 'end': 157, 'text': '[2]', 'ref_id': none}, {'start': 158, 'end': 161, 'text': '[3]', 'ref_id': 'bibref2'}], 'ref_spans': [], 'section': 'introduction'}, {'text': 'lf virus was first discovered in 1969, but its presence can be traced back for centuries [4] .\", tags=[443]),\n",
              " TaggedDocument(words='current viral hotspots are focused on west african countries, namely, nigeria, guinea, benin, sierra leone and liberia.', tags=[444]),\n",
              " TaggedDocument(words='the animal reservoir of the virus is mastomys natalensis, also known as multimammate mouse, which is a rodent species that is widespread in the region.', tags=[445]),\n",
              " TaggedDocument(words='although the main transmission route remains zoonotic, i.e.', tags=[446]),\n",
              " TaggedDocument(words='animal-to-human, contracting the virus through exposure to contaminated excreta or secretions from rodents [5] , another frequently reported route is human-to-human transmission, via contact exposure to the virus from the blood or bodily fluids of an infected person.', tags=[447]),\n",
              " TaggedDocument(words='the latter contributes to approximately 19% of all reported cases and is usually observed during nosocomial outbreaks [6] .', tags=[448]),\n",
              " TaggedDocument(words='hence, the overall transmission pattern is primarily driven by environmental exposure to lf [3] rather than sustained human-to-human transmission chains, being different from ebola virus disease [7] .', tags=[449]),\n",
              " TaggedDocument(words='given the importance of the human-animal interface, we anticipate that environmental factors may be crucial driving forces contributing to the frequent recurrence of lf outbreaks.', tags=[450]),\n",
              " TaggedDocument(words=\"', 'cite_spans': [{'start': 89, 'end': 92, 'text': '[4]', 'ref_id': 'bibref3'}, {'start': 534, 'end': 537, 'text': '[5]', 'ref_id': 'bibref4'}, {'start': 813, 'end': 816, 'text': '[6]', 'ref_id': 'bibref5'}, {'start': 911, 'end': 914, 'text': '[3]', 'ref_id': 'bibref2'}, {'start': 1014, 'end': 1017, 'text': '[7]', 'ref_id': 'bibref6'}], 'ref_spans': [], 'section': 'introduction'}, {'text': 'observed lf incidence exhibits a strong seasonal component: the number of reported cases is likely to rise in the first two to three months of the year, exceeding the baseline over the rest of the year several-fold.\", tags=[451]),\n",
              " TaggedDocument(words='this phenomenon can be captured by implementing a time-varied probability of exposure in our model.', tags=[452]),\n",
              " TaggedDocument(words='two distinct time periods characterize a low and high risk of exposure to the virus.', tags=[453]),\n",
              " TaggedDocument(words='importantly, the model fit allows the probable time boundaries of each period to be determined.', tags=[454]),\n",
              " TaggedDocument(words=\"', 'cite_spans': [], 'ref_spans': [], 'section': 'introduction'}, {'text': 'published estimates of the case fatality risk (cfr) from lf of 1-2% have been proposed for previously healthy populations without underlying comorbidities [8] .\", tags=[455]),\n",
              " TaggedDocument(words='however, this rate varies considerably depending on the context, being for example 2-5% for hospital-treated cases and increased to 20-60% for laboratory-confirmed cases or during nosocomial outbreaks [2, 9, 10] .', tags=[456]),\n",
              " TaggedDocument(words='because higher estimates of the cfr are likely due to underreporting and ascertainment bias, we are able to account for this observational matter and estimate an underreporting factor.', tags=[457]),\n",
              " TaggedDocument(words='similarly to our recent work [11] , we assume that fatal cases are certainly reported in the surveillance system throughout the whole year, while less severe, non-lethal cases are likely to be missed.', tags=[458]),\n",
              " TaggedDocument(words='such variation may especially be the case during low-risk periods, when lf infections are not frequently reported.', tags=[459]),\n",
              " TaggedDocument(words=\"', 'cite_spans': [{'start': 155, 'end': 158, 'text': '[8]', 'ref_id': 'bibref7'}, {'start': 362, 'end': 365, 'text': '[2,', 'ref_id': none}, {'start': 366, 'end': 368, 'text': '9,', 'ref_id': 'bibref8'}, {'start': 369, 'end': 372, 'text': '10]', 'ref_id': 'bibref9'}, {'start': 589, 'end': 593, 'text': '[11]', 'ref_id': 'bibref10'}], 'ref_spans': [], 'section': 'introduction'}, {'text': 'the establishment and maintenance of a surveillance system inevitably face many difficulties in the case of lf reporting.\", tags=[460]),\n",
              " TaggedDocument(words='a clinical diagnosis of lf infection is often challenging owing to the similarities with other common diseases seen in the region, i.e.', tags=[461]),\n",
              " TaggedDocument(words='malaria or typhoid fever [12, 13] .', tags=[462]),\n",
              " TaggedDocument(words='on average, four out of five cases are asymptomatic [8] .', tags=[463]),\n",
              " TaggedDocument(words='furthermore, post-mortem examinations to confirm lf infection as the cause of death are recognized as taboos in some areas of nigeria [1] .', tags=[464]),\n",
              " TaggedDocument(words='all of these aforementioned factors contribute to the limited accuracy and completeness of the passively reported surveillance data.', tags=[465]),\n",
              " TaggedDocument(words=\"', 'cite_spans': [{'start': 283, 'end': 287, 'text': '[12,', 'ref_id': 'bibref11'}, {'start': 288, 'end': 291, 'text': '13]', 'ref_id': 'bibref12'}, {'start': 346, 'end': 349, 'text': '[8]', 'ref_id': 'bibref7'}, {'start': 486, 'end': 489, 'text': '[1]', 'ref_id': 'bibref0'}], 'ref_spans': [], 'section': 'introduction'}, {'text': 'here, we offer a unified epidemiological model that consists of two parts [14] .\", tags=[466]),\n",
              " TaggedDocument(words='the first part describes the process of generating the incidence data in humans.', tags=[467]),\n",
              " TaggedDocument(words='we derived the risk of exposure to the virus throughout the year.', tags=[468]),\n",
              " TaggedDocument(words='the second part employs the so-called susceptible -infectedrecovered (sir) model, which captures the transmission dynamics of the virus in rodents.', tags=[469]),\n",
              " TaggedDocument(words='based on existing observations of rodent populations both in the field and in laboratory settings [15 -17] (see the discussion on the difficulties of collecting data in nigeria in [18] ), we have captured the seasonality in the numbers of infected rodents.', tags=[470]),\n",
              " TaggedDocument(words='using the first and second parts of the model, we also estimated the relative contact frequency of humans with infected animals throughout the year.', tags=[471]),\n",
              " TaggedDocument(words=\"', 'cite_spans': [{'start': 74, 'end': 78, 'text': '[14]', 'ref_id': 'bibref13'}, {'start': 474, 'end': 482, 'text': '[15 -17]', 'ref_id': none}, {'start': 556, 'end': 560, 'text': '[18]', 'ref_id': 'bibref17'}], 'ref_spans': [], 'section': 'introduction'}, {'text': 'our study encompasses the analysis of surveillance data on lf incidence in humans along with the transmission dynamics in the rodent reservoir.\", tags=[472]),\n",
              " TaggedDocument(words='using this modelling framework, we aimed to estimate the impact of environmental factors on the annual fluctuations in the risk of lf infection in humans.', tags=[473]),\n",
              " TaggedDocument(words='similar methodological applications can be performed for other zoonotic diseases that involve well-identified wildlife animal hosts.', tags=[474]),\n",
              " TaggedDocument(words=\"', 'cite_spans': [], 'ref_spans': [], 'section': 'introduction'}, {'text': 'first, we estimated two distributions from existing datasets in humans, i.e.\", tags=[475]),\n",
              " TaggedDocument(words='the incubation period and the time from illness onset to death.', tags=[476]),\n",
              " TaggedDocument(words='we used a published dataset from a nosocomial outbreak in jos, nigeria, in 1970 [19] , to determine the best-fit gamma distributions to be a mean of 12.8 days (95% credible interval (cri): 10.7-15.0) and a standard deviation of 4.6 days (cri: 2.8-6.6) for the incubation period, and a mean of 13.8 days (cri: 10.8-17.0) and a standard deviation of 7.6 days (cri: 5.0-10.6) for the time from illness onset to death (electronic supplementary material, appendix a and figure s1).', tags=[477]),\n",
              " TaggedDocument(words=\"', 'cite_spans': [{'start': 221, 'end': 225, 'text': '[19]', 'ref_id': none}], 'ref_spans': [], 'section': 'results'}, {'text': 'by incorporating these estimates into our analysis of the incidence data (material and methods section), weekly exposure rates of humans to lf were estimated.\", tags=[478]),\n",
              " TaggedDocument(words='we used a model that rests on the renewal process of the viral exposure in humans, accounting for the time delay due to the incubation period and the time from illness onset to death.', tags=[479]),\n",
              " TaggedDocument(words='the formulation resulted in two poisson-and binomially distributed likelihood functions for describing the lf incidence and mortality, respectively (electronic supplementary material, appendix b).', tags=[480]),\n",
              " TaggedDocument(words='we identified two distinct periods of a year which were separately analysed owing to considerably different levels of observed transmission activity: (i) a low-risk period with a weekly exposure rate of 6.4 (cri: 0-32.5; maximum-likelihood estimate (mle): 9.6) lasting from week 9 (26 february to 4 march in 2018, cri: 5 -13) to week 50 (10 december to 16 december in 2018; cri: 47 -52), and (ii) the rest of the year, characterized by a higher risk of contracting the virus, with the average weekly exposure rate reaching 24.7 (cri: 0-111.7; mle: 38.1), which exceeded the low-risk period by approximately four times.', tags=[481]),\n",
              " TaggedDocument(words='the cfr was estimated at 4.9% (cri: 0-54.4; mle: 8.9%).', tags=[482]),\n",
              " TaggedDocument(words='if we assume the unbiased value of the cfr at 2%, the reporting coverage can be estimated to be as low as 40%.', tags=[483]),\n",
              " TaggedDocument(words='the overlaid incidence data and variations in the parameter estimates are shown in figure 1. for comparison, an analogous model with a single (constant) exposure rate yielded a less plausible fit to the data (akaike information criterion (aic) values: 3679.2 for a single-and 2877.2 for a two-period model).', tags=[484]),\n",
              " TaggedDocument(words=\"', 'cite_spans': [], 'ref_spans': [], 'section': 'results'}, {'text': 'subsequently, we assessed whether a seasonal increase in the number of infected rodents can solely explain the increase in the incidence of lf infections in humans in the high-risk period.\", tags=[485]),\n",
              " TaggedDocument(words='using the dynamic transmission model for lf infection in rodents (material and methods section; electronic supplementary material, figure s2 ), the number of infected animals was predicted to reach its maximal level in the middle of may, while the minimal level was observed in december (electronic supplementary material, figure s3 ).', tags=[486]),\n",
              " TaggedDocument(words='the lf incidence in humans which is thought to correlate royalsocietypublishing.org/journal/rstb phil.', tags=[487]),\n",
              " TaggedDocument(words='trans.', tags=[488]),\n",
              " TaggedDocument(words='r. soc.', tags=[489]),\n",
              " TaggedDocument(words='b 374: 20180268 with the lf level of infection in rodents controversially peaks in the first two to three months of the year.', tags=[490]),\n",
              " TaggedDocument(words='during that period, the number of infected rodents was smaller than for the rest of the year.', tags=[491]),\n",
              " TaggedDocument(words='we therefore propose that a factor other than seasonal fluctuations in the number of infected rodents may play a role in driving lf seasonal epidemics.', tags=[492]),\n",
              " TaggedDocument(words=\"', 'cite_spans': [], 'ref_spans': [{'start': 320, 'end': 329, 'text': 'figure s2', 'ref_id': none}, {'start': 512, 'end': 521, 'text': 'figure s3', 'ref_id': 'figref2'}], 'section': 'results'}, {'text': 'to search for such a factor, we analysed the correlative power of the lf incidence rates and climatological variables, such as rainfall, temperature, relative humidity, specific humidity and precipitable water.\", tags=[493]),\n",
              " TaggedDocument(words='we found that only the rainfall seasonal pattern was significantly correlated with the seasonal incidence of lf in humans ( p , 0.01, figure 2 ).', tags=[494]),\n",
              " TaggedDocument(words='this was also confirmed by the start and end times of the high/low exposure periods, which approximately coincide with the start and the end of the rainy season (cf.', tags=[495]),\n",
              " TaggedDocument(words='figure 1b; electronic supplementary material, figure s4 ).', tags=[496]),\n",
              " TaggedDocument(words='therefore, an event associated with rainfall patterns contributes to the incidence of lf in humans, e.g.', tags=[497]),\n",
              " TaggedDocument(words='this could be the change in seasons and seasonal migration or a change in the behaviour of the rodents.', tags=[498]),\n",
              " TaggedDocument(words=\"', 'cite_spans': [], 'ref_spans': [{'start': 345, 'end': 353, 'text': 'figure 2', 'ref_id': none}, {'start': 569, 'end': 578, 'text': 'figure s4', 'ref_id': none}], 'section': 'results'}, {'text': 'last, we calculated the relative frequency of contact of humans with infected rodents using the ratio of the estimated weekly exposure rate to the density of infected rodents predicted by our transmission model (figure 3).\", tags=[499]),\n",
              " TaggedDocument(words='after assigning the average frequency of contact in the low-risk exposure period as 1, we determined that the relative risk of human exposure was 5.3 times higher on average during the highrisk exposure period.', tags=[500]),\n",
              " TaggedDocument(words='the maximal value of 6.7 was identified in the first week of the year.', tags=[501]),\n",
              " TaggedDocument(words=\"', 'cite_spans': [], 'ref_spans': [], 'section': 'results'}, {'text': 'this study analysed the surveillance-based incidence data of lf in nigeria from 2016 to 2018 and identified two different (high-and low-)risk periods.\", tags=[502]),\n",
              " TaggedDocument(words='the high-risk period spanned the last month of the year to the second to third month of the year.', tags=[503]),\n",
              " TaggedDocument(words='the relative risk of acquiring lf infection during the high-risk period was five times greater than during the rest of the year.', tags=[504]),\n",
              " TaggedDocument(words='in our search for a possible explanation, we identified that the rainfall pattern was negatively and highly correlated with lf incidence.', tags=[505]),\n",
              " TaggedDocument(words='the rainfall does not affect the transmissibility of the virus directly, but it is noteworthy that rodents migrate to within close proximity to human settlements to breed and hibernate during the dry season.', tags=[506]),\n",
              " TaggedDocument(words='this in turn leads to an increase in the contact rate of humans with rodents, and as a consequence, a higher probability of acquiring lf infection.', tags=[507]),\n",
              " TaggedDocument(words=\"', 'cite_spans': [], 'ref_spans': [], 'section': 'discussion'}, {'text': 'fichet-calvet & rogers [22] previously showed that the rainfall pattern was the main single abiotic factor contributing to lf.\", tags=[508]),\n",
              " TaggedDocument(words='the migration of rodents was notified as a main factor in another report [23] .', tags=[509]),\n",
              " TaggedDocument(words='our findings confirm the importance of the combined effect of these two factors on the seasonality of lf epidemics and offer a quantitative estimation of their strength, which has never to our knowledge been done in the past.', tags=[510]),\n",
              " TaggedDocument(words='when the rainy season ends in november, the breeding season for rodents starts about two months later.', tags=[511]),\n",
              " TaggedDocument(words='at that time, newly born offspring and scarcity of food on the ground force mature rodents to approach humanoccupied areas.', tags=[512]),\n",
              " TaggedDocument(words='consequently, this may lead to a rise in the contact frequency between humans and infected rodents.', tags=[513]),\n",
              " TaggedDocument(words='this high-exposure frequency persists until the rainy season starts again the following year, at which point the rodents migrate back to the ground and we observe the subsequent decline in human cases of lf.', tags=[514]),\n",
              " TaggedDocument(words='these findings highlight the importance of seasonal ecology of animal hosts in explaining the seasonality of lf epidemics.', tags=[515]),\n",
              " TaggedDocument(words='similar findings have been reported for many other diseases, not only for those of an epizootic nature, e.g.', tags=[516]),\n",
              " TaggedDocument(words='[24, 25] , but also for insect-vectored plant diseases [26] .', tags=[517]),\n",
              " TaggedDocument(words='this points to rather general applicability of our approach that may frame the spillovers of other pathogens with two epizootic transmission routes.', tags=[518]),\n",
              " TaggedDocument(words='an important achievement of the present study was that we were able to offer quantitative estimates of the impact of the two risk factors, rainfall pattern and migration of rodents, on the exposure probability of humans to lf infection.', tags=[519]),\n",
              " TaggedDocument(words='this highlights the importance for preventive measures that aim to contain seasonal epidemics of lf to be specifically designed: (i) to control rodent populations and reduce the encounter frequency of rodents and humans, and (ii) to raise awareness among local residents.', tags=[520]),\n",
              " TaggedDocument(words='this can be envisioned as an eradication campaign, especially in rural areas with agronomic activities, and in public markets in urban areas, where rodents are frequently seen.', tags=[521]),\n",
              " TaggedDocument(words='preventive measures may also include improved hygiene practices, hiding food from rodents during the night time, or designing educational campaigns that raise awareness of lf pathogenicity.', tags=[522]),\n",
              " TaggedDocument(words='the implementation of such programmes would be expected to lead to a decline in lf cases in the near future.', tags=[523]),\n",
              " TaggedDocument(words=\"', 'cite_spans': [{'start': 23, 'end': 27, 'text': '[22]', 'ref_id': 'bibref22'}, {'start': 200, 'end': 204, 'text': '[23]', 'ref_id': 'bibref23'}, {'start': 1200, 'end': 1204, 'text': '[24,', 'ref_id': 'bibref24'}, {'start': 1205, 'end': 1208, 'text': '25]', 'ref_id': 'bibref25'}, {'start': 1255, 'end': 1259, 'text': '[26]', 'ref_id': 'bibref26'}], 'ref_spans': [], 'section': 'discussion'}, {'text': 'however, we were unable to measure the impact of awareness of the scale of epidemics using the available data.\", tags=[524]),\n",
              " TaggedDocument(words='even though occasional peaks in the number of recorded deaths may be indicative of periods of low awareness, our analysis of seasonal trends only showed that awareness probably does not involve a strict seasonal component.', tags=[525]),\n",
              " TaggedDocument(words='nevertheless, the effect of awareness on the reporting of lf incidence may be indirectly evident from the geographical distribution of lf cases over the last 6 years (electronic supplementary material, figure s5 ).', tags=[526]),\n",
              " TaggedDocument(words='the geographical area with newly reported lf cases has expanded in the last few years, presumably because of better recognition of the epidemics and improved capability of the surveillance system.', tags=[527]),\n",
              " TaggedDocument(words=\"', 'cite_spans': [], 'ref_spans': [{'start': 536, 'end': 545, 'text': 'figure s5', 'ref_id': none}], 'section': 'discussion'}, {'text': 'several technical limitations of our study must be noted.\", tags=[528]),\n",
              " TaggedDocument(words='first, we did not consider a spatial component in our analysis which may involve geographical heterogeneity in reporting rates.', tags=[529]),\n",
              " TaggedDocument(words='second, we used only the counts of suspected cases that included both laboratory-confirmed cases and cases that tested negative.', tags=[530]),\n",
              " TaggedDocument(words='however, the available dataset indicates that the majority of suspected cases involved specimens that tested negative.', tags=[531]),\n",
              " TaggedDocument(words='this becomes especially evident in low-risk exposure periods, and taking this into consideration in our analysis would further amplify the difference between highrisk and low-risk periods.', tags=[532]),\n",
              " TaggedDocument(words='third, we did not account for temporal changes in the surveillance system and improvements in laboratory facilities for the detection of lf, both of which have been greatly improved in recent years.', tags=[533]),\n",
              " TaggedDocument(words='fourth, we did not distinguish possible variations in population densities of rodents in habiting human houses and farm fields or, similarly, urban and rural areas.', tags=[534]),\n",
              " TaggedDocument(words=\"', 'cite_spans': [], 'ref_spans': [], 'section': 'discussion'}, {'text': 'in summary, we identified and quantified the effect of two factors that drive the seasonality of lf epidemics in nigeria.\", tags=[535]),\n",
              " TaggedDocument(words='combining the fit of the mechanistic model to the observed counts of lf disease in humans with the predictive model of the transmission dynamics of lf in rodents, we quantified the annual change in relative contact frequency between humans and infected rodents.', tags=[536]),\n",
              " TaggedDocument(words='a high seasonal amplitude was identified, and our model indicated the first nine weeks of the season as the high-risk period for lf transmission.', tags=[537]),\n",
              " TaggedDocument(words=\"', 'cite_spans': [], 'ref_spans': [], 'section': 'discussion'}, {'text': 'data were routinely collected from the weekly epidemiological report of the nigerian centre for disease control (ncdc) for the period from 2016/week 4 to 2018/week 30. the extracted counts included newly suspected weekly cases for both positively and negatively testing specimens, as well as the number of fatal cases reported per week.\", tags=[538]),\n",
              " TaggedDocument(words='for both cases and deaths, the corresponding week of the report represents the week in which the illness onset and death events occurred, respectively (i.e.', tags=[539]),\n",
              " TaggedDocument(words='fatal cases were not reported as a function of the week of illness onset).', tags=[540]),\n",
              " TaggedDocument(words='we did not use the available data for previous time periods (2012 -2016) owing to irregular reporting and removal figure 2 .', tags=[541]),\n",
              " TaggedDocument(words='cross-map causality for shared seasonality of environmental variables with the lassa fever incidence.', tags=[542]),\n",
              " TaggedDocument(words='red circles show the unlagged crossmap skill.', tags=[543]),\n",
              " TaggedDocument(words='box-plots show null distributions for cross-map skill expected from random surrogate time series that share the same seasonality as the true environmental variable.', tags=[544]),\n",
              " TaggedDocument(words='the single filled circle indicates that the measured causality is significantly better than the null expectation ( p , 0.01).', tags=[545]),\n",
              " TaggedDocument(words='as for the use of convergent cross-mapping, please see literature [20, 21] .', tags=[546]),\n",
              " TaggedDocument(words='(online version in colour.)', tags=[547]),\n",
              " TaggedDocument(words='to access weekly data on climatological variables (i.e.', tags=[548]),\n",
              " TaggedDocument(words='precipitation, temperature, relative and specific humidity, precipitable water), we used publicly available gridded ncep/ ncar reanalysis data [27, 28] .', tags=[549]),\n",
              " TaggedDocument(words='the chosen reference point was set to coordinates 6.758 n 6.258 e, located in edo state, nigeria.', tags=[550]),\n",
              " TaggedDocument(words='historically, edo state was characterized by a high prevalence of lf infection.', tags=[551]),\n",
              " TaggedDocument(words='it was also marked as highly hazardous for lf transmission owing to an average annual rainfall of 1786 mm [22] .', tags=[552]),\n",
              " TaggedDocument(words='additionally, we used monthly data records over a longer time period for the same location that were provided by another source: a publicly available dataset of the university of east anglia climatic research unit [29] .', tags=[553]),\n",
              " TaggedDocument(words='while the former was used for correlative analysis of rainfall patterns and available incidence data from the last 6 years, the latter was used only to generate the historical characteristics of rainfall, as shown in electronic supplementary material, figure s4.', tags=[554]),\n",
              " TaggedDocument(words=\"(b) estimation of the incubation period and the time from illness onset to death', 'cite_spans': [{'start': 1199, 'end': 1203, 'text': '[20,', 'ref_id': 'bibref20'}, {'start': 1204, 'end': 1207, 'text': '21]', 'ref_id': 'bibref21'}, {'start': 1437, 'end': 1441, 'text': '[27,', 'ref_id': 'bibref27'}, {'start': 1442, 'end': 1445, 'text': '28]', 'ref_id': 'bibref28'}, {'start': 1732, 'end': 1736, 'text': '[22]', 'ref_id': 'bibref22'}, {'start': 1953, 'end': 1957, 'text': '[29]', 'ref_id': none}], 'ref_spans': [{'start': 683, 'end': 691, 'text': 'figure 2', 'ref_id': none}, {'start': 2212, 'end': 2222, 'text': 'figure s4.\", tags=[555]),\n",
              " TaggedDocument(words=\"', 'ref_id': none}], 'section': 'material and methods (a) data collection'}, {'text': 'we fitted the distributions of the incubation period f and the time from illness onset to death h, which were essential for describing the epidemiological process, to gamma distributions.\", tags=[556]),\n",
              " TaggedDocument(words='the analysed dataset included the cases and transmission events during a nosocomial outbreak in the evangel hospital in jos, nigeria, in 1970 ( fig.', tags=[557]),\n",
              " TaggedDocument(words='1 in [19] ).', tags=[558]),\n",
              " TaggedDocument(words='in total, the number of described cases was 23 with probable time intervals of exposure, the date of illness onset and the date of death.', tags=[559]),\n",
              " TaggedDocument(words='to determine the best-fit parameters for both distributions, we applied a markov chain monte carlo (mcmc) method in a bayesian framework.', tags=[560]),\n",
              " TaggedDocument(words='the 95% credible interval (cri) for each fitted parameter of the two distributions was determined as the 95% high-density interval [30] .', tags=[561]),\n",
              " TaggedDocument(words=\"', 'cite_spans': [{'start': 757, 'end': 761, 'text': '[30]', 'ref_id': 'bibref30'}], 'ref_spans': [{'start': 332, 'end': 346, 'text': 'fig.\", tags=[562]),\n",
              " TaggedDocument(words=\"1 in [19]', 'ref_id': 'figref0'}], 'section': 'material and methods (a) data collection'}, {'text': 'first, we accounted for two transmission routes of lf infection, i.e.\", tags=[563]),\n",
              " TaggedDocument(words='the animal-to-human route and the human-to-human transmission route.', tags=[564]),\n",
              " TaggedDocument(words='we specified a total exposure rate in weeks w by a variable e w .', tags=[565]),\n",
              " TaggedDocument(words='this could be written as the sum of the two rates: e w ¼ a w þ h w , where a w and h w are weekly exposure rates via animal-to-human and human-to-human transmission routes, respectively.', tags=[566]),\n",
              " TaggedDocument(words='an important estimate previously reported in the literature [6] indicated that ca 19% of all infections are attributed to the human-to-human transmission route, leading to the following requirement: h w /(h w þ a w ) ¼ r ¼ 0.19. we can then express the total exposure rate e w solely through the exposure rate a w such that: e w ¼ a w /(1 2 r).', tags=[567]),\n",
              " TaggedDocument(words='this expression was used in our framework to avoid a detailed modelling of the human-to-human transmission route.', tags=[568]),\n",
              " TaggedDocument(words='owing to limited humanto-human transmission potential, we focused only on exposure to the virus through a contaminated environment.', tags=[569]),\n",
              " TaggedDocument(words='qualitatively, it has been noted that the incidence of infections is likely to rise in the first two to three months of each calendar year.', tags=[570]),\n",
              " TaggedDocument(words='we accounted for this in our model by incorporating seasonal variations in the weekly exposure rate a wc as a function of the calendar week w c (1 w c 52).', tags=[571]),\n",
              " TaggedDocument(words=\"in its simplest form, the exposure rate a wc was modelled by a two-level step function: a wc (a + , l 1,2 ) ¼ a à , for l 1 w c l 2 , a þ , otherwise,', 'cite_spans': [{'start': 452, 'end': 455, 'text': '[6]', 'ref_id': 'bibref5'}], 'ref_spans': [], 'section': '(c) epidemiological modelling'}, {'text': 'where l 1,2 represents two time boundaries separating a period of high exposure from a period of low exposure (1 l 1,2 52) .\", tags=[572]),\n",
              " TaggedDocument(words='we expected that a þ .', tags=[573]),\n",
              " TaggedDocument(words='a 2 .', tags=[574]),\n",
              " TaggedDocument(words=\"', 'cite_spans': [], 'ref_spans': [{'start': 110, 'end': 122, 'text': '(1 l 1,2 52)', 'ref_id': 'figref0'}], 'section': '(c) epidemiological modelling'}, {'text': 'because all records in our dataset counted the weekly numbers w beginning from the first record, we assumed a functional dependence w c ¼ w c (w) in the following formulations.\", tags=[575]),\n",
              " TaggedDocument(words=\"', 'cite_spans': [], 'ref_spans': [], 'section': '(c) epidemiological modelling'}, {'text': 'these assumptions allowed us to define the epidemiological process in a concise form.\", tags=[576]),\n",
              " TaggedDocument(words='here, two poisson processes are considered.', tags=[577]),\n",
              " TaggedDocument(words='first, each newly reported non-fatal case was dealt with as a result of previous exposure delayed by the length of the incubation period.', tags=[578]),\n",
              " TaggedDocument(words=\"this implied a poisson process with the expected number of new cases i w at week w to be a result of the convolution of the exposure rate a and distribution of the incubation period f, multiplied by the chance of survival (1 2 q) with q being the risk of death (or cfr):', 'cite_spans': [], 'ref_spans': [], 'section': '(c) epidemiological modelling'}, {'text': 'where u ¼ fa + , q, l 1,2 g is a set of model parameters.\", tags=[579]),\n",
              " TaggedDocument(words=\"', 'cite_spans': [], 'ref_spans': [], 'section': '(c) epidemiological modelling'}, {'text': 'in a similar manner, we introduced another poisson process to describe the reporting of fatal cases.\", tags=[580]),\n",
              " TaggedDocument(words='lf deaths result from exposure to the virus in previous weeks postponed by a probabilistically distributed time period between the exposure event and death.', tags=[581]),\n",
              " TaggedDocument(words=\"the latter was denoted by g and defined as a convolution of the incubation period f and the distribution of time from illness onset to death h. then the expected number of fatal cases d w in week w was determined by a convolution of the exposure rate a and distribution g, multiplied by the risk of death q:', 'cite_spans': [], 'ref_spans': [], 'section': '(c) epidemiological modelling'}, {'text': 'a wàk (a + , l 1,2 ) â g k 1 à r :', 'cite_spans': [], 'ref_spans': [], 'section': '(c) epidemiological modelling'}, {'text': 'then, the likelihood function for describing the total number of reports (i.e.\", tags=[582]),\n",
              " TaggedDocument(words=\"cases plus deaths) was:', 'cite_spans': [], 'ref_spans': [], 'section': '(c) epidemiological modelling'}, {'text': 'where fi w þ d w g is a set of all available data records with a given independently reported incidence that includes both non-fatal and fatal cases,', 'cite_spans': [], 'ref_spans': [], 'section': '(c) epidemiological modelling'}, {'text': 'the second likelihood function for describing the number of deaths was derived from the binomial sampling process:', 'cite_spans': [], 'ref_spans': [], 'section': '(c) epidemiological modelling'}, {'text': 'where the terms in the first set of parentheses in the product denote the binomial coefficient, fd w g; on the left-hand side is a set of all available data records for weekly counts of deaths.\", tags=[583]),\n",
              " TaggedDocument(words=\"', 'cite_spans': [], 'ref_spans': [], 'section': '(c) epidemiological modelling'}, {'text': 'we first defined the model parameters u by using a bayesian approach and performing mcmc iterations.\", tags=[584]),\n",
              " TaggedDocument(words='second, we used the maximum-likelihood method to obtain point estimates.', tags=[585]),\n",
              " TaggedDocument(words=\"for the maximization procedure, we used the total (composite) likelihood of the form:', 'cite_spans': [], 'ref_spans': [], 'section': '(c) epidemiological modelling'}, {'text': 'the likelihood l s was maximized, respectively, to each parameter in u by equating its first partial derivatives to zero.\", tags=[586]),\n",
              " TaggedDocument(words=\"', 'cite_spans': [], 'ref_spans': [], 'section': '(c) epidemiological modelling'}, {'text': 'to describe the transmission dynamics of lf infection in rodents, we used an sir model (electronic supplementary material, figure  s3 and more details in appendix c).\", tags=[587]),\n",
              " TaggedDocument(words='the birth rate of rodents was defined by a periodic birth pulse function as suggested previously [31] .', tags=[588]),\n",
              " TaggedDocument(words='we used model parameter estimates previously derived in another field study on the same rodent species in tanzania [16, 32] .', tags=[589]),\n",
              " TaggedDocument(words='to adjust for the differences in climatological profile between the two countries, we shifted the dynamics royalsocietypublishing.org/journal/rstb phil.', tags=[590]),\n",
              " TaggedDocument(words='trans.', tags=[591]),\n",
              " TaggedDocument(words='r. soc.', tags=[592]),\n",
              " TaggedDocument(words='b 374: 20180268 fitted to the tanzania data by a time lag equal to the difference between the starting times of the dry season in the two countries.', tags=[593]),\n",
              " TaggedDocument(words='specifically, we defined this time lag by comparing historical rainfall averages for the time period 1901-2015 (electronic supplementary material, figure s4 ).', tags=[594]),\n",
              " TaggedDocument(words='we then implemented known measurements of the lf prevalence in rodents captured in nigeria in the dry and rainy seasons separately, and we accounted for a non-zero probability of vertical transmission of the virus and its antibodies, as previously observed in rodents (see [16] for details).', tags=[595]),\n",
              " TaggedDocument(words=\"', 'cite_spans': [{'start': 264, 'end': 268, 'text': '[31]', 'ref_id': 'bibref31'}, {'start': 386, 'end': 390, 'text': '[16,', 'ref_id': 'bibref15'}, {'start': 391, 'end': 394, 'text': '32]', 'ref_id': 'bibref32'}, {'start': 1147, 'end': 1151, 'text': '[16]', 'ref_id': 'bibref15'}], 'ref_spans': [{'start': 123, 'end': 133, 'text': 'figure  s3', 'ref_id': 'figref2'}, {'start': 861, 'end': 870, 'text': 'figure s4', 'ref_id': none}], 'section': '(d) transmission dynamics of lf infection in rodents'}, {'text': 'to test for the significance of a causal relationship between the observed lf incidence and climatological variables, we employed an empirical dynamic modelling that is based on the convergent cross-mapping skill [20, 21] .\", tags=[596]),\n",
              " TaggedDocument(words='this method has previously been used to demonstrate the causal link between influenza transmission risk and humidity or temperature.', tags=[597]),\n",
              " TaggedDocument(words='the lf incidence was tested, searching for the significance of the association with one of the climatological variables, i.e.', tags=[598]),\n",
              " TaggedDocument(words='time series versus seasonal surrogates.', tags=[599]),\n",
              " TaggedDocument(words='the threshold of acceptance was chosen to be 0.01.', tags=[600]),\n",
              " TaggedDocument(words=\"', 'cite_spans': [{'start': 213, 'end': 217, 'text': '[20,', 'ref_id': 'bibref20'}, {'start': 218, 'end': 221, 'text': '21]', 'ref_id': 'bibref21'}], 'ref_spans': [], 'section': '(e) association of seasonal lf dynamics and climatological variables'}, {'text': 'data accessibility.\", tags=[601]),\n",
              " TaggedDocument(words='we provide all of the accumulated data as electronic supplementary material.', tags=[602]),\n",
              " TaggedDocument(words=\"', 'cite_spans': [], 'ref_spans': [], 'section': '(e) association of seasonal lf dynamics and climatological variables'}]\", tags=[603]),\n",
              " TaggedDocument(words=\"[{'text': 'the first evaluation of the tunisian influenza surveillance system since its implementation in 1980. we specifically aimed to: (i) provide a comprehensive understanding of how the tunisian surveillance system operates; (ii) assess its performance and (iii) identify its strengths and weaknesses in order to improve it.\", tags=[604]),\n",
              " TaggedDocument(words='\\', \\'cite_spans\\': [], \\'ref_spans\\': [], \\'section\\': \\'\\'}, {\\'text\\': \"description of the surveillance system the influenza surveillance system in tunisia involves the following stakeholders: (i) primary health care directorate (dssb), which coordinates the national influenza program at the ministry of health, (ii) the national influenza center (nic) at the unit of virology, of the microbiology laboratory, charles nicolle\\'s hospital, tunis and (iii) a network of 268 sentinel surveillance sites selected from primary health centers conducting influenza-like illness (ili) surveillance ( fig.', tags=[605]),\n",
              " TaggedDocument(words='1) .', tags=[606]),\n",
              " TaggedDocument(words='the ili sentinel sites were selected on the basis of their representativeness, their geographical-demographical criteria and the presence of voluntary and motivated health professionals.', tags=[607]),\n",
              " TaggedDocument(words='since the start of surveillance, data was collected using standardized forms that aggregated data into three age groups: 0-5 years; 6-15 years and ≥ 16 years [6] .', tags=[608]),\n",
              " TaggedDocument(words='in 2014, however, a new who ili case definition was implemented with minimum data standards that included gender and age groups (0-< 2 years, 2-< 5 years, 5-< 15 years, 15-< 50 years, 50-< 65 years and ≥ 65 years) [7] .', tags=[609]),\n",
              " TaggedDocument(words='ili sites report cases from the 40th week of the year in october, to the 18th week of the following year in april, which correspond to the influenza season that started and finish in relation to the cold period of the northern hemisphere and the passage of migratory birds [8] (http://www.santetunisie.rns.tn/images/docs/anis/guidegripf6102016.pdf).', tags=[610]),\n",
              " TaggedDocument(words='the characteristics of the tunisian influenza-like illness surveillance system are described in the table 1 .', tags=[611]),\n",
              " TaggedDocument(words='\", \\'cite_spans\\': [{\\'start\\': 875, \\'end\\': 878, \\'text\\': \\'[6]\\', \\'ref_id\\': \\'bibref5\\'}, {\\'start\\': 1095, \\'end\\': 1098, \\'text\\': \\'[7]\\', \\'ref_id\\': \\'bibref6\\'}, {\\'start\\': 1374, \\'end\\': 1377, \\'text\\': \\'[8]\\', \\'ref_id\\': \\'bibref7\\'}], \\'ref_spans\\': [{\\'start\\': 520, \\'end\\': 527, \\'text\\': \\'fig.', tags=[612]),\n",
              " TaggedDocument(words=\"1)', 'ref_id': none}, {'start': 1551, 'end': 1558, 'text': 'table 1', 'ref_id': 'tabref0'}], 'section': 'methods'}, {'text': 'samples are placed in a refrigerator at + 4°c immediately after collection and transported in a virological transport medium to the nic within 72 h. the nic receives all fig.\", tags=[613]),\n",
              " TaggedDocument(words='1 structure of the influenza-like illness (ili) surveillance system in tunisia of the nasopharyngeal swabs of sampled ili cases to be tested for influenza and other respiratory viruses.', tags=[614]),\n",
              " TaggedDocument(words='at each sentinel site, if the number of patients meeting the ili case definition exceeds 7% (10% after 2014) of the total number of outpatients (the total number of patients presented to the health care facility independently of the cause, this include all acute morbidity and excludes chronic diseases) for the week, randomly five to 10 patients responding the case definition were enrolled and sampled by nasopharyngeal swabs the following week [9] : this is the sampling criteria used [8] .', tags=[615]),\n",
              " TaggedDocument(words=\"', 'cite_spans': [{'start': 808, 'end': 811, 'text': '[9]', 'ref_id': 'bibref8'}, {'start': 849, 'end': 852, 'text': '[8]', 'ref_id': 'bibref7'}], 'ref_spans': [{'start': 170, 'end': 176, 'text': 'fig.\", tags=[616]),\n",
              " TaggedDocument(words=\"1', 'ref_id': none}], 'section': 'methods'}, {'text': '(http://www.santetunisie.rns.tn/images/docs/anis/guide-gripf6102016.pdf ).\", tags=[617]),\n",
              " TaggedDocument(words='samples are weekly (5 working days from monday to friday) collected in order to detect influenza viruses, using real-time rt-pcr following the united states centers for disease control and prevention (us-cdc) recommended diagnostic using validated in house protocols [10] .', tags=[618]),\n",
              " TaggedDocument(words='the nic communicates the results to the sentinel sites, the dssb and the who flunet global monitoring system.', tags=[619]),\n",
              " TaggedDocument(words='the dssb is responsible for the coordination of disease surveillance and response and ensures the reporting at national and international levels.', tags=[620]),\n",
              " TaggedDocument(words=\"', 'cite_spans': [{'start': 342, 'end': 346, 'text': '[10]', 'ref_id': 'bibref9'}], 'ref_spans': [], 'section': 'methods'}, {'text': 'the evaluation period included three influenza seasons from october 2012 to april 2015.the strengthening project of the influenza surveillance system starts on 2014. so we decided to evaluate the year of the new strategy implementation with two years before the project (pre-evaluation) to have a clear idea about the system performance at time zero, just when we started the new version of the surveillance system and to evaluate the changes in the future after the end of the project (post-evaluation).\", tags=[621]),\n",
              " TaggedDocument(words='surveillance system performance was assessed using the guidelines of the us-cdc [11] .', tags=[622]),\n",
              " TaggedDocument(words='eight attributes were considered: (i) data quality and completeness; (ii) representativeness; (iii) timeliness; (iv) simplicity; (v) acceptability; (vi) flexibility; (vii) stability and (viii) utility.', tags=[623]),\n",
              " TaggedDocument(words='for each attribute, specific indicators were developed.', tags=[624]),\n",
              " TaggedDocument(words='indicators were analyzed, scored and a mean score was calculated for each attribute using a qualitative scale from 1 to 5, from very poor performance (1) to very good performance (5) .', tags=[625]),\n",
              " TaggedDocument(words='in this scale, we have collapsed two categories for some questions: score 1 (strongly agree / agree); score 2 (mostly agree); score 3 (somewhat disagree); score 4 (disagree/ strongly disagree) and score 5 (do not know).', tags=[626]),\n",
              " TaggedDocument(words='we used surveillance databases collected at the national surveillance program of the ministry of health and the nic.', tags=[627]),\n",
              " TaggedDocument(words='standardized semi-structured and selfadministered questionnaires were used to collect relevant data from surveillance staff at ili sites, regional directorates, the dssb and from the nic.', tags=[628]),\n",
              " TaggedDocument(words=\"', 'cite_spans': [{'start': 585, 'end': 589, 'text': '[11]', 'ref_id': 'bibref10'}, {'start': 1029, 'end': 1032, 'text': '(5)', 'ref_id': 'bibref4'}], 'ref_spans': [], 'section': 'evaluation of the influenza surveillance system'}, {'text': 'during the evaluation period, 485.221 ili cases were reported among 6.386.621 outpatients at 268 ili sentinel sites.\", tags=[629]),\n",
              " TaggedDocument(words='in total, 2476 samples were tested, of which 683 were positive (positivity rate 27.6%).', tags=[630]),\n",
              " TaggedDocument(words='during these three seasons, the distribution of influenza viruses (influenza b, influenza a (h1n1) pdm2009 and influenza a (h3n2)) varied, with different subtypes predominant in each season ( table 2 ).', tags=[631]),\n",
              " TaggedDocument(words=\"', 'cite_spans': [], 'ref_spans': [{'start': 397, 'end': 404, 'text': 'table 2', 'ref_id': 'tabref2'}], 'section': 'results'}, {'text': 'the self-administered questionnaires were administered to 599 surveillance staff at ili sites (from which 3.2% (19/599) were discarded due to missing data), 85 at regional directorates, six at the dssb and seven at the nic.\", tags=[632]),\n",
              " TaggedDocument(words='table 3 presents the mean scores of the eight assessed attributes as well as the scores of all the indicators that were used for the evaluation of the influenza surveillance system in tunisia.', tags=[633]),\n",
              " TaggedDocument(words=\"', 'cite_spans': [], 'ref_spans': [{'start': 224, 'end': 231, 'text': 'table 3', 'ref_id': 'tabref3'}], 'section': 'results'}, {'text': 'among ili surveillance staff, 30% (n = 174/580) correctly identified the ili case definition and 35.8% (n = 208/580) correctly indicated the sampling criteria for outpatient with:', 'cite_spans': [], 'ref_spans': [], 'section': 'data quality and completeness'}, {'text': '• fever (38°c)', 'cite_spans': [], 'ref_spans': [], 'section': 'data quality and completeness'}, {'text': '• and cough or sore throat', 'cite_spans': [], 'ref_spans': [], 'section': 'data quality and completeness'}, {'text': '• and onset less than five days prior to presentation', 'cite_spans': [], 'ref_spans': [], 'section': 'data quality and completeness'}, {'text': '• in the absence of a specific diagnosis', 'cite_spans': [], 'ref_spans': [], 'section': 'data quality and completeness'}, {'text': 'acute respiratory infection with:', 'cite_spans': [], 'ref_spans': [], 'section': 'case definition after 2014'}, {'text': '• measured fever (≥ 38°c)', 'cite_spans': [], 'ref_spans': [], 'section': 'case definition after 2014'}, {'text': '• and cough', 'cite_spans': [], 'ref_spans': [], 'section': 'case definition after 2014'}, {'text': '• and onset within the past 10 days • planning vaccination activities for prevention *based on the assessment of a national steering committee of expert that considered the staff motivation and the site effective contribution to surveillance without compromising representativeness influenza.\", tags=[634]),\n",
              " TaggedDocument(words=\"we were not able to determine the number of samples swabbed for influenza viruses at each ili sites, because of lack of individual identification of each ili site in the previous surveillance system (see also table 3 )', 'cite_spans': [], 'ref_spans': [{'start': 502, 'end': 509, 'text': 'table 3', 'ref_id': 'tabref3'}], 'section': 'case definition after 2014'}, {'text': '.\", tags=[635]),\n",
              " TaggedDocument(words='in addition, the aggregated data from the variables on case report forms were not complete at the central level and aggregated data was not routinely sent to the regional directorates.', tags=[636]),\n",
              " TaggedDocument(words='if we compare with the who minimum data requirements [12] (https://ecdc.europa.eu/en/ seasonal-influenza/surveillance-and-disease-data/facts), the proportion of recommended variables that are collected within the who list was 36.6%.', tags=[637]),\n",
              " TaggedDocument(words='results from the who external quality assurance program (eqap) show participation of the nic in all evaluation years with a perfect performance (100% in each year of evaluation).', tags=[638]),\n",
              " TaggedDocument(words='therefore, from a virologic perspective, once samples are received by the national influenza lab, there is evidence of quality and proficiency of rt-pcr diagnosis of influenza and accuracy of lab testing method.', tags=[639]),\n",
              " TaggedDocument(words='the mean score for data quality was 2.7 (poor to moderate performance).', tags=[640]),\n",
              " TaggedDocument(words=\"', 'cite_spans': [{'start': 240, 'end': 244, 'text': '[12]', 'ref_id': 'bibref11'}], 'ref_spans': [], 'section': 'case definition after 2014'}, {'text': 'ili surveillance is conducted in both rural and urban outpatient clinics (approximately equally distributed), situated in all the 24 governorates of tunisia.\", tags=[641]),\n",
              " TaggedDocument(words='the number of sentinel sites per governorate is proportional to the population size.', tags=[642]),\n",
              " TaggedDocument(words='the distribution of age groups was representative of the population.', tags=[643]),\n",
              " TaggedDocument(words='the mean score for representativeness was 4.5 (good to very good performance).', tags=[644]),\n",
              " TaggedDocument(words='\\', \\'cite_spans\\': [], \\'ref_spans\\': [], \\'section\\': \\'representativeness\\'}, {\\'text\\': \"because of the high proportion of missing data regarding date of specimen collection, reception and analysis at the nic, an indicator of data quality, we were unable to directly assess timeliness.', tags=[645]),\n",
              " TaggedDocument(words='we used qualitative questionnaires to assess sentinel site staff perceptions of timeliness.', tags=[646]),\n",
              " TaggedDocument(words='all nic staff (n = 7/7) perceived that over 80% of specimens tested had results available within seven days of receipt at the laboratory.', tags=[647]),\n",
              " TaggedDocument(words='almost half of ili and regional directorate health workers interviewed reported that more than 80% of aggregated data forms were sent within seven days (55.8% [n = 324/580] and 44.1% [n = 37/85], respectively).', tags=[648]),\n",
              " TaggedDocument(words=\"in addition, 46.1% (n = 267/580) of ili surveillance staff and 52.0% (n = 44/85) of regional directorates' staff reported that more than 80% of aggregated data forms were sent within one month.\", tags=[649]),\n",
              " TaggedDocument(words='the mean score for timeliness was 3.4 (moderate to good performance).', tags=[650]),\n",
              " TaggedDocument(words='\", \\'cite_spans\\': [], \\'ref_spans\\': [], \\'section\\': \\'timeliness\\'}, {\\'text\\': \\'in this study, simplicity was assessed using a questionnaire to evaluate staff perception of how easy it was to perform tasks related to data and sample collection, and how much time it took per week.', tags=[651]),\n",
              " TaggedDocument(words='the proportion of healthcare workers at ili sites that reported the data collection for the sampling form, shipment forms and sampling practice was considered as easy was 35.1% (n = 204/580), 53.4% (n = 310/580) and 53.5% (n = 310/580), respectively.', tags=[652]),\n",
              " TaggedDocument(words='the mean time devoted to weekly activities on ili sentinel surveillance sites was 17.5% of total working hours per week (7 h/40-h week).', tags=[653]),\n",
              " TaggedDocument(words='the mean score for simplicity was 2.5 (poor to moderate performance).', tags=[654]),\n",
              " TaggedDocument(words=\"', 'cite_spans': [], 'ref_spans': [], 'section': 'simplicity'}, {'text': 'acceptability was measured by the satisfaction of surveillance staff with the reports generated using the information they provided.\", tags=[655]),\n",
              " TaggedDocument(words='the proportion of surveillance staff who were satisfied by the virological surveillance report, the influenza bulletin and communication at ili sites was 45.5% (n = 264/580), 57.6% (n = 334/580) and 65.9% (n = 382/580), respectively.', tags=[656]),\n",
              " TaggedDocument(words='the system was rated as globally good by 40% (n = 170/424), 71.4% (n = 5/7) and 60.4% (n = 63/85) of health professionals at ili sites, nic and regional directorates, respectively.', tags=[657]),\n",
              " TaggedDocument(words='the mean score for acceptability was 3.0 (moderate performance).', tags=[658]),\n",
              " TaggedDocument(words=\"', 'cite_spans': [], 'ref_spans': [], 'section': 'acceptability'}, {'text': 'after 2014, the reduction of the number of ili sites from 268 to 113 realized to improve the chances of higher data quality without compromising the representativeness demonstrate the flexibility of the system.\", tags=[659]),\n",
              " TaggedDocument(words='furthermore, after 2014, new ili case report forms were prepared and distributed to all stakeholders of the surveillance system • quality and proficiency of nic laboratory detection of of influenza using rt-pcr 5\\', \\'cite_spans\\': [], \\'ref_spans\\': [], \\'section\\': \\'flexibility\\'}, {\\'text\\': \\'describes the occurrence of a health-related event over time and its distribution in the population by place and person\\', \\'cite_spans\\': [], \\'ref_spans\\': [], \\'section\\': \\'representativeness\\'}, {\\'text\\': \\'• geographical coverage d 4 4.5\\', \\'cite_spans\\': [], \\'ref_spans\\': [], \\'section\\': \\'representativeness\\'}, {\\'text\\': \\'• inclusion of all age groups d 5\\', \\'cite_spans\\': [], \\'ref_spans\\': [], \\'section\\': \\'representativeness\\'}, {\\'text\\': \\'reflects the speed between steps in a public health surveillance system\\', \\'cite_spans\\': [], \\'ref_spans\\': [], \\'section\\': \\'timeliness\\'}, {\\'text\\': \\'• proportion of nic staff estimating that more than 80% of results of tested samples were obtained within 7days from the date of reception 5 3.4\\', \\'cite_spans\\': [], \\'ref_spans\\': [], \\'section\\': \\'timeliness\\'}, {\\'text\\': \\'• proportion of ili surveillance staff estimating that more than 80% of aggregated data were sent within 7 days from ili sites to regional directorates 3\\', \\'cite_spans\\': [], \\'ref_spans\\': [], \\'section\\': \\'timeliness\\'}, {\\'text\\': \\'• proportion of ili surveillance staff estimating that more than 80% of aggregated data were sent within 1 month from ili sites to regional directorates 3\\', \\'cite_spans\\': [], \\'ref_spans\\': [], \\'section\\': \\'timeliness\\'}, {\\'text\\': \\'• proportion of regional directorates surveillance staff estimating that more than 80% of aggregated data were sent within 7 days to dssb 3\\', \\'cite_spans\\': [], \\'ref_spans\\': [], \\'section\\': \\'timeliness\\'}, {\\'text\\': \"• proportion of regional directorates surveillance staff estimating that more than 80% of aggregated data were sent within 1 month to dssb 3 simplicity refers to both structure and ease of operation of a public health surveillance system taking into account who recommendations.', tags=[660]),\n",
              " TaggedDocument(words='over the years, the capacity and flexibility of the nic also increased, from the ability to detect influenza a(h3n2), a(h1n1) and b to influenza a(h1n1)pdm09 and avian influenza virus subtypes a(h5n1), a(h7n9) and a(h9n2).', tags=[661]),\n",
              " TaggedDocument(words=\"the nic's ability to detect non-influenza pathogens also reflects the system flexibility.\", tags=[662]),\n",
              " TaggedDocument(words='other respiratory viruses are detected within the routine ili surveillance system including rsv, adenovirus, enterovirus/rhinovirus, metapneumovirus and parainfluenza virus [9] .', tags=[663]),\n",
              " TaggedDocument(words='the discovery of a familial cluster of middle east respiratory syndrome coronavirus in 2013 confirmed the importance and flexibility of this surveillance system [13] .', tags=[664]),\n",
              " TaggedDocument(words='the mean score for flexibility was 4.0 (good performance).', tags=[665]),\n",
              " TaggedDocument(words='(very poor performance) d: these indicators were scored from 1 to 5 but these scores were based on the consensus opinions of surveillance experts: virologist, public health specialist and epidemiologists as follows: score 1 (very poor performance); score 2 (poor performance); score 3 (moderate performance); score 4 (good performance) and score 5 (very good performance)\", \\'cite_spans\\': [{\\'start\\': 765, \\'end\\': 768, \\'text\\': \\'[9]\\', \\'ref_id\\': \\'bibref8\\'}, {\\'start\\': 932, \\'end\\': 936, \\'text\\': \\'[13]\\', \\'ref_id\\': \\'bibref12\\'}], \\'ref_spans\\': [], \\'section\\': \\'timeliness\\'}, {\\'text\\': \\'approximately half of the surveillance staff at ili sites reported the regular use of standard operating procedures for sampling (50.7%, n = 294/580), shipment forms (53.4%, n = 310/580) and influenza surveillance guide (54.0%, n = 313/580).', tags=[666]),\n",
              " TaggedDocument(words='we assessed training offered to surveillance staff.', tags=[667]),\n",
              " TaggedDocument(words='less than half of surveillance staff were trained on epidemiological surveillance (33.4%, n = 194/580), influenza surveillance activities (28.0%, n = 162/580), influenzaspecific response activities (24.0%, n = 139/580) and the practice of nasopharyngeal specimen collection (33.4%, n = 194/580).', tags=[668]),\n",
              " TaggedDocument(words='resource depletion events were also assessed.', tags=[669]),\n",
              " TaggedDocument(words='surveillance staff reported that depletion of stock never occurred for: data collection forms (65%, n = 377/580), specimen collection materials (56.2%, n = 326/580) and personal protective equipment (53.7%, n = 311/580).', tags=[670]),\n",
              " TaggedDocument(words='the mean score for stability was 2.7 (poor performance to moderate performance).', tags=[671]),\n",
              " TaggedDocument(words=\"', 'cite_spans': [], 'ref_spans': [], 'section': 'stability'}, {'text': 'the majority of surveillance staff recognized the importance of an influenza surveillance system (70.4%, n = 408/ 580) and thought that it provided useful data (78.5%, n = 455/580).\", tags=[672]),\n",
              " TaggedDocument(words='only 37.9% (n = 220/580) of surveillance staff reported regular receipt of the virological surveillance reports and the monthly influenza bulletin (42.9%, n = 249/ 580).', tags=[673]),\n",
              " TaggedDocument(words='over half of staff (57.1%, n = 331/580) reported never receiving the annual influenza report.', tags=[674]),\n",
              " TaggedDocument(words='from a virologic perspective, the surveillance of influenza between 2012 and 2015 permitted the characterization of circulating influenza viruses (fig.', tags=[675]),\n",
              " TaggedDocument(words='2) .', tags=[676]),\n",
              " TaggedDocument(words='furthermore, the nic ensured strong links with the who collaborating centers on influenza by participating in vaccine strain selection and shipping specimens twice a year as recommended by who.', tags=[677]),\n",
              " TaggedDocument(words='the system was also useful to detect an outbreak with medium intensity during the 2012-2013 season and an increase of influenza activity above the epidemic threshold during week 8 in 2014-2015 [14] .', tags=[678]),\n",
              " TaggedDocument(words='additionally, national surveillance data allowed the calculation of the burden of disease for the first time in 2016 [6] .', tags=[679]),\n",
              " TaggedDocument(words='the mean score for utility was 3.', tags=[680]),\n",
              " TaggedDocument(words=\"', 'cite_spans': [{'start': 990, 'end': 994, 'text': '[14]', 'ref_id': 'bibref13'}, {'start': 1114, 'end': 1117, 'text': '[6]', 'ref_id': 'bibref5'}], 'ref_spans': [{'start': 592, 'end': 600, 'text': '(fig.\", tags=[681]),\n",
              " TaggedDocument(words=\"2)', 'ref_id': 'figref0'}], 'section': 'utility'}, {'text': 'the overall mean score of the influenza surveillance system in tunisia, considering the eight components described above was 3.3, indicating a moderate performance.\", tags=[682]),\n",
              " TaggedDocument(words=\"', 'cite_spans': [], 'ref_spans': [], 'section': 'utility'}, {'text': 'this study assessed the tunisian influenza surveillance system for the first time, to provide a comprehensive summary of its process, strengths and weaknesses.\", tags=[683]),\n",
              " TaggedDocument(words='the performance of the current system was moderate overall (mean score 3.3) and representativeness was a strength, with a mean score of 4.5 (good to very good performance).', tags=[684]),\n",
              " TaggedDocument(words=\"', 'cite_spans': [], 'ref_spans': [], 'section': 'discussion'}, {'text': 'the system has also demonstrated a strong flexibility, with a mean score of 4.0 (good performance).\", tags=[685]),\n",
              " TaggedDocument(words='to make use of the flexible system, we recommend to continue monitoring other diseases using the same surveillance system to increase efficiency and avoid creation of additional vertical surveillance programs.', tags=[686]),\n",
              " TaggedDocument(words=\"', 'cite_spans': [], 'ref_spans': [], 'section': 'discussion'}, {'text': 'we were not able to score indicators that directly measure the time between specimen collection and laboratory results, which is a source of bias in evaluating the surveillance system.\", tags=[687]),\n",
              " TaggedDocument(words='measuring timeliness was not possible due to the incompleteness in reporting dates of collection, receipt, testing, and reporting.', tags=[688]),\n",
              " TaggedDocument(words='in this example, gaps in completeness of data affected the ability to objectively assess quality and timeliness of data.', tags=[689]),\n",
              " TaggedDocument(words='the timeliness of the system may be affected by the geographical distribution of sentinel sites and the simplicity of data collection and reporting methods.', tags=[690]),\n",
              " TaggedDocument(words='an electronic information management system was one of the most important recommendations proposed by surveillance staff to improve data completeness, quality monitoring and timeliness.', tags=[691]),\n",
              " TaggedDocument(words='it would facilitate real-time sharing of data [15] .', tags=[692]),\n",
              " TaggedDocument(words='a recent evaluation of a syndromic influenza sentinel surveillance system in madagascar between 2009 and 2014 showed that by using mobile phones and texting for the transmission of daily aggregated data, the simplicity of the system was strengthened, improving the completeness, quality and timeliness of the data and the acceptability of the system to the sentinel site staff [16] .', tags=[693]),\n",
              " TaggedDocument(words='this is in line with the recommendation that a revised data management approach, which offers the advantage of automation and user-friendly interface, would ultimately improve the acceptance and utility of the surveillance system [17] .', tags=[694]),\n",
              " TaggedDocument(words='utility and acceptability of the system were also moderate, with a mean score of 3.6 and 3.0, respectively.', tags=[695]),\n",
              " TaggedDocument(words=\"', 'cite_spans': [{'start': 826, 'end': 830, 'text': '[15]', 'ref_id': 'bibref14'}, {'start': 1210, 'end': 1214, 'text': '[16]', 'ref_id': 'bibref15'}, {'start': 1447, 'end': 1451, 'text': '[17]', 'ref_id': 'bibref16'}], 'ref_spans': [], 'section': 'discussion'}, {'text': 'it is clear that even with the strengths identified, the system also presents some weaknesses, mainly regarding its stability and simplicity, with mean scores of 2.7, 2.5, respectively (moderate to poor performance).\", tags=[696]),\n",
              " TaggedDocument(words='the stability of the system is affected by access to materials, training and resources required by staff who conducts surveillance and influenza testing.', tags=[697]),\n",
              " TaggedDocument(words='this is an area of vulnerability, as current material resources are limited, and may decrease acceptability of the system among staff.', tags=[698]),\n",
              " TaggedDocument(words='moreover, one of the mechanisms to strengthen the surveillance system is to train at least two persons per site and to ensure cascade training in the sites in every season to avoid the consequences of qualified staff departure.', tags=[699]),\n",
              " TaggedDocument(words=\"', 'cite_spans': [], 'ref_spans': [], 'section': 'discussion'}, {'text': 'the simplicity also affects the data quality and completeness, which was also identified as a weakness, with a mean score of 2.7 (moderate to poor performance).\", tags=[700]),\n",
              " TaggedDocument(words='the aggregated data were incomplete for key variables such as the number of samples tested for influenza at individual ili sites and several sites were not consistently sending this information to the regional directorates.', tags=[701]),\n",
              " TaggedDocument(words='we recommended enhancement of awareness and sensitivity of surveillance staff regarding the importance of key variables and to strengthen training on data collection and reporting.', tags=[702]),\n",
              " TaggedDocument(words='inclusion of ili sites in the influenza surveillance system should be revisited periodically by assessing timely reporting and quality and completeness of data collected.', tags=[703]),\n",
              " TaggedDocument(words='moreover, an electronic information management system would improve completeness of key variables.', tags=[704]),\n",
              " TaggedDocument(words='on the other hand, the surveillance system presents a strong point in virologic surveillance internationally confirmed by the results from the who eqap and participation in global influenza vaccine strain selection and who flunet virologic monitoring.', tags=[705]),\n",
              " TaggedDocument(words='the foremost importance of the surveillance system is to detect the viruses causing and their activities for influenza-like illness rather than influenza.', tags=[706]),\n",
              " TaggedDocument(words='improving the quality and completeness of virologic sampling and reporting is essential to guarantee the identification of circulating viruses and their local seasonality in tunisia.', tags=[707]),\n",
              " TaggedDocument(words='the early detection and characterization of these viruses allow timely annual updates for a vaccine that can prevent deaths and alleviate illness in vulnerable groups.', tags=[708]),\n",
              " TaggedDocument(words='sensitivity, specificity and positive predictive value were not included in this evaluation because of a lack of data.', tags=[709]),\n",
              " TaggedDocument(words='it is recommended to assess these attributes in the next surveillance system evaluation.', tags=[710]),\n",
              " TaggedDocument(words=\"', 'cite_spans': [], 'ref_spans': [], 'section': 'discussion'}, {'text': 'many gaps still exist and require attention to effectively guide future control of influenza in tunisia.\", tags=[711]),\n",
              " TaggedDocument(words='in line with who recommendations [7] , we propose that ili surveillance should be limited to sites that are currently performing well as part of the network and the improvement of data and sample collection to be more systematically gathered.', tags=[712]),\n",
              " TaggedDocument(words='this evaluation provides a good opportunity to monitor future improvements in influenza surveillance, by quantifying evaluation indicators prior to and after the implementation of a new strategy based on quality improvement and electronic surveillance.', tags=[713]),\n",
              " TaggedDocument(words='future evaluations are highly recommended to measure the impact of such strategies on the performance and sustainability of the surveillance system.', tags=[714]),\n",
              " TaggedDocument(words=\"', 'cite_spans': [{'start': 138, 'end': 141, 'text': '[7]', 'ref_id': 'bibref6'}], 'ref_spans': [], 'section': 'conclusions'}]\", tags=[715]),\n",
              " TaggedDocument(words=\"[{'text': 'worldwide, lung cancer remains the most frequently diagnosed cancer and the leading cause of cancer-related death, resulting in large social and economic burdens [1] .\", tags=[716]),\n",
              " TaggedDocument(words='many advanced treatments, including medical, surgical and radiotherapeutic interventions, have provided little effective improvement in the survival rates of patients diagnosed with primary lung malignancies [2] .', tags=[717]),\n",
              " TaggedDocument(words='the strong link between cigarette smoking and the development of lung cancer has been known for decades.', tags=[718]),\n",
              " TaggedDocument(words='the risk of lung cancer is 6 to 10 times higher in smokers than in nonsmokers [3] , and almost 90% of patients diagnosed with lung cancer are cigarette smokers [4, 5] .', tags=[719]),\n",
              " TaggedDocument(words='although it is widely recognized that smoking prevention and cessation are the best approaches to prevent lung cancer, tobacco-related lung carcinogenesis is still prevalent because of the difficulty in controlling smoking [2] .', tags=[720]),\n",
              " TaggedDocument(words='according to the who guidelines, chemoprevention has been the most effective strategy for lung cancer prevention, especially for smokers with existing pulmonary premalignancies [5, 6] .', tags=[721]),\n",
              " TaggedDocument(words='therefore, it is essential and urgent to explore dietary factors that have the potential to prevent lung tumorigenesis.', tags=[722]),\n",
              " TaggedDocument(words=\"', 'cite_spans': [{'start': 162, 'end': 165, 'text': '[1]', 'ref_id': 'bibref0'}, {'start': 376, 'end': 379, 'text': '[2]', 'ref_id': 'bibref1'}, {'start': 565, 'end': 568, 'text': '[3]', 'ref_id': 'bibref2'}, {'start': 647, 'end': 650, 'text': '[4,', 'ref_id': 'bibref3'}, {'start': 651, 'end': 653, 'text': '5]', 'ref_id': 'bibref4'}, {'start': 879, 'end': 882, 'text': '[2]', 'ref_id': 'bibref1'}, {'start': 1062, 'end': 1065, 'text': '[5,', 'ref_id': 'bibref4'}, {'start': 1066, 'end': 1068, 'text': '6]', 'ref_id': 'bibref5'}], 'ref_spans': [], 'section': 'background'}, {'text': 'benzo(a)pyrene (b[a]p), which accounts for 22.5-69.8% of tobacco metabolites, can induce cell proliferation, inflammation, dna alteration, and apoptosis, leading to lung cancer [7] .\", tags=[723]),\n",
              " TaggedDocument(words='an evidenced-based study revealed that long-term exposure to b[a]p at a low dose could increase tumor incidence by up to 96.0% in animal models [8] .', tags=[724]),\n",
              " TaggedDocument(words='in part of its carcinogenic mechanism, b[a]p is metabolized into epoxide, which induces dna adduct formation and causes mutations [9] .', tags=[725]),\n",
              " TaggedDocument(words='in addition, b[a]p-induced excessive production of reactive oxygen species (ros), which results in oxidative stress, can lead to severe damage to dna structure and is a prerequisite for b[a]p-associated tumorigenesis [10] [11] [12] .', tags=[726]),\n",
              " TaggedDocument(words='additionally, oxidative stressinduced inflammation is one of the major contributors to lung cancer initiation and progression [13, 14] .', tags=[727]),\n",
              " TaggedDocument(words='ros in the respiratory system can increase the levels of pulmonary inflammation mediators and then initiate or promote lung carcinogenesis [15] .', tags=[728]),\n",
              " TaggedDocument(words='more importantly, there is a close relationship between ros-induced dna damage and inflammation, which can together accelerate the process of lung tumorigenesis.', tags=[729]),\n",
              " TaggedDocument(words='on the one hand, dna damage may lead to chronic inflammation, which has been associated with the development of lung cancer [16] [17] [18] .', tags=[730]),\n",
              " TaggedDocument(words='on the other hand, under inflammatory conditions, ros are generated in inflammatory and epithelial cells and further cause oxidative and nitrative dna damage [19, 20] .', tags=[731]),\n",
              " TaggedDocument(words='therefore, the use of appropriate preventive pharmacological interventions that can effectively reduce b[a]p-induced dna damage and inflammation has become an important strategy to prevent lung tumorigenesis.', tags=[732]),\n",
              " TaggedDocument(words=\"', 'cite_spans': [{'start': 177, 'end': 180, 'text': '[7]', 'ref_id': 'bibref6'}, {'start': 327, 'end': 330, 'text': '[8]', 'ref_id': 'bibref7'}, {'start': 463, 'end': 466, 'text': '[9]', 'ref_id': 'bibref8'}, {'start': 686, 'end': 690, 'text': '[10]', 'ref_id': 'bibref9'}, {'start': 691, 'end': 695, 'text': '[11]', 'ref_id': 'bibref10'}, {'start': 696, 'end': 700, 'text': '[12]', 'ref_id': 'bibref11'}, {'start': 829, 'end': 833, 'text': '[13,', 'ref_id': 'bibref12'}, {'start': 834, 'end': 837, 'text': '14]', 'ref_id': 'bibref13'}, {'start': 979, 'end': 983, 'text': '[15]', 'ref_id': 'bibref14'}, {'start': 1272, 'end': 1276, 'text': '[16]', 'ref_id': 'bibref15'}, {'start': 1277, 'end': 1281, 'text': '[17]', 'ref_id': 'bibref16'}, {'start': 1282, 'end': 1286, 'text': '[18]', 'ref_id': 'bibref17'}, {'start': 1447, 'end': 1451, 'text': '[19,', 'ref_id': 'bibref18'}, {'start': 1452, 'end': 1455, 'text': '20]', 'ref_id': 'bibref19'}], 'ref_spans': [], 'section': 'background'}, {'text': 'induction of enzymes that promote the detoxication of chemical carcinogens has been a broadly effective method for the chemoprevention of experimental carcinogenesis in rodent models [21] .\", tags=[733]),\n",
              " TaggedDocument(words='the nuclear factorerythroid 2-related factor 2 (nrf2) signaling pathway has been targeted for the prevention of chemical carcinogenesis.nrf2 has been identified as a key regulator of the inducible expression of antioxidative enzymes, antiinflammatory proteins and conjugation/detoxification proteins, including nad(p)h: quinone oxidoreductase 1 (nqo1) and heme oxygenase-1 (ho-1) [21] .', tags=[734]),\n",
              " TaggedDocument(words='upon oxidative stress caused by b[a]p or pharmacologic induction, the nrf2 pathway can be rapidly activated to counteract intracellular ros generation, thereby attenuating dna damage and inflammation promoted by b[a]p stimulation and contributing to reduced risk of mutation and subsequent lung tumorigenesis [21, 22] .', tags=[735]),\n",
              " TaggedDocument(words='natural products are well known to exert their protective effects by removing free radicals, modulating the antioxidant defense system and performing carcinogen detoxification.', tags=[736]),\n",
              " TaggedDocument(words='to date, numerous compounds from natural plants have been found to activate nrf2 signaling to effectively prevent b[a]p-induced lung tumorigenesis.', tags=[737]),\n",
              " TaggedDocument(words='these nrf2 stimulators include sulforaphane, green tea phenols, curcumin, quercetin, catechin, and naringenin [23] [24] [25] [26] [27] [28] .', tags=[738]),\n",
              " TaggedDocument(words='unfortunately, most of the antioxidants have failed phase iii clinical trials for chemoprevention because of their poor bioavailability and reproducibility and/or harmful outcomes [29] .', tags=[739]),\n",
              " TaggedDocument(words='thus, exploring more novel and effective candidate agents with low toxicity for chemoprevention is essential and urgent.', tags=[740]),\n",
              " TaggedDocument(words=\"', 'cite_spans': [{'start': 183, 'end': 187, 'text': '[21]', 'ref_id': 'bibref20'}, {'start': 570, 'end': 574, 'text': '[21]', 'ref_id': 'bibref20'}, {'start': 886, 'end': 890, 'text': '[21,', 'ref_id': 'bibref20'}, {'start': 891, 'end': 894, 'text': '22]', 'ref_id': 'bibref21'}, {'start': 1332, 'end': 1336, 'text': '[23]', 'ref_id': 'bibref22'}, {'start': 1337, 'end': 1341, 'text': '[24]', 'ref_id': 'bibref23'}, {'start': 1342, 'end': 1346, 'text': '[25]', 'ref_id': 'bibref24'}, {'start': 1347, 'end': 1351, 'text': '[26]', 'ref_id': 'bibref25'}, {'start': 1352, 'end': 1356, 'text': '[27]', 'ref_id': 'bibref26'}, {'start': 1357, 'end': 1361, 'text': '[28]', 'ref_id': 'bibref27'}, {'start': 1544, 'end': 1548, 'text': '[29]', 'ref_id': 'bibref28'}], 'ref_spans': [], 'section': 'background'}, {'text': 'houttuynia cordata thunb.\", tags=[741]),\n",
              " TaggedDocument(words='(saururaceae) (h. cordata) is a well-known traditional chinese medicinal herb widely used in china and japan.', tags=[742]),\n",
              " TaggedDocument(words='growing evidence suggests that h. cordata performs a variety of pharmacological functions, including antiviral, antitumor, antileukemia, anti-inflammatory, antioxidant, and antimutagenic functions [30, 31] .', tags=[743]),\n",
              " TaggedDocument(words='furthermore, h. cordata is also popularly consumed as a healthy vegetable in east asia [32] .', tags=[744]),\n",
              " TaggedDocument(words='chemically, h. cordata is composed of flavonoids, alkaloids, volatile oils, sterols, fatty acids, and polyphenolic acids [33, 34] .', tags=[745]),\n",
              " TaggedDocument(words='among the components, 2undecanone is a vital bioactive compound that exhibits various types of biological activity [35, 36] and is used as a standard marker for quality control of h. cordata in the chinese pharmacopoeia.', tags=[746]),\n",
              " TaggedDocument(words='according to modern pharmacological studies and clinical practices, h. cordata is especially suitable for the treatment of lung diseases.', tags=[747]),\n",
              " TaggedDocument(words='for example, during an outbreak of severe acute respiratory syndrome, h. cordata was proposed to be an effective alternative treatment [30] .', tags=[748]),\n",
              " TaggedDocument(words='h. cordata also exerts a protective effect against bleomycin-induced pulmonary fibrosis [30] and may alleviate lipopolysaccharide-induced lung inflammatory injury [37] .', tags=[749]),\n",
              " TaggedDocument(words='it has also been demonstrated that h. cordata exhibits anti-lung cancer activity [38] .', tags=[750]),\n",
              " TaggedDocument(words='however, the chemopreventive effect of h. cordata against b[a]p-induced lung carcinogenesis and the underlying mechanism have not yet been explored.', tags=[751]),\n",
              " TaggedDocument(words=\"', 'cite_spans': [{'start': 333, 'end': 337, 'text': '[30,', 'ref_id': 'bibref29'}, {'start': 338, 'end': 341, 'text': '31]', 'ref_id': 'bibref30'}, {'start': 431, 'end': 435, 'text': '[32]', 'ref_id': 'bibref31'}, {'start': 559, 'end': 563, 'text': '[33,', 'ref_id': 'bibref32'}, {'start': 564, 'end': 567, 'text': '34]', 'ref_id': 'bibref33'}, {'start': 685, 'end': 689, 'text': '[35,', 'ref_id': 'bibref34'}, {'start': 690, 'end': 693, 'text': '36]', 'ref_id': 'bibref35'}, {'start': 1064, 'end': 1068, 'text': '[30]', 'ref_id': 'bibref29'}, {'start': 1159, 'end': 1163, 'text': '[30]', 'ref_id': 'bibref29'}, {'start': 1234, 'end': 1238, 'text': '[37]', 'ref_id': 'bibref36'}, {'start': 1322, 'end': 1326, 'text': '[38]', 'ref_id': 'bibref37'}], 'ref_spans': [], 'section': 'background'}, {'text': 'in the current study, a b[a]p-stimulated lung adenocarcinoma animal model in a/j mice in vivo and a normal lung cell (beas.2b) model in vitro were established to investigate the chemopreventive effects of h. cordata and 2-undecanone against b[a]p-induced lung tumorigenesis.\", tags=[752]),\n",
              " TaggedDocument(words='we also clarified the underlying mechanisms by which h. cordata and 2-undecanone could prevent lung carcinogenesis by measuring molecular markers of oxidative dna damage and inflammation mediated by the nrf2-ho-1/nqo-1 signaling pathway.', tags=[753]),\n",
              " TaggedDocument(words='the results of this study will enhance understanding of the chemopreventive effects of h. cordata against b[a]p-stimulated lung tumorigenesis and the underlying mechanisms, thereby supporting the use of this novel candidate agent for the chemoprevention of lung cancer.', tags=[754]),\n",
              " TaggedDocument(words='\\', \\'cite_spans\\': [], \\'ref_spans\\': [], \\'section\\': \\'background\\'}, {\\'text\\': \"a dried houttuyniae herba, the aerial part of h. cordata, was purchased from hunan zhengqing pharmaceutical co., ltd. (hunan, china), and was authenticated by guangzhou university of chinese medicine as the aerial part of houttuynia cordata thunb.', tags=[755]),\n",
              " TaggedDocument(words='(saururaceae).', tags=[756]),\n",
              " TaggedDocument(words='a voucher specimen was deposited in guangzhou university of chinese medicine.', tags=[757]),\n",
              " TaggedDocument(words='2-undecanone (purity > 99%), benzo(a)pyrene (b[a]p, purity > 98%), tert-butylhydroquinone (tbhq), n-acetyl-l-cysteine (nac), and 3-(4, 5dimethylthiazol-2-yl)-2, 5-diphenyltetrazolium bromide (mtt) were bought from sigma-aldrich (st. louis, mo, usa).', tags=[758]),\n",
              " TaggedDocument(words='primary antibodies nqo-1, ho-1 and nrf2 were purchased from abcam inc. (cambridge, ma, usa).', tags=[759]),\n",
              " TaggedDocument(words='primary antibodies phosphorylated h2a.x (p-h2a.x) and cyclin d1 were purchased from cell signaling technology inc. (boston, usa).', tags=[760]),\n",
              " TaggedDocument(words='primary antibodies interleukin-1β (il-1β) and pro-il-1β were purchased from r&d systems inc. (minneapolis, minnesota, usa).', tags=[761]),\n",
              " TaggedDocument(words=\"5-ethynyl-2'-deoxyuridine (edu) kit, nrf2-specific sirna (sinrf2), control sirna (sictrl) and ribofecttm cp transfection kit were purchased from ribobio co., ltd. ( preparation of h.cordata water extract and standardization h. cordata was cut into pieces approximately 1 cm long.\", tags=[762]),\n",
              " TaggedDocument(words='a total of 100 g of h. cordata was subjected to hydrodistillation for 4 h in a clevenger apparatus following the procedure described in the chinese pharmacopoeia.', tags=[763]),\n",
              " TaggedDocument(words='the supernatant essential oils were isolated.', tags=[764]),\n",
              " TaggedDocument(words='the lower aqueous solution was filtered out with gauze.', tags=[765]),\n",
              " TaggedDocument(words='next, the dregs were re-extracted under the same conditions.', tags=[766]),\n",
              " TaggedDocument(words='afterward, the two successively obtained aqueous solutions were merged and condensed by a rotatory evaporator (eyela, rikakikai co., ltd., tokyo, japan) under reduced pressure.', tags=[767]),\n",
              " TaggedDocument(words='after cooling, the condensed filtrates and the two isolated supernatant essential oil samples were merged.', tags=[768]),\n",
              " TaggedDocument(words='the final concentration of the h. cordata water extract was 1 g/ml, and it was stored at -20°c for later use.', tags=[769]),\n",
              " TaggedDocument(words='\", \\'cite_spans\\': [], \\'ref_spans\\': [{\\'start\\': 1101, \\'end\\': 1102, \\'text\\': \\'(\\', \\'ref_id\\': none}], \\'section\\': \\'chemicals and reagents\\'}, {\\'text\\': \\'chemical profiling and standardization of h.cordata water extract using 2-undecanone was performed by using gas chromatography with flame ionization detection (gc-fid) with an external standard method (additional materials and methods and additional file 1: figure s1 ).', tags=[770]),\n",
              " TaggedDocument(words='2-undecanone was measured in h.cordata water extract at mean levels of 0.099 ± 0.011 mg/g.', tags=[771]),\n",
              " TaggedDocument(words=\"', 'cite_spans': [], 'ref_spans': [{'start': 258, 'end': 267, 'text': 'figure s1', 'ref_id': 'figref0'}], 'section': 'chemicals and reagents'}, {'text': 'beas-2b cells were obtained from atcc (manassas, virginia, usa).\", tags=[772]),\n",
              " TaggedDocument(words='the cells cultured in bronchial epithelial cell basal medium (begm) medium supplemented with 0.4% (v/v) bovine pituitary extraction (bpe), 0.1% (v/v) hydrocortisone, 0.1% (v/v) human epidermal growth factor (hegf), 0.1% (v/v) epinephrine, 0.1% (v/v) insulin, 0.1% (v/v) transferrin, 0.1% (v/v) triiodothyronine, 0.1% (v/v) retinoic acid, and 0.1% (v/v) gentamicin amphotericin-b (ga).', tags=[773]),\n",
              " TaggedDocument(words='the cells were grown at 37°c in a humidified atmosphere with 5% co 2 .', tags=[774]),\n",
              " TaggedDocument(words=\"', 'cite_spans': [], 'ref_spans': [], 'section': 'cell culture'}, {'text': 'male a/j mice (4-6 weeks old, 18-22 g) were supplied by the jackson laboratory animal center (no.99612800000100) (maine, usa).\", tags=[775]),\n",
              " TaggedDocument(words='all mice were kept in the animal facility in a specific pathogen-free (spf) animal laboratory (license number: syxk (gz) 2014-0144) at the international institute for translational chinese medicine, guangzhou university of chinese medicine (guangzhou, china).', tags=[776]),\n",
              " TaggedDocument(words='the mice were intraperitoneally injected with b[a]p (100 mg/kg).', tags=[777]),\n",
              " TaggedDocument(words='after two weeks, all mice were randomly divided into 6 groups (8 mice per group), as follows: a control group treated with b[a]p in a water vehicle, groups treated with 25 and 50 g/kg h. cordata, a control group treated with b[a]p in a sterilized corn oil vehicle, and groups treated with 100 and 200 mg/kg 2undecanone.', tags=[778]),\n",
              " TaggedDocument(words='the mice were orally treated with the drugs five times a week for 38 weeks.', tags=[779]),\n",
              " TaggedDocument(words='the body weights were recorded every week.', tags=[780]),\n",
              " TaggedDocument(words='at the end of the treatment, the mice were sacrificed, and the organs were removed and weighed.', tags=[781]),\n",
              " TaggedDocument(words='the organ indexes (organ weight/body weight) were statistically analyzed.', tags=[782]),\n",
              " TaggedDocument(words='mouse lung images were captured by using an m165c stereoscopic microscope (leica microsystems, wetzlar, germany).', tags=[783]),\n",
              " TaggedDocument(words='the lungs and plasma of the mice were collected for subsequent assays.', tags=[784]),\n",
              " TaggedDocument(words='animal experiments were approved by the guangzhou university of chinese medicine animal care and use committee (guangzhou, china), and conducted in accordance with the ethical standards and national guidelines.', tags=[785]),\n",
              " TaggedDocument(words=\"', 'cite_spans': [], 'ref_spans': [], 'section': 'animals and treatments'}, {'text': 'beas-2b cells were seeded in 96-well plates for 24 h before the addition of drugs.\", tags=[786]),\n",
              " TaggedDocument(words='the cells were exposed to vehicle (water), b[a]p (0-50 μm) alone, h.cordata (0-200 mg/ml) alone, b[a]p (5 μm) plus h.cordata (0-100 mg/ ml), 2-undecanone (0-200 μm) alone, or b[a]p (5 μm) plus 2-undecanone (0-200 μm) for 48 h. at the end of the incubation, 100 μl of mtt solution (0.5 mg/ml in pbs) was added to each well, and the cells were incubated at 37°c for an additional 4 h. then, the medium was removed, the intracellular formazan was solubilized with 150 μl of dmso, and the absorbance was read at 570 nm using a victor x3 microplate reader (perkinelmer, waltham, ma, usa).', tags=[787]),\n",
              " TaggedDocument(words='the percentage of cell viability was calculated based on the measured absorbance relative to the absorbance of the control cells.', tags=[788]),\n",
              " TaggedDocument(words=\"', 'cite_spans': [], 'ref_spans': [], 'section': 'mtt assay'}, {'text': 'edu was used to detect cell proliferation ability.\", tags=[789]),\n",
              " TaggedDocument(words='beas-2b cells were seeded into 96-well plates and exposed to vehicle (water), b[a]p (5 μm) alone, b[a]p (5 μm) plus h.cordata (12.5, 25 , or 50 mg/ml), or b[a]p (5 μm) plus 2-undecanone (25, 50, or 100 μm) for 48 h. after incubation, the cells were incubated with edu labeling medium (10 μm) for 24 h, fixed with 4% paraformaldehyde for 30 min, and incubated with glycine (2 mg/ml) for 5 min.', tags=[790]),\n",
              " TaggedDocument(words='then, the cells were incubated with 1× apollo 488 working solution for 30 min, washed with pbs, and stained with hoechst 33342 dye for 30 min.', tags=[791]),\n",
              " TaggedDocument(words='images were captured by using a leica3000b fluorescence microscope (leica, germany).', tags=[792]),\n",
              " TaggedDocument(words='the percentages of edu-positive cells were calculated from 6 random fields.', tags=[793]),\n",
              " TaggedDocument(words='\\', \\'cite_spans\\': [{\\'start\\': 177, \\'end\\': 186, \\'text\\': \\'(12.5, 25\\', \\'ref_id\\': none}], \\'ref_spans\\': [], \\'section\\': \"5-ethynyl-2\\'-deoxyuridine (edu) assay\"}, {\\'text\\': \\'cell cycle assay beas-2b cells were seeded in 6-well plates and exposed to the vehicle (water), b[a]p (5 μm) alone, b[a]p (5 μm) plus h.cordata (12.5, 25, 50 mg/ml), or b[a]p (5 μm) plus 2-undecanone (25, 50, 100 μm) for 48 h, respectively.', tags=[794]),\n",
              " TaggedDocument(words='after the incubation, the cells were harvested, fixed with 70% cold ethanol at 4°c overnight, and stained with propidium iodide (5 μg/ml) for 30 min.', tags=[795]),\n",
              " TaggedDocument(words='cell cycle was detected by a flow cytometry (bd biosciences, san jose, ca) and were analyzed by flowjo 7.6 software.', tags=[796]),\n",
              " TaggedDocument(words='\\', \\'cite_spans\\': [], \\'ref_spans\\': [], \\'section\\': \"5-ethynyl-2\\'-deoxyuridine (edu) assay\"}, {\\'text\\': \"at the end of treatment, the total proteins in the treated cells and the lung of mice were extracted using the ripa buffer containing a protease inhibitor cocktail.', tags=[797]),\n",
              " TaggedDocument(words=\"the nuclear protein extracts of the cells were also prepared using ne-per nuclear and cytoplasmic extraction reagents (rockford, il, usa) according to the manufacturer's instructions.\", tags=[798]),\n",
              " TaggedDocument(words='the proteins in the cell-free supernatants were prepared as previously published procedure [39] .', tags=[799]),\n",
              " TaggedDocument(words=\"protein concentrations were determined with a bca estimation kit according to the manufacturer's instructions.\", tags=[800]),\n",
              " TaggedDocument(words='western blotting was performed as previously described [40] .', tags=[801]),\n",
              " TaggedDocument(words='\", \\'cite_spans\\': [{\\'start\\': 440, \\'end\\': 444, \\'text\\': \\'[39]\\', \\'ref_id\\': \\'bibref38\\'}, {\\'start\\': 613, \\'end\\': 617, \\'text\\': \\'[40]\\', \\'ref_id\\': \\'bibref39\\'}], \\'ref_spans\\': [], \\'section\\': \\'protein preparation and western blot analysis\\'}, {\\'text\\': \\'a comet assay was used to detect dna strand breaks at the single-cell level.', tags=[802]),\n",
              " TaggedDocument(words='beas-2b cells were seeded in 6-well plates and exposed to vehicle (water), b[a]p (5 μm) alone, b[a]p (5 μm) plus h.cordata (12.5, 25, or 50 mg/ ml), or b[a]p (5 μm) plus 2-undecanone (25, 50, or 100 μm) for 48 h. after incubation, the cells were harvested and suspended in low-melting point agarose.', tags=[803]),\n",
              " TaggedDocument(words='after the cells were spread on normal-melting point agarosecoated slides, the slides were covered with a coverslip and left at 4°c.', tags=[804]),\n",
              " TaggedDocument(words='after removing the coverslips, the slides were then immersed in cell lysis solution for 60 minutes at 4°c.', tags=[805]),\n",
              " TaggedDocument(words='then, the slides were transferred to an electrophoretic box and left for 60 minutes at 4°c.', tags=[806]),\n",
              " TaggedDocument(words='electrophoresis was performed at 4°c for 25 minutes.', tags=[807]),\n",
              " TaggedDocument(words='the slides were then washed and immersed in ethanol for another 20 minutes.', tags=[808]),\n",
              " TaggedDocument(words='finally, the slides were stained with eb solution (20 μg/ml) and covered with coverslips.', tags=[809]),\n",
              " TaggedDocument(words='images were captured by using a leica3000b fluorescence microscope (leica, germany).', tags=[810]),\n",
              " TaggedDocument(words=\"', 'cite_spans': [], 'ref_spans': [], 'section': 'comet assay'}, {'text': 'immunofluorescence beas-2b cells were seeded on confocal dishes and exposed to the vehicle (water), b[a]p (5 μm) alone, b[a]p (5 μm) plus h.cordata (12.5, 25, or 50 mg/ml), or b[a]p (5 μm) plus 2-undecanone (25, 50, or 100 μm) for 48 h, respectively.\", tags=[811]),\n",
              " TaggedDocument(words='after the incubation, the cells were fixed in cold methanol, permeabilized with 0.1% tritonx-100 and blocked with 5% bovine serum albumin.', tags=[812]),\n",
              " TaggedDocument(words='then, the cells were incubated with a p-h2a.x (1:100) or a nrf2 (1:100) antibody for 1 h and then stained with a secondary fluorescent antibody (1:200; alexa fluor 568, abcam inc. cambridge, ma, usa).', tags=[813]),\n",
              " TaggedDocument(words='finally, the cells were incubated with dapi for another 20 min.', tags=[814]),\n",
              " TaggedDocument(words='fluorescence signals were detected using a leica tcs sp8 confocal fluorescence microscope (leica, germany).', tags=[815]),\n",
              " TaggedDocument(words='the relative fluorescence of p-h2a.x in the cells was analysed by imagej software.', tags=[816]),\n",
              " TaggedDocument(words=\"', 'cite_spans': [], 'ref_spans': [], 'section': 'comet assay'}, {'text': 'beas-2b cells were seeded in six-well plates and exposed to vehicle (water), b[a]p (5 μm) alone, b[a]p (5 μm) plus h.cordata (12.5, 25, or 50 mg/ml), or b[a]p (5 μm) plus 2-undecanone (25, 50, or 100 μm) for 48 h. n-acetyl-lcysteine (nac, 2 mm), a well-known ros inhibitor, was used as a positive control.\", tags=[817]),\n",
              " TaggedDocument(words='after incubation, the cells were washed twice with pbs and incubated with a ros detection reagent (cm-h2dcfda, 5 μm) for 30 min at 37°c.', tags=[818]),\n",
              " TaggedDocument(words='the fluorescence signals were detected by using flow cytometry (bd biosciences, san diego, ca, usa) or a lei-ca3000b fluorescence microscope (leica, germany).', tags=[819]),\n",
              " TaggedDocument(words='the results were analyzed with flowjo 7.6 software.', tags=[820]),\n",
              " TaggedDocument(words='\\', \\'cite_spans\\': [], \\'ref_spans\\': [], \\'section\\': \\'intracellular ros measurement\\'}, {\\'text\\': \"sirna interference sirna interference was performed using a ribofect tm cp transfection kit (ribobio co., ltd., guangzhou, china) according to the manufacturer\\'s instructions.', tags=[821]),\n",
              " TaggedDocument(words='briefly, sirna was diluted in transfection buffer and then mixed with ribofect tm cp.', tags=[822]),\n",
              " TaggedDocument(words='the mixture was incubated at room temperature for 0-10 minutes to form a transfection complex.', tags=[823]),\n",
              " TaggedDocument(words='the complex was added to a suitable amount of cell culture medium for transfection.', tags=[824]),\n",
              " TaggedDocument(words='finally, the cells were transfected with 50 nm nrf2targeting sirna (sinrf2) or control sirna (sicon).', tags=[825]),\n",
              " TaggedDocument(words='after a 24 h transfection, the cells were exposed to the same treatment described above.', tags=[826]),\n",
              " TaggedDocument(words='at the end of treatment, the cells were collected for western blot analysis, ros content measurement or mtt assay under the same conditions described above.', tags=[827]),\n",
              " TaggedDocument(words='\", \\'cite_spans\\': [], \\'ref_spans\\': [], \\'section\\': \\'intracellular ros measurement\\'}, {\\'text\\': \"at the end of treatment, the lung tissues of the mice were removed, fixed in paraformaldehyde, embedded in paraffin, and sliced into 4 μm sections.', tags=[828]),\n",
              " TaggedDocument(words='then, the slices were deparaffinized, rehydrated and incubated with sodium citrate for antigen retrieval.', tags=[829]),\n",
              " TaggedDocument(words='next, the slides were rinsed in pbs and incubated with antibodies against p-h2a.x, nqo-1, ho-1 or nrf2 at 4°c overnight.', tags=[830]),\n",
              " TaggedDocument(words=\"the following steps were performed using an immunostaining kit (boster biological technology co., ltd.) according to the manufacturer's instructions.\", tags=[831]),\n",
              " TaggedDocument(words='all sections were imaged under a microscope (leica, germany).', tags=[832]),\n",
              " TaggedDocument(words='\", \\'cite_spans\\': [], \\'ref_spans\\': [], \\'section\\': \\'immunohistochemistry\\'}, {\\'text\\': \"at the end of treatment, the plasma of the mice was collected.', tags=[833]),\n",
              " TaggedDocument(words=\"the levels of il-1β were detected by a mouse il-1β elisa kit according to the manufacturer's protocol.\", tags=[834]),\n",
              " TaggedDocument(words='the optical density was measured at 450 nm by using a microplate reader victor x3 (perkinelmer, waltham, ma, usa).', tags=[835]),\n",
              " TaggedDocument(words='\", \\'cite_spans\\': [], \\'ref_spans\\': [], \\'section\\': \\'enzyme-linked immunosorbent assay (elisa)\\'}, {\\'text\\': \\'at the end of treatment, lung tissues of the mice were removed and fixed in 4% paraformaldehyde, then embedded in paraffin and sliced into 4 μm.', tags=[836]),\n",
              " TaggedDocument(words='following, the slices were dewaxed and rehydrated, then stained by hematoxylin for 2 min and 1 % ethyl hydrochloride for 5 s. finally, the cytoplasm was stained by eosin for 2 min.', tags=[837]),\n",
              " TaggedDocument(words='the images were acquired by using a fluorescence inversion microscope (leica, germany).', tags=[838]),\n",
              " TaggedDocument(words='\\', \\'cite_spans\\': [], \\'ref_spans\\': [], \\'section\\': \\'hematoxylin and eosin (h&e) staining\\'}, {\\'text\\': \"the data are expressed as the mean ± standard deviation (sd).', tags=[839]),\n",
              " TaggedDocument(words=\"the statistical significance of data was analyzed using student's t-test or one-way analysis of variance (anova) by spss 19.0. values of p < 0.05 was considered to be statistically significant.\", tags=[840]),\n",
              " TaggedDocument(words='\", \\'cite_spans\\': [], \\'ref_spans\\': [], \\'section\\': \\'data analysis\\'}, {\\'text\\': \\'a b[a]p-induced lung cancer mouse model was established to evaluate the chemopreventive effects of h. cordata and 2-undecanone against lung tumorigenesis.', tags=[841]),\n",
              " TaggedDocument(words='as shown in fig.', tags=[842]),\n",
              " TaggedDocument(words='1a , a/j mice were intraperitoneally injected with b[a]p (100 mg/kg) at the 1st week.', tags=[843]),\n",
              " TaggedDocument(words='from the 3rd to 38th weeks, h.cordata (25 or 50 g/ kg) or 2-undecanone (100 or 200 mg/kg) was administered by gavage five times a week.', tags=[844]),\n",
              " TaggedDocument(words='there were no significant body weight differences between the control group a/j mice (given only b[a]p) and the treatment group a/j mice during the experiment (fig.', tags=[845]),\n",
              " TaggedDocument(words='1b) .', tags=[846]),\n",
              " TaggedDocument(words='stereological observations and h&e staining of the pathological sections showed that the lung tissue was cancerous after the model was established, but the symptoms were relieved after treatment with h. cordata and 2-undecanone (additional file 1: figure s2 ).', tags=[847]),\n",
              " TaggedDocument(words='the results regarding visible tumors on the lung surface among the groups are shown in fig.', tags=[848]),\n",
              " TaggedDocument(words='1c .', tags=[849]),\n",
              " TaggedDocument(words='in contrast to the control mice (given b[a]p), which exhibited abundant tumor loci, the mice receiving b[a]p and h. cordata at 25 and 50 g/kg exhibited significantly (p < 0.05 and p < 0.01, respectively) decreased mean tumor numbers, and the corresponding tumor inhibition rates were 34.12 ± 21.42% (p < 0.05) and 51.35 ± 21.96% (p < 0.01), respectively (fig.', tags=[850]),\n",
              " TaggedDocument(words='1c) .', tags=[851]),\n",
              " TaggedDocument(words='in contrast to the control mice (given b[a]p and oil) showing abundant tumor loci, the mice receiving b[a]p with 2-undecanone at 100 and 200 mg/kg also exhibited significantly (p < 0.05 and p < 0.01, respectively) decreased mean tumor numbers, and the corresponding tumor inhibition rates were 33.62 ± 14.60% (p < 0.05) and 38.26 ± 13.59% (p < 0.01), respectively (fig.', tags=[852]),\n",
              " TaggedDocument(words='1c) .', tags=[853]),\n",
              " TaggedDocument(words='the organ indexes are displayed in fig.', tags=[854]),\n",
              " TaggedDocument(words='1d ; no considerable differences were observed in the indexes for the heart, kidney, thymus, liver and spleen between the model group and the treatment groups.', tags=[855]),\n",
              " TaggedDocument(words=\"', 'cite_spans': [], 'ref_spans': [{'start': 167, 'end': 174, 'text': 'fig.\", tags=[856]),\n",
              " TaggedDocument(words=\"1a', 'ref_id': 'figref0'}, {'start': 553, 'end': 562, 'text': '(fig.\", tags=[857]),\n",
              " TaggedDocument(words=\"1b)', 'ref_id': 'figref0'}, {'start': 813, 'end': 822, 'text': 'figure s2', 'ref_id': 'figref1'}, {'start': 913, 'end': 920, 'text': 'fig.\", tags=[858]),\n",
              " TaggedDocument(words=\"1c', 'ref_id': 'figref0'}, {'start': 1277, 'end': 1286, 'text': '(fig.\", tags=[859]),\n",
              " TaggedDocument(words=\"1c)', 'ref_id': 'figref0'}, {'start': 1653, 'end': 1662, 'text': '(fig.\", tags=[860]),\n",
              " TaggedDocument(words=\"1c)', 'ref_id': 'figref0'}, {'start': 1700, 'end': 1707, 'text': 'fig.\", tags=[861]),\n",
              " TaggedDocument(words=\"1d', 'ref_id': 'figref0'}], 'section': 'h.\", tags=[862]),\n",
              " TaggedDocument(words=\"cordata and 2-undecanone prevent lung tumorigenesis in b[a]p-induced lung cancer mouse model'}, {'text': 'the cytotoxicity of h. cordata and 2-undecanone toward beas-2b cells was evaluated by using an mtt assay.\", tags=[863]),\n",
              " TaggedDocument(words='compared with vehicle (water) treatment, treatment with b[a]p resulted in a significant decrease in the viability of beas-2b cells in a dose-dependent manner (additional file 1: figure s3 , p < 0.05 or p < 0.001).', tags=[864]),\n",
              " TaggedDocument(words='incubation of cells with h. cordata at concentrations from 6.25 to 200 mg/l or with 2-undecanone at concentrations from 6.25 to 200 μm for 48 h did not change or weakly decreased cell viability ( fig.', tags=[865]),\n",
              " TaggedDocument(words='2a and b) .', tags=[866]),\n",
              " TaggedDocument(words='however, in contrast to b[a]p (5 μm) treatment alone (in the model group), cotreatment with b[a]p and h.cordata (3.125-100 mg/ml) or 2-undecanone (6.25-200 μm) effectively increased cell viability in a dose-dependent manner ( fig.', tags=[867]),\n",
              " TaggedDocument(words='2c and d, p < 0.05 or p < 0.001).', tags=[868]),\n",
              " TaggedDocument(words=\"', 'cite_spans': [], 'ref_spans': [{'start': 284, 'end': 293, 'text': 'figure s3', 'ref_id': none}, {'start': 516, 'end': 530, 'text': 'fig.\", tags=[869]),\n",
              " TaggedDocument(words=\"2a and b)', 'ref_id': 'figref1'}, {'start': 759, 'end': 766, 'text': 'fig.\", tags=[870]),\n",
              " TaggedDocument(words=\"2c', 'ref_id': 'figref1'}], 'section': 'h.\", tags=[871]),\n",
              " TaggedDocument(words=\"cordata and 2-undecanone protect beas-2b cells from b[a]p-induced cytotoxicity, proliferation inhibition and cell cycle arrest'}, {'text': 'furthermore, edu assays and cell cycle assays were performed to analyze the protective effects of h. cordata and 2-undecanone against b[a]p-induced cell proliferation inhibition.\", tags=[872]),\n",
              " TaggedDocument(words='in contrast to the control cells (given water), which showed a relative abundance of edu- week from the 3rd to the 38th week, and finally sacrificed after treatment.', tags=[873]),\n",
              " TaggedDocument(words='b average body weight curves for the a/j mice (n = 8).', tags=[874]),\n",
              " TaggedDocument(words='c photos of pulmonary nodules dissected from the a/j mice (scale bar: 3 mm).', tags=[875]),\n",
              " TaggedDocument(words='all photos were obtained using a stereoscopic microscope.', tags=[876]),\n",
              " TaggedDocument(words='tumor numbers and tumor inhibition rates were analyzed.', tags=[877]),\n",
              " TaggedDocument(words='the data represent the mean ± sd (n = 8).', tags=[878]),\n",
              " TaggedDocument(words='d organ indexes for a/j mouse hearts, livers, spleens, kidneys and thymuses.', tags=[879]),\n",
              " TaggedDocument(words='* p < 0.05 and ** p < 0.01 compared with the control group (given b[a]p); # p < 0.05 and ## p < 0.01 compared with the control group (given b[a]p + oil) (25, 50 or 100 μm) for 48 h markedly increased the proliferation rate in a dose-dependent manner (fig.', tags=[880]),\n",
              " TaggedDocument(words='2e, p < 0 .05 or p < 0.001).', tags=[881]),\n",
              " TaggedDocument(words='in addition, b[a]p (5 μm) notably arrested the cell cycle at the g0/g1 phase by increasing the percentage of cells in this phase from 46.05 ± 2.75% (the control level) to 70.21 ± 1.65% (fig.', tags=[882]),\n",
              " TaggedDocument(words='3a, p < 0.01) .', tags=[883]),\n",
              " TaggedDocument(words='however, cotreatment with b[a]p and h. cordata or 2-undecanone significantly decreased the percentage of cells arrested in g0/g1 phase in a dose-dependent manner compared with b[a]p treatment alone (in model cells) (fig.', tags=[884]),\n",
              " TaggedDocument(words='3a, p < 0.01 or p < 0.001) .', tags=[885]),\n",
              " TaggedDocument(words='the levels of cyclin d1, a vital regulator required for g1 phase progression, were further determined by using western blot analysis.', tags=[886]),\n",
              " TaggedDocument(words='it was observed that the suppression of cyclin d1 protein levels by b[a]p could be significantly reversed by h. cordata (fig.', tags=[887]),\n",
              " TaggedDocument(words='3b , p < 0.001) or 2undecanone (fig.', tags=[888]),\n",
              " TaggedDocument(words='3c , p < 0.05 or p < 0.01) treatment.', tags=[889]),\n",
              " TaggedDocument(words=\"', 'cite_spans': [{'start': 863, 'end': 867, 'text': '(25,', 'ref_id': 'bibref24'}, {'start': 868, 'end': 870, 'text': '50', 'ref_id': 'bibref49'}], 'ref_spans': [{'start': 960, 'end': 975, 'text': '(fig.\", tags=[890]),\n",
              " TaggedDocument(words=\"2e, p < 0', 'ref_id': 'figref1'}, {'start': 1180, 'end': 1199, 'text': '(fig.\", tags=[891]),\n",
              " TaggedDocument(words=\"3a, p < 0.01)', 'ref_id': 'figref0'}, {'start': 1417, 'end': 1449, 'text': '(fig.\", tags=[892]),\n",
              " TaggedDocument(words=\"3a, p < 0.01 or p < 0.001)', 'ref_id': 'figref0'}, {'start': 1706, 'end': 1714, 'text': '(fig.\", tags=[893]),\n",
              " TaggedDocument(words=\"3b', 'ref_id': none}, {'start': 1743, 'end': 1751, 'text': '(fig.\", tags=[894]),\n",
              " TaggedDocument(words=\"3c', 'ref_id': none}], 'section': 'h.\", tags=[895]),\n",
              " TaggedDocument(words=\"cordata and 2-undecanone protect beas-2b cells from b[a]p-induced cytotoxicity, proliferation inhibition and cell cycle arrest'}, {'text': 'a comet assay was performed to detect the dna damage rates in treated beas-2b cells.\", tags=[896]),\n",
              " TaggedDocument(words='as shown in fig.', tags=[897]),\n",
              " TaggedDocument(words='4a dna double-strand breaks induce histone h2a.x phosphorylation, which is associated with the recruitment of repair factors to damaged dna.', tags=[898]),\n",
              " TaggedDocument(words='thus, p-h2a.x has been used as a marker for dna damage [41] [42] [43] .', tags=[899]),\n",
              " TaggedDocument(words='hence, the protein levels of p-h2a.x in beas-2b cells and a/j mouse lung tissue were further determined by western blot analysis.', tags=[900]),\n",
              " TaggedDocument(words='as shown in fig.', tags=[901]),\n",
              " TaggedDocument(words='4b , compared with control cells (given water), cells treated with b[a]p showed markedly increased p-h2a.x protein levels (p < 0.001).', tags=[902]),\n",
              " TaggedDocument(words='in contrast to b[a]p exposure alone (in the model group), exposure to b[a]p plus 12.5, 25 or 50 g/kg h. cordata significantly decreased the p-h2a.x protein levels in a dose-dependent manner (p < 0.001).', tags=[903]),\n",
              " TaggedDocument(words='similar results were also observed after incubation with b[a]p plus 25, 50 or 100 μm 2-undecanone, which significantly decreased the b[a]p-induced high expression of p-h2a.x in a dose-dependent manner (fig.', tags=[904]),\n",
              " TaggedDocument(words='4c, p < 0.001 ).', tags=[905]),\n",
              " TaggedDocument(words=\"', 'cite_spans': [{'start': 298, 'end': 302, 'text': '[41]', 'ref_id': 'bibref40'}, {'start': 303, 'end': 307, 'text': '[42]', 'ref_id': 'bibref41'}, {'start': 308, 'end': 312, 'text': '[43]', 'ref_id': 'bibref42'}], 'ref_spans': [{'start': 97, 'end': 104, 'text': 'fig.\", tags=[906]),\n",
              " TaggedDocument(words=\"4a', 'ref_id': none}, {'start': 457, 'end': 464, 'text': 'fig.\", tags=[907]),\n",
              " TaggedDocument(words=\"4b', 'ref_id': none}, {'start': 1001, 'end': 1020, 'text': '(fig.\", tags=[908]),\n",
              " TaggedDocument(words=\"4c, p < 0.001', 'ref_id': 'figref0'}], 'section': 'h.\", tags=[909]),\n",
              " TaggedDocument(words=\"cordata and 2-undecanone protect beas-2b cells and a/j mice from b[a]p-induced dna damage'}, {'text': 'an immunofluorescence assay was further performed to confirm the protective effects of h. cordata and 2undecanone against b[a]p-induced dna damage.\", tags=[910]),\n",
              " TaggedDocument(words='as shown in fig.', tags=[911]),\n",
              " TaggedDocument(words='4d , the immunofluorescence of p-h2a.x in the h. cordata and 2-undecanone treatment groups was strikingly lower than that in the b[a]p model group (p < 0.001), which was consistent with the p-h2a.x protein levels obtained from the western blot analysis (fig.', tags=[912]),\n",
              " TaggedDocument(words='4b and c) .', tags=[913]),\n",
              " TaggedDocument(words='the p-h2a.x protein levels in the lung tissues of mice were also determined.', tags=[914]),\n",
              " TaggedDocument(words='both h. cordata and 2-undecanone treatment significantly downregulated p-h2a.x expression compared with b[a]p alone ( fig.', tags=[915]),\n",
              " TaggedDocument(words='4e and f, p < 0.01 or p < 0.001).', tags=[916]),\n",
              " TaggedDocument(words=\"', 'cite_spans': [], 'ref_spans': [{'start': 160, 'end': 167, 'text': 'fig.\", tags=[917]),\n",
              " TaggedDocument(words=\"4d', 'ref_id': none}, {'start': 418, 'end': 434, 'text': '(fig.\", tags=[918]),\n",
              " TaggedDocument(words=\"4b and c)', 'ref_id': none}, {'start': 632, 'end': 639, 'text': 'fig.\", tags=[919]),\n",
              " TaggedDocument(words=\"4e', 'ref_id': none}], 'section': 'h.\", tags=[920]),\n",
              " TaggedDocument(words=\"cordata and 2-undecanone protect beas-2b cells and a/j mice from b[a]p-induced dna damage'}, {'text': 'the protein levels of related inflammatory markers in beas-2b cells were determined via western blot analysis.\", tags=[921]),\n",
              " TaggedDocument(words='the protein levels of il-1β ( fig.', tags=[922]),\n",
              " TaggedDocument(words='5a and b) in the culture supernatants and the protein levels of pro-il-1β ( fig.', tags=[923]),\n",
              " TaggedDocument(words='5a and c) and il-1β ( fig.', tags=[924]),\n",
              " TaggedDocument(words='5a and d) in the cell lysates of b[a]p-treated cells were markedly higher than those in the supernatants and lysates of control cells (given water), respectively (p < 0.001).', tags=[925]),\n",
              " TaggedDocument(words='in contrast to b[a]p exposure alone (in the model group), exposure to b[a]p plus 12.5, 25 or 50 g/kg h. cordata for 24 h significantly decreased the il-1β protein levels in the culture supernatants ( fig.', tags=[926]),\n",
              " TaggedDocument(words='5a and b, p < 0.01 or p < 0.001), and also significantly reduced the pro-il-1β ( fig.', tags=[927]),\n",
              " TaggedDocument(words='5a and c) and il-1β ( fig.', tags=[928]),\n",
              " TaggedDocument(words='5a and d) protein levels in the cell lysates in a dose-dependent manner (p < 0.01 or p < 0.001).', tags=[929]),\n",
              " TaggedDocument(words='similar results were also observed for 2undecanone, as incubation with b[a]p plus 25, 50 or 100 μm 2-undecanone for 24 h significantly attenuated the b[a]p-induced increases in il-1β protein levels in the culture supernatants ( fig.', tags=[930]),\n",
              " TaggedDocument(words='5e and f, p < 0.001), and also notably diminished the b[a]p-induced increases in pro-il-1β ( fig.', tags=[931]),\n",
              " TaggedDocument(words='5e and g) and il-1β ( fig.', tags=[932]),\n",
              " TaggedDocument(words='5e and h) protein levels in the cell lysates in a dose-dependent manner (p < 0.001).', tags=[933]),\n",
              " TaggedDocument(words='the il-1β levels in the plasma of the mice were detected by elisa.', tags=[934]),\n",
              " TaggedDocument(words='both h. cordata and 2-undecanone treatment along with b[a]p significantly downregulated il-1β levels compared with the control treatment (given b[a]p or b[a]p + oil) (fig.', tags=[935]),\n",
              " TaggedDocument(words='5i , p < 0.01 or p < 0.001).', tags=[936]),\n",
              " TaggedDocument(words=\"', 'cite_spans': [], 'ref_spans': [{'start': 141, 'end': 155, 'text': 'fig.\", tags=[937]),\n",
              " TaggedDocument(words=\"5a and b)', 'ref_id': none}, {'start': 222, 'end': 236, 'text': 'fig.\", tags=[938]),\n",
              " TaggedDocument(words=\"5a and c)', 'ref_id': none}, {'start': 249, 'end': 263, 'text': 'fig.\", tags=[939]),\n",
              " TaggedDocument(words=\"5a and d)', 'ref_id': none}, {'start': 629, 'end': 636, 'text': 'fig.\", tags=[940]),\n",
              " TaggedDocument(words=\"5a', 'ref_id': none}, {'start': 715, 'end': 722, 'text': 'fig.\", tags=[941]),\n",
              " TaggedDocument(words=\"5a', 'ref_id': none}, {'start': 742, 'end': 756, 'text': 'fig.\", tags=[942]),\n",
              " TaggedDocument(words=\"5a and d)', 'ref_id': none}, {'start': 1072, 'end': 1079, 'text': 'fig.\", tags=[943]),\n",
              " TaggedDocument(words=\"5e', 'ref_id': none}, {'start': 1170, 'end': 1184, 'text': 'fig.\", tags=[944]),\n",
              " TaggedDocument(words=\"5e and g)', 'ref_id': none}, {'start': 1197, 'end': 1211, 'text': 'fig.\", tags=[945]),\n",
              " TaggedDocument(words=\"5e and h)', 'ref_id': none}, {'start': 1520, 'end': 1528, 'text': '(fig.\", tags=[946]),\n",
              " TaggedDocument(words=\"5i', 'ref_id': none}], 'section': 'h.\", tags=[947]),\n",
              " TaggedDocument(words=\"cordata and 2-undecanone protect beas-2b cells and a/j mice from b[a]p-induced inflammation'}, {'text': 'as shown in fig.\", tags=[948]),\n",
              " TaggedDocument(words='6a , incubation of cells with b[a]p at 5 μm significantly increased intracellular ros production in a time-dependent manner (p < 0.001).', tags=[949]),\n",
              " TaggedDocument(words='the results of western blot analysis and immunofluorescence assays confirmed that incubation with b[a]p could significantly increase p-h2a.x expression (fig.', tags=[950]),\n",
              " TaggedDocument(words='6b and c, p < 0.001), (fig.', tags=[951]),\n",
              " TaggedDocument(words='6g) .', tags=[952]),\n",
              " TaggedDocument(words='the correlation between ros levels and dna damage or inflammation was analyzed by using pearson analysis.', tags=[953]),\n",
              " TaggedDocument(words='the results showed that the decrease in ros levels was closely and positively related to the reductions in dna damage (additional file 1: figure s4 , p < 0.05) and inflammation (additional file 1: figure s5 , p < 0.05) mediated by h. cordata and 2undecanone.', tags=[954]),\n",
              " TaggedDocument(words=\"', 'cite_spans': [], 'ref_spans': [{'start': 12, 'end': 19, 'text': 'fig.\", tags=[955]),\n",
              " TaggedDocument(words=\"6a', 'ref_id': 'figref4'}, {'start': 306, 'end': 314, 'text': '(fig.\", tags=[956]),\n",
              " TaggedDocument(words=\"6b', 'ref_id': 'figref4'}, {'start': 334, 'end': 343, 'text': '(fig.\", tags=[957]),\n",
              " TaggedDocument(words=\"6g)', 'ref_id': 'figref4'}, {'start': 590, 'end': 599, 'text': 'figure s4', 'ref_id': none}, {'start': 649, 'end': 658, 'text': 'figure s5', 'ref_id': none}], 'section': 'h.\", tags=[958]),\n",
              " TaggedDocument(words=\"cordata and 2-undecanone decrease the b[a]p-induced over production of intracellular ros'}, {'text': 'h.\", tags=[959]),\n",
              " TaggedDocument(words=\"cordata and 2-undecanone activate the nrf2 signaling pathway', 'cite_spans': [], 'ref_spans': [], 'section': 'h.\", tags=[960]),\n",
              " TaggedDocument(words=\"cordata and 2-undecanone decrease the b[a]p-induced over production of intracellular ros'}, {'text': 'the protein levels of nrf2, ho-1 and nqo-1 in beas-2b cells and a/j mice were determined via western blot analysis and immunohistochemistry, respectively.\", tags=[961]),\n",
              " TaggedDocument(words='as shown in fig.', tags=[962]),\n",
              " TaggedDocument(words='7a , compared with those of control cells (given water), whole-cell lysates of cells incubated with h. cordata (25 g/kg) or 2-undecanone (50 μm) exhibited significantly increased protein levels of nrf2, ho-1 and nqo-1 (p < 0.01 or p < 0.001).', tags=[963]),\n",
              " TaggedDocument(words='the same h. cordata or 2-undecanone treatment also resulted in significant increases in nuclear nrf2 protein levels (fig.', tags=[964]),\n",
              " TaggedDocument(words='7b, p < 0.001) .', tags=[965]),\n",
              " TaggedDocument(words='tbhq, a known inducer of nrf2, was used as a positive control and markedly upregulated the total and nuclear nrf2 protein levels ( fig.', tags=[966]),\n",
              " TaggedDocument(words='7a and b, p < 0.001) .', tags=[967]),\n",
              " TaggedDocument(words='the immunofluorescence results also showed that both h. cordata and 2-undecanone notably promoted the translocation of nrf2 from the cytoplasm to the nucleus (fig.', tags=[968]),\n",
              " TaggedDocument(words='7c) .', tags=[969]),\n",
              " TaggedDocument(words='furthermore, treatment with b[a]p at 5 μm significantly decreased the protein levels of nrf2, ho-1 and nqo-1 in whole-cell lysates (fig.', tags=[970]),\n",
              " TaggedDocument(words='7d , p < 0.001) and decreased nuclear nrf2 protein levels (fig.', tags=[971]),\n",
              " TaggedDocument(words=\"7e, p < 0 ', 'cite_spans': [], 'ref_spans': [{'start': 167, 'end': 174, 'text': 'fig.\", tags=[972]),\n",
              " TaggedDocument(words=\"7a', 'ref_id': none}, {'start': 531, 'end': 551, 'text': '(fig.\", tags=[973]),\n",
              " TaggedDocument(words=\"7b, p < 0.001)', 'ref_id': 'figref0'}, {'start': 685, 'end': 710, 'text': 'fig.\", tags=[974]),\n",
              " TaggedDocument(words=\"7a and b, p < 0.001)', 'ref_id': 'figref0'}, {'start': 871, 'end': 881, 'text': '(fig.\", tags=[975]),\n",
              " TaggedDocument(words=\"7c)', 'ref_id': none}, {'start': 1015, 'end': 1023, 'text': '(fig.\", tags=[976]),\n",
              " TaggedDocument(words=\"7d', 'ref_id': none}, {'start': 1079, 'end': 1094, 'text': '(fig.\", tags=[977]),\n",
              " TaggedDocument(words=\"7e, p < 0', 'ref_id': none}], 'section': 'h.\", tags=[978]),\n",
              " TaggedDocument(words=\"cordata and 2-undecanone decrease the b[a]p-induced over production of intracellular ros'}, {'text': 'to explore the mediating effect of nrf2 on the protective effects of h. cordata and 2-undecanone against b[a]p-induced dna damage and inflammation, nrf2 expression was silenced in beas-2b cells by transfection with two nrf2-specific sirnas (sinrf2-1 and sinrf2-2).\", tags=[979]),\n",
              " TaggedDocument(words='cells transfected with sinrf2 showed significant reductions in nrf2 expression compared to cells transfected with control sirna (sictrl) (additional file 1: figure s6 , p < 0.001).', tags=[980]),\n",
              " TaggedDocument(words='compared with cells transfected with sictrl, cells transfected with sinrf2-1 or sinrf2-2 exhibited significant attenuations in the h. cordataand 2undecanone-enhanced protein levels of ho-1 ( fig.', tags=[981]),\n",
              " TaggedDocument(words='8a and b, p< 0.01 or p < 0.001) and nqo-1 ( fig.', tags=[982]),\n",
              " TaggedDocument(words='8c and d, p < 0.01 or p < 0.001).', tags=[983]),\n",
              " TaggedDocument(words='it was further observed that the reduction in b[a]p-induced ros overproduction caused by h. cordata and 2-undecanone could be markedly attenuated by transfection with sinrf2-1 or sinrf2-2 ( fig.', tags=[984]),\n",
              " TaggedDocument(words='8e and f, p < 0.001) .', tags=[985]),\n",
              " TaggedDocument(words=\"', 'cite_spans': [], 'ref_spans': [{'start': 422, 'end': 431, 'text': 'figure s6', 'ref_id': 'figref4'}, {'start': 637, 'end': 644, 'text': 'fig.\", tags=[986]),\n",
              " TaggedDocument(words=\"8a', 'ref_id': none}, {'start': 686, 'end': 693, 'text': 'fig.\", tags=[987]),\n",
              " TaggedDocument(words=\"8c', 'ref_id': none}, {'start': 915, 'end': 941, 'text': 'fig.\", tags=[988]),\n",
              " TaggedDocument(words=\"8e and f, p < 0.001)', 'ref_id': 'figref0'}], 'section': 'nrf2-ho-1/nqo-1 signaling pathway mediates the protective effects of h. cordata and 2-undecanone against b[a]p-induced dna damage, inflammation and cytotoxicity'}, {'text': 'in contrast to transfection with sictrl, transfection with sinrf2-1 or sinrf2-2 markedly attenuated the h. cordata and 2-undecanone-mediated decreases in b[a]pinduced high p-h2a.x expression ( fig.\", tags=[989]),\n",
              " TaggedDocument(words='9a and b) .', tags=[990]),\n",
              " TaggedDocument(words='in addition, the culture supernatants of cells transfected with sinrf2-1 or sinrf2-2 and incubated with h. cordata or 2-undecanone showed no changes or weak reductions in the b[a]p-induced high expression of il-1β ( fig.', tags=[991]),\n",
              " TaggedDocument(words='9c  and d) .', tags=[992]),\n",
              " TaggedDocument(words='furthermore, the protective effects of h. cordata (see figure on previous page.)', tags=[993]),\n",
              " TaggedDocument(words='fig.', tags=[994]),\n",
              " TaggedDocument(words='7 h. cordata and 2-undecanone activate the nrf2 signaling pathway.', tags=[995]),\n",
              " TaggedDocument(words='the protein levels were measured by using western blot analysis.', tags=[996]),\n",
              " TaggedDocument(words='tertiary butylhydroquinone (tbhq), a well-known nrf2 activator, was used as a positive control.', tags=[997]),\n",
              " TaggedDocument(words='a the total protein levels of nrf2, ho-1 and nqo-1 were measured in cells exposed to vehicle, tbhq (10 μm), h. cordata (25 mg/ml) or 2-undecanone (50 μm).', tags=[998]),\n",
              " TaggedDocument(words='b the nuclear nrf2 protein levels were measured in cells subjected to the same treatments.', tags=[999]),\n",
              " ...]"
            ]
          },
          "metadata": {
            "tags": []
          },
          "execution_count": 13
        }
      ]
    },
    {
      "cell_type": "code",
      "metadata": {
        "id": "IPVVpF_QS7h5"
      },
      "source": [
        "from nltk.tokenize import word_tokenize\r\n",
        "\r\n",
        "def Doc2Vec_ask_question(model, question):\r\n",
        "  # test_doc = word_tokenize(question.lower())\r\n",
        "  # test_doc_vector = model.infer_vector(test_doc)\r\n",
        "  similar = model.docvecs.most_similar(question)\r\n",
        "  print(model.docvecs[question])"
      ],
      "execution_count": 38,
      "outputs": []
    },
    {
      "cell_type": "code",
      "metadata": {
        "id": "zsgdVvuWnORC"
      },
      "source": [
        "## Train doc2vec model\r\n",
        "model = Doc2Vec(tagged_data, vector_size = 20, window = 2, min_count = 1, epochs = 10)"
      ],
      "execution_count": 37,
      "outputs": []
    },
    {
      "cell_type": "code",
      "metadata": {
        "colab": {
          "base_uri": "https://localhost:8080/",
          "height": 329
        },
        "id": "in-_Rg82ncb9",
        "outputId": "d7be5318-8ca5-47c7-f46c-3748ec04a421"
      },
      "source": [
        "for question in questions: \r\n",
        "  Doc2Vec_ask_question(model,question)"
      ],
      "execution_count": 39,
      "outputs": [
        {
          "output_type": "error",
          "ename": "TypeError",
          "evalue": "ignored",
          "traceback": [
            "\u001b[0;31m---------------------------------------------------------------------------\u001b[0m",
            "\u001b[0;31mTypeError\u001b[0m                                 Traceback (most recent call last)",
            "\u001b[0;32m<ipython-input-39-b0b10a0228d6>\u001b[0m in \u001b[0;36m<module>\u001b[0;34m()\u001b[0m\n\u001b[1;32m      1\u001b[0m \u001b[0;32mfor\u001b[0m \u001b[0mquestion\u001b[0m \u001b[0;32min\u001b[0m \u001b[0mquestions\u001b[0m\u001b[0;34m:\u001b[0m\u001b[0;34m\u001b[0m\u001b[0;34m\u001b[0m\u001b[0m\n\u001b[0;32m----> 2\u001b[0;31m   \u001b[0mDoc2Vec_ask_question\u001b[0m\u001b[0;34m(\u001b[0m\u001b[0mmodel\u001b[0m\u001b[0;34m,\u001b[0m\u001b[0mquestion\u001b[0m\u001b[0;34m)\u001b[0m\u001b[0;34m\u001b[0m\u001b[0;34m\u001b[0m\u001b[0m\n\u001b[0m",
            "\u001b[0;32m<ipython-input-38-b7947873850b>\u001b[0m in \u001b[0;36mDoc2Vec_ask_question\u001b[0;34m(model, question)\u001b[0m\n\u001b[1;32m      4\u001b[0m   \u001b[0;31m# test_doc = word_tokenize(question.lower())\u001b[0m\u001b[0;34m\u001b[0m\u001b[0;34m\u001b[0m\u001b[0;34m\u001b[0m\u001b[0m\n\u001b[1;32m      5\u001b[0m   \u001b[0;31m# test_doc_vector = model.infer_vector(test_doc)\u001b[0m\u001b[0;34m\u001b[0m\u001b[0;34m\u001b[0m\u001b[0;34m\u001b[0m\u001b[0m\n\u001b[0;32m----> 6\u001b[0;31m   \u001b[0msimilar\u001b[0m \u001b[0;34m=\u001b[0m \u001b[0mmodel\u001b[0m\u001b[0;34m.\u001b[0m\u001b[0mdocvecs\u001b[0m\u001b[0;34m.\u001b[0m\u001b[0mmost_similar\u001b[0m\u001b[0;34m(\u001b[0m\u001b[0mquestion\u001b[0m\u001b[0;34m)\u001b[0m\u001b[0;34m\u001b[0m\u001b[0;34m\u001b[0m\u001b[0m\n\u001b[0m\u001b[1;32m      7\u001b[0m   \u001b[0mprint\u001b[0m\u001b[0;34m(\u001b[0m\u001b[0mmodel\u001b[0m\u001b[0;34m.\u001b[0m\u001b[0mdocvecs\u001b[0m\u001b[0;34m[\u001b[0m\u001b[0mquestion\u001b[0m\u001b[0;34m]\u001b[0m\u001b[0;34m)\u001b[0m\u001b[0;34m\u001b[0m\u001b[0;34m\u001b[0m\u001b[0m\n",
            "\u001b[0;32m/usr/local/lib/python3.6/dist-packages/gensim/models/keyedvectors.py\u001b[0m in \u001b[0;36mmost_similar\u001b[0;34m(self, positive, negative, topn, clip_start, clip_end, indexer)\u001b[0m\n\u001b[1;32m   1647\u001b[0m             \u001b[0;32mif\u001b[0m \u001b[0misinstance\u001b[0m\u001b[0;34m(\u001b[0m\u001b[0mdoc\u001b[0m\u001b[0;34m,\u001b[0m \u001b[0mndarray\u001b[0m\u001b[0;34m)\u001b[0m\u001b[0;34m:\u001b[0m\u001b[0;34m\u001b[0m\u001b[0;34m\u001b[0m\u001b[0m\n\u001b[1;32m   1648\u001b[0m                 \u001b[0mmean\u001b[0m\u001b[0;34m.\u001b[0m\u001b[0mappend\u001b[0m\u001b[0;34m(\u001b[0m\u001b[0mweight\u001b[0m \u001b[0;34m*\u001b[0m \u001b[0mdoc\u001b[0m\u001b[0;34m)\u001b[0m\u001b[0;34m\u001b[0m\u001b[0;34m\u001b[0m\u001b[0m\n\u001b[0;32m-> 1649\u001b[0;31m             \u001b[0;32melif\u001b[0m \u001b[0mdoc\u001b[0m \u001b[0;32min\u001b[0m \u001b[0mself\u001b[0m\u001b[0;34m.\u001b[0m\u001b[0mdoctags\u001b[0m \u001b[0;32mor\u001b[0m \u001b[0mdoc\u001b[0m \u001b[0;34m<\u001b[0m \u001b[0mself\u001b[0m\u001b[0;34m.\u001b[0m\u001b[0mcount\u001b[0m\u001b[0;34m:\u001b[0m\u001b[0;34m\u001b[0m\u001b[0;34m\u001b[0m\u001b[0m\n\u001b[0m\u001b[1;32m   1650\u001b[0m                 \u001b[0mmean\u001b[0m\u001b[0;34m.\u001b[0m\u001b[0mappend\u001b[0m\u001b[0;34m(\u001b[0m\u001b[0mweight\u001b[0m \u001b[0;34m*\u001b[0m \u001b[0mself\u001b[0m\u001b[0;34m.\u001b[0m\u001b[0mvectors_docs_norm\u001b[0m\u001b[0;34m[\u001b[0m\u001b[0mself\u001b[0m\u001b[0;34m.\u001b[0m\u001b[0m_int_index\u001b[0m\u001b[0;34m(\u001b[0m\u001b[0mdoc\u001b[0m\u001b[0;34m,\u001b[0m \u001b[0mself\u001b[0m\u001b[0;34m.\u001b[0m\u001b[0mdoctags\u001b[0m\u001b[0;34m,\u001b[0m \u001b[0mself\u001b[0m\u001b[0;34m.\u001b[0m\u001b[0mmax_rawint\u001b[0m\u001b[0;34m)\u001b[0m\u001b[0;34m]\u001b[0m\u001b[0;34m)\u001b[0m\u001b[0;34m\u001b[0m\u001b[0;34m\u001b[0m\u001b[0m\n\u001b[1;32m   1651\u001b[0m                 \u001b[0mall_docs\u001b[0m\u001b[0;34m.\u001b[0m\u001b[0madd\u001b[0m\u001b[0;34m(\u001b[0m\u001b[0mself\u001b[0m\u001b[0;34m.\u001b[0m\u001b[0m_int_index\u001b[0m\u001b[0;34m(\u001b[0m\u001b[0mdoc\u001b[0m\u001b[0;34m,\u001b[0m \u001b[0mself\u001b[0m\u001b[0;34m.\u001b[0m\u001b[0mdoctags\u001b[0m\u001b[0;34m,\u001b[0m \u001b[0mself\u001b[0m\u001b[0;34m.\u001b[0m\u001b[0mmax_rawint\u001b[0m\u001b[0;34m)\u001b[0m\u001b[0;34m)\u001b[0m\u001b[0;34m\u001b[0m\u001b[0;34m\u001b[0m\u001b[0m\n",
            "\u001b[0;31mTypeError\u001b[0m: '<' not supported between instances of 'str' and 'int'"
          ]
        }
      ]
    },
    {
      "cell_type": "markdown",
      "metadata": {
        "id": "iWSAT3IxrBZ4"
      },
      "source": [
        "## Step 3 - Comparison of three models"
      ]
    },
    {
      "cell_type": "markdown",
      "metadata": {
        "id": "fu9jcIFM-eMi"
      },
      "source": [
        "## References\r\n",
        "\r\n",
        "\r\n",
        "\r\n",
        "*   https://www.analyticsvidhya.com/blog/2020/08/top-4-sentence-embedding-techniques-using-python/\r\n",
        "*   https://github.com/facebookresearch/InferSent\r\n",
        "\r\n"
      ]
    }
  ]
}